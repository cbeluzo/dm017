{
 "cells": [
  {
   "cell_type": "markdown",
   "metadata": {},
   "source": [
    "<a id='topo'></a>\n",
    "## ANÁLISE DE SOBREVIVÊNCIA\n",
    "### Teoria e aplicações em saúde\n",
    "#### Capítulo 2: O tempo na análise de sobrevivência\n",
    "#### Exercícios Resolvidos\n",
    "###### **Autor: Carlos Ed Beluzo - cbeluzo@gmail.com**\n",
    "\n",
    "## Tópicos:\n",
    "\n",
    "* [Importação de bibliotecas e leitura do arquivco CSV](#import)\n",
    "\n",
    "* Funções:\n",
    "    * [survival_time_plot](#survival_time_plot)\n",
    "    * [individual_trajectory_plot](#individual_trajectory_plot)\n",
    "    * [surv](#surv)\n",
    "\n",
    "\n",
    "* Exercícios\n",
    "    * [Exercício 2.1](#Exercicio2.1)\n",
    "    * [Exercício 2.2](#Exercicio2.2)\n",
    "    * [Exercício 2.3](#Exercicio2.3)\n",
    "    * [Exercício 2.4](#Exercicio2.4)\n",
    "    * [Exercício 2.5](#Exercicio2.5)\n",
    "    * [Exercício 2.6](#Exercicio2.6)\n",
    "    * [Exercício 2.7](#Exercicio2.7)\n",
    "    * [Exercício 2.8](#Exercicio2.8)\n"
   ]
  },
  {
   "cell_type": "markdown",
   "metadata": {},
   "source": [
    "**Importação de bibliotecas e leitura do arquivco CSV** <a id='imports'></a>"
   ]
  },
  {
   "cell_type": "code",
   "execution_count": 172,
   "metadata": {},
   "outputs": [],
   "source": [
    "import pandas as pd\n",
    "import numpy as np\n",
    "import matplotlib.pyplot as plt\n"
   ]
  },
  {
   "cell_type": "markdown",
   "metadata": {},
   "source": [
    "**Function:** survival_time_plot  <a id='survival_time_plot'></a>"
   ]
  },
  {
   "cell_type": "code",
   "execution_count": 108,
   "metadata": {},
   "outputs": [],
   "source": [
    "# Fuction to generate survival time of a group of individuals\n",
    "from lifelines.plotting import plot_lifetimes\n",
    "\n",
    "def survival_time_plot(p_entry_individual, p_actual_lifetimes, p_current_time, p_censured, p_time_unit, p_person_type, p_title, p_width, p_height):\n",
    "    observed_lifetimes = np.minimum(p_actual_lifetimes, p_current_time)\n",
    "    death_observed = p_actual_lifetimes < p_current_time\n",
    "\n",
    "    fig = plt.figure(figsize=(p_width,p_height))\n",
    "    \n",
    "    ax = plot_lifetimes(durations = observed_lifetimes,\n",
    "                        event_observed = death_observed,\n",
    "                        entry = p_entry_individual,\n",
    "                        left_truncated = True,\n",
    "                        sort_by_duration = False,\n",
    "                        event_observed_color = \"black\",\n",
    "                        event_censored_color = \"r\",\n",
    "                       )\n",
    "\n",
    "    total_individuals = len(p_actual_lifetimes)\n",
    "    total_period = max(p_actual_lifetimes+p_entry_individual)\n",
    "    \n",
    "    ax.vlines(p_current_time, 0, total_individuals, lw=1, linestyles=':')\n",
    "    ax.set_xlim(-0.5, total_period + 1)\n",
    "    ax.set_xticks(np.array(range(0, total_period + 1)))\n",
    "    ax.set_yticks(np.array(range(0, total_individuals)))\n",
    "    ax.set_xlabel(p_time_unit, fontsize=12)\n",
    "    ax.set_ylabel(p_person_type, fontsize=12)\n",
    "    ax.set_title(p_title, fontsize=16)\n",
    "    \n",
    "    ax.set_yticklabels(np.array(range(0, total_individuals))+1)\n",
    "        \n",
    "    for iterator in range(0, total_individuals):\n",
    "        entry = p_entry_individual[iterator]\n",
    "        lifetime = observed_lifetimes[iterator]\n",
    "        period = entry + lifetime\n",
    "        \n",
    "        ax.text(entry + ((lifetime)/2).astype(int), iterator + 0.2, \"T=%d\" % lifetime, fontsize=10)\n",
    "        \n",
    "        marker = 'x' if p_censured[iterator] == 1 else 'o'\n",
    "        ax.plot(period, iterator, fillstyle='none', **dict(color='black', marker=marker, markersize=10))\n",
    "        \n",
    "    ax.vlines(total_period, 0, total_individuals, lw=1, linestyles='--')\n",
    "    ax.plot(0,0, label='X - Evento', color='white')\n",
    "    ax.plot(0,0, label='O - Censura', color='white')\n",
    "    ax.legend(frameon=False)\n",
    "    \n",
    "    print(\"Tempo de vida observado: \\n\", observed_lifetimes, \"\\n\")"
   ]
  },
  {
   "cell_type": "markdown",
   "metadata": {},
   "source": [
    "**Função** individual_trajectory_plot  <a id='individual_trajectory_plot'></a>"
   ]
  },
  {
   "cell_type": "code",
   "execution_count": 160,
   "metadata": {},
   "outputs": [],
   "source": [
    "# Função que gera gráfico de tragetória com variáveis N(t) e Y(t) do processo de contagem\n",
    "def individual_trajectory_plot(p_entry_individual, p_lifetimes, p_censured, p_time_unit):\n",
    "    \n",
    "    total_individuals = len(p_lifetimes)\n",
    "    total_period = max(p_lifetimes + p_entry_individual)\n",
    "    \n",
    "    for individual in range(0,total_individuals):\n",
    "        entrytime = p_entry_individual[individual]\n",
    "        lifetime = p_lifetimes[individual]\n",
    "        censured = 'none' if p_censured[individual] == 0 else 'black'\n",
    "        point = entrytime + lifetime\n",
    "        \n",
    "        print(\"Indivíduo: %d, Trajetória de Sobrevivência: %d.\" %(individual+1, lifetime))\n",
    "        fig, ax = plt.subplots(figsize=(6,3))\n",
    "\n",
    "        # Y(t)\n",
    "        ax.plot([0, entrytime],[.5, .5], color='r', linewidth=1)\n",
    "        ax.plot([entrytime, point],[1, 1], color='b', linewidth=1)\n",
    "        \n",
    "        if point < total_period:\n",
    "            ax.plot([point, total_period],[.5, .5], color='r', linewidth=1)\n",
    "        \n",
    "        ax.scatter(point, 1, marker=\"o\", color='black', facecolors = censured)\n",
    "        \n",
    "        if entrytime > 0:\n",
    "            ax.vlines(entrytime, 0.5, 1, lw=1, linestyles='--')\n",
    "            ax.scatter(entrytime, 0.5, marker=\"o\", color='black')\n",
    "        \n",
    "        if point < total_period:\n",
    "            ax.vlines(point, 0.5, 1, lw=1, linestyles='--')\n",
    "        \n",
    "        # N(t)\n",
    "        if censured == 'black':\n",
    "            ax.plot([0, point],[-1, -1], color='r', linewidth=1)\n",
    "            ax.plot([point, total_period],[-0.5, -0.5], color='b', linewidth=1)\n",
    "            \n",
    "            if point < total_period:\n",
    "                ax.vlines(point, -1, -0.5, lw=1, linestyles='--')\n",
    "                ax.scatter(point, -0.5, marker=\"o\", color='black')\n",
    "\n",
    "            if point < total_period:\n",
    "                ax.text(point+0.3, -0.7, \"dN(t)\", fontsize=14)\n",
    "            else:\n",
    "                ax.text((total_period/2), -0.7, \"dN(t)=0\", fontsize=14)\n",
    "        else:\n",
    "            ax.plot([0, total_period],[-1, -1], color='r', linewidth=1)\n",
    "            ax.text((total_period/2), -0.7, \"dN(t)=0\", fontsize=14)\n",
    "\n",
    "        # Zero line\n",
    "        ax.plot([0, total_period],[0, 0], color='black')\n",
    "\n",
    "        ax.set_yticklabels([\"\", \"0\", \"1\",\"\",\"0\",\"1\",\"\",\"\"],rotation=90)\n",
    "        ax.set_xticklabels([])\n",
    "        ax.text(0, -1.3, 0, fontsize=10)\n",
    "        ax.text(entrytime, -1.3, entrytime, fontsize=10)\n",
    "        ax.text(point, -1.3, point, fontsize=10)\n",
    "        ax.text(total_period, -1.3, total_period, fontsize=10)\n",
    "\n",
    "        ax.set_xlabel(p_time_unit, fontsize=14)\n",
    "        ax.set_xlim(-0.5, total_period + 0.5)\n",
    "        ax.xaxis.set_label_coords(0.5,-0.15)\n",
    "\n",
    "        ax.set_ylabel(\"  $N_{%d}(t)$     $Y_{%d}(t)$  \" %(individual+1,individual+1), fontsize=14)\n",
    "\n",
    "        ax.set_title(\"$I_{%d}$ -> $T_{%d}=%d$\" %(individual+1,individual+1,point), fontsize=14)\n",
    "\n",
    "        plt.show()"
   ]
  },
  {
   "cell_type": "markdown",
   "metadata": {},
   "source": [
    "## Exercício 2.1 <a id='Exercicio2.1'></a>\n",
    "\n",
    "O tempo de aleitamento, isto é, o tempo decorrido desde o nascimento até o desmame, pode ser considerado como uma variável tempo de sobrevivência. Suponha que o tempo  até  o  desmame,  em  meses,  tenha  sido  registrado  para  15  crianças  e  que  todas entraram no estudo no mesmo dia:\n",
    "\n",
    "Tempos de aleitamento: 6 12 10 3 5 1 6 8 1 5 2 2 5 8 1\n",
    "\n",
    "Considerando que não houve censura:\n",
    "\n",
    "* [**a) Represente graficamente os tempos de observação das 15 crianças.**](#E2.1.a)\n",
    "* [**b) Represente as trajetórias dos primeiros cinco indivíduos utilizando as variáveis N(t) e Y (t) do processo de contagem.**](#E2.1.b)\n",
    "* [**c) Como  você  construiria  um  banco  de  dados  para  analisar  estes  dados  pelo  processo clássico?**](#E2.1.c)\n",
    "* [**d)E pelo processo de contagem?**](#E2.1.d)\n",
    "\n",
    "[Topo](#topo)"
   ]
  },
  {
   "cell_type": "markdown",
   "metadata": {},
   "source": [
    "<a id='E2.1.a'></a>\n",
    "#### a) Represente graficamente os tempos de observação das 15 crianças."
   ]
  },
  {
   "cell_type": "code",
   "execution_count": 49,
   "metadata": {},
   "outputs": [
    {
     "name": "stdout",
     "output_type": "stream",
     "text": [
      "Tempo de vida observado: \n",
      " [ 6 12 10  3  5  1  6  8  1  5  2  2  5  8  1] \n",
      "\n"
     ]
    },
    {
     "data": {
      "image/png": "[encoded data removed]",
      "text/plain": [
       "<Figure size 576x432 with 1 Axes>"
      ]
     },
     "metadata": {
      "needs_background": "light"
     },
     "output_type": "display_data"
    }
   ],
   "source": [
    "# Dados de sobrevivência\n",
    "entry_individual = np.zeros(15, dtype=np.int)\n",
    "actual_lifetimes = np.array([6,12,10,3,5,1,6,8,1,5,2,2,5,8,1])\n",
    "censured = np.ones(15, dtype=np.int)\n",
    "current_time = max(actual_lifetimes) + 1  #This variable defines the time window\n",
    "\n",
    "# Plot survival time\n",
    "survival_time_plot(entry_individual, actual_lifetimes, current_time, censured, \n",
    "                   \"Meses\", \"Crianças\", \"Tempo de Aleitamento\",\n",
    "                   8, 6) # Plot size"
   ]
  },
  {
   "cell_type": "markdown",
   "metadata": {},
   "source": [
    "<a id='E2.1.b'></a>\n",
    "#### b) Represente as trajetórias dos primeiros cinco indivíduos utilizando as variáveis N(t) e Y (t) do processo de contagem."
   ]
  },
  {
   "cell_type": "code",
   "execution_count": 50,
   "metadata": {},
   "outputs": [
    {
     "name": "stdout",
     "output_type": "stream",
     "text": [
      "Indivíduo: 1, Trajetória de Sobrevivência: 6.\n"
     ]
    },
    {
     "data": {
      "image/png": "[encoded data removed]",
      "text/plain": [
       "<Figure size 432x216 with 1 Axes>"
      ]
     },
     "metadata": {
      "needs_background": "light"
     },
     "output_type": "display_data"
    },
    {
     "name": "stdout",
     "output_type": "stream",
     "text": [
      "Indivíduo: 2, Trajetória de Sobrevivência: 12.\n"
     ]
    },
    {
     "data": {
      "image/png": "[encoded data removed]",
      "text/plain": [
       "<Figure size 432x216 with 1 Axes>"
      ]
     },
     "metadata": {
      "needs_background": "light"
     },
     "output_type": "display_data"
    },
    {
     "name": "stdout",
     "output_type": "stream",
     "text": [
      "Indivíduo: 3, Trajetória de Sobrevivência: 10.\n"
     ]
    },
    {
     "data": {
      "image/png": "[encoded data removed]",
      "text/plain": [
       "<Figure size 432x216 with 1 Axes>"
      ]
     },
     "metadata": {
      "needs_background": "light"
     },
     "output_type": "display_data"
    },
    {
     "name": "stdout",
     "output_type": "stream",
     "text": [
      "Indivíduo: 4, Trajetória de Sobrevivência: 3.\n"
     ]
    },
    {
     "data": {
      "image/png": "[encoded data removed]",
      "text/plain": [
       "<Figure size 432x216 with 1 Axes>"
      ]
     },
     "metadata": {
      "needs_background": "light"
     },
     "output_type": "display_data"
    },
    {
     "name": "stdout",
     "output_type": "stream",
     "text": [
      "Indivíduo: 5, Trajetória de Sobrevivência: 5.\n"
     ]
    },
    {
     "data": {
      "image/png": "[encoded data removed]",
      "text/plain": [
       "<Figure size 432x216 with 1 Axes>"
      ]
     },
     "metadata": {
      "needs_background": "light"
     },
     "output_type": "display_data"
    },
    {
     "name": "stdout",
     "output_type": "stream",
     "text": [
      "Indivíduo: 6, Trajetória de Sobrevivência: 1.\n"
     ]
    },
    {
     "data": {
      "image/png": "[encoded data removed]",
      "text/plain": [
       "<Figure size 432x216 with 1 Axes>"
      ]
     },
     "metadata": {
      "needs_background": "light"
     },
     "output_type": "display_data"
    },
    {
     "name": "stdout",
     "output_type": "stream",
     "text": [
      "Indivíduo: 7, Trajetória de Sobrevivência: 6.\n"
     ]
    },
    {
     "data": {
      "image/png": "[encoded data removed]",
      "text/plain": [
       "<Figure size 432x216 with 1 Axes>"
      ]
     },
     "metadata": {
      "needs_background": "light"
     },
     "output_type": "display_data"
    },
    {
     "name": "stdout",
     "output_type": "stream",
     "text": [
      "Indivíduo: 8, Trajetória de Sobrevivência: 8.\n"
     ]
    },
    {
     "data": {
      "image/png": "[encoded data removed]",
      "text/plain": [
       "<Figure size 432x216 with 1 Axes>"
      ]
     },
     "metadata": {
      "needs_background": "light"
     },
     "output_type": "display_data"
    },
    {
     "name": "stdout",
     "output_type": "stream",
     "text": [
      "Indivíduo: 9, Trajetória de Sobrevivência: 1.\n"
     ]
    },
    {
     "data": {
      "image/png": "[encoded data removed]",
      "text/plain": [
       "<Figure size 432x216 with 1 Axes>"
      ]
     },
     "metadata": {
      "needs_background": "light"
     },
     "output_type": "display_data"
    },
    {
     "name": "stdout",
     "output_type": "stream",
     "text": [
      "Indivíduo: 10, Trajetória de Sobrevivência: 5.\n"
     ]
    },
    {
     "data": {
      "image/png": "[encoded data removed]",
      "text/plain": [
       "<Figure size 432x216 with 1 Axes>"
      ]
     },
     "metadata": {
      "needs_background": "light"
     },
     "output_type": "display_data"
    },
    {
     "name": "stdout",
     "output_type": "stream",
     "text": [
      "Indivíduo: 11, Trajetória de Sobrevivência: 2.\n"
     ]
    },
    {
     "data": {
      "image/png": "[encoded data removed]",
      "text/plain": [
       "<Figure size 432x216 with 1 Axes>"
      ]
     },
     "metadata": {
      "needs_background": "light"
     },
     "output_type": "display_data"
    },
    {
     "name": "stdout",
     "output_type": "stream",
     "text": [
      "Indivíduo: 12, Trajetória de Sobrevivência: 2.\n"
     ]
    },
    {
     "data": {
      "image/png": "[encoded data removed]",
      "text/plain": [
       "<Figure size 432x216 with 1 Axes>"
      ]
     },
     "metadata": {
      "needs_background": "light"
     },
     "output_type": "display_data"
    },
    {
     "name": "stdout",
     "output_type": "stream",
     "text": [
      "Indivíduo: 13, Trajetória de Sobrevivência: 5.\n"
     ]
    },
    {
     "data": {
      "image/png": "[encoded data removed]",
      "text/plain": [
       "<Figure size 432x216 with 1 Axes>"
      ]
     },
     "metadata": {
      "needs_background": "light"
     },
     "output_type": "display_data"
    },
    {
     "name": "stdout",
     "output_type": "stream",
     "text": [
      "Indivíduo: 14, Trajetória de Sobrevivência: 8.\n"
     ]
    },
    {
     "data": {
      "image/png": "[encoded data removed]",
      "text/plain": [
       "<Figure size 432x216 with 1 Axes>"
      ]
     },
     "metadata": {
      "needs_background": "light"
     },
     "output_type": "display_data"
    },
    {
     "name": "stdout",
     "output_type": "stream",
     "text": [
      "Indivíduo: 15, Trajetória de Sobrevivência: 1.\n"
     ]
    },
    {
     "data": {
      "image/png": "[encoded data removed]",
      "text/plain": [
       "<Figure size 432x216 with 1 Axes>"
      ]
     },
     "metadata": {
      "needs_background": "light"
     },
     "output_type": "display_data"
    }
   ],
   "source": [
    "#entry_individual = np.zeros(15, dtype=np.int)\n",
    "#actual_lifetimes = np.array([6,12,10,3,5,1,6,8,1,5,2,2,5,8,1])\n",
    "#censured = np.ones(15, dtype=np.int)\n",
    "\n",
    "# Plot individual trajectory\n",
    "individual_trajectory_plot(entry_individual, actual_lifetimes, censured, \"Meses\")\n"
   ]
  },
  {
   "cell_type": "markdown",
   "metadata": {},
   "source": [
    "<a id='E2.1.c'></a>\n",
    "#### c) Como você construiria um banco de dados para analisar estes dados pelo processo clássico?"
   ]
  },
  {
   "cell_type": "code",
   "execution_count": 51,
   "metadata": {},
   "outputs": [
    {
     "data": {
      "text/html": [
       "<div>\n",
       "<style scoped>\n",
       "    .dataframe tbody tr th:only-of-type {\n",
       "        vertical-align: middle;\n",
       "    }\n",
       "\n",
       "    .dataframe tbody tr th {\n",
       "        vertical-align: top;\n",
       "    }\n",
       "\n",
       "    .dataframe thead th {\n",
       "        text-align: right;\n",
       "    }\n",
       "</style>\n",
       "<table border=\"1\" class=\"dataframe\">\n",
       "  <thead>\n",
       "    <tr style=\"text-align: right;\">\n",
       "      <th></th>\n",
       "      <th>Criança</th>\n",
       "      <th>Tempo</th>\n",
       "      <th>Status</th>\n",
       "    </tr>\n",
       "  </thead>\n",
       "  <tbody>\n",
       "    <tr>\n",
       "      <th>0</th>\n",
       "      <td>1</td>\n",
       "      <td>6</td>\n",
       "      <td>1</td>\n",
       "    </tr>\n",
       "    <tr>\n",
       "      <th>1</th>\n",
       "      <td>2</td>\n",
       "      <td>12</td>\n",
       "      <td>1</td>\n",
       "    </tr>\n",
       "    <tr>\n",
       "      <th>2</th>\n",
       "      <td>3</td>\n",
       "      <td>10</td>\n",
       "      <td>1</td>\n",
       "    </tr>\n",
       "    <tr>\n",
       "      <th>3</th>\n",
       "      <td>4</td>\n",
       "      <td>3</td>\n",
       "      <td>1</td>\n",
       "    </tr>\n",
       "    <tr>\n",
       "      <th>4</th>\n",
       "      <td>5</td>\n",
       "      <td>5</td>\n",
       "      <td>1</td>\n",
       "    </tr>\n",
       "    <tr>\n",
       "      <th>5</th>\n",
       "      <td>6</td>\n",
       "      <td>1</td>\n",
       "      <td>1</td>\n",
       "    </tr>\n",
       "    <tr>\n",
       "      <th>6</th>\n",
       "      <td>7</td>\n",
       "      <td>6</td>\n",
       "      <td>1</td>\n",
       "    </tr>\n",
       "    <tr>\n",
       "      <th>7</th>\n",
       "      <td>8</td>\n",
       "      <td>8</td>\n",
       "      <td>1</td>\n",
       "    </tr>\n",
       "    <tr>\n",
       "      <th>8</th>\n",
       "      <td>9</td>\n",
       "      <td>1</td>\n",
       "      <td>1</td>\n",
       "    </tr>\n",
       "    <tr>\n",
       "      <th>9</th>\n",
       "      <td>10</td>\n",
       "      <td>5</td>\n",
       "      <td>1</td>\n",
       "    </tr>\n",
       "    <tr>\n",
       "      <th>10</th>\n",
       "      <td>11</td>\n",
       "      <td>2</td>\n",
       "      <td>1</td>\n",
       "    </tr>\n",
       "    <tr>\n",
       "      <th>11</th>\n",
       "      <td>12</td>\n",
       "      <td>2</td>\n",
       "      <td>1</td>\n",
       "    </tr>\n",
       "    <tr>\n",
       "      <th>12</th>\n",
       "      <td>13</td>\n",
       "      <td>5</td>\n",
       "      <td>1</td>\n",
       "    </tr>\n",
       "    <tr>\n",
       "      <th>13</th>\n",
       "      <td>14</td>\n",
       "      <td>8</td>\n",
       "      <td>1</td>\n",
       "    </tr>\n",
       "    <tr>\n",
       "      <th>14</th>\n",
       "      <td>15</td>\n",
       "      <td>1</td>\n",
       "      <td>1</td>\n",
       "    </tr>\n",
       "  </tbody>\n",
       "</table>\n",
       "</div>"
      ],
      "text/plain": [
       "    Criança  Tempo  Status\n",
       "0         1      6       1\n",
       "1         2     12       1\n",
       "2         3     10       1\n",
       "3         4      3       1\n",
       "4         5      5       1\n",
       "5         6      1       1\n",
       "6         7      6       1\n",
       "7         8      8       1\n",
       "8         9      1       1\n",
       "9        10      5       1\n",
       "10       11      2       1\n",
       "11       12      2       1\n",
       "12       13      5       1\n",
       "13       14      8       1\n",
       "14       15      1       1"
      ]
     },
     "execution_count": 51,
     "metadata": {},
     "output_type": "execute_result"
    }
   ],
   "source": [
    "df = pd.DataFrame(np.array([6,12,10,3,5,1,6,8,1,5,2,2,5,8,1]))\n",
    "df = df.reset_index()\n",
    "df = df.rename(columns={0: 'Tempo', 'index':'Criança'})\n",
    "df['Status'] = 1\n",
    "df['Criança'] = df['Criança'] + 1\n",
    "df"
   ]
  },
  {
   "cell_type": "markdown",
   "metadata": {},
   "source": [
    "<a id='E2.1.a'></a>\n",
    "#### d)E pelo processo de contagem?"
   ]
  },
  {
   "cell_type": "code",
   "execution_count": 52,
   "metadata": {},
   "outputs": [
    {
     "data": {
      "text/html": [
       "<div>\n",
       "<style scoped>\n",
       "    .dataframe tbody tr th:only-of-type {\n",
       "        vertical-align: middle;\n",
       "    }\n",
       "\n",
       "    .dataframe tbody tr th {\n",
       "        vertical-align: top;\n",
       "    }\n",
       "\n",
       "    .dataframe thead th {\n",
       "        text-align: right;\n",
       "    }\n",
       "</style>\n",
       "<table border=\"1\" class=\"dataframe\">\n",
       "  <thead>\n",
       "    <tr style=\"text-align: right;\">\n",
       "      <th></th>\n",
       "      <th>Criança</th>\n",
       "      <th>Tempo Inicial</th>\n",
       "      <th>Tempo Final</th>\n",
       "      <th>Status</th>\n",
       "    </tr>\n",
       "  </thead>\n",
       "  <tbody>\n",
       "    <tr>\n",
       "      <th>0</th>\n",
       "      <td>1</td>\n",
       "      <td>0</td>\n",
       "      <td>6</td>\n",
       "      <td>1</td>\n",
       "    </tr>\n",
       "    <tr>\n",
       "      <th>1</th>\n",
       "      <td>2</td>\n",
       "      <td>0</td>\n",
       "      <td>12</td>\n",
       "      <td>1</td>\n",
       "    </tr>\n",
       "    <tr>\n",
       "      <th>2</th>\n",
       "      <td>3</td>\n",
       "      <td>0</td>\n",
       "      <td>10</td>\n",
       "      <td>1</td>\n",
       "    </tr>\n",
       "    <tr>\n",
       "      <th>3</th>\n",
       "      <td>4</td>\n",
       "      <td>0</td>\n",
       "      <td>3</td>\n",
       "      <td>1</td>\n",
       "    </tr>\n",
       "    <tr>\n",
       "      <th>4</th>\n",
       "      <td>5</td>\n",
       "      <td>0</td>\n",
       "      <td>5</td>\n",
       "      <td>1</td>\n",
       "    </tr>\n",
       "    <tr>\n",
       "      <th>5</th>\n",
       "      <td>6</td>\n",
       "      <td>0</td>\n",
       "      <td>1</td>\n",
       "      <td>1</td>\n",
       "    </tr>\n",
       "    <tr>\n",
       "      <th>6</th>\n",
       "      <td>7</td>\n",
       "      <td>0</td>\n",
       "      <td>6</td>\n",
       "      <td>1</td>\n",
       "    </tr>\n",
       "    <tr>\n",
       "      <th>7</th>\n",
       "      <td>8</td>\n",
       "      <td>0</td>\n",
       "      <td>8</td>\n",
       "      <td>1</td>\n",
       "    </tr>\n",
       "    <tr>\n",
       "      <th>8</th>\n",
       "      <td>9</td>\n",
       "      <td>0</td>\n",
       "      <td>1</td>\n",
       "      <td>1</td>\n",
       "    </tr>\n",
       "    <tr>\n",
       "      <th>9</th>\n",
       "      <td>10</td>\n",
       "      <td>0</td>\n",
       "      <td>5</td>\n",
       "      <td>1</td>\n",
       "    </tr>\n",
       "    <tr>\n",
       "      <th>10</th>\n",
       "      <td>11</td>\n",
       "      <td>0</td>\n",
       "      <td>2</td>\n",
       "      <td>1</td>\n",
       "    </tr>\n",
       "    <tr>\n",
       "      <th>11</th>\n",
       "      <td>12</td>\n",
       "      <td>0</td>\n",
       "      <td>2</td>\n",
       "      <td>1</td>\n",
       "    </tr>\n",
       "    <tr>\n",
       "      <th>12</th>\n",
       "      <td>13</td>\n",
       "      <td>0</td>\n",
       "      <td>5</td>\n",
       "      <td>1</td>\n",
       "    </tr>\n",
       "    <tr>\n",
       "      <th>13</th>\n",
       "      <td>14</td>\n",
       "      <td>0</td>\n",
       "      <td>8</td>\n",
       "      <td>1</td>\n",
       "    </tr>\n",
       "    <tr>\n",
       "      <th>14</th>\n",
       "      <td>15</td>\n",
       "      <td>0</td>\n",
       "      <td>1</td>\n",
       "      <td>1</td>\n",
       "    </tr>\n",
       "  </tbody>\n",
       "</table>\n",
       "</div>"
      ],
      "text/plain": [
       "    Criança  Tempo Inicial  Tempo Final  Status\n",
       "0         1              0            6       1\n",
       "1         2              0           12       1\n",
       "2         3              0           10       1\n",
       "3         4              0            3       1\n",
       "4         5              0            5       1\n",
       "5         6              0            1       1\n",
       "6         7              0            6       1\n",
       "7         8              0            8       1\n",
       "8         9              0            1       1\n",
       "9        10              0            5       1\n",
       "10       11              0            2       1\n",
       "11       12              0            2       1\n",
       "12       13              0            5       1\n",
       "13       14              0            8       1\n",
       "14       15              0            1       1"
      ]
     },
     "execution_count": 52,
     "metadata": {},
     "output_type": "execute_result"
    }
   ],
   "source": [
    "df = pd.DataFrame(np.array([6,12,10,3,5,1,6,8,1,5,2,2,5,8,1]))\n",
    "df['Tempo Inicial'] = 0\n",
    "df = df[['Tempo Inicial', 0]]\n",
    "df = df.reset_index()\n",
    "df = df.rename(columns={0: 'Tempo Final', 'index':'Criança'})\n",
    "df['Status'] = 1\n",
    "df['Criança'] = df['Criança'] + 1\n",
    "df"
   ]
  },
  {
   "cell_type": "markdown",
   "metadata": {},
   "source": [
    "## Exercício 2.2  <a id='Exercicio2.2'></a>\n",
    "\n",
    "Considere agora o tempo de sobrevivência de 15 pacientes submetidos à hemodiálise. Neste caso, a variável de interesse  é  o  tempo  desde  a  primeira diálise até o óbito (em meses).\n",
    "\n",
    "2, 4, 29+, 6+, 3, 1, 1, 2, 3, 9+, 10, 11, 5+, 5, 1\n",
    "\n",
    "Os tempos censurados (censura a direita) estão indicados pelo sinal de +.\n",
    "\n",
    "Considere  que todos os pacientes entraram juntos no início do estudo.\n",
    "\n",
    "* [**a) Represente graficamente os tempos de observação dos pacientes, utilizando a notação clássica.**](#E2.2.a)\n",
    "* [**b) Represente as trajetórias dos primeiros cinco indivíduos utilizando as variáveis N(t) e Y (t) do processo de contagem.**](#E2.2.b)\n",
    "* [**c) Construa um banco de dados para analisar esses dados pelo processo clássico.**](#E2.2.c)\n",
    "* [**d) Reconstrua o banco de dados, na formas de processo de contagem, considerando que esta  é  uma  coorte  aberta  e  as  datas  de  início  de  observação  de  cada  paciente  são dadas na tabela abaixo**](#E2.2.d)\n",
    "\n",
    "[Topo](#topo)"
   ]
  },
  {
   "cell_type": "markdown",
   "metadata": {},
   "source": [
    "<a id='E2.2.a'></a>\n",
    "#### a) Represente graficamente os tempos de observação dos pacientes, utilizando a notação clássica."
   ]
  },
  {
   "cell_type": "code",
   "execution_count": 170,
   "metadata": {},
   "outputs": [
    {
     "name": "stdout",
     "output_type": "stream",
     "text": [
      "Tempo de vida observado: \n",
      " [ 2  4 29  6  3  1  1  2  3  9 10 11  5  5  1] \n",
      "\n"
     ]
    },
    {
     "data": {
      "image/png": "[encoded data removed]",
      "text/plain": [
       "<Figure size 720x432 with 1 Axes>"
      ]
     },
     "metadata": {
      "needs_background": "light"
     },
     "output_type": "display_data"
    }
   ],
   "source": [
    "# Dados de sobrevivência\n",
    "entry_individual = np.zeros(15, dtype=np.int)\n",
    "actual_lifetimes = np.array([2, 4, 29, 6, 3, 1, 1, 2, 3, 9, 10, 11, 5, 5, 1])\n",
    "censured = np.array([1,1,0,0,1,1,1,1,1,0,1,1,0,1,1])\n",
    "current_time = max(actual_lifetimes + entry_individual) + 1  #This variable defines the time window\n",
    "\n",
    "# Plot survival time\n",
    "survival_time_plot(entry_individual, actual_lifetimes, current_time, censured, \n",
    "                   \"Meses\", \"Pacientes\", \"Óbito\",\n",
    "                   10, 6) # Plot size"
   ]
  },
  {
   "cell_type": "markdown",
   "metadata": {},
   "source": [
    "<a id='E2.2.b'></a>\n",
    "#### b) Represente as trajetórias dos primeiros cinco indivíduos utilizando as variáveis N(t) e Y (t) do processo de contagem."
   ]
  },
  {
   "cell_type": "code",
   "execution_count": 171,
   "metadata": {},
   "outputs": [
    {
     "name": "stdout",
     "output_type": "stream",
     "text": [
      "Indivíduo: 1, Trajetória de Sobrevivência: 2.\n"
     ]
    },
    {
     "data": {
      "image/png": "[encoded data removed]",
      "text/plain": [
       "<Figure size 432x216 with 1 Axes>"
      ]
     },
     "metadata": {
      "needs_background": "light"
     },
     "output_type": "display_data"
    },
    {
     "name": "stdout",
     "output_type": "stream",
     "text": [
      "Indivíduo: 2, Trajetória de Sobrevivência: 4.\n"
     ]
    },
    {
     "data": {
      "image/png": "[encoded data removed]",
      "text/plain": [
       "<Figure size 432x216 with 1 Axes>"
      ]
     },
     "metadata": {
      "needs_background": "light"
     },
     "output_type": "display_data"
    },
    {
     "name": "stdout",
     "output_type": "stream",
     "text": [
      "Indivíduo: 3, Trajetória de Sobrevivência: 29.\n"
     ]
    },
    {
     "data": {
      "image/png": "[encoded data removed]",
      "text/plain": [
       "<Figure size 432x216 with 1 Axes>"
      ]
     },
     "metadata": {
      "needs_background": "light"
     },
     "output_type": "display_data"
    },
    {
     "name": "stdout",
     "output_type": "stream",
     "text": [
      "Indivíduo: 4, Trajetória de Sobrevivência: 6.\n"
     ]
    },
    {
     "data": {
      "image/png": "[encoded data removed]",
      "text/plain": [
       "<Figure size 432x216 with 1 Axes>"
      ]
     },
     "metadata": {
      "needs_background": "light"
     },
     "output_type": "display_data"
    },
    {
     "name": "stdout",
     "output_type": "stream",
     "text": [
      "Indivíduo: 5, Trajetória de Sobrevivência: 3.\n"
     ]
    },
    {
     "data": {
      "image/png": "[encoded data removed]",
      "text/plain": [
       "<Figure size 432x216 with 1 Axes>"
      ]
     },
     "metadata": {
      "needs_background": "light"
     },
     "output_type": "display_data"
    },
    {
     "name": "stdout",
     "output_type": "stream",
     "text": [
      "Indivíduo: 6, Trajetória de Sobrevivência: 1.\n"
     ]
    },
    {
     "data": {
      "image/png": "[encoded data removed]",
      "text/plain": [
       "<Figure size 432x216 with 1 Axes>"
      ]
     },
     "metadata": {
      "needs_background": "light"
     },
     "output_type": "display_data"
    },
    {
     "name": "stdout",
     "output_type": "stream",
     "text": [
      "Indivíduo: 7, Trajetória de Sobrevivência: 1.\n"
     ]
    },
    {
     "data": {
      "image/png": "[encoded data removed]",
      "text/plain": [
       "<Figure size 432x216 with 1 Axes>"
      ]
     },
     "metadata": {
      "needs_background": "light"
     },
     "output_type": "display_data"
    },
    {
     "name": "stdout",
     "output_type": "stream",
     "text": [
      "Indivíduo: 8, Trajetória de Sobrevivência: 2.\n"
     ]
    },
    {
     "data": {
      "image/png": "[encoded data removed]",
      "text/plain": [
       "<Figure size 432x216 with 1 Axes>"
      ]
     },
     "metadata": {
      "needs_background": "light"
     },
     "output_type": "display_data"
    },
    {
     "name": "stdout",
     "output_type": "stream",
     "text": [
      "Indivíduo: 9, Trajetória de Sobrevivência: 3.\n"
     ]
    },
    {
     "data": {
      "image/png": "[encoded data removed]",
      "text/plain": [
       "<Figure size 432x216 with 1 Axes>"
      ]
     },
     "metadata": {
      "needs_background": "light"
     },
     "output_type": "display_data"
    },
    {
     "name": "stdout",
     "output_type": "stream",
     "text": [
      "Indivíduo: 10, Trajetória de Sobrevivência: 9.\n"
     ]
    },
    {
     "data": {
      "image/png": "[encoded data removed]",
      "text/plain": [
       "<Figure size 432x216 with 1 Axes>"
      ]
     },
     "metadata": {
      "needs_background": "light"
     },
     "output_type": "display_data"
    },
    {
     "name": "stdout",
     "output_type": "stream",
     "text": [
      "Indivíduo: 11, Trajetória de Sobrevivência: 10.\n"
     ]
    },
    {
     "data": {
      "image/png": "[encoded data removed]",
      "text/plain": [
       "<Figure size 432x216 with 1 Axes>"
      ]
     },
     "metadata": {
      "needs_background": "light"
     },
     "output_type": "display_data"
    },
    {
     "name": "stdout",
     "output_type": "stream",
     "text": [
      "Indivíduo: 12, Trajetória de Sobrevivência: 11.\n"
     ]
    },
    {
     "data": {
      "image/png": "[encoded data removed]",
      "text/plain": [
       "<Figure size 432x216 with 1 Axes>"
      ]
     },
     "metadata": {
      "needs_background": "light"
     },
     "output_type": "display_data"
    },
    {
     "name": "stdout",
     "output_type": "stream",
     "text": [
      "Indivíduo: 13, Trajetória de Sobrevivência: 5.\n"
     ]
    },
    {
     "data": {
      "image/png": "[encoded data removed]",
      "text/plain": [
       "<Figure size 432x216 with 1 Axes>"
      ]
     },
     "metadata": {
      "needs_background": "light"
     },
     "output_type": "display_data"
    },
    {
     "name": "stdout",
     "output_type": "stream",
     "text": [
      "Indivíduo: 14, Trajetória de Sobrevivência: 5.\n"
     ]
    },
    {
     "data": {
      "image/png": "[encoded data removed]",
      "text/plain": [
       "<Figure size 432x216 with 1 Axes>"
      ]
     },
     "metadata": {
      "needs_background": "light"
     },
     "output_type": "display_data"
    },
    {
     "name": "stdout",
     "output_type": "stream",
     "text": [
      "Indivíduo: 15, Trajetória de Sobrevivência: 1.\n"
     ]
    },
    {
     "data": {
      "image/png": "[encoded data removed]",
      "text/plain": [
       "<Figure size 432x216 with 1 Axes>"
      ]
     },
     "metadata": {
      "needs_background": "light"
     },
     "output_type": "display_data"
    }
   ],
   "source": [
    "#entry_individual = np.zeros(15, dtype=np.int)\n",
    "#actual_lifetimes = np.array([2, 4, 29, 6, 3, 1, 1, 2, 3, 9, 10, 11, 5, 5, 1])\n",
    "#censured = np.array([1,1,0,0,1,1,1,1,1,0,1,1,0,1,1])\n",
    "\n",
    "# Plot individual trajectory\n",
    "individual_trajectory_plot(entry_individual, actual_lifetimes, censured, \"Meses\")"
   ]
  },
  {
   "cell_type": "markdown",
   "metadata": {},
   "source": [
    "<a id='E2.2.c'></a>\n",
    "#### c) Construa um banco de dados para analisar esses dados pelo processo clássico."
   ]
  },
  {
   "cell_type": "code",
   "execution_count": 55,
   "metadata": {},
   "outputs": [
    {
     "data": {
      "text/html": [
       "<div>\n",
       "<style scoped>\n",
       "    .dataframe tbody tr th:only-of-type {\n",
       "        vertical-align: middle;\n",
       "    }\n",
       "\n",
       "    .dataframe tbody tr th {\n",
       "        vertical-align: top;\n",
       "    }\n",
       "\n",
       "    .dataframe thead th {\n",
       "        text-align: right;\n",
       "    }\n",
       "</style>\n",
       "<table border=\"1\" class=\"dataframe\">\n",
       "  <thead>\n",
       "    <tr style=\"text-align: right;\">\n",
       "      <th></th>\n",
       "      <th>Paciente</th>\n",
       "      <th>Tempo</th>\n",
       "      <th>Status</th>\n",
       "    </tr>\n",
       "  </thead>\n",
       "  <tbody>\n",
       "    <tr>\n",
       "      <th>0</th>\n",
       "      <td>1</td>\n",
       "      <td>2</td>\n",
       "      <td>1</td>\n",
       "    </tr>\n",
       "    <tr>\n",
       "      <th>1</th>\n",
       "      <td>2</td>\n",
       "      <td>4</td>\n",
       "      <td>1</td>\n",
       "    </tr>\n",
       "    <tr>\n",
       "      <th>2</th>\n",
       "      <td>3</td>\n",
       "      <td>29</td>\n",
       "      <td>0</td>\n",
       "    </tr>\n",
       "    <tr>\n",
       "      <th>3</th>\n",
       "      <td>4</td>\n",
       "      <td>6</td>\n",
       "      <td>0</td>\n",
       "    </tr>\n",
       "    <tr>\n",
       "      <th>4</th>\n",
       "      <td>5</td>\n",
       "      <td>3</td>\n",
       "      <td>1</td>\n",
       "    </tr>\n",
       "    <tr>\n",
       "      <th>5</th>\n",
       "      <td>6</td>\n",
       "      <td>1</td>\n",
       "      <td>1</td>\n",
       "    </tr>\n",
       "    <tr>\n",
       "      <th>6</th>\n",
       "      <td>7</td>\n",
       "      <td>1</td>\n",
       "      <td>1</td>\n",
       "    </tr>\n",
       "    <tr>\n",
       "      <th>7</th>\n",
       "      <td>8</td>\n",
       "      <td>2</td>\n",
       "      <td>1</td>\n",
       "    </tr>\n",
       "    <tr>\n",
       "      <th>8</th>\n",
       "      <td>9</td>\n",
       "      <td>3</td>\n",
       "      <td>1</td>\n",
       "    </tr>\n",
       "    <tr>\n",
       "      <th>9</th>\n",
       "      <td>10</td>\n",
       "      <td>9</td>\n",
       "      <td>0</td>\n",
       "    </tr>\n",
       "    <tr>\n",
       "      <th>10</th>\n",
       "      <td>11</td>\n",
       "      <td>10</td>\n",
       "      <td>1</td>\n",
       "    </tr>\n",
       "    <tr>\n",
       "      <th>11</th>\n",
       "      <td>12</td>\n",
       "      <td>11</td>\n",
       "      <td>1</td>\n",
       "    </tr>\n",
       "    <tr>\n",
       "      <th>12</th>\n",
       "      <td>13</td>\n",
       "      <td>5</td>\n",
       "      <td>0</td>\n",
       "    </tr>\n",
       "    <tr>\n",
       "      <th>13</th>\n",
       "      <td>14</td>\n",
       "      <td>5</td>\n",
       "      <td>1</td>\n",
       "    </tr>\n",
       "    <tr>\n",
       "      <th>14</th>\n",
       "      <td>15</td>\n",
       "      <td>1</td>\n",
       "      <td>1</td>\n",
       "    </tr>\n",
       "  </tbody>\n",
       "</table>\n",
       "</div>"
      ],
      "text/plain": [
       "    Paciente  Tempo  Status\n",
       "0          1      2       1\n",
       "1          2      4       1\n",
       "2          3     29       0\n",
       "3          4      6       0\n",
       "4          5      3       1\n",
       "5          6      1       1\n",
       "6          7      1       1\n",
       "7          8      2       1\n",
       "8          9      3       1\n",
       "9         10      9       0\n",
       "10        11     10       1\n",
       "11        12     11       1\n",
       "12        13      5       0\n",
       "13        14      5       1\n",
       "14        15      1       1"
      ]
     },
     "execution_count": 55,
     "metadata": {},
     "output_type": "execute_result"
    }
   ],
   "source": [
    "df = pd.DataFrame(np.array([2, 4, 29, 6, 3, 1, 1, 2, 3, 9, 10, 11, 5, 5, 1]))\n",
    "df = df.reset_index()\n",
    "df = df.rename(columns={0: 'Tempo', 'index':'Paciente'})\n",
    "df['Status'] = np.array([1,1,0,0,1,1,1,1,1,0,1,1,0,1,1])\n",
    "df['Paciente'] = df['Paciente'] + 1\n",
    "df"
   ]
  },
  {
   "cell_type": "markdown",
   "metadata": {},
   "source": [
    "<a id='E2.2.d'></a>\n",
    "#### d) Reconstrua o banco de dados, na formas de processo de contagem, considerando que esta  é  uma  coorte  aberta  e  as  datas  de  início  de  observação  de  cada  paciente  são dadas na tabela abaixo."
   ]
  },
  {
   "cell_type": "code",
   "execution_count": 56,
   "metadata": {},
   "outputs": [
    {
     "data": {
      "text/html": [
       "<div>\n",
       "<style scoped>\n",
       "    .dataframe tbody tr th:only-of-type {\n",
       "        vertical-align: middle;\n",
       "    }\n",
       "\n",
       "    .dataframe tbody tr th {\n",
       "        vertical-align: top;\n",
       "    }\n",
       "\n",
       "    .dataframe thead th {\n",
       "        text-align: right;\n",
       "    }\n",
       "</style>\n",
       "<table border=\"1\" class=\"dataframe\">\n",
       "  <thead>\n",
       "    <tr style=\"text-align: right;\">\n",
       "      <th></th>\n",
       "      <th>Paciente</th>\n",
       "      <th>Tempo</th>\n",
       "      <th>Tempo Inicial</th>\n",
       "      <th>Tempo Final</th>\n",
       "      <th>Status</th>\n",
       "    </tr>\n",
       "  </thead>\n",
       "  <tbody>\n",
       "    <tr>\n",
       "      <th>0</th>\n",
       "      <td>1</td>\n",
       "      <td>2</td>\n",
       "      <td>0</td>\n",
       "      <td>2</td>\n",
       "      <td>1</td>\n",
       "    </tr>\n",
       "    <tr>\n",
       "      <th>1</th>\n",
       "      <td>2</td>\n",
       "      <td>4</td>\n",
       "      <td>1</td>\n",
       "      <td>5</td>\n",
       "      <td>1</td>\n",
       "    </tr>\n",
       "    <tr>\n",
       "      <th>2</th>\n",
       "      <td>3</td>\n",
       "      <td>29</td>\n",
       "      <td>12</td>\n",
       "      <td>41</td>\n",
       "      <td>0</td>\n",
       "    </tr>\n",
       "    <tr>\n",
       "      <th>3</th>\n",
       "      <td>4</td>\n",
       "      <td>6</td>\n",
       "      <td>3</td>\n",
       "      <td>9</td>\n",
       "      <td>0</td>\n",
       "    </tr>\n",
       "    <tr>\n",
       "      <th>4</th>\n",
       "      <td>5</td>\n",
       "      <td>3</td>\n",
       "      <td>1</td>\n",
       "      <td>4</td>\n",
       "      <td>1</td>\n",
       "    </tr>\n",
       "    <tr>\n",
       "      <th>5</th>\n",
       "      <td>6</td>\n",
       "      <td>1</td>\n",
       "      <td>7</td>\n",
       "      <td>8</td>\n",
       "      <td>1</td>\n",
       "    </tr>\n",
       "    <tr>\n",
       "      <th>6</th>\n",
       "      <td>7</td>\n",
       "      <td>1</td>\n",
       "      <td>0</td>\n",
       "      <td>1</td>\n",
       "      <td>1</td>\n",
       "    </tr>\n",
       "    <tr>\n",
       "      <th>7</th>\n",
       "      <td>8</td>\n",
       "      <td>2</td>\n",
       "      <td>1</td>\n",
       "      <td>3</td>\n",
       "      <td>1</td>\n",
       "    </tr>\n",
       "    <tr>\n",
       "      <th>8</th>\n",
       "      <td>9</td>\n",
       "      <td>3</td>\n",
       "      <td>1</td>\n",
       "      <td>4</td>\n",
       "      <td>1</td>\n",
       "    </tr>\n",
       "    <tr>\n",
       "      <th>9</th>\n",
       "      <td>10</td>\n",
       "      <td>9</td>\n",
       "      <td>3</td>\n",
       "      <td>12</td>\n",
       "      <td>0</td>\n",
       "    </tr>\n",
       "    <tr>\n",
       "      <th>10</th>\n",
       "      <td>11</td>\n",
       "      <td>10</td>\n",
       "      <td>12</td>\n",
       "      <td>22</td>\n",
       "      <td>1</td>\n",
       "    </tr>\n",
       "    <tr>\n",
       "      <th>11</th>\n",
       "      <td>12</td>\n",
       "      <td>11</td>\n",
       "      <td>4</td>\n",
       "      <td>15</td>\n",
       "      <td>1</td>\n",
       "    </tr>\n",
       "    <tr>\n",
       "      <th>12</th>\n",
       "      <td>13</td>\n",
       "      <td>5</td>\n",
       "      <td>4</td>\n",
       "      <td>9</td>\n",
       "      <td>0</td>\n",
       "    </tr>\n",
       "    <tr>\n",
       "      <th>13</th>\n",
       "      <td>14</td>\n",
       "      <td>5</td>\n",
       "      <td>1</td>\n",
       "      <td>6</td>\n",
       "      <td>1</td>\n",
       "    </tr>\n",
       "    <tr>\n",
       "      <th>14</th>\n",
       "      <td>15</td>\n",
       "      <td>1</td>\n",
       "      <td>22</td>\n",
       "      <td>23</td>\n",
       "      <td>1</td>\n",
       "    </tr>\n",
       "  </tbody>\n",
       "</table>\n",
       "</div>"
      ],
      "text/plain": [
       "    Paciente  Tempo  Tempo Inicial  Tempo Final  Status\n",
       "0          1      2              0            2       1\n",
       "1          2      4              1            5       1\n",
       "2          3     29             12           41       0\n",
       "3          4      6              3            9       0\n",
       "4          5      3              1            4       1\n",
       "5          6      1              7            8       1\n",
       "6          7      1              0            1       1\n",
       "7          8      2              1            3       1\n",
       "8          9      3              1            4       1\n",
       "9         10      9              3           12       0\n",
       "10        11     10             12           22       1\n",
       "11        12     11              4           15       1\n",
       "12        13      5              4            9       0\n",
       "13        14      5              1            6       1\n",
       "14        15      1             22           23       1"
      ]
     },
     "execution_count": 56,
     "metadata": {},
     "output_type": "execute_result"
    }
   ],
   "source": [
    "df = pd.DataFrame(np.array([2, 4, 29, 6, 3, 1, 1, 2, 3, 9, 10, 11, 5, 5, 1]))\n",
    "df['Tempo Inicial'] = np.array([0, 1, 12, 3, 1, 7, 0, 1, 1, 3, 12, 4, 4, 1, 22])\n",
    "df = df.reset_index()\n",
    "df = df.rename(columns={0: 'Tempo', 'index':'Paciente'})\n",
    "df['Paciente'] = df['Paciente'] + 1\n",
    "df['Tempo Final'] = df['Tempo Inicial'] + df['Tempo']\n",
    "df['Status'] = np.array([1,1,0,0,1,1,1,1,1,0,1,1,0,1,1])\n",
    "df"
   ]
  },
  {
   "cell_type": "markdown",
   "metadata": {},
   "source": [
    "## Exercício 2.3  <a id='Exercicio2.3'></a>\n",
    "\n",
    "Suponha que, em um hospital, 6 pacientes HIV positivo são acompanhados ao longo  de  um  ano.\n",
    "\n",
    "No  gráfico  abaixo,  as  linhas  horizontais  representam  o  tempo  de acompanhamento  de  cada  paciente. Represente,  utilizando  as variáveis N(t) e Y (t), as trajetórias de cada um dos 6 pacientes.\n",
    "\n",
    "[Topo](#topo)\n"
   ]
  },
  {
   "cell_type": "code",
   "execution_count": 168,
   "metadata": {},
   "outputs": [
    {
     "name": "stdout",
     "output_type": "stream",
     "text": [
      "Tempo de vida observado: \n",
      " [ 9  6  3 12  6  4] \n",
      "\n"
     ]
    },
    {
     "data": {
      "image/png": "[encoded data removed]",
      "text/plain": [
       "<Figure size 720x432 with 1 Axes>"
      ]
     },
     "metadata": {
      "needs_background": "light"
     },
     "output_type": "display_data"
    }
   ],
   "source": [
    "# Dados de sobrevivência\n",
    "entry_individual = np.array([3,0,5,0,6,3])\n",
    "actual_lifetimes = np.array([9,6,3,12,6,4])\n",
    "censured = np.array([0,1,0,0,0,1])\n",
    "current_time = max(actual_lifetimes) + 1  #This variable defines the time window\n",
    "\n",
    "# Plot survival time\n",
    "survival_time_plot(entry_individual, actual_lifetimes, current_time, censured, \n",
    "                   \"Meses\", \"Pacientes\", \"Óbito por HIV\",\n",
    "                   10, 6) # Plot size"
   ]
  },
  {
   "cell_type": "code",
   "execution_count": 169,
   "metadata": {},
   "outputs": [
    {
     "name": "stdout",
     "output_type": "stream",
     "text": [
      "Indivíduo: 1, Trajetória de Sobrevivência: 9.\n"
     ]
    },
    {
     "data": {
      "image/png": "[encoded data removed]",
      "text/plain": [
       "<Figure size 432x216 with 1 Axes>"
      ]
     },
     "metadata": {
      "needs_background": "light"
     },
     "output_type": "display_data"
    },
    {
     "name": "stdout",
     "output_type": "stream",
     "text": [
      "Indivíduo: 2, Trajetória de Sobrevivência: 6.\n"
     ]
    },
    {
     "data": {
      "image/png": "[encoded data removed]",
      "text/plain": [
       "<Figure size 432x216 with 1 Axes>"
      ]
     },
     "metadata": {
      "needs_background": "light"
     },
     "output_type": "display_data"
    },
    {
     "name": "stdout",
     "output_type": "stream",
     "text": [
      "Indivíduo: 3, Trajetória de Sobrevivência: 3.\n"
     ]
    },
    {
     "data": {
      "image/png": "[encoded data removed]",
      "text/plain": [
       "<Figure size 432x216 with 1 Axes>"
      ]
     },
     "metadata": {
      "needs_background": "light"
     },
     "output_type": "display_data"
    },
    {
     "name": "stdout",
     "output_type": "stream",
     "text": [
      "Indivíduo: 4, Trajetória de Sobrevivência: 12.\n"
     ]
    },
    {
     "data": {
      "image/png": "[encoded data removed]",
      "text/plain": [
       "<Figure size 432x216 with 1 Axes>"
      ]
     },
     "metadata": {
      "needs_background": "light"
     },
     "output_type": "display_data"
    },
    {
     "name": "stdout",
     "output_type": "stream",
     "text": [
      "Indivíduo: 5, Trajetória de Sobrevivência: 6.\n"
     ]
    },
    {
     "data": {
      "image/png": "[encoded data removed]",
      "text/plain": [
       "<Figure size 432x216 with 1 Axes>"
      ]
     },
     "metadata": {
      "needs_background": "light"
     },
     "output_type": "display_data"
    },
    {
     "name": "stdout",
     "output_type": "stream",
     "text": [
      "Indivíduo: 6, Trajetória de Sobrevivência: 4.\n"
     ]
    },
    {
     "data": {
      "image/png": "[encoded data removed]",
      "text/plain": [
       "<Figure size 432x216 with 1 Axes>"
      ]
     },
     "metadata": {
      "needs_background": "light"
     },
     "output_type": "display_data"
    }
   ],
   "source": [
    "# Plot individual trajectory\n",
    "individual_trajectory_plot(entry_individual, actual_lifetimes, censured, \"Meses\")"
   ]
  },
  {
   "cell_type": "markdown",
   "metadata": {},
   "source": [
    "## Exercício 2.4  <a id='Exercicio2.4'></a>\n",
    "\n",
    "Um paciente tem a seguinte trajetória de observação, segundo oprocesso de contagem abaixo.\n",
    "\n",
    "[Topo](#topo)"
   ]
  },
  {
   "cell_type": "code",
   "execution_count": 166,
   "metadata": {},
   "outputs": [
    {
     "name": "stdout",
     "output_type": "stream",
     "text": [
      "Indivíduo: 1, Trajetória de Sobrevivência: 2.\n"
     ]
    },
    {
     "data": {
      "image/png": "[encoded data removed]",
      "text/plain": [
       "<Figure size 432x216 with 1 Axes>"
      ]
     },
     "metadata": {
      "needs_background": "light"
     },
     "output_type": "display_data"
    },
    {
     "name": "stdout",
     "output_type": "stream",
     "text": [
      "Indivíduo: 2, Trajetória de Sobrevivência: 12.\n"
     ]
    },
    {
     "data": {
      "image/png": "[encoded data removed]",
      "text/plain": [
       "<Figure size 432x216 with 1 Axes>"
      ]
     },
     "metadata": {
      "needs_background": "light"
     },
     "output_type": "display_data"
    },
    {
     "name": "stdout",
     "output_type": "stream",
     "text": [
      "Qual foi o mês de entrada do paciente no estudo? 2\n",
      "Em que mês ocorreu o desfecho? 4\n",
      "Quais os meses em que o paciente estava sob risco de óbito? 2 3 4\n"
     ]
    }
   ],
   "source": [
    "entry_individual = np.array([2,0])\n",
    "actual_lifetimes = np.array([2,12])\n",
    "censured = np.array([1,0])\n",
    "individual_trajectory_plot(entry_individual, actual_lifetimes, censured, \"Meses\")\n",
    "\n",
    "print(\"Qual foi o mês de entrada do paciente no estudo?\", 2)\n",
    "print(\"Em que mês ocorreu o desfecho?\", 4)\n",
    "print(\"Quais os meses em que o paciente estava sob risco de óbito?\", 2, 3, 4)"
   ]
  },
  {
   "cell_type": "markdown",
   "metadata": {},
   "source": [
    "## Exercício 2.5  <a id='Exercicio2.5'></a>\n",
    "\n",
    "Um paciente tem a seguinte trajetória de observação, segundo oprocesso de contagem abaixo.\n",
    "\n",
    "[Topo](#topo)"
   ]
  },
  {
   "cell_type": "code",
   "execution_count": 164,
   "metadata": {},
   "outputs": [
    {
     "name": "stdout",
     "output_type": "stream",
     "text": [
      "Indivíduo: 1, Trajetória de Sobrevivência: 8.\n"
     ]
    },
    {
     "data": {
      "image/png": "[encoded data removed]",
      "text/plain": [
       "<Figure size 432x216 with 1 Axes>"
      ]
     },
     "metadata": {
      "needs_background": "light"
     },
     "output_type": "display_data"
    },
    {
     "name": "stdout",
     "output_type": "stream",
     "text": [
      "Indivíduo: 2, Trajetória de Sobrevivência: 12.\n"
     ]
    },
    {
     "data": {
      "image/png": "[encoded data removed]",
      "text/plain": [
       "<Figure size 432x216 with 1 Axes>"
      ]
     },
     "metadata": {
      "needs_background": "light"
     },
     "output_type": "display_data"
    },
    {
     "name": "stdout",
     "output_type": "stream",
     "text": [
      "Qual foi o mês de entrada do paciente no estudo? 0\n",
      "Em que mês ocorreu o desfecho? 8\n"
     ]
    }
   ],
   "source": [
    "entry_individual = np.array([0,0])\n",
    "actual_lifetimes = np.array([8,12])\n",
    "censured = np.array([1,0])\n",
    "individual_trajectory_plot(entry_individual, actual_lifetimes, censured, \"Meses\")\n",
    "\n",
    "print(\"Qual foi o mês de entrada do paciente no estudo?\", 0)\n",
    "print(\"Em que mês ocorreu o desfecho?\", 8)"
   ]
  },
  {
   "cell_type": "markdown",
   "metadata": {},
   "source": [
    "## Exercício 2.6  <a id='Exercicio2.6'></a>\n",
    "\n",
    "Considere os dados de 6 indivíduos em uma coorte para a avaliação de fatores de  risco  para  a  infecção  por  HIV.\n",
    "\n",
    "O  estudo  iniciou-se em  01/06/2008  quando  2  indivíduos entraram  no  estudo,  com  resultados  negativos  para  a  infecção.\n",
    "\n",
    "Um  deles  ao  realizar  o segundo exame, um mês depois, teve resultado positivo, o outro positivou depois de 2 meses.\n",
    "\n",
    "Os outros 4 indivíduos realizaram seus primeiros exames em 01/07, 01/09, 01/08 e 01/08, e as suas respectivas datas de soroconversões foram 2, 3, 2 e 5 meses, após a entrada.\n",
    "\n",
    "* [**a) Construa um banco de dados no formato clássico.**](#E2.6.a)\n",
    "* [**b) Construa um banco de dados em formato de processo de contagem..**](#E2.6.b)\n",
    "* [**c) Represente graficamente os tempos observados desses indivíduos.**](#E2.6.c)\n",
    "* [**d) Represente as trajetórias dos seis indivíduos utilizando as variáveis N(t) e Y (t).**](#E2.6.d)\n",
    "\n",
    "[Topo](#topo)"
   ]
  },
  {
   "cell_type": "code",
   "execution_count": 154,
   "metadata": {},
   "outputs": [],
   "source": [
    "entry_individual = np.array([0,0,1,3,2,2])\n",
    "actual_lifetimes = np.array([1,2,2,3,2,5])\n",
    "censured = np.array([1,1,1,1,1,1])\n",
    "current_time = max(actual_lifetimes+entry_individual) + 1  #This variable defines the time window\n"
   ]
  },
  {
   "cell_type": "markdown",
   "metadata": {},
   "source": [
    "<a id='E2.6.a'></a>\n",
    "#### **a) Construa um banco de dados no formato clássico.**"
   ]
  },
  {
   "cell_type": "code",
   "execution_count": 155,
   "metadata": {},
   "outputs": [
    {
     "data": {
      "text/html": [
       "<div>\n",
       "<style scoped>\n",
       "    .dataframe tbody tr th:only-of-type {\n",
       "        vertical-align: middle;\n",
       "    }\n",
       "\n",
       "    .dataframe tbody tr th {\n",
       "        vertical-align: top;\n",
       "    }\n",
       "\n",
       "    .dataframe thead th {\n",
       "        text-align: right;\n",
       "    }\n",
       "</style>\n",
       "<table border=\"1\" class=\"dataframe\">\n",
       "  <thead>\n",
       "    <tr style=\"text-align: right;\">\n",
       "      <th></th>\n",
       "      <th>Indivíduo</th>\n",
       "      <th>Tempo</th>\n",
       "      <th>Status</th>\n",
       "    </tr>\n",
       "  </thead>\n",
       "  <tbody>\n",
       "    <tr>\n",
       "      <th>0</th>\n",
       "      <td>1</td>\n",
       "      <td>1</td>\n",
       "      <td>1</td>\n",
       "    </tr>\n",
       "    <tr>\n",
       "      <th>1</th>\n",
       "      <td>2</td>\n",
       "      <td>2</td>\n",
       "      <td>1</td>\n",
       "    </tr>\n",
       "    <tr>\n",
       "      <th>2</th>\n",
       "      <td>3</td>\n",
       "      <td>2</td>\n",
       "      <td>1</td>\n",
       "    </tr>\n",
       "    <tr>\n",
       "      <th>3</th>\n",
       "      <td>4</td>\n",
       "      <td>3</td>\n",
       "      <td>1</td>\n",
       "    </tr>\n",
       "    <tr>\n",
       "      <th>4</th>\n",
       "      <td>5</td>\n",
       "      <td>2</td>\n",
       "      <td>1</td>\n",
       "    </tr>\n",
       "    <tr>\n",
       "      <th>5</th>\n",
       "      <td>6</td>\n",
       "      <td>5</td>\n",
       "      <td>1</td>\n",
       "    </tr>\n",
       "  </tbody>\n",
       "</table>\n",
       "</div>"
      ],
      "text/plain": [
       "   Indivíduo  Tempo  Status\n",
       "0          1      1       1\n",
       "1          2      2       1\n",
       "2          3      2       1\n",
       "3          4      3       1\n",
       "4          5      2       1\n",
       "5          6      5       1"
      ]
     },
     "execution_count": 155,
     "metadata": {},
     "output_type": "execute_result"
    }
   ],
   "source": [
    "df = pd.DataFrame(actual_lifetimes)\n",
    "df = df.reset_index()\n",
    "df = df.rename(columns={0: 'Tempo', 'index':'Indivíduo'})\n",
    "df['Status'] = censured\n",
    "df['Indivíduo'] = df['Indivíduo'] + 1\n",
    "df"
   ]
  },
  {
   "cell_type": "markdown",
   "metadata": {},
   "source": [
    "<a id='E2.6.b'></a>\n",
    "#### **b) Construa um banco de dados em formato de processo de contagem..**"
   ]
  },
  {
   "cell_type": "code",
   "execution_count": 156,
   "metadata": {},
   "outputs": [
    {
     "data": {
      "text/html": [
       "<div>\n",
       "<style scoped>\n",
       "    .dataframe tbody tr th:only-of-type {\n",
       "        vertical-align: middle;\n",
       "    }\n",
       "\n",
       "    .dataframe tbody tr th {\n",
       "        vertical-align: top;\n",
       "    }\n",
       "\n",
       "    .dataframe thead th {\n",
       "        text-align: right;\n",
       "    }\n",
       "</style>\n",
       "<table border=\"1\" class=\"dataframe\">\n",
       "  <thead>\n",
       "    <tr style=\"text-align: right;\">\n",
       "      <th></th>\n",
       "      <th>Indivíduo</th>\n",
       "      <th>Início</th>\n",
       "      <th>Fim</th>\n",
       "      <th>Status</th>\n",
       "    </tr>\n",
       "  </thead>\n",
       "  <tbody>\n",
       "    <tr>\n",
       "      <th>0</th>\n",
       "      <td>1</td>\n",
       "      <td>0</td>\n",
       "      <td>1</td>\n",
       "      <td>1</td>\n",
       "    </tr>\n",
       "    <tr>\n",
       "      <th>1</th>\n",
       "      <td>2</td>\n",
       "      <td>0</td>\n",
       "      <td>2</td>\n",
       "      <td>1</td>\n",
       "    </tr>\n",
       "    <tr>\n",
       "      <th>2</th>\n",
       "      <td>3</td>\n",
       "      <td>1</td>\n",
       "      <td>3</td>\n",
       "      <td>1</td>\n",
       "    </tr>\n",
       "    <tr>\n",
       "      <th>3</th>\n",
       "      <td>4</td>\n",
       "      <td>3</td>\n",
       "      <td>6</td>\n",
       "      <td>1</td>\n",
       "    </tr>\n",
       "    <tr>\n",
       "      <th>4</th>\n",
       "      <td>5</td>\n",
       "      <td>2</td>\n",
       "      <td>4</td>\n",
       "      <td>1</td>\n",
       "    </tr>\n",
       "    <tr>\n",
       "      <th>5</th>\n",
       "      <td>6</td>\n",
       "      <td>2</td>\n",
       "      <td>7</td>\n",
       "      <td>1</td>\n",
       "    </tr>\n",
       "  </tbody>\n",
       "</table>\n",
       "</div>"
      ],
      "text/plain": [
       "   Indivíduo  Início  Fim  Status\n",
       "0          1       0    1       1\n",
       "1          2       0    2       1\n",
       "2          3       1    3       1\n",
       "3          4       3    6       1\n",
       "4          5       2    4       1\n",
       "5          6       2    7       1"
      ]
     },
     "execution_count": 156,
     "metadata": {},
     "output_type": "execute_result"
    }
   ],
   "source": [
    "df = pd.DataFrame(actual_lifetimes)\n",
    "df['Início'] = entry_individual\n",
    "df = df[['Início', 0]]\n",
    "df = df.reset_index()\n",
    "df = df.rename(columns={0: 'Fim', 'index':'Indivíduo'})\n",
    "df['Status'] = censured\n",
    "df['Indivíduo'] = df['Indivíduo'] + 1\n",
    "df['Fim'] = df['Fim'] + df['Início']\n",
    "df"
   ]
  },
  {
   "cell_type": "markdown",
   "metadata": {},
   "source": [
    "<a id='E2.6.c'></a>\n",
    "### **c) Represente graficamente os tempos observados desses indivíduos.**"
   ]
  },
  {
   "cell_type": "code",
   "execution_count": 158,
   "metadata": {},
   "outputs": [
    {
     "name": "stdout",
     "output_type": "stream",
     "text": [
      "Tempo de vida observado: \n",
      " [1 2 2 3 2 5] \n",
      "\n"
     ]
    },
    {
     "data": {
      "image/png": "[encoded data removed]",
      "text/plain": [
       "<Figure size 720x432 with 1 Axes>"
      ]
     },
     "metadata": {
      "needs_background": "light"
     },
     "output_type": "display_data"
    }
   ],
   "source": [
    "# Plot survival time\n",
    "survival_time_plot(entry_individual, actual_lifetimes, current_time, censured, \n",
    "                   \"Meses\", \"Pacientes\", \"Soropositivo HIV\",\n",
    "                   10, 6) # Plot size"
   ]
  },
  {
   "cell_type": "markdown",
   "metadata": {},
   "source": [
    "<a id='E2.6.d'></a>\n",
    "#### **d) Represente as trajetórias dos seis indivíduos utilizando as variáveis N(t) e Y (t).**"
   ]
  },
  {
   "cell_type": "code",
   "execution_count": 161,
   "metadata": {},
   "outputs": [
    {
     "name": "stdout",
     "output_type": "stream",
     "text": [
      "Indivíduo: 1, Trajetória de Sobrevivência: 1.\n"
     ]
    },
    {
     "data": {
      "image/png": "[encoded data removed]",
      "text/plain": [
       "<Figure size 432x216 with 1 Axes>"
      ]
     },
     "metadata": {
      "needs_background": "light"
     },
     "output_type": "display_data"
    },
    {
     "name": "stdout",
     "output_type": "stream",
     "text": [
      "Indivíduo: 2, Trajetória de Sobrevivência: 2.\n"
     ]
    },
    {
     "data": {
      "image/png": "[encoded data removed]",
      "text/plain": [
       "<Figure size 432x216 with 1 Axes>"
      ]
     },
     "metadata": {
      "needs_background": "light"
     },
     "output_type": "display_data"
    },
    {
     "name": "stdout",
     "output_type": "stream",
     "text": [
      "Indivíduo: 3, Trajetória de Sobrevivência: 2.\n"
     ]
    },
    {
     "data": {
      "image/png": "[encoded data removed]",
      "text/plain": [
       "<Figure size 432x216 with 1 Axes>"
      ]
     },
     "metadata": {
      "needs_background": "light"
     },
     "output_type": "display_data"
    },
    {
     "name": "stdout",
     "output_type": "stream",
     "text": [
      "Indivíduo: 4, Trajetória de Sobrevivência: 3.\n"
     ]
    },
    {
     "data": {
      "image/png": "[encoded data removed]",
      "text/plain": [
       "<Figure size 432x216 with 1 Axes>"
      ]
     },
     "metadata": {
      "needs_background": "light"
     },
     "output_type": "display_data"
    },
    {
     "name": "stdout",
     "output_type": "stream",
     "text": [
      "Indivíduo: 5, Trajetória de Sobrevivência: 2.\n"
     ]
    },
    {
     "data": {
      "image/png": "[encoded data removed]",
      "text/plain": [
       "<Figure size 432x216 with 1 Axes>"
      ]
     },
     "metadata": {
      "needs_background": "light"
     },
     "output_type": "display_data"
    },
    {
     "name": "stdout",
     "output_type": "stream",
     "text": [
      "Indivíduo: 6, Trajetória de Sobrevivência: 5.\n"
     ]
    },
    {
     "data": {
      "image/png": "[encoded data removed]",
      "text/plain": [
       "<Figure size 432x216 with 1 Axes>"
      ]
     },
     "metadata": {
      "needs_background": "light"
     },
     "output_type": "display_data"
    }
   ],
   "source": [
    "individual_trajectory_plot(entry_individual, actual_lifetimes, censured, \"Meses\")"
   ]
  },
  {
   "cell_type": "markdown",
   "metadata": {},
   "source": [
    "e) Quais são os indivíduos em risco no 5º mês do estudo?\n",
    "\n",
    "**4 e 6**\n",
    "\n",
    "f) Que tipo de censura ocorreu neste estudo?\n",
    "\n",
    "**Censura intervalar**\n",
    "\n",
    "g) Em que situação haveria truncamento?\n",
    "\n",
    "**Haveria truncamento se fossem incluídos no estudo indivíduos já HIV positivos, ainda vivos no momento do primeiro exame, porque nesse caso outros indivíduos também positivos seriam truncados porque morreram antes do primeiro exame ser feito.**"
   ]
  },
  {
   "cell_type": "markdown",
   "metadata": {},
   "source": [
    "## Exercício 2.7  <a id='Exercicio2.7'></a>\n",
    "\n",
    "Para se familiarizar com o banco de dados do IPEC (ipec.csv, veja o Apêndice, seção AIDS – clássico) que será utilizado nos próximos capítulos, inicie a análise de sobrevivência observando os dados dos pacientes.\n",
    "\n",
    "\n",
    "[Topo](#topo)"
   ]
  },
  {
   "cell_type": "code",
   "execution_count": 173,
   "metadata": {},
   "outputs": [
    {
     "data": {
      "text/html": [
       "<div>\n",
       "<style scoped>\n",
       "    .dataframe tbody tr th:only-of-type {\n",
       "        vertical-align: middle;\n",
       "    }\n",
       "\n",
       "    .dataframe tbody tr th {\n",
       "        vertical-align: top;\n",
       "    }\n",
       "\n",
       "    .dataframe thead th {\n",
       "        text-align: right;\n",
       "    }\n",
       "</style>\n",
       "<table border=\"1\" class=\"dataframe\">\n",
       "  <thead>\n",
       "    <tr style=\"text-align: right;\">\n",
       "      <th></th>\n",
       "      <th>id</th>\n",
       "      <th>ini</th>\n",
       "      <th>fim</th>\n",
       "      <th>tempo</th>\n",
       "      <th>status</th>\n",
       "      <th>idade</th>\n",
       "      <th>acompan</th>\n",
       "      <th>anotrat</th>\n",
       "      <th>tratam</th>\n",
       "      <th>doenca</th>\n",
       "      <th>propcp</th>\n",
       "    </tr>\n",
       "  </thead>\n",
       "  <tbody>\n",
       "    <tr>\n",
       "      <th>count</th>\n",
       "      <td>193.000000</td>\n",
       "      <td>193.000000</td>\n",
       "      <td>193.000000</td>\n",
       "      <td>193.000000</td>\n",
       "      <td>193.000000</td>\n",
       "      <td>193.000000</td>\n",
       "      <td>193.000000</td>\n",
       "      <td>193.000000</td>\n",
       "      <td>193.000000</td>\n",
       "      <td>193.000000</td>\n",
       "      <td>193.000000</td>\n",
       "    </tr>\n",
       "    <tr>\n",
       "      <th>mean</th>\n",
       "      <td>97.000000</td>\n",
       "      <td>2396.922280</td>\n",
       "      <td>3335.160622</td>\n",
       "      <td>938.238342</td>\n",
       "      <td>0.466321</td>\n",
       "      <td>36.554404</td>\n",
       "      <td>0.896373</td>\n",
       "      <td>1542.005181</td>\n",
       "      <td>1.098446</td>\n",
       "      <td>37.958549</td>\n",
       "      <td>2.948187</td>\n",
       "    </tr>\n",
       "    <tr>\n",
       "      <th>std</th>\n",
       "      <td>55.858452</td>\n",
       "      <td>1216.918778</td>\n",
       "      <td>1501.300776</td>\n",
       "      <td>770.741415</td>\n",
       "      <td>0.500162</td>\n",
       "      <td>9.508680</td>\n",
       "      <td>0.691946</td>\n",
       "      <td>835.230679</td>\n",
       "      <td>0.832696</td>\n",
       "      <td>44.700489</td>\n",
       "      <td>1.603190</td>\n",
       "    </tr>\n",
       "    <tr>\n",
       "      <th>min</th>\n",
       "      <td>1.000000</td>\n",
       "      <td>1.000000</td>\n",
       "      <td>96.000000</td>\n",
       "      <td>16.000000</td>\n",
       "      <td>0.000000</td>\n",
       "      <td>20.000000</td>\n",
       "      <td>0.000000</td>\n",
       "      <td>9.000000</td>\n",
       "      <td>0.000000</td>\n",
       "      <td>1.000000</td>\n",
       "      <td>0.000000</td>\n",
       "    </tr>\n",
       "    <tr>\n",
       "      <th>25%</th>\n",
       "      <td>49.000000</td>\n",
       "      <td>1406.000000</td>\n",
       "      <td>2095.000000</td>\n",
       "      <td>290.000000</td>\n",
       "      <td>0.000000</td>\n",
       "      <td>30.000000</td>\n",
       "      <td>0.000000</td>\n",
       "      <td>1990.000000</td>\n",
       "      <td>1.000000</td>\n",
       "      <td>3.000000</td>\n",
       "      <td>2.000000</td>\n",
       "    </tr>\n",
       "    <tr>\n",
       "      <th>50%</th>\n",
       "      <td>97.000000</td>\n",
       "      <td>2454.000000</td>\n",
       "      <td>3711.000000</td>\n",
       "      <td>852.000000</td>\n",
       "      <td>0.000000</td>\n",
       "      <td>35.000000</td>\n",
       "      <td>1.000000</td>\n",
       "      <td>1993.000000</td>\n",
       "      <td>1.000000</td>\n",
       "      <td>8.000000</td>\n",
       "      <td>4.000000</td>\n",
       "    </tr>\n",
       "    <tr>\n",
       "      <th>75%</th>\n",
       "      <td>145.000000</td>\n",
       "      <td>3314.000000</td>\n",
       "      <td>4790.000000</td>\n",
       "      <td>1348.000000</td>\n",
       "      <td>1.000000</td>\n",
       "      <td>43.000000</td>\n",
       "      <td>1.000000</td>\n",
       "      <td>1996.000000</td>\n",
       "      <td>2.000000</td>\n",
       "      <td>99.000000</td>\n",
       "      <td>4.000000</td>\n",
       "    </tr>\n",
       "    <tr>\n",
       "      <th>max</th>\n",
       "      <td>193.000000</td>\n",
       "      <td>4593.000000</td>\n",
       "      <td>4822.000000</td>\n",
       "      <td>3228.000000</td>\n",
       "      <td>1.000000</td>\n",
       "      <td>68.000000</td>\n",
       "      <td>2.000000</td>\n",
       "      <td>2000.000000</td>\n",
       "      <td>3.000000</td>\n",
       "      <td>99.000000</td>\n",
       "      <td>4.000000</td>\n",
       "    </tr>\n",
       "  </tbody>\n",
       "</table>\n",
       "</div>"
      ],
      "text/plain": [
       "               id          ini          fim        tempo      status  \\\n",
       "count  193.000000   193.000000   193.000000   193.000000  193.000000   \n",
       "mean    97.000000  2396.922280  3335.160622   938.238342    0.466321   \n",
       "std     55.858452  1216.918778  1501.300776   770.741415    0.500162   \n",
       "min      1.000000     1.000000    96.000000    16.000000    0.000000   \n",
       "25%     49.000000  1406.000000  2095.000000   290.000000    0.000000   \n",
       "50%     97.000000  2454.000000  3711.000000   852.000000    0.000000   \n",
       "75%    145.000000  3314.000000  4790.000000  1348.000000    1.000000   \n",
       "max    193.000000  4593.000000  4822.000000  3228.000000    1.000000   \n",
       "\n",
       "            idade     acompan      anotrat      tratam      doenca      propcp  \n",
       "count  193.000000  193.000000   193.000000  193.000000  193.000000  193.000000  \n",
       "mean    36.554404    0.896373  1542.005181    1.098446   37.958549    2.948187  \n",
       "std      9.508680    0.691946   835.230679    0.832696   44.700489    1.603190  \n",
       "min     20.000000    0.000000     9.000000    0.000000    1.000000    0.000000  \n",
       "25%     30.000000    0.000000  1990.000000    1.000000    3.000000    2.000000  \n",
       "50%     35.000000    1.000000  1993.000000    1.000000    8.000000    4.000000  \n",
       "75%     43.000000    1.000000  1996.000000    2.000000   99.000000    4.000000  \n",
       "max     68.000000    2.000000  2000.000000    3.000000   99.000000    4.000000  "
      ]
     },
     "execution_count": 173,
     "metadata": {},
     "output_type": "execute_result"
    }
   ],
   "source": [
    "df = pd.read_csv('ipec.csv', sep=';').fillna('-1')\n",
    "df.describe()"
   ]
  },
  {
   "cell_type": "markdown",
   "metadata": {},
   "source": [
    "<a id='surv'></a>\n",
    "#### Function: surv"
   ]
  },
  {
   "cell_type": "code",
   "execution_count": 174,
   "metadata": {},
   "outputs": [
    {
     "data": {
      "text/html": [
       "<div>\n",
       "<style scoped>\n",
       "    .dataframe tbody tr th:only-of-type {\n",
       "        vertical-align: middle;\n",
       "    }\n",
       "\n",
       "    .dataframe tbody tr th {\n",
       "        vertical-align: top;\n",
       "    }\n",
       "\n",
       "    .dataframe thead th {\n",
       "        text-align: right;\n",
       "    }\n",
       "</style>\n",
       "<table border=\"1\" class=\"dataframe\">\n",
       "  <thead>\n",
       "    <tr style=\"text-align: right;\">\n",
       "      <th></th>\n",
       "      <th>id</th>\n",
       "      <th>ini</th>\n",
       "      <th>fim</th>\n",
       "      <th>tempo</th>\n",
       "      <th>status</th>\n",
       "      <th>sexo</th>\n",
       "      <th>escola</th>\n",
       "      <th>idade</th>\n",
       "      <th>risco</th>\n",
       "      <th>acompan</th>\n",
       "      <th>obito</th>\n",
       "      <th>anotrat</th>\n",
       "      <th>tratam</th>\n",
       "      <th>doenca</th>\n",
       "      <th>propcp</th>\n",
       "    </tr>\n",
       "  </thead>\n",
       "  <tbody>\n",
       "    <tr>\n",
       "      <th>0</th>\n",
       "      <td>1</td>\n",
       "      <td>1243</td>\n",
       "      <td>2095</td>\n",
       "      <td>852</td>\n",
       "      <td>1</td>\n",
       "      <td>M</td>\n",
       "      <td>3</td>\n",
       "      <td>34</td>\n",
       "      <td>0</td>\n",
       "      <td>1</td>\n",
       "      <td>S</td>\n",
       "      <td>1991</td>\n",
       "      <td>1</td>\n",
       "      <td>4</td>\n",
       "      <td>3</td>\n",
       "    </tr>\n",
       "    <tr>\n",
       "      <th>1</th>\n",
       "      <td>2</td>\n",
       "      <td>2800</td>\n",
       "      <td>2923</td>\n",
       "      <td>123</td>\n",
       "      <td>1</td>\n",
       "      <td>M</td>\n",
       "      <td>2</td>\n",
       "      <td>38</td>\n",
       "      <td>6</td>\n",
       "      <td>1</td>\n",
       "      <td>S</td>\n",
       "      <td>9</td>\n",
       "      <td>0</td>\n",
       "      <td>7</td>\n",
       "      <td>4</td>\n",
       "    </tr>\n",
       "    <tr>\n",
       "      <th>2</th>\n",
       "      <td>3</td>\n",
       "      <td>1250</td>\n",
       "      <td>2395</td>\n",
       "      <td>1145</td>\n",
       "      <td>1</td>\n",
       "      <td>M</td>\n",
       "      <td>-1</td>\n",
       "      <td>32</td>\n",
       "      <td>0</td>\n",
       "      <td>1</td>\n",
       "      <td>S</td>\n",
       "      <td>1992</td>\n",
       "      <td>1</td>\n",
       "      <td>3</td>\n",
       "      <td>4</td>\n",
       "    </tr>\n",
       "    <tr>\n",
       "      <th>3</th>\n",
       "      <td>4</td>\n",
       "      <td>1915</td>\n",
       "      <td>4670</td>\n",
       "      <td>2755</td>\n",
       "      <td>0</td>\n",
       "      <td>M</td>\n",
       "      <td>-1</td>\n",
       "      <td>43</td>\n",
       "      <td>6</td>\n",
       "      <td>0</td>\n",
       "      <td>N</td>\n",
       "      <td>1992</td>\n",
       "      <td>1</td>\n",
       "      <td>10</td>\n",
       "      <td>4</td>\n",
       "    </tr>\n",
       "    <tr>\n",
       "      <th>4</th>\n",
       "      <td>5</td>\n",
       "      <td>2653</td>\n",
       "      <td>4770</td>\n",
       "      <td>2117</td>\n",
       "      <td>0</td>\n",
       "      <td>M</td>\n",
       "      <td>-1</td>\n",
       "      <td>40</td>\n",
       "      <td>0</td>\n",
       "      <td>1</td>\n",
       "      <td>N</td>\n",
       "      <td>1992</td>\n",
       "      <td>1</td>\n",
       "      <td>5</td>\n",
       "      <td>4</td>\n",
       "    </tr>\n",
       "  </tbody>\n",
       "</table>\n",
       "</div>"
      ],
      "text/plain": [
       "   id   ini   fim  tempo  status sexo escola  idade risco  acompan obito  \\\n",
       "0   1  1243  2095    852       1    M      3     34     0        1     S   \n",
       "1   2  2800  2923    123       1    M      2     38     6        1     S   \n",
       "2   3  1250  2395   1145       1    M     -1     32     0        1     S   \n",
       "3   4  1915  4670   2755       0    M     -1     43     6        0     N   \n",
       "4   5  2653  4770   2117       0    M     -1     40     0        1     N   \n",
       "\n",
       "   anotrat  tratam  doenca  propcp  \n",
       "0     1991       1       4       3  \n",
       "1        9       0       7       4  \n",
       "2     1992       1       3       4  \n",
       "3     1992       1      10       4  \n",
       "4     1992       1       5       4  "
      ]
     },
     "execution_count": 174,
     "metadata": {},
     "output_type": "execute_result"
    }
   ],
   "source": [
    "df.head()"
   ]
  },
  {
   "cell_type": "code",
   "execution_count": 218,
   "metadata": {},
   "outputs": [
    {
     "name": "stdout",
     "output_type": "stream",
     "text": [
      "\t852\t123\t1145\t2755+\t2117+\t329+\t60\t151\t1563\t1247\t84\t214\t25+\t1348\t158\t555\t408\t1116\t998\t1125\t944+\t54\t151\t855\t116\t80+\t1757+\t194\t183\t37\t237+\t1506\t168+\t134\t803+\t18\t371\t173\t688\t163\t3178+\t29\t50+\t887\t516\t645\t310\t204\t1344+\t1261\t285\t83\t150\t1307+\t1076+\t1226\t865+\t811\t2898\t80\t967\t618\t235\t2236+\t152\t892\t81+\t1085\t1073+\t1615+\t35\t290\t1780+\t3228+\t52\t733\t3213+\t1983\t2304+\t572\t21\t1272+\t1646+\t304\t418\t854\t2973+\t40\t850\t1139\t323\t1507+\t2717+\t1735+\t388+\t145\t905\t927\t1027+\t631\t2495+\t1331+\t623\t2568+\t2013+\t721\t1952+\t397\t254\t1630+\t1523+\t146+\t108\t1835+\t499\t333\t202+\t2437+\t1015\t2138+\t22\t2090+\t179\t2439+\t1063+\t85+\t343+\t2215+\t259\t2258+\t1371\t39\t2371+\t975+\t952\t2492+\t1478+\t295+\t992\t1011+\t644\t426\t537+\t1454+\t1869+\t714+\t1310+\t2084+\t1918+\t1649+\t290+\t1685+\t1348+\t652+\t1384+\t1471+\t1512+\t378+\t1352+\t419\t1426+\t1488+\t1315+\t643+\t1197+\t1343+\t1176+\t944\t340\t881+\t915+\t948+\t985+\t1242+\t955+\t987+\t899+\t1056+\t775\t785+\t731+\t16\t680+\t21+\t444+\t524+\t217+\t440+\t470+\t390+\t344+\t578+\t504+\n"
     ]
    }
   ],
   "source": [
    "# Imprime variável de responsta e devolve em um array\n",
    "def surv(p_df, p_tempo, p_status):\n",
    "    result = \"\"\n",
    "    temp_list = []\n",
    "    for index, row in p_df.iterrows():\n",
    "        value = (\"%s\" % row[p_tempo]) + (\"+\" if row[p_status] == 0 else \"\")\n",
    "        result = result + \"\\t\" + value\n",
    "        temp_list.append(value)\n",
    "\n",
    "    print(result)\n",
    "    return temp_list\n",
    "    \n",
    "myArray = np.array(surv(df, 'tempo', 'status'))"
   ]
  },
  {
   "cell_type": "code",
   "execution_count": 243,
   "metadata": {},
   "outputs": [
    {
     "data": {
      "text/html": [
       "<div>\n",
       "<style scoped>\n",
       "    .dataframe tbody tr th:only-of-type {\n",
       "        vertical-align: middle;\n",
       "    }\n",
       "\n",
       "    .dataframe tbody tr th {\n",
       "        vertical-align: top;\n",
       "    }\n",
       "\n",
       "    .dataframe thead th {\n",
       "        text-align: right;\n",
       "    }\n",
       "</style>\n",
       "<table border=\"1\" class=\"dataframe\">\n",
       "  <thead>\n",
       "    <tr style=\"text-align: right;\">\n",
       "      <th></th>\n",
       "      <th>Classic Process Format</th>\n",
       "      <th>Count Process Format</th>\n",
       "    </tr>\n",
       "  </thead>\n",
       "  <tbody>\n",
       "    <tr>\n",
       "      <th>0</th>\n",
       "      <td>852</td>\n",
       "      <td>(1243,2095]</td>\n",
       "    </tr>\n",
       "    <tr>\n",
       "      <th>1</th>\n",
       "      <td>123</td>\n",
       "      <td>(2800,2923]</td>\n",
       "    </tr>\n",
       "    <tr>\n",
       "      <th>2</th>\n",
       "      <td>1145</td>\n",
       "      <td>(1250,2395]</td>\n",
       "    </tr>\n",
       "    <tr>\n",
       "      <th>3</th>\n",
       "      <td>2755+</td>\n",
       "      <td>(1915,4670+]</td>\n",
       "    </tr>\n",
       "    <tr>\n",
       "      <th>4</th>\n",
       "      <td>2117+</td>\n",
       "      <td>(2653,4770+]</td>\n",
       "    </tr>\n",
       "    <tr>\n",
       "      <th>5</th>\n",
       "      <td>329+</td>\n",
       "      <td>(3,332+]</td>\n",
       "    </tr>\n",
       "    <tr>\n",
       "      <th>6</th>\n",
       "      <td>60</td>\n",
       "      <td>(36,96]</td>\n",
       "    </tr>\n",
       "    <tr>\n",
       "      <th>7</th>\n",
       "      <td>151</td>\n",
       "      <td>(1,152]</td>\n",
       "    </tr>\n",
       "    <tr>\n",
       "      <th>8</th>\n",
       "      <td>1563</td>\n",
       "      <td>(544,2107]</td>\n",
       "    </tr>\n",
       "    <tr>\n",
       "      <th>9</th>\n",
       "      <td>1247</td>\n",
       "      <td>(71,1318]</td>\n",
       "    </tr>\n",
       "    <tr>\n",
       "      <th>10</th>\n",
       "      <td>84</td>\n",
       "      <td>(946,1030]</td>\n",
       "    </tr>\n",
       "    <tr>\n",
       "      <th>11</th>\n",
       "      <td>214</td>\n",
       "      <td>(802,1016]</td>\n",
       "    </tr>\n",
       "    <tr>\n",
       "      <th>12</th>\n",
       "      <td>25+</td>\n",
       "      <td>(266,291+]</td>\n",
       "    </tr>\n",
       "    <tr>\n",
       "      <th>13</th>\n",
       "      <td>1348</td>\n",
       "      <td>(1544,2892]</td>\n",
       "    </tr>\n",
       "    <tr>\n",
       "      <th>14</th>\n",
       "      <td>158</td>\n",
       "      <td>(57,215]</td>\n",
       "    </tr>\n",
       "    <tr>\n",
       "      <th>15</th>\n",
       "      <td>555</td>\n",
       "      <td>(1270,1825]</td>\n",
       "    </tr>\n",
       "    <tr>\n",
       "      <th>16</th>\n",
       "      <td>408</td>\n",
       "      <td>(2753,3161]</td>\n",
       "    </tr>\n",
       "    <tr>\n",
       "      <th>17</th>\n",
       "      <td>1116</td>\n",
       "      <td>(940,2056]</td>\n",
       "    </tr>\n",
       "    <tr>\n",
       "      <th>18</th>\n",
       "      <td>998</td>\n",
       "      <td>(393,1391]</td>\n",
       "    </tr>\n",
       "    <tr>\n",
       "      <th>19</th>\n",
       "      <td>1125</td>\n",
       "      <td>(1000,2125]</td>\n",
       "    </tr>\n",
       "    <tr>\n",
       "      <th>20</th>\n",
       "      <td>944+</td>\n",
       "      <td>(238,1182+]</td>\n",
       "    </tr>\n",
       "    <tr>\n",
       "      <th>21</th>\n",
       "      <td>54</td>\n",
       "      <td>(423,477]</td>\n",
       "    </tr>\n",
       "    <tr>\n",
       "      <th>22</th>\n",
       "      <td>151</td>\n",
       "      <td>(206,357]</td>\n",
       "    </tr>\n",
       "    <tr>\n",
       "      <th>23</th>\n",
       "      <td>855</td>\n",
       "      <td>(480,1335]</td>\n",
       "    </tr>\n",
       "    <tr>\n",
       "      <th>24</th>\n",
       "      <td>116</td>\n",
       "      <td>(226,342]</td>\n",
       "    </tr>\n",
       "    <tr>\n",
       "      <th>25</th>\n",
       "      <td>80+</td>\n",
       "      <td>(249,329+]</td>\n",
       "    </tr>\n",
       "    <tr>\n",
       "      <th>26</th>\n",
       "      <td>1757+</td>\n",
       "      <td>(3052,4809+]</td>\n",
       "    </tr>\n",
       "    <tr>\n",
       "      <th>27</th>\n",
       "      <td>194</td>\n",
       "      <td>(1802,1996]</td>\n",
       "    </tr>\n",
       "    <tr>\n",
       "      <th>28</th>\n",
       "      <td>183</td>\n",
       "      <td>(1395,1578]</td>\n",
       "    </tr>\n",
       "    <tr>\n",
       "      <th>29</th>\n",
       "      <td>37</td>\n",
       "      <td>(354,391]</td>\n",
       "    </tr>\n",
       "    <tr>\n",
       "      <th>...</th>\n",
       "      <td>...</td>\n",
       "      <td>...</td>\n",
       "    </tr>\n",
       "    <tr>\n",
       "      <th>163</th>\n",
       "      <td>643+</td>\n",
       "      <td>(4117,4760+]</td>\n",
       "    </tr>\n",
       "    <tr>\n",
       "      <th>164</th>\n",
       "      <td>1197+</td>\n",
       "      <td>(3612,4809+]</td>\n",
       "    </tr>\n",
       "    <tr>\n",
       "      <th>165</th>\n",
       "      <td>1343+</td>\n",
       "      <td>(3479,4822+]</td>\n",
       "    </tr>\n",
       "    <tr>\n",
       "      <th>166</th>\n",
       "      <td>1176+</td>\n",
       "      <td>(3572,4748+]</td>\n",
       "    </tr>\n",
       "    <tr>\n",
       "      <th>167</th>\n",
       "      <td>944</td>\n",
       "      <td>(3796,4740]</td>\n",
       "    </tr>\n",
       "    <tr>\n",
       "      <th>168</th>\n",
       "      <td>340</td>\n",
       "      <td>(3527,3867]</td>\n",
       "    </tr>\n",
       "    <tr>\n",
       "      <th>169</th>\n",
       "      <td>881+</td>\n",
       "      <td>(3921,4802+]</td>\n",
       "    </tr>\n",
       "    <tr>\n",
       "      <th>170</th>\n",
       "      <td>915+</td>\n",
       "      <td>(3798,4713+]</td>\n",
       "    </tr>\n",
       "    <tr>\n",
       "      <th>171</th>\n",
       "      <td>948+</td>\n",
       "      <td>(3808,4756+]</td>\n",
       "    </tr>\n",
       "    <tr>\n",
       "      <th>172</th>\n",
       "      <td>985+</td>\n",
       "      <td>(3772,4757+]</td>\n",
       "    </tr>\n",
       "    <tr>\n",
       "      <th>173</th>\n",
       "      <td>1242+</td>\n",
       "      <td>(3557,4799+]</td>\n",
       "    </tr>\n",
       "    <tr>\n",
       "      <th>174</th>\n",
       "      <td>955+</td>\n",
       "      <td>(3867,4822+]</td>\n",
       "    </tr>\n",
       "    <tr>\n",
       "      <th>175</th>\n",
       "      <td>987+</td>\n",
       "      <td>(3594,4581+]</td>\n",
       "    </tr>\n",
       "    <tr>\n",
       "      <th>176</th>\n",
       "      <td>899+</td>\n",
       "      <td>(3923,4822+]</td>\n",
       "    </tr>\n",
       "    <tr>\n",
       "      <th>177</th>\n",
       "      <td>1056+</td>\n",
       "      <td>(3733,4789+]</td>\n",
       "    </tr>\n",
       "    <tr>\n",
       "      <th>178</th>\n",
       "      <td>775</td>\n",
       "      <td>(4019,4794]</td>\n",
       "    </tr>\n",
       "    <tr>\n",
       "      <th>179</th>\n",
       "      <td>785+</td>\n",
       "      <td>(4033,4818+]</td>\n",
       "    </tr>\n",
       "    <tr>\n",
       "      <th>180</th>\n",
       "      <td>731+</td>\n",
       "      <td>(4040,4771+]</td>\n",
       "    </tr>\n",
       "    <tr>\n",
       "      <th>181</th>\n",
       "      <td>16</td>\n",
       "      <td>(4053,4069]</td>\n",
       "    </tr>\n",
       "    <tr>\n",
       "      <th>182</th>\n",
       "      <td>680+</td>\n",
       "      <td>(4137,4817+]</td>\n",
       "    </tr>\n",
       "    <tr>\n",
       "      <th>183</th>\n",
       "      <td>21+</td>\n",
       "      <td>(4208,4229+]</td>\n",
       "    </tr>\n",
       "    <tr>\n",
       "      <th>184</th>\n",
       "      <td>444+</td>\n",
       "      <td>(4362,4806+]</td>\n",
       "    </tr>\n",
       "    <tr>\n",
       "      <th>185</th>\n",
       "      <td>524+</td>\n",
       "      <td>(4279,4803+]</td>\n",
       "    </tr>\n",
       "    <tr>\n",
       "      <th>186</th>\n",
       "      <td>217+</td>\n",
       "      <td>(4593,4810+]</td>\n",
       "    </tr>\n",
       "    <tr>\n",
       "      <th>187</th>\n",
       "      <td>440+</td>\n",
       "      <td>(4320,4760+]</td>\n",
       "    </tr>\n",
       "    <tr>\n",
       "      <th>188</th>\n",
       "      <td>470+</td>\n",
       "      <td>(4343,4813+]</td>\n",
       "    </tr>\n",
       "    <tr>\n",
       "      <th>189</th>\n",
       "      <td>390+</td>\n",
       "      <td>(4419,4809+]</td>\n",
       "    </tr>\n",
       "    <tr>\n",
       "      <th>190</th>\n",
       "      <td>344+</td>\n",
       "      <td>(4406,4750+]</td>\n",
       "    </tr>\n",
       "    <tr>\n",
       "      <th>191</th>\n",
       "      <td>578+</td>\n",
       "      <td>(4199,4777+]</td>\n",
       "    </tr>\n",
       "    <tr>\n",
       "      <th>192</th>\n",
       "      <td>504+</td>\n",
       "      <td>(4301,4805+]</td>\n",
       "    </tr>\n",
       "  </tbody>\n",
       "</table>\n",
       "<p>193 rows × 2 columns</p>\n",
       "</div>"
      ],
      "text/plain": [
       "    Classic Process Format Count Process Format\n",
       "0                      852          (1243,2095]\n",
       "1                      123          (2800,2923]\n",
       "2                     1145          (1250,2395]\n",
       "3                    2755+         (1915,4670+]\n",
       "4                    2117+         (2653,4770+]\n",
       "5                     329+             (3,332+]\n",
       "6                       60              (36,96]\n",
       "7                      151              (1,152]\n",
       "8                     1563           (544,2107]\n",
       "9                     1247            (71,1318]\n",
       "10                      84           (946,1030]\n",
       "11                     214           (802,1016]\n",
       "12                     25+           (266,291+]\n",
       "13                    1348          (1544,2892]\n",
       "14                     158             (57,215]\n",
       "15                     555          (1270,1825]\n",
       "16                     408          (2753,3161]\n",
       "17                    1116           (940,2056]\n",
       "18                     998           (393,1391]\n",
       "19                    1125          (1000,2125]\n",
       "20                    944+          (238,1182+]\n",
       "21                      54            (423,477]\n",
       "22                     151            (206,357]\n",
       "23                     855           (480,1335]\n",
       "24                     116            (226,342]\n",
       "25                     80+           (249,329+]\n",
       "26                   1757+         (3052,4809+]\n",
       "27                     194          (1802,1996]\n",
       "28                     183          (1395,1578]\n",
       "29                      37            (354,391]\n",
       "..                     ...                  ...\n",
       "163                   643+         (4117,4760+]\n",
       "164                  1197+         (3612,4809+]\n",
       "165                  1343+         (3479,4822+]\n",
       "166                  1176+         (3572,4748+]\n",
       "167                    944          (3796,4740]\n",
       "168                    340          (3527,3867]\n",
       "169                   881+         (3921,4802+]\n",
       "170                   915+         (3798,4713+]\n",
       "171                   948+         (3808,4756+]\n",
       "172                   985+         (3772,4757+]\n",
       "173                  1242+         (3557,4799+]\n",
       "174                   955+         (3867,4822+]\n",
       "175                   987+         (3594,4581+]\n",
       "176                   899+         (3923,4822+]\n",
       "177                  1056+         (3733,4789+]\n",
       "178                    775          (4019,4794]\n",
       "179                   785+         (4033,4818+]\n",
       "180                   731+         (4040,4771+]\n",
       "181                     16          (4053,4069]\n",
       "182                   680+         (4137,4817+]\n",
       "183                    21+         (4208,4229+]\n",
       "184                   444+         (4362,4806+]\n",
       "185                   524+         (4279,4803+]\n",
       "186                   217+         (4593,4810+]\n",
       "187                   440+         (4320,4760+]\n",
       "188                   470+         (4343,4813+]\n",
       "189                   390+         (4419,4809+]\n",
       "190                   344+         (4406,4750+]\n",
       "191                   578+         (4199,4777+]\n",
       "192                   504+         (4301,4805+]\n",
       "\n",
       "[193 rows x 2 columns]"
      ]
     },
     "execution_count": 243,
     "metadata": {},
     "output_type": "execute_result"
    }
   ],
   "source": [
    "# Imprime variável de responsta e devolve em um array\n",
    "\n",
    "def surv(p_df, p_ini, p_fim, p_tempo, p_status):\n",
    "    tempDf = pd.DataFrame()\n",
    "    classic_list = []\n",
    "    count_list = []\n",
    "\n",
    "    if p_tempo != '':    \n",
    "        result = \"\"\n",
    "        for index, row in p_df.iterrows():\n",
    "            value = (\"%s\" % row[p_tempo]) + (\"+\" if row[p_status] == 0 else \"\")\n",
    "            result = result + \"\\t\" + value\n",
    "            classic_list.append(value)\n",
    "\n",
    "        tempDf['Classic Process Format'] = np.array(classic_list)\n",
    "\n",
    "    if p_ini != '':    \n",
    "        result = \"\"\n",
    "        for index, row in p_df.iterrows():\n",
    "            value = (\"(%s,%s\" % (row[p_ini],row[p_fim])) + (\"+\" if row[p_status] == 0 else \"\") + \"]\"\n",
    "            result = result + \"\\t\" + value\n",
    "            count_list.append(value)\n",
    "\n",
    "        tempDf['Count Process Format'] = np.array(count_list)\n",
    "\n",
    "    return tempDf\n",
    "    \n",
    "myDf = surv(df, 'ini', 'fim', 'tempo', 'status')\n",
    "myDf"
   ]
  },
  {
   "cell_type": "markdown",
   "metadata": {},
   "source": [
    "## Exercício 2.8  <a id='Exercicio2.8'></a>\n",
    "\n",
    "[Topo](#topo)"
   ]
  }
 ],
 "metadata": {
  "kernelspec": {
   "display_name": "Python 3",
   "language": "python",
   "name": "python3"
  },
  "language_info": {
   "codemirror_mode": {
    "name": "ipython",
    "version": 3
   },
   "file_extension": ".py",
   "mimetype": "text/x-python",
   "name": "python",
   "nbconvert_exporter": "python",
   "pygments_lexer": "ipython3",
   "version": "3.7.3"
  }
 },
 "nbformat": 4,
 "nbformat_minor": 2
}
