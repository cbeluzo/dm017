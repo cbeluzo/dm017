{
  "nbformat": 4,
  "nbformat_minor": 0,
  "metadata": {
    "kernelspec": {
      "display_name": "Python 3",
      "language": "python",
      "name": "python3"
    },
    "language_info": {
      "codemirror_mode": {
        "name": "ipython",
        "version": 3
      },
      "file_extension": ".py",
      "mimetype": "text/x-python",
      "name": "python",
      "nbconvert_exporter": "python",
      "pygments_lexer": "ipython3",
      "version": "3.7.3"
    },
    "colab": {
      "name": "Exercicios_Capitulo_02.ipynb",
      "provenance": [],
      "collapsed_sections": [],
      "toc_visible": true
    }
  },
  "cells": [
    {
      "cell_type": "markdown",
      "metadata": {
        "id": "JQYPR-aml9DK",
        "colab_type": "text"
      },
      "source": [
        "<a id='topo'></a>\n",
        "## ANÁLISE DE SOBREVIVÊNCIA\n",
        "### Teoria e aplicações em saúde\n",
        "#### Capítulo 2: O tempo na análise de sobrevivência\n",
        "#### Exercícios Resolvidos\n",
        "###### **Autor: Carlos Ed Beluzo - cbeluzo@gmail.com**\n",
        "\n",
        "## Tópicos:\n",
        "\n",
        "* [Importação de bibliotecas e leitura do arquivco CSV](#import)\n",
        "\n",
        "* Funções:\n",
        "    * [survival_time_plot](#survival_time_plot)\n",
        "    * [individual_trajectory_plot](#individual_trajectory_plot)\n",
        "    * [surv](#surv)\n",
        "\n",
        "\n",
        "* Exercícios\n",
        "    * [Exercício 2.1](#Exercicio2.1)\n",
        "    * [Exercício 2.2](#Exercicio2.2)\n",
        "    * [Exercício 2.3](#Exercicio2.3)\n",
        "    * [Exercício 2.4](#Exercicio2.4)\n",
        "    * [Exercício 2.5](#Exercicio2.5)\n",
        "    * [Exercício 2.6](#Exercicio2.6)\n",
        "    * [Exercício 2.7](#Exercicio2.7)\n",
        "    * [Exercício 2.8](#Exercicio2.8)\n"
      ]
    },
    {
      "cell_type": "markdown",
      "metadata": {
        "id": "P6EjU4A7l9DN",
        "colab_type": "text"
      },
      "source": [
        "**Importação de bibliotecas e leitura do arquivco CSV** <a id='imports'></a>"
      ]
    },
    {
      "cell_type": "code",
      "metadata": {
        "id": "Squ5S_SZl9DQ",
        "colab_type": "code",
        "colab": {}
      },
      "source": [
        "import pandas as pd\n",
        "import numpy as np\n",
        "import matplotlib.pyplot as plt\n",
        "#!pip install lifelines"
      ],
      "execution_count": 0,
      "outputs": []
    },
    {
      "cell_type": "markdown",
      "metadata": {
        "id": "wUSQRvXcl9Dh",
        "colab_type": "text"
      },
      "source": [
        "**Function:** survival_time_plot  <a id='survival_time_plot'></a>"
      ]
    },
    {
      "cell_type": "code",
      "metadata": {
        "id": "CFhLoPwNl9Di",
        "colab_type": "code",
        "colab": {}
      },
      "source": [
        "# Fuction to generate survival time of a group of individuals\n",
        "from lifelines.plotting import plot_lifetimes\n",
        "\n",
        "def survival_time_plot(p_entry_individual, p_actual_lifetimes, p_current_time, p_censured, p_time_unit, p_person_type, p_title, p_width, p_height):\n",
        "    observed_lifetimes = np.minimum(p_actual_lifetimes, p_current_time)\n",
        "    death_observed = p_actual_lifetimes < p_current_time\n",
        "\n",
        "    fig = plt.figure(figsize=(p_width,p_height))\n",
        "    \n",
        "    ax = plot_lifetimes(durations = observed_lifetimes,\n",
        "                        event_observed = death_observed,\n",
        "                        entry = p_entry_individual,\n",
        "                        left_truncated = True,\n",
        "                        sort_by_duration = False,\n",
        "                        event_observed_color = \"black\",\n",
        "                        event_censored_color = \"r\",\n",
        "                       )\n",
        "\n",
        "    total_individuals = len(p_actual_lifetimes)\n",
        "    total_period = max(p_actual_lifetimes+p_entry_individual)\n",
        "    \n",
        "    ax.vlines(p_current_time, 0, total_individuals, lw=1, linestyles=':')\n",
        "    ax.set_xlim(-0.5, total_period + 1)\n",
        "    ax.set_xticks(np.array(range(0, total_period + 1)))\n",
        "    ax.set_yticks(np.array(range(0, total_individuals)))\n",
        "    ax.set_xlabel(p_time_unit, fontsize=12)\n",
        "    ax.set_ylabel(p_person_type, fontsize=12)\n",
        "    ax.set_title(p_title, fontsize=16)\n",
        "    \n",
        "    ax.set_yticklabels(np.array(range(0, total_individuals))+1)\n",
        "        \n",
        "    for iterator in range(0, total_individuals):\n",
        "        entry = p_entry_individual[iterator]\n",
        "        lifetime = observed_lifetimes[iterator]\n",
        "        period = entry + lifetime\n",
        "        \n",
        "        ax.text(entry + ((lifetime)/2).astype(int), iterator + 0.2, \"T=%d\" % lifetime, fontsize=10)\n",
        "        \n",
        "        marker = 'x' if p_censured[iterator] == 1 else 'o'\n",
        "        ax.plot(period, iterator, fillstyle='none', **dict(color='black', marker=marker, markersize=10))\n",
        "        \n",
        "    ax.vlines(total_period, 0, total_individuals, lw=1, linestyles='--')\n",
        "    ax.plot(0,0, label='X - Evento', color='white')\n",
        "    ax.plot(0,0, label='O - Censura', color='white')\n",
        "    ax.legend(frameon=False)\n",
        "    ax.grid(False)\n",
        "    \n",
        "    print(\"Tempo de vida observado: \\n\", observed_lifetimes, \"\\n\")"
      ],
      "execution_count": 0,
      "outputs": []
    },
    {
      "cell_type": "markdown",
      "metadata": {
        "id": "dldN64-Yl9Dr",
        "colab_type": "text"
      },
      "source": [
        "**Função** individual_trajectory_plot  <a id='individual_trajectory_plot'></a>"
      ]
    },
    {
      "cell_type": "code",
      "metadata": {
        "id": "CQMDCeokl9Dt",
        "colab_type": "code",
        "colab": {}
      },
      "source": [
        "# Função que gera gráfico de tragetória com variáveis N(t) e Y(t) do processo de contagem\n",
        "def individual_trajectory_plot(p_entry_individual, p_lifetimes, p_censured, p_time_unit):\n",
        "    \n",
        "    total_individuals = len(p_lifetimes)\n",
        "    total_period = max(p_lifetimes + p_entry_individual)\n",
        "    \n",
        "    for individual in range(0,total_individuals):\n",
        "        entrytime = p_entry_individual[individual]\n",
        "        lifetime = p_lifetimes[individual]\n",
        "        censured = 'none' if p_censured[individual] == 0 else 'black'\n",
        "        point = entrytime + lifetime\n",
        "        \n",
        "        print(\"Indivíduo: %d, Trajetória de Sobrevivência: %d.\" %(individual+1, lifetime))\n",
        "        fig, ax = plt.subplots(figsize=(6,3))\n",
        "\n",
        "        # Y(t)\n",
        "        ax.plot([0, entrytime],[.5, .5], color='r', linewidth=1)\n",
        "        ax.plot([entrytime, point],[1, 1], color='b', linewidth=1)\n",
        "        \n",
        "        if point < total_period:\n",
        "            ax.plot([point, total_period],[.5, .5], color='r', linewidth=1)\n",
        "        \n",
        "        ax.scatter(point, 1, marker=\"o\", color='black', facecolors = censured)\n",
        "        \n",
        "        if entrytime > 0:\n",
        "            ax.vlines(entrytime, 0.5, 1, lw=1, linestyles='--')\n",
        "            ax.scatter(entrytime, 0.5, marker=\"o\", color='black')\n",
        "        \n",
        "        if point < total_period:\n",
        "            ax.vlines(point, 0.5, 1, lw=1, linestyles='--')\n",
        "        \n",
        "        # N(t)\n",
        "        if censured == 'black':\n",
        "            ax.plot([0, point],[-1, -1], color='r', linewidth=1)\n",
        "            ax.plot([point, total_period],[-0.5, -0.5], color='b', linewidth=1)\n",
        "            \n",
        "            if point < total_period:\n",
        "                ax.vlines(point, -1, -0.5, lw=1, linestyles='--')\n",
        "                ax.scatter(point, -0.5, marker=\"o\", color='black')\n",
        "\n",
        "            if point < total_period:\n",
        "                ax.text(point+0.3, -0.7, \"dN(t)\", fontsize=14)\n",
        "            else:\n",
        "                ax.text((total_period/2), -0.7, \"dN(t)=0\", fontsize=14)\n",
        "        else:\n",
        "            ax.plot([0, total_period],[-1, -1], color='r', linewidth=1)\n",
        "            ax.text((total_period/2), -0.7, \"dN(t)=0\", fontsize=14)\n",
        "\n",
        "        # Zero line\n",
        "        ax.plot([0, total_period],[0, 0], color='black')\n",
        "\n",
        "        ax.set_yticklabels([\"\", \"0\", \"1\",\"\",\"0\",\"1\",\"\",\"\"],rotation=90)\n",
        "        ax.set_xticklabels([])\n",
        "        ax.text(0, -1.3, 0, fontsize=10)\n",
        "        ax.text(entrytime, -1.3, entrytime, fontsize=10)\n",
        "        ax.text(point, -1.3, point, fontsize=10)\n",
        "        ax.text(total_period, -1.3, total_period, fontsize=10)\n",
        "\n",
        "        ax.set_xlabel(p_time_unit, fontsize=14)\n",
        "        ax.set_xlim(-0.5, total_period + 0.5)\n",
        "        ax.xaxis.set_label_coords(0.5,-0.15)\n",
        "\n",
        "        ax.set_ylabel(\"  $N_{%d}(t)$     $Y_{%d}(t)$  \" %(individual+1,individual+1), fontsize=14)\n",
        "\n",
        "        ax.set_title(\"$I_{%d}$ -> $T_{%d}=%d$\" %(individual+1,individual+1,point), fontsize=14)\n",
        "\n",
        "        plt.show()"
      ],
      "execution_count": 0,
      "outputs": []
    },
    {
      "cell_type": "markdown",
      "metadata": {
        "id": "hPVe9dQAl9Dz",
        "colab_type": "text"
      },
      "source": [
        "## Exercício 2.1 <a id='Exercicio2.1'></a>\n",
        "\n",
        "O tempo de aleitamento, isto é, o tempo decorrido desde o nascimento até o desmame, pode ser considerado como uma variável tempo de sobrevivência. Suponha que o tempo  até  o  desmame,  em  meses,  tenha  sido  registrado  para  15  crianças  e  que  todas entraram no estudo no mesmo dia:\n",
        "\n",
        "Tempos de aleitamento: 6 12 10 3 5 1 6 8 1 5 2 2 5 8 1\n",
        "\n",
        "Considerando que não houve censura:\n",
        "\n",
        "* [**a) Represente graficamente os tempos de observação das 15 crianças.**](#E2.1.a)\n",
        "* [**b) Represente as trajetórias dos primeiros cinco indivíduos utilizando as variáveis N(t) e Y (t) do processo de contagem.**](#E2.1.b)\n",
        "* [**c) Como  você  construiria  um  banco  de  dados  para  analisar  estes  dados  pelo  processo clássico?**](#E2.1.c)\n",
        "* [**d)E pelo processo de contagem?**](#E2.1.d)\n",
        "\n",
        "[Topo](#topo)"
      ]
    },
    {
      "cell_type": "markdown",
      "metadata": {
        "id": "QfJFvaXml9D1",
        "colab_type": "text"
      },
      "source": [
        "<a id='E2.1.a'></a>\n",
        "#### a) Represente graficamente os tempos de observação das 15 crianças."
      ]
    },
    {
      "cell_type": "code",
      "metadata": {
        "id": "cqTMfW_Rl9D3",
        "colab_type": "code",
        "outputId": "8a102f3b-f928-4057-9541-919f12eac95c",
        "colab": {
          "base_uri": "https://localhost:8080/",
          "height": 461
        }
      },
      "source": [
        "# Dados de sobrevivência\n",
        "entry_individual = np.zeros(15, dtype=np.int)\n",
        "actual_lifetimes = np.array([6,12,10,3,5,1,6,8,1,5,2,2,5,8,1])\n",
        "censured = np.ones(15, dtype=np.int)\n",
        "current_time = max(actual_lifetimes) + 1  #This variable defines the time window\n",
        "\n",
        "# Plot survival time\n",
        "survival_time_plot(entry_individual, actual_lifetimes, current_time, censured, \n",
        "                   \"Meses\", \"Crianças\", \"Tempo de Aleitamento\",\n",
        "                   8, 6) # Plot size"
      ],
      "execution_count": 4,
      "outputs": [
        {
          "output_type": "stream",
          "text": [
            "Tempo de vida observado: \n",
            " [ 6 12 10  3  5  1  6  8  1  5  2  2  5  8  1] \n",
            "\n"
          ],
          "name": "stdout"
        },
        {
          "output_type": "display_data",
          "data": {
            "image/png": "[encoded data removed]",
            "text/plain": [
              "<Figure size 576x432 with 1 Axes>"
            ]
          },
          "metadata": {
            "tags": [],
            "needs_background": "light"
          }
        }
      ]
    },
    {
      "cell_type": "markdown",
      "metadata": {
        "id": "g0E4-bRMl9EB",
        "colab_type": "text"
      },
      "source": [
        "<a id='E2.1.b'></a>\n",
        "#### b) Represente as trajetórias dos primeiros cinco indivíduos utilizando as variáveis N(t) e Y (t) do processo de contagem."
      ]
    },
    {
      "cell_type": "code",
      "metadata": {
        "id": "wimgfQOtl9EC",
        "colab_type": "code",
        "outputId": "833eced7-e6db-4b33-ab4c-4cfc76646742",
        "colab": {
          "base_uri": "https://localhost:8080/",
          "height": 1000
        }
      },
      "source": [
        "#entry_individual = np.zeros(15, dtype=np.int)\n",
        "#actual_lifetimes = np.array([6,12,10,3,5,1,6,8,1,5,2,2,5,8,1])\n",
        "#censured = np.ones(15, dtype=np.int)\n",
        "\n",
        "# Plot individual trajectory\n",
        "individual_trajectory_plot(entry_individual, actual_lifetimes, censured, \"Meses\")\n"
      ],
      "execution_count": 5,
      "outputs": [
        {
          "output_type": "stream",
          "text": [
            "Indivíduo: 1, Trajetória de Sobrevivência: 6.\n"
          ],
          "name": "stdout"
        },
        {
          "output_type": "display_data",
          "data": {
            "image/png": "[encoded data removed]",
            "text/plain": [
              "<Figure size 432x216 with 1 Axes>"
            ]
          },
          "metadata": {
            "tags": [],
            "needs_background": "light"
          }
        },
        {
          "output_type": "stream",
          "text": [
            "Indivíduo: 2, Trajetória de Sobrevivência: 12.\n"
          ],
          "name": "stdout"
        },
        {
          "output_type": "display_data",
          "data": {
            "image/png": "[encoded data removed]",
            "text/plain": [
              "<Figure size 432x216 with 1 Axes>"
            ]
          },
          "metadata": {
            "tags": [],
            "needs_background": "light"
          }
        },
        {
          "output_type": "stream",
          "text": [
            "Indivíduo: 3, Trajetória de Sobrevivência: 10.\n"
          ],
          "name": "stdout"
        },
        {
          "output_type": "display_data",
          "data": {
            "image/png": "[encoded data removed]",
            "text/plain": [
              "<Figure size 432x216 with 1 Axes>"
            ]
          },
          "metadata": {
            "tags": [],
            "needs_background": "light"
          }
        },
        {
          "output_type": "stream",
          "text": [
            "Indivíduo: 4, Trajetória de Sobrevivência: 3.\n"
          ],
          "name": "stdout"
        },
        {
          "output_type": "display_data",
          "data": {
            "image/png": "[encoded data removed]",
            "text/plain": [
              "<Figure size 432x216 with 1 Axes>"
            ]
          },
          "metadata": {
            "tags": [],
            "needs_background": "light"
          }
        },
        {
          "output_type": "stream",
          "text": [
            "Indivíduo: 5, Trajetória de Sobrevivência: 5.\n"
          ],
          "name": "stdout"
        },
        {
          "output_type": "display_data",
          "data": {
            "image/png": "[encoded data removed]",
            "text/plain": [
              "<Figure size 432x216 with 1 Axes>"
            ]
          },
          "metadata": {
            "tags": [],
            "needs_background": "light"
          }
        },
        {
          "output_type": "stream",
          "text": [
            "Indivíduo: 6, Trajetória de Sobrevivência: 1.\n"
          ],
          "name": "stdout"
        },
        {
          "output_type": "display_data",
          "data": {
            "image/png": "[encoded data removed]",
            "text/plain": [
              "<Figure size 432x216 with 1 Axes>"
            ]
          },
          "metadata": {
            "tags": [],
            "needs_background": "light"
          }
        },
        {
          "output_type": "stream",
          "text": [
            "Indivíduo: 7, Trajetória de Sobrevivência: 6.\n"
          ],
          "name": "stdout"
        },
        {
          "output_type": "display_data",
          "data": {
            "image/png": "[encoded data removed]",
            "text/plain": [
              "<Figure size 432x216 with 1 Axes>"
            ]
          },
          "metadata": {
            "tags": [],
            "needs_background": "light"
          }
        },
        {
          "output_type": "stream",
          "text": [
            "Indivíduo: 8, Trajetória de Sobrevivência: 8.\n"
          ],
          "name": "stdout"
        },
        {
          "output_type": "display_data",
          "data": {
            "image/png": "[encoded data removed]",
            "text/plain": [
              "<Figure size 432x216 with 1 Axes>"
            ]
          },
          "metadata": {
            "tags": [],
            "needs_background": "light"
          }
        },
        {
          "output_type": "stream",
          "text": [
            "Indivíduo: 9, Trajetória de Sobrevivência: 1.\n"
          ],
          "name": "stdout"
        },
        {
          "output_type": "display_data",
          "data": {
            "image/png": "[encoded data removed]",
            "text/plain": [
              "<Figure size 432x216 with 1 Axes>"
            ]
          },
          "metadata": {
            "tags": [],
            "needs_background": "light"
          }
        },
        {
          "output_type": "stream",
          "text": [
            "Indivíduo: 10, Trajetória de Sobrevivência: 5.\n"
          ],
          "name": "stdout"
        },
        {
          "output_type": "display_data",
          "data": {
            "image/png": "[encoded data removed]",
            "text/plain": [
              "<Figure size 432x216 with 1 Axes>"
            ]
          },
          "metadata": {
            "tags": [],
            "needs_background": "light"
          }
        },
        {
          "output_type": "stream",
          "text": [
            "Indivíduo: 11, Trajetória de Sobrevivência: 2.\n"
          ],
          "name": "stdout"
        },
        {
          "output_type": "display_data",
          "data": {
            "image/png": "[encoded data removed]",
            "text/plain": [
              "<Figure size 432x216 with 1 Axes>"
            ]
          },
          "metadata": {
            "tags": [],
            "needs_background": "light"
          }
        },
        {
          "output_type": "stream",
          "text": [
            "Indivíduo: 12, Trajetória de Sobrevivência: 2.\n"
          ],
          "name": "stdout"
        },
        {
          "output_type": "display_data",
          "data": {
            "image/png": "[encoded data removed]",
            "text/plain": [
              "<Figure size 432x216 with 1 Axes>"
            ]
          },
          "metadata": {
            "tags": [],
            "needs_background": "light"
          }
        },
        {
          "output_type": "stream",
          "text": [
            "Indivíduo: 13, Trajetória de Sobrevivência: 5.\n"
          ],
          "name": "stdout"
        },
        {
          "output_type": "display_data",
          "data": {
            "image/png": "[encoded data removed]",
            "text/plain": [
              "<Figure size 432x216 with 1 Axes>"
            ]
          },
          "metadata": {
            "tags": [],
            "needs_background": "light"
          }
        },
        {
          "output_type": "stream",
          "text": [
            "Indivíduo: 14, Trajetória de Sobrevivência: 8.\n"
          ],
          "name": "stdout"
        },
        {
          "output_type": "display_data",
          "data": {
            "image/png": "[encoded data removed]",
            "text/plain": [
              "<Figure size 432x216 with 1 Axes>"
            ]
          },
          "metadata": {
            "tags": [],
            "needs_background": "light"
          }
        },
        {
          "output_type": "stream",
          "text": [
            "Indivíduo: 15, Trajetória de Sobrevivência: 1.\n"
          ],
          "name": "stdout"
        },
        {
          "output_type": "display_data",
          "data": {
            "image/png": "[encoded data removed]",
            "text/plain": [
              "<Figure size 432x216 with 1 Axes>"
            ]
          },
          "metadata": {
            "tags": [],
            "needs_background": "light"
          }
        }
      ]
    },
    {
      "cell_type": "markdown",
      "metadata": {
        "id": "Estf61ool9EK",
        "colab_type": "text"
      },
      "source": [
        "<a id='E2.1.c'></a>\n",
        "#### c) Como você construiria um banco de dados para analisar estes dados pelo processo clássico?"
      ]
    },
    {
      "cell_type": "code",
      "metadata": {
        "id": "mHNmWGBLl9EL",
        "colab_type": "code",
        "outputId": "176880be-ad2f-4ae3-b970-0ef9c5a19b10",
        "colab": {
          "base_uri": "https://localhost:8080/",
          "height": 520
        }
      },
      "source": [
        "df = pd.DataFrame(np.array([6,12,10,3,5,1,6,8,1,5,2,2,5,8,1]))\n",
        "df = df.reset_index()\n",
        "df = df.rename(columns={0: 'Tempo', 'index':'Criança'})\n",
        "df['Status'] = 1\n",
        "df['Criança'] = df['Criança'] + 1\n",
        "df"
      ],
      "execution_count": 6,
      "outputs": [
        {
          "output_type": "execute_result",
          "data": {
            "text/html": [
              "<div>\n",
              "<style scoped>\n",
              "    .dataframe tbody tr th:only-of-type {\n",
              "        vertical-align: middle;\n",
              "    }\n",
              "\n",
              "    .dataframe tbody tr th {\n",
              "        vertical-align: top;\n",
              "    }\n",
              "\n",
              "    .dataframe thead th {\n",
              "        text-align: right;\n",
              "    }\n",
              "</style>\n",
              "<table border=\"1\" class=\"dataframe\">\n",
              "  <thead>\n",
              "    <tr style=\"text-align: right;\">\n",
              "      <th></th>\n",
              "      <th>Criança</th>\n",
              "      <th>Tempo</th>\n",
              "      <th>Status</th>\n",
              "    </tr>\n",
              "  </thead>\n",
              "  <tbody>\n",
              "    <tr>\n",
              "      <th>0</th>\n",
              "      <td>1</td>\n",
              "      <td>6</td>\n",
              "      <td>1</td>\n",
              "    </tr>\n",
              "    <tr>\n",
              "      <th>1</th>\n",
              "      <td>2</td>\n",
              "      <td>12</td>\n",
              "      <td>1</td>\n",
              "    </tr>\n",
              "    <tr>\n",
              "      <th>2</th>\n",
              "      <td>3</td>\n",
              "      <td>10</td>\n",
              "      <td>1</td>\n",
              "    </tr>\n",
              "    <tr>\n",
              "      <th>3</th>\n",
              "      <td>4</td>\n",
              "      <td>3</td>\n",
              "      <td>1</td>\n",
              "    </tr>\n",
              "    <tr>\n",
              "      <th>4</th>\n",
              "      <td>5</td>\n",
              "      <td>5</td>\n",
              "      <td>1</td>\n",
              "    </tr>\n",
              "    <tr>\n",
              "      <th>5</th>\n",
              "      <td>6</td>\n",
              "      <td>1</td>\n",
              "      <td>1</td>\n",
              "    </tr>\n",
              "    <tr>\n",
              "      <th>6</th>\n",
              "      <td>7</td>\n",
              "      <td>6</td>\n",
              "      <td>1</td>\n",
              "    </tr>\n",
              "    <tr>\n",
              "      <th>7</th>\n",
              "      <td>8</td>\n",
              "      <td>8</td>\n",
              "      <td>1</td>\n",
              "    </tr>\n",
              "    <tr>\n",
              "      <th>8</th>\n",
              "      <td>9</td>\n",
              "      <td>1</td>\n",
              "      <td>1</td>\n",
              "    </tr>\n",
              "    <tr>\n",
              "      <th>9</th>\n",
              "      <td>10</td>\n",
              "      <td>5</td>\n",
              "      <td>1</td>\n",
              "    </tr>\n",
              "    <tr>\n",
              "      <th>10</th>\n",
              "      <td>11</td>\n",
              "      <td>2</td>\n",
              "      <td>1</td>\n",
              "    </tr>\n",
              "    <tr>\n",
              "      <th>11</th>\n",
              "      <td>12</td>\n",
              "      <td>2</td>\n",
              "      <td>1</td>\n",
              "    </tr>\n",
              "    <tr>\n",
              "      <th>12</th>\n",
              "      <td>13</td>\n",
              "      <td>5</td>\n",
              "      <td>1</td>\n",
              "    </tr>\n",
              "    <tr>\n",
              "      <th>13</th>\n",
              "      <td>14</td>\n",
              "      <td>8</td>\n",
              "      <td>1</td>\n",
              "    </tr>\n",
              "    <tr>\n",
              "      <th>14</th>\n",
              "      <td>15</td>\n",
              "      <td>1</td>\n",
              "      <td>1</td>\n",
              "    </tr>\n",
              "  </tbody>\n",
              "</table>\n",
              "</div>"
            ],
            "text/plain": [
              "    Criança  Tempo  Status\n",
              "0         1      6       1\n",
              "1         2     12       1\n",
              "2         3     10       1\n",
              "3         4      3       1\n",
              "4         5      5       1\n",
              "5         6      1       1\n",
              "6         7      6       1\n",
              "7         8      8       1\n",
              "8         9      1       1\n",
              "9        10      5       1\n",
              "10       11      2       1\n",
              "11       12      2       1\n",
              "12       13      5       1\n",
              "13       14      8       1\n",
              "14       15      1       1"
            ]
          },
          "metadata": {
            "tags": []
          },
          "execution_count": 6
        }
      ]
    },
    {
      "cell_type": "markdown",
      "metadata": {
        "id": "AbTm7Qkgl9ER",
        "colab_type": "text"
      },
      "source": [
        "<a id='E2.1.a'></a>\n",
        "#### d)E pelo processo de contagem?"
      ]
    },
    {
      "cell_type": "code",
      "metadata": {
        "id": "WSxd9P_Cl9ES",
        "colab_type": "code",
        "outputId": "b0b5ea1b-64fc-4993-d18e-7c93205d25e2",
        "colab": {
          "base_uri": "https://localhost:8080/",
          "height": 520
        }
      },
      "source": [
        "df = pd.DataFrame(np.array([6,12,10,3,5,1,6,8,1,5,2,2,5,8,1]))\n",
        "df['Tempo Inicial'] = 0\n",
        "df = df[['Tempo Inicial', 0]]\n",
        "df = df.reset_index()\n",
        "df = df.rename(columns={0: 'Tempo Final', 'index':'Criança'})\n",
        "df['Status'] = 1\n",
        "df['Criança'] = df['Criança'] + 1\n",
        "df"
      ],
      "execution_count": 7,
      "outputs": [
        {
          "output_type": "execute_result",
          "data": {
            "text/html": [
              "<div>\n",
              "<style scoped>\n",
              "    .dataframe tbody tr th:only-of-type {\n",
              "        vertical-align: middle;\n",
              "    }\n",
              "\n",
              "    .dataframe tbody tr th {\n",
              "        vertical-align: top;\n",
              "    }\n",
              "\n",
              "    .dataframe thead th {\n",
              "        text-align: right;\n",
              "    }\n",
              "</style>\n",
              "<table border=\"1\" class=\"dataframe\">\n",
              "  <thead>\n",
              "    <tr style=\"text-align: right;\">\n",
              "      <th></th>\n",
              "      <th>Criança</th>\n",
              "      <th>Tempo Inicial</th>\n",
              "      <th>Tempo Final</th>\n",
              "      <th>Status</th>\n",
              "    </tr>\n",
              "  </thead>\n",
              "  <tbody>\n",
              "    <tr>\n",
              "      <th>0</th>\n",
              "      <td>1</td>\n",
              "      <td>0</td>\n",
              "      <td>6</td>\n",
              "      <td>1</td>\n",
              "    </tr>\n",
              "    <tr>\n",
              "      <th>1</th>\n",
              "      <td>2</td>\n",
              "      <td>0</td>\n",
              "      <td>12</td>\n",
              "      <td>1</td>\n",
              "    </tr>\n",
              "    <tr>\n",
              "      <th>2</th>\n",
              "      <td>3</td>\n",
              "      <td>0</td>\n",
              "      <td>10</td>\n",
              "      <td>1</td>\n",
              "    </tr>\n",
              "    <tr>\n",
              "      <th>3</th>\n",
              "      <td>4</td>\n",
              "      <td>0</td>\n",
              "      <td>3</td>\n",
              "      <td>1</td>\n",
              "    </tr>\n",
              "    <tr>\n",
              "      <th>4</th>\n",
              "      <td>5</td>\n",
              "      <td>0</td>\n",
              "      <td>5</td>\n",
              "      <td>1</td>\n",
              "    </tr>\n",
              "    <tr>\n",
              "      <th>5</th>\n",
              "      <td>6</td>\n",
              "      <td>0</td>\n",
              "      <td>1</td>\n",
              "      <td>1</td>\n",
              "    </tr>\n",
              "    <tr>\n",
              "      <th>6</th>\n",
              "      <td>7</td>\n",
              "      <td>0</td>\n",
              "      <td>6</td>\n",
              "      <td>1</td>\n",
              "    </tr>\n",
              "    <tr>\n",
              "      <th>7</th>\n",
              "      <td>8</td>\n",
              "      <td>0</td>\n",
              "      <td>8</td>\n",
              "      <td>1</td>\n",
              "    </tr>\n",
              "    <tr>\n",
              "      <th>8</th>\n",
              "      <td>9</td>\n",
              "      <td>0</td>\n",
              "      <td>1</td>\n",
              "      <td>1</td>\n",
              "    </tr>\n",
              "    <tr>\n",
              "      <th>9</th>\n",
              "      <td>10</td>\n",
              "      <td>0</td>\n",
              "      <td>5</td>\n",
              "      <td>1</td>\n",
              "    </tr>\n",
              "    <tr>\n",
              "      <th>10</th>\n",
              "      <td>11</td>\n",
              "      <td>0</td>\n",
              "      <td>2</td>\n",
              "      <td>1</td>\n",
              "    </tr>\n",
              "    <tr>\n",
              "      <th>11</th>\n",
              "      <td>12</td>\n",
              "      <td>0</td>\n",
              "      <td>2</td>\n",
              "      <td>1</td>\n",
              "    </tr>\n",
              "    <tr>\n",
              "      <th>12</th>\n",
              "      <td>13</td>\n",
              "      <td>0</td>\n",
              "      <td>5</td>\n",
              "      <td>1</td>\n",
              "    </tr>\n",
              "    <tr>\n",
              "      <th>13</th>\n",
              "      <td>14</td>\n",
              "      <td>0</td>\n",
              "      <td>8</td>\n",
              "      <td>1</td>\n",
              "    </tr>\n",
              "    <tr>\n",
              "      <th>14</th>\n",
              "      <td>15</td>\n",
              "      <td>0</td>\n",
              "      <td>1</td>\n",
              "      <td>1</td>\n",
              "    </tr>\n",
              "  </tbody>\n",
              "</table>\n",
              "</div>"
            ],
            "text/plain": [
              "    Criança  Tempo Inicial  Tempo Final  Status\n",
              "0         1              0            6       1\n",
              "1         2              0           12       1\n",
              "2         3              0           10       1\n",
              "3         4              0            3       1\n",
              "4         5              0            5       1\n",
              "5         6              0            1       1\n",
              "6         7              0            6       1\n",
              "7         8              0            8       1\n",
              "8         9              0            1       1\n",
              "9        10              0            5       1\n",
              "10       11              0            2       1\n",
              "11       12              0            2       1\n",
              "12       13              0            5       1\n",
              "13       14              0            8       1\n",
              "14       15              0            1       1"
            ]
          },
          "metadata": {
            "tags": []
          },
          "execution_count": 7
        }
      ]
    },
    {
      "cell_type": "markdown",
      "metadata": {
        "id": "T7dQXcFzl9EZ",
        "colab_type": "text"
      },
      "source": [
        "## Exercício 2.2  <a id='Exercicio2.2'></a>\n",
        "\n",
        "Considere agora o tempo de sobrevivência de 15 pacientes submetidos à hemodiálise. Neste caso, a variável de interesse  é  o  tempo  desde  a  primeira diálise até o óbito (em meses).\n",
        "\n",
        "2, 4, 29+, 6+, 3, 1, 1, 2, 3, 9+, 10, 11, 5+, 5, 1\n",
        "\n",
        "Os tempos censurados (censura a direita) estão indicados pelo sinal de +.\n",
        "\n",
        "Considere  que todos os pacientes entraram juntos no início do estudo.\n",
        "\n",
        "* [**a) Represente graficamente os tempos de observação dos pacientes, utilizando a notação clássica.**](#E2.2.a)\n",
        "* [**b) Represente as trajetórias dos primeiros cinco indivíduos utilizando as variáveis N(t) e Y (t) do processo de contagem.**](#E2.2.b)\n",
        "* [**c) Construa um banco de dados para analisar esses dados pelo processo clássico.**](#E2.2.c)\n",
        "* [**d) Reconstrua o banco de dados, na formas de processo de contagem, considerando que esta  é  uma  coorte  aberta  e  as  datas  de  início  de  observação  de  cada  paciente  são dadas na tabela abaixo**](#E2.2.d)\n",
        "\n",
        "[Topo](#topo)"
      ]
    },
    {
      "cell_type": "markdown",
      "metadata": {
        "id": "i2ppKcUxl9Ea",
        "colab_type": "text"
      },
      "source": [
        "<a id='E2.2.a'></a>\n",
        "#### a) Represente graficamente os tempos de observação dos pacientes, utilizando a notação clássica."
      ]
    },
    {
      "cell_type": "code",
      "metadata": {
        "id": "1Xhf_UHGl9Ec",
        "colab_type": "code",
        "outputId": "4679a108-e949-4ba9-cdd2-548139f81493",
        "colab": {
          "base_uri": "https://localhost:8080/",
          "height": 461
        }
      },
      "source": [
        "# Dados de sobrevivência\n",
        "entry_individual = np.zeros(15, dtype=np.int)\n",
        "actual_lifetimes = np.array([2, 4, 29, 6, 3, 1, 1, 2, 3, 9, 10, 11, 5, 5, 1])\n",
        "censured = np.array([1,1,0,0,1,1,1,1,1,0,1,1,0,1,1])\n",
        "current_time = max(actual_lifetimes + entry_individual) + 1  #This variable defines the time window\n",
        "\n",
        "# Plot survival time\n",
        "survival_time_plot(entry_individual, actual_lifetimes, current_time, censured, \n",
        "                   \"Meses\", \"Pacientes\", \"Óbito\",\n",
        "                   10, 6) # Plot size"
      ],
      "execution_count": 8,
      "outputs": [
        {
          "output_type": "stream",
          "text": [
            "Tempo de vida observado: \n",
            " [ 2  4 29  6  3  1  1  2  3  9 10 11  5  5  1] \n",
            "\n"
          ],
          "name": "stdout"
        },
        {
          "output_type": "display_data",
          "data": {
            "image/png": "[encoded data removed]",
            "text/plain": [
              "<Figure size 720x432 with 1 Axes>"
            ]
          },
          "metadata": {
            "tags": [],
            "needs_background": "light"
          }
        }
      ]
    },
    {
      "cell_type": "markdown",
      "metadata": {
        "id": "qninI25Al9Eo",
        "colab_type": "text"
      },
      "source": [
        "<a id='E2.2.b'></a>\n",
        "#### b) Represente as trajetórias dos primeiros cinco indivíduos utilizando as variáveis N(t) e Y (t) do processo de contagem."
      ]
    },
    {
      "cell_type": "code",
      "metadata": {
        "id": "A9vtP0Ful9Eq",
        "colab_type": "code",
        "outputId": "b7289cf7-d71a-4bef-a046-3588dc6e8a16",
        "colab": {
          "base_uri": "https://localhost:8080/",
          "height": 1000
        }
      },
      "source": [
        "#entry_individual = np.zeros(15, dtype=np.int)\n",
        "#actual_lifetimes = np.array([2, 4, 29, 6, 3, 1, 1, 2, 3, 9, 10, 11, 5, 5, 1])\n",
        "#censured = np.array([1,1,0,0,1,1,1,1,1,0,1,1,0,1,1])\n",
        "\n",
        "# Plot individual trajectory\n",
        "individual_trajectory_plot(entry_individual, actual_lifetimes, censured, \"Meses\")"
      ],
      "execution_count": 9,
      "outputs": [
        {
          "output_type": "stream",
          "text": [
            "Indivíduo: 1, Trajetória de Sobrevivência: 2.\n"
          ],
          "name": "stdout"
        },
        {
          "output_type": "display_data",
          "data": {
            "image/png": "[encoded data removed]",
            "text/plain": [
              "<Figure size 432x216 with 1 Axes>"
            ]
          },
          "metadata": {
            "tags": [],
            "needs_background": "light"
          }
        },
        {
          "output_type": "stream",
          "text": [
            "Indivíduo: 2, Trajetória de Sobrevivência: 4.\n"
          ],
          "name": "stdout"
        },
        {
          "output_type": "display_data",
          "data": {
            "image/png": "[encoded data removed]",
            "text/plain": [
              "<Figure size 432x216 with 1 Axes>"
            ]
          },
          "metadata": {
            "tags": [],
            "needs_background": "light"
          }
        },
        {
          "output_type": "stream",
          "text": [
            "Indivíduo: 3, Trajetória de Sobrevivência: 29.\n"
          ],
          "name": "stdout"
        },
        {
          "output_type": "display_data",
          "data": {
            "image/png": "[encoded data removed]",
            "text/plain": [
              "<Figure size 432x216 with 1 Axes>"
            ]
          },
          "metadata": {
            "tags": [],
            "needs_background": "light"
          }
        },
        {
          "output_type": "stream",
          "text": [
            "Indivíduo: 4, Trajetória de Sobrevivência: 6.\n"
          ],
          "name": "stdout"
        },
        {
          "output_type": "display_data",
          "data": {
            "image/png": "[encoded data removed]",
            "text/plain": [
              "<Figure size 432x216 with 1 Axes>"
            ]
          },
          "metadata": {
            "tags": [],
            "needs_background": "light"
          }
        },
        {
          "output_type": "stream",
          "text": [
            "Indivíduo: 5, Trajetória de Sobrevivência: 3.\n"
          ],
          "name": "stdout"
        },
        {
          "output_type": "display_data",
          "data": {
            "image/png": "[encoded data removed]",
            "text/plain": [
              "<Figure size 432x216 with 1 Axes>"
            ]
          },
          "metadata": {
            "tags": [],
            "needs_background": "light"
          }
        },
        {
          "output_type": "stream",
          "text": [
            "Indivíduo: 6, Trajetória de Sobrevivência: 1.\n"
          ],
          "name": "stdout"
        },
        {
          "output_type": "display_data",
          "data": {
            "image/png": "[encoded data removed]",
            "text/plain": [
              "<Figure size 432x216 with 1 Axes>"
            ]
          },
          "metadata": {
            "tags": [],
            "needs_background": "light"
          }
        },
        {
          "output_type": "stream",
          "text": [
            "Indivíduo: 7, Trajetória de Sobrevivência: 1.\n"
          ],
          "name": "stdout"
        },
        {
          "output_type": "display_data",
          "data": {
            "image/png": "[encoded data removed]",
            "text/plain": [
              "<Figure size 432x216 with 1 Axes>"
            ]
          },
          "metadata": {
            "tags": [],
            "needs_background": "light"
          }
        },
        {
          "output_type": "stream",
          "text": [
            "Indivíduo: 8, Trajetória de Sobrevivência: 2.\n"
          ],
          "name": "stdout"
        },
        {
          "output_type": "display_data",
          "data": {
            "image/png": "[encoded data removed]",
            "text/plain": [
              "<Figure size 432x216 with 1 Axes>"
            ]
          },
          "metadata": {
            "tags": [],
            "needs_background": "light"
          }
        },
        {
          "output_type": "stream",
          "text": [
            "Indivíduo: 9, Trajetória de Sobrevivência: 3.\n"
          ],
          "name": "stdout"
        },
        {
          "output_type": "display_data",
          "data": {
            "image/png": "[encoded data removed]",
            "text/plain": [
              "<Figure size 432x216 with 1 Axes>"
            ]
          },
          "metadata": {
            "tags": [],
            "needs_background": "light"
          }
        },
        {
          "output_type": "stream",
          "text": [
            "Indivíduo: 10, Trajetória de Sobrevivência: 9.\n"
          ],
          "name": "stdout"
        },
        {
          "output_type": "display_data",
          "data": {
            "image/png": "[encoded data removed]",
            "text/plain": [
              "<Figure size 432x216 with 1 Axes>"
            ]
          },
          "metadata": {
            "tags": [],
            "needs_background": "light"
          }
        },
        {
          "output_type": "stream",
          "text": [
            "Indivíduo: 11, Trajetória de Sobrevivência: 10.\n"
          ],
          "name": "stdout"
        },
        {
          "output_type": "display_data",
          "data": {
            "image/png": "[encoded data removed]",
            "text/plain": [
              "<Figure size 432x216 with 1 Axes>"
            ]
          },
          "metadata": {
            "tags": [],
            "needs_background": "light"
          }
        },
        {
          "output_type": "stream",
          "text": [
            "Indivíduo: 12, Trajetória de Sobrevivência: 11.\n"
          ],
          "name": "stdout"
        },
        {
          "output_type": "display_data",
          "data": {
            "image/png": "[encoded data removed]",
            "text/plain": [
              "<Figure size 432x216 with 1 Axes>"
            ]
          },
          "metadata": {
            "tags": [],
            "needs_background": "light"
          }
        },
        {
          "output_type": "stream",
          "text": [
            "Indivíduo: 13, Trajetória de Sobrevivência: 5.\n"
          ],
          "name": "stdout"
        },
        {
          "output_type": "display_data",
          "data": {
            "image/png": "[encoded data removed]",
            "text/plain": [
              "<Figure size 432x216 with 1 Axes>"
            ]
          },
          "metadata": {
            "tags": [],
            "needs_background": "light"
          }
        },
        {
          "output_type": "stream",
          "text": [
            "Indivíduo: 14, Trajetória de Sobrevivência: 5.\n"
          ],
          "name": "stdout"
        },
        {
          "output_type": "display_data",
          "data": {
            "image/png": "[encoded data removed]",
            "text/plain": [
              "<Figure size 432x216 with 1 Axes>"
            ]
          },
          "metadata": {
            "tags": [],
            "needs_background": "light"
          }
        },
        {
          "output_type": "stream",
          "text": [
            "Indivíduo: 15, Trajetória de Sobrevivência: 1.\n"
          ],
          "name": "stdout"
        },
        {
          "output_type": "display_data",
          "data": {
            "image/png": "[encoded data removed]",
            "text/plain": [
              "<Figure size 432x216 with 1 Axes>"
            ]
          },
          "metadata": {
            "tags": [],
            "needs_background": "light"
          }
        }
      ]
    },
    {
      "cell_type": "markdown",
      "metadata": {
        "id": "ppVi1StHl9Eu",
        "colab_type": "text"
      },
      "source": [
        "<a id='E2.2.c'></a>\n",
        "#### c) Construa um banco de dados para analisar esses dados pelo processo clássico."
      ]
    },
    {
      "cell_type": "code",
      "metadata": {
        "id": "6T-n9Aypl9Ew",
        "colab_type": "code",
        "outputId": "80f5e144-ca0a-4f86-f711-85323d2825f5",
        "colab": {
          "base_uri": "https://localhost:8080/",
          "height": 520
        }
      },
      "source": [
        "df = pd.DataFrame(np.array([2, 4, 29, 6, 3, 1, 1, 2, 3, 9, 10, 11, 5, 5, 1]))\n",
        "df = df.reset_index()\n",
        "df = df.rename(columns={0: 'Tempo', 'index':'Paciente'})\n",
        "df['Status'] = np.array([1,1,0,0,1,1,1,1,1,0,1,1,0,1,1])\n",
        "df['Paciente'] = df['Paciente'] + 1\n",
        "df"
      ],
      "execution_count": 10,
      "outputs": [
        {
          "output_type": "execute_result",
          "data": {
            "text/html": [
              "<div>\n",
              "<style scoped>\n",
              "    .dataframe tbody tr th:only-of-type {\n",
              "        vertical-align: middle;\n",
              "    }\n",
              "\n",
              "    .dataframe tbody tr th {\n",
              "        vertical-align: top;\n",
              "    }\n",
              "\n",
              "    .dataframe thead th {\n",
              "        text-align: right;\n",
              "    }\n",
              "</style>\n",
              "<table border=\"1\" class=\"dataframe\">\n",
              "  <thead>\n",
              "    <tr style=\"text-align: right;\">\n",
              "      <th></th>\n",
              "      <th>Paciente</th>\n",
              "      <th>Tempo</th>\n",
              "      <th>Status</th>\n",
              "    </tr>\n",
              "  </thead>\n",
              "  <tbody>\n",
              "    <tr>\n",
              "      <th>0</th>\n",
              "      <td>1</td>\n",
              "      <td>2</td>\n",
              "      <td>1</td>\n",
              "    </tr>\n",
              "    <tr>\n",
              "      <th>1</th>\n",
              "      <td>2</td>\n",
              "      <td>4</td>\n",
              "      <td>1</td>\n",
              "    </tr>\n",
              "    <tr>\n",
              "      <th>2</th>\n",
              "      <td>3</td>\n",
              "      <td>29</td>\n",
              "      <td>0</td>\n",
              "    </tr>\n",
              "    <tr>\n",
              "      <th>3</th>\n",
              "      <td>4</td>\n",
              "      <td>6</td>\n",
              "      <td>0</td>\n",
              "    </tr>\n",
              "    <tr>\n",
              "      <th>4</th>\n",
              "      <td>5</td>\n",
              "      <td>3</td>\n",
              "      <td>1</td>\n",
              "    </tr>\n",
              "    <tr>\n",
              "      <th>5</th>\n",
              "      <td>6</td>\n",
              "      <td>1</td>\n",
              "      <td>1</td>\n",
              "    </tr>\n",
              "    <tr>\n",
              "      <th>6</th>\n",
              "      <td>7</td>\n",
              "      <td>1</td>\n",
              "      <td>1</td>\n",
              "    </tr>\n",
              "    <tr>\n",
              "      <th>7</th>\n",
              "      <td>8</td>\n",
              "      <td>2</td>\n",
              "      <td>1</td>\n",
              "    </tr>\n",
              "    <tr>\n",
              "      <th>8</th>\n",
              "      <td>9</td>\n",
              "      <td>3</td>\n",
              "      <td>1</td>\n",
              "    </tr>\n",
              "    <tr>\n",
              "      <th>9</th>\n",
              "      <td>10</td>\n",
              "      <td>9</td>\n",
              "      <td>0</td>\n",
              "    </tr>\n",
              "    <tr>\n",
              "      <th>10</th>\n",
              "      <td>11</td>\n",
              "      <td>10</td>\n",
              "      <td>1</td>\n",
              "    </tr>\n",
              "    <tr>\n",
              "      <th>11</th>\n",
              "      <td>12</td>\n",
              "      <td>11</td>\n",
              "      <td>1</td>\n",
              "    </tr>\n",
              "    <tr>\n",
              "      <th>12</th>\n",
              "      <td>13</td>\n",
              "      <td>5</td>\n",
              "      <td>0</td>\n",
              "    </tr>\n",
              "    <tr>\n",
              "      <th>13</th>\n",
              "      <td>14</td>\n",
              "      <td>5</td>\n",
              "      <td>1</td>\n",
              "    </tr>\n",
              "    <tr>\n",
              "      <th>14</th>\n",
              "      <td>15</td>\n",
              "      <td>1</td>\n",
              "      <td>1</td>\n",
              "    </tr>\n",
              "  </tbody>\n",
              "</table>\n",
              "</div>"
            ],
            "text/plain": [
              "    Paciente  Tempo  Status\n",
              "0          1      2       1\n",
              "1          2      4       1\n",
              "2          3     29       0\n",
              "3          4      6       0\n",
              "4          5      3       1\n",
              "5          6      1       1\n",
              "6          7      1       1\n",
              "7          8      2       1\n",
              "8          9      3       1\n",
              "9         10      9       0\n",
              "10        11     10       1\n",
              "11        12     11       1\n",
              "12        13      5       0\n",
              "13        14      5       1\n",
              "14        15      1       1"
            ]
          },
          "metadata": {
            "tags": []
          },
          "execution_count": 10
        }
      ]
    },
    {
      "cell_type": "markdown",
      "metadata": {
        "id": "Ik0Oogrxl9E3",
        "colab_type": "text"
      },
      "source": [
        "<a id='E2.2.d'></a>\n",
        "#### d) Reconstrua o banco de dados, na formas de processo de contagem, considerando que esta  é  uma  coorte  aberta  e  as  datas  de  início  de  observação  de  cada  paciente  são dadas na tabela abaixo."
      ]
    },
    {
      "cell_type": "code",
      "metadata": {
        "id": "aU5ZSmbPl9E4",
        "colab_type": "code",
        "outputId": "eb9e1bae-d25f-4561-c8b1-7e96d5c2761e",
        "colab": {
          "base_uri": "https://localhost:8080/",
          "height": 520
        }
      },
      "source": [
        "df = pd.DataFrame(np.array([2, 4, 29, 6, 3, 1, 1, 2, 3, 9, 10, 11, 5, 5, 1]))\n",
        "df['Tempo Inicial'] = np.array([0, 1, 12, 3, 1, 7, 0, 1, 1, 3, 12, 4, 4, 1, 22])\n",
        "df = df.reset_index()\n",
        "df = df.rename(columns={0: 'Tempo', 'index':'Paciente'})\n",
        "df['Paciente'] = df['Paciente'] + 1\n",
        "df['Tempo Final'] = df['Tempo Inicial'] + df['Tempo']\n",
        "df['Status'] = np.array([1,1,0,0,1,1,1,1,1,0,1,1,0,1,1])\n",
        "df"
      ],
      "execution_count": 11,
      "outputs": [
        {
          "output_type": "execute_result",
          "data": {
            "text/html": [
              "<div>\n",
              "<style scoped>\n",
              "    .dataframe tbody tr th:only-of-type {\n",
              "        vertical-align: middle;\n",
              "    }\n",
              "\n",
              "    .dataframe tbody tr th {\n",
              "        vertical-align: top;\n",
              "    }\n",
              "\n",
              "    .dataframe thead th {\n",
              "        text-align: right;\n",
              "    }\n",
              "</style>\n",
              "<table border=\"1\" class=\"dataframe\">\n",
              "  <thead>\n",
              "    <tr style=\"text-align: right;\">\n",
              "      <th></th>\n",
              "      <th>Paciente</th>\n",
              "      <th>Tempo</th>\n",
              "      <th>Tempo Inicial</th>\n",
              "      <th>Tempo Final</th>\n",
              "      <th>Status</th>\n",
              "    </tr>\n",
              "  </thead>\n",
              "  <tbody>\n",
              "    <tr>\n",
              "      <th>0</th>\n",
              "      <td>1</td>\n",
              "      <td>2</td>\n",
              "      <td>0</td>\n",
              "      <td>2</td>\n",
              "      <td>1</td>\n",
              "    </tr>\n",
              "    <tr>\n",
              "      <th>1</th>\n",
              "      <td>2</td>\n",
              "      <td>4</td>\n",
              "      <td>1</td>\n",
              "      <td>5</td>\n",
              "      <td>1</td>\n",
              "    </tr>\n",
              "    <tr>\n",
              "      <th>2</th>\n",
              "      <td>3</td>\n",
              "      <td>29</td>\n",
              "      <td>12</td>\n",
              "      <td>41</td>\n",
              "      <td>0</td>\n",
              "    </tr>\n",
              "    <tr>\n",
              "      <th>3</th>\n",
              "      <td>4</td>\n",
              "      <td>6</td>\n",
              "      <td>3</td>\n",
              "      <td>9</td>\n",
              "      <td>0</td>\n",
              "    </tr>\n",
              "    <tr>\n",
              "      <th>4</th>\n",
              "      <td>5</td>\n",
              "      <td>3</td>\n",
              "      <td>1</td>\n",
              "      <td>4</td>\n",
              "      <td>1</td>\n",
              "    </tr>\n",
              "    <tr>\n",
              "      <th>5</th>\n",
              "      <td>6</td>\n",
              "      <td>1</td>\n",
              "      <td>7</td>\n",
              "      <td>8</td>\n",
              "      <td>1</td>\n",
              "    </tr>\n",
              "    <tr>\n",
              "      <th>6</th>\n",
              "      <td>7</td>\n",
              "      <td>1</td>\n",
              "      <td>0</td>\n",
              "      <td>1</td>\n",
              "      <td>1</td>\n",
              "    </tr>\n",
              "    <tr>\n",
              "      <th>7</th>\n",
              "      <td>8</td>\n",
              "      <td>2</td>\n",
              "      <td>1</td>\n",
              "      <td>3</td>\n",
              "      <td>1</td>\n",
              "    </tr>\n",
              "    <tr>\n",
              "      <th>8</th>\n",
              "      <td>9</td>\n",
              "      <td>3</td>\n",
              "      <td>1</td>\n",
              "      <td>4</td>\n",
              "      <td>1</td>\n",
              "    </tr>\n",
              "    <tr>\n",
              "      <th>9</th>\n",
              "      <td>10</td>\n",
              "      <td>9</td>\n",
              "      <td>3</td>\n",
              "      <td>12</td>\n",
              "      <td>0</td>\n",
              "    </tr>\n",
              "    <tr>\n",
              "      <th>10</th>\n",
              "      <td>11</td>\n",
              "      <td>10</td>\n",
              "      <td>12</td>\n",
              "      <td>22</td>\n",
              "      <td>1</td>\n",
              "    </tr>\n",
              "    <tr>\n",
              "      <th>11</th>\n",
              "      <td>12</td>\n",
              "      <td>11</td>\n",
              "      <td>4</td>\n",
              "      <td>15</td>\n",
              "      <td>1</td>\n",
              "    </tr>\n",
              "    <tr>\n",
              "      <th>12</th>\n",
              "      <td>13</td>\n",
              "      <td>5</td>\n",
              "      <td>4</td>\n",
              "      <td>9</td>\n",
              "      <td>0</td>\n",
              "    </tr>\n",
              "    <tr>\n",
              "      <th>13</th>\n",
              "      <td>14</td>\n",
              "      <td>5</td>\n",
              "      <td>1</td>\n",
              "      <td>6</td>\n",
              "      <td>1</td>\n",
              "    </tr>\n",
              "    <tr>\n",
              "      <th>14</th>\n",
              "      <td>15</td>\n",
              "      <td>1</td>\n",
              "      <td>22</td>\n",
              "      <td>23</td>\n",
              "      <td>1</td>\n",
              "    </tr>\n",
              "  </tbody>\n",
              "</table>\n",
              "</div>"
            ],
            "text/plain": [
              "    Paciente  Tempo  Tempo Inicial  Tempo Final  Status\n",
              "0          1      2              0            2       1\n",
              "1          2      4              1            5       1\n",
              "2          3     29             12           41       0\n",
              "3          4      6              3            9       0\n",
              "4          5      3              1            4       1\n",
              "5          6      1              7            8       1\n",
              "6          7      1              0            1       1\n",
              "7          8      2              1            3       1\n",
              "8          9      3              1            4       1\n",
              "9         10      9              3           12       0\n",
              "10        11     10             12           22       1\n",
              "11        12     11              4           15       1\n",
              "12        13      5              4            9       0\n",
              "13        14      5              1            6       1\n",
              "14        15      1             22           23       1"
            ]
          },
          "metadata": {
            "tags": []
          },
          "execution_count": 11
        }
      ]
    },
    {
      "cell_type": "markdown",
      "metadata": {
        "id": "9J6MgbIol9E9",
        "colab_type": "text"
      },
      "source": [
        "## Exercício 2.3  <a id='Exercicio2.3'></a>\n",
        "\n",
        "Suponha que, em um hospital, 6 pacientes HIV positivo são acompanhados ao longo  de  um  ano.\n",
        "\n",
        "No  gráfico  abaixo,  as  linhas  horizontais  representam  o  tempo  de acompanhamento  de  cada  paciente. Represente,  utilizando  as variáveis N(t) e Y (t), as trajetórias de cada um dos 6 pacientes.\n",
        "\n",
        "[Topo](#topo)\n"
      ]
    },
    {
      "cell_type": "code",
      "metadata": {
        "id": "DM6X_5T9l9E-",
        "colab_type": "code",
        "outputId": "a42b787d-f992-4117-9287-e2eef7280410",
        "colab": {
          "base_uri": "https://localhost:8080/",
          "height": 464
        }
      },
      "source": [
        "# Dados de sobrevivência\n",
        "entry_individual = np.array([3,0,5,0,6,3])\n",
        "actual_lifetimes = np.array([9,6,3,12,6,4])\n",
        "censured = np.array([0,1,0,0,0,1])\n",
        "current_time = max(actual_lifetimes) + 1  #This variable defines the time window\n",
        "\n",
        "# Plot survival time\n",
        "survival_time_plot(entry_individual, actual_lifetimes, current_time, censured, \n",
        "                   \"Meses\", \"Pacientes\", \"Óbito por HIV\",\n",
        "                   10, 6) # Plot size"
      ],
      "execution_count": 12,
      "outputs": [
        {
          "output_type": "stream",
          "text": [
            "Tempo de vida observado: \n",
            " [ 9  6  3 12  6  4] \n",
            "\n"
          ],
          "name": "stdout"
        },
        {
          "output_type": "display_data",
          "data": {
            "image/png": "[encoded data removed]",
            "text/plain": [
              "<Figure size 720x432 with 1 Axes>"
            ]
          },
          "metadata": {
            "tags": [],
            "needs_background": "light"
          }
        }
      ]
    },
    {
      "cell_type": "code",
      "metadata": {
        "id": "XnJBd6sll9FF",
        "colab_type": "code",
        "outputId": "59c736e2-feba-45d2-a021-1398dec72dcf",
        "colab": {
          "base_uri": "https://localhost:8080/",
          "height": 1000
        }
      },
      "source": [
        "# Plot individual trajectory\n",
        "individual_trajectory_plot(entry_individual, actual_lifetimes, censured, \"Meses\")"
      ],
      "execution_count": 13,
      "outputs": [
        {
          "output_type": "stream",
          "text": [
            "Indivíduo: 1, Trajetória de Sobrevivência: 9.\n"
          ],
          "name": "stdout"
        },
        {
          "output_type": "display_data",
          "data": {
            "image/png": "[encoded data removed]",
            "text/plain": [
              "<Figure size 432x216 with 1 Axes>"
            ]
          },
          "metadata": {
            "tags": [],
            "needs_background": "light"
          }
        },
        {
          "output_type": "stream",
          "text": [
            "Indivíduo: 2, Trajetória de Sobrevivência: 6.\n"
          ],
          "name": "stdout"
        },
        {
          "output_type": "display_data",
          "data": {
            "image/png": "[encoded data removed]",
            "text/plain": [
              "<Figure size 432x216 with 1 Axes>"
            ]
          },
          "metadata": {
            "tags": [],
            "needs_background": "light"
          }
        },
        {
          "output_type": "stream",
          "text": [
            "Indivíduo: 3, Trajetória de Sobrevivência: 3.\n"
          ],
          "name": "stdout"
        },
        {
          "output_type": "display_data",
          "data": {
            "image/png": "[encoded data removed]",
            "text/plain": [
              "<Figure size 432x216 with 1 Axes>"
            ]
          },
          "metadata": {
            "tags": [],
            "needs_background": "light"
          }
        },
        {
          "output_type": "stream",
          "text": [
            "Indivíduo: 4, Trajetória de Sobrevivência: 12.\n"
          ],
          "name": "stdout"
        },
        {
          "output_type": "display_data",
          "data": {
            "image/png": "[encoded data removed]",
            "text/plain": [
              "<Figure size 432x216 with 1 Axes>"
            ]
          },
          "metadata": {
            "tags": [],
            "needs_background": "light"
          }
        },
        {
          "output_type": "stream",
          "text": [
            "Indivíduo: 5, Trajetória de Sobrevivência: 6.\n"
          ],
          "name": "stdout"
        },
        {
          "output_type": "display_data",
          "data": {
            "image/png": "[encoded data removed]",
            "text/plain": [
              "<Figure size 432x216 with 1 Axes>"
            ]
          },
          "metadata": {
            "tags": [],
            "needs_background": "light"
          }
        },
        {
          "output_type": "stream",
          "text": [
            "Indivíduo: 6, Trajetória de Sobrevivência: 4.\n"
          ],
          "name": "stdout"
        },
        {
          "output_type": "display_data",
          "data": {
            "image/png": "[encoded data removed]",
            "text/plain": [
              "<Figure size 432x216 with 1 Axes>"
            ]
          },
          "metadata": {
            "tags": [],
            "needs_background": "light"
          }
        }
      ]
    },
    {
      "cell_type": "markdown",
      "metadata": {
        "id": "vtYTYy3ul9FK",
        "colab_type": "text"
      },
      "source": [
        "## Exercício 2.4  <a id='Exercicio2.4'></a>\n",
        "\n",
        "Um paciente tem a seguinte trajetória de observação, segundo oprocesso de contagem abaixo.\n",
        "\n",
        "[Topo](#topo)"
      ]
    },
    {
      "cell_type": "code",
      "metadata": {
        "id": "L4Z60de5l9FL",
        "colab_type": "code",
        "outputId": "1efd2da1-14f1-4fe9-84b1-bcc1a9cc2c3f",
        "colab": {
          "base_uri": "https://localhost:8080/",
          "height": 570
        }
      },
      "source": [
        "entry_individual = np.array([2,0])\n",
        "actual_lifetimes = np.array([2,12])\n",
        "censured = np.array([1,0])\n",
        "individual_trajectory_plot(entry_individual, actual_lifetimes, censured, \"Meses\")\n",
        "\n",
        "print(\"Qual foi o mês de entrada do paciente no estudo?\", 2)\n",
        "print(\"Em que mês ocorreu o desfecho?\", 4)\n",
        "print(\"Quais os meses em que o paciente estava sob risco de óbito?\", 2, 3, 4)"
      ],
      "execution_count": 14,
      "outputs": [
        {
          "output_type": "stream",
          "text": [
            "Indivíduo: 1, Trajetória de Sobrevivência: 2.\n"
          ],
          "name": "stdout"
        },
        {
          "output_type": "display_data",
          "data": {
            "image/png": "[encoded data removed]",
            "text/plain": [
              "<Figure size 432x216 with 1 Axes>"
            ]
          },
          "metadata": {
            "tags": [],
            "needs_background": "light"
          }
        },
        {
          "output_type": "stream",
          "text": [
            "Indivíduo: 2, Trajetória de Sobrevivência: 12.\n"
          ],
          "name": "stdout"
        },
        {
          "output_type": "display_data",
          "data": {
            "image/png": "[encoded data removed]",
            "text/plain": [
              "<Figure size 432x216 with 1 Axes>"
            ]
          },
          "metadata": {
            "tags": [],
            "needs_background": "light"
          }
        },
        {
          "output_type": "stream",
          "text": [
            "Qual foi o mês de entrada do paciente no estudo? 2\n",
            "Em que mês ocorreu o desfecho? 4\n",
            "Quais os meses em que o paciente estava sob risco de óbito? 2 3 4\n"
          ],
          "name": "stdout"
        }
      ]
    },
    {
      "cell_type": "markdown",
      "metadata": {
        "id": "dNR-PJ8-l9FQ",
        "colab_type": "text"
      },
      "source": [
        "## Exercício 2.5  <a id='Exercicio2.5'></a>\n",
        "\n",
        "Um paciente tem a seguinte trajetória de observação, segundo oprocesso de contagem abaixo.\n",
        "\n",
        "[Topo](#topo)"
      ]
    },
    {
      "cell_type": "code",
      "metadata": {
        "id": "0nPc-NVrl9FR",
        "colab_type": "code",
        "outputId": "04f128dc-7bfa-427e-ee07-67e636533e38",
        "colab": {
          "base_uri": "https://localhost:8080/",
          "height": 552
        }
      },
      "source": [
        "entry_individual = np.array([0,0])\n",
        "actual_lifetimes = np.array([8,12])\n",
        "censured = np.array([1,0])\n",
        "individual_trajectory_plot(entry_individual, actual_lifetimes, censured, \"Meses\")\n",
        "\n",
        "print(\"Qual foi o mês de entrada do paciente no estudo?\", 0)\n",
        "print(\"Em que mês ocorreu o desfecho?\", 8)"
      ],
      "execution_count": 15,
      "outputs": [
        {
          "output_type": "stream",
          "text": [
            "Indivíduo: 1, Trajetória de Sobrevivência: 8.\n"
          ],
          "name": "stdout"
        },
        {
          "output_type": "display_data",
          "data": {
            "image/png": "[encoded data removed]",
            "text/plain": [
              "<Figure size 432x216 with 1 Axes>"
            ]
          },
          "metadata": {
            "tags": [],
            "needs_background": "light"
          }
        },
        {
          "output_type": "stream",
          "text": [
            "Indivíduo: 2, Trajetória de Sobrevivência: 12.\n"
          ],
          "name": "stdout"
        },
        {
          "output_type": "display_data",
          "data": {
            "image/png": "[encoded data removed]",
            "text/plain": [
              "<Figure size 432x216 with 1 Axes>"
            ]
          },
          "metadata": {
            "tags": [],
            "needs_background": "light"
          }
        },
        {
          "output_type": "stream",
          "text": [
            "Qual foi o mês de entrada do paciente no estudo? 0\n",
            "Em que mês ocorreu o desfecho? 8\n"
          ],
          "name": "stdout"
        }
      ]
    },
    {
      "cell_type": "markdown",
      "metadata": {
        "id": "6Nobs7Udl9FW",
        "colab_type": "text"
      },
      "source": [
        "## Exercício 2.6  <a id='Exercicio2.6'></a>\n",
        "\n",
        "Considere os dados de 6 indivíduos em uma coorte para a avaliação de fatores de  risco  para  a  infecção  por  HIV.\n",
        "\n",
        "O  estudo  iniciou-se em  01/06/2008  quando  2  indivíduos entraram  no  estudo,  com  resultados  negativos  para  a  infecção.\n",
        "\n",
        "Um  deles  ao  realizar  o segundo exame, um mês depois, teve resultado positivo, o outro positivou depois de 2 meses.\n",
        "\n",
        "Os outros 4 indivíduos realizaram seus primeiros exames em 01/07, 01/09, 01/08 e 01/08, e as suas respectivas datas de soroconversões foram 2, 3, 2 e 5 meses, após a entrada.\n",
        "\n",
        "* [**a) Construa um banco de dados no formato clássico.**](#E2.6.a)\n",
        "* [**b) Construa um banco de dados em formato de processo de contagem..**](#E2.6.b)\n",
        "* [**c) Represente graficamente os tempos observados desses indivíduos.**](#E2.6.c)\n",
        "* [**d) Represente as trajetórias dos seis indivíduos utilizando as variáveis N(t) e Y (t).**](#E2.6.d)\n",
        "\n",
        "[Topo](#topo)"
      ]
    },
    {
      "cell_type": "code",
      "metadata": {
        "id": "cPgXxE9Vl9FX",
        "colab_type": "code",
        "colab": {}
      },
      "source": [
        "entry_individual = np.array([0,0,1,3,2,2])\n",
        "actual_lifetimes = np.array([1,2,2,3,2,5])\n",
        "censured = np.array([1,1,1,1,1,1])\n",
        "current_time = max(actual_lifetimes+entry_individual) + 1  #This variable defines the time window\n"
      ],
      "execution_count": 0,
      "outputs": []
    },
    {
      "cell_type": "markdown",
      "metadata": {
        "id": "Dp39FDcpl9Fb",
        "colab_type": "text"
      },
      "source": [
        "<a id='E2.6.a'></a>\n",
        "#### **a) Construa um banco de dados no formato clássico.**"
      ]
    },
    {
      "cell_type": "code",
      "metadata": {
        "id": "isSXcHp0l9Fb",
        "colab_type": "code",
        "outputId": "31432c9c-f355-4948-e60c-570e6d4b93fd",
        "colab": {
          "base_uri": "https://localhost:8080/",
          "height": 238
        }
      },
      "source": [
        "df = pd.DataFrame(actual_lifetimes)\n",
        "df = df.reset_index()\n",
        "df = df.rename(columns={0: 'Tempo', 'index':'Indivíduo'})\n",
        "df['Status'] = censured\n",
        "df['Indivíduo'] = df['Indivíduo'] + 1\n",
        "df"
      ],
      "execution_count": 17,
      "outputs": [
        {
          "output_type": "execute_result",
          "data": {
            "text/html": [
              "<div>\n",
              "<style scoped>\n",
              "    .dataframe tbody tr th:only-of-type {\n",
              "        vertical-align: middle;\n",
              "    }\n",
              "\n",
              "    .dataframe tbody tr th {\n",
              "        vertical-align: top;\n",
              "    }\n",
              "\n",
              "    .dataframe thead th {\n",
              "        text-align: right;\n",
              "    }\n",
              "</style>\n",
              "<table border=\"1\" class=\"dataframe\">\n",
              "  <thead>\n",
              "    <tr style=\"text-align: right;\">\n",
              "      <th></th>\n",
              "      <th>Indivíduo</th>\n",
              "      <th>Tempo</th>\n",
              "      <th>Status</th>\n",
              "    </tr>\n",
              "  </thead>\n",
              "  <tbody>\n",
              "    <tr>\n",
              "      <th>0</th>\n",
              "      <td>1</td>\n",
              "      <td>1</td>\n",
              "      <td>1</td>\n",
              "    </tr>\n",
              "    <tr>\n",
              "      <th>1</th>\n",
              "      <td>2</td>\n",
              "      <td>2</td>\n",
              "      <td>1</td>\n",
              "    </tr>\n",
              "    <tr>\n",
              "      <th>2</th>\n",
              "      <td>3</td>\n",
              "      <td>2</td>\n",
              "      <td>1</td>\n",
              "    </tr>\n",
              "    <tr>\n",
              "      <th>3</th>\n",
              "      <td>4</td>\n",
              "      <td>3</td>\n",
              "      <td>1</td>\n",
              "    </tr>\n",
              "    <tr>\n",
              "      <th>4</th>\n",
              "      <td>5</td>\n",
              "      <td>2</td>\n",
              "      <td>1</td>\n",
              "    </tr>\n",
              "    <tr>\n",
              "      <th>5</th>\n",
              "      <td>6</td>\n",
              "      <td>5</td>\n",
              "      <td>1</td>\n",
              "    </tr>\n",
              "  </tbody>\n",
              "</table>\n",
              "</div>"
            ],
            "text/plain": [
              "   Indivíduo  Tempo  Status\n",
              "0          1      1       1\n",
              "1          2      2       1\n",
              "2          3      2       1\n",
              "3          4      3       1\n",
              "4          5      2       1\n",
              "5          6      5       1"
            ]
          },
          "metadata": {
            "tags": []
          },
          "execution_count": 17
        }
      ]
    },
    {
      "cell_type": "markdown",
      "metadata": {
        "id": "qJWteA0Vl9Fg",
        "colab_type": "text"
      },
      "source": [
        "<a id='E2.6.b'></a>\n",
        "#### **b) Construa um banco de dados em formato de processo de contagem..**"
      ]
    },
    {
      "cell_type": "code",
      "metadata": {
        "id": "HdS9wCRXl9Fi",
        "colab_type": "code",
        "outputId": "7d4d93af-e114-4432-ab91-51f82cff5b91",
        "colab": {
          "base_uri": "https://localhost:8080/",
          "height": 238
        }
      },
      "source": [
        "df = pd.DataFrame(actual_lifetimes)\n",
        "df['Início'] = entry_individual\n",
        "df = df[['Início', 0]]\n",
        "df = df.reset_index()\n",
        "df = df.rename(columns={0: 'Fim', 'index':'Indivíduo'})\n",
        "df['Status'] = censured\n",
        "df['Indivíduo'] = df['Indivíduo'] + 1\n",
        "df['Fim'] = df['Fim'] + df['Início']\n",
        "df"
      ],
      "execution_count": 18,
      "outputs": [
        {
          "output_type": "execute_result",
          "data": {
            "text/html": [
              "<div>\n",
              "<style scoped>\n",
              "    .dataframe tbody tr th:only-of-type {\n",
              "        vertical-align: middle;\n",
              "    }\n",
              "\n",
              "    .dataframe tbody tr th {\n",
              "        vertical-align: top;\n",
              "    }\n",
              "\n",
              "    .dataframe thead th {\n",
              "        text-align: right;\n",
              "    }\n",
              "</style>\n",
              "<table border=\"1\" class=\"dataframe\">\n",
              "  <thead>\n",
              "    <tr style=\"text-align: right;\">\n",
              "      <th></th>\n",
              "      <th>Indivíduo</th>\n",
              "      <th>Início</th>\n",
              "      <th>Fim</th>\n",
              "      <th>Status</th>\n",
              "    </tr>\n",
              "  </thead>\n",
              "  <tbody>\n",
              "    <tr>\n",
              "      <th>0</th>\n",
              "      <td>1</td>\n",
              "      <td>0</td>\n",
              "      <td>1</td>\n",
              "      <td>1</td>\n",
              "    </tr>\n",
              "    <tr>\n",
              "      <th>1</th>\n",
              "      <td>2</td>\n",
              "      <td>0</td>\n",
              "      <td>2</td>\n",
              "      <td>1</td>\n",
              "    </tr>\n",
              "    <tr>\n",
              "      <th>2</th>\n",
              "      <td>3</td>\n",
              "      <td>1</td>\n",
              "      <td>3</td>\n",
              "      <td>1</td>\n",
              "    </tr>\n",
              "    <tr>\n",
              "      <th>3</th>\n",
              "      <td>4</td>\n",
              "      <td>3</td>\n",
              "      <td>6</td>\n",
              "      <td>1</td>\n",
              "    </tr>\n",
              "    <tr>\n",
              "      <th>4</th>\n",
              "      <td>5</td>\n",
              "      <td>2</td>\n",
              "      <td>4</td>\n",
              "      <td>1</td>\n",
              "    </tr>\n",
              "    <tr>\n",
              "      <th>5</th>\n",
              "      <td>6</td>\n",
              "      <td>2</td>\n",
              "      <td>7</td>\n",
              "      <td>1</td>\n",
              "    </tr>\n",
              "  </tbody>\n",
              "</table>\n",
              "</div>"
            ],
            "text/plain": [
              "   Indivíduo  Início  Fim  Status\n",
              "0          1       0    1       1\n",
              "1          2       0    2       1\n",
              "2          3       1    3       1\n",
              "3          4       3    6       1\n",
              "4          5       2    4       1\n",
              "5          6       2    7       1"
            ]
          },
          "metadata": {
            "tags": []
          },
          "execution_count": 18
        }
      ]
    },
    {
      "cell_type": "markdown",
      "metadata": {
        "id": "tzPvTUaKl9Fl",
        "colab_type": "text"
      },
      "source": [
        "<a id='E2.6.c'></a>\n",
        "### **c) Represente graficamente os tempos observados desses indivíduos.**"
      ]
    },
    {
      "cell_type": "code",
      "metadata": {
        "id": "CLvtsgvwl9Fp",
        "colab_type": "code",
        "outputId": "63e13b9d-5674-4e7e-ca8d-30b04088f45f",
        "colab": {
          "base_uri": "https://localhost:8080/",
          "height": 461
        }
      },
      "source": [
        "# Plot survival time\n",
        "survival_time_plot(entry_individual, actual_lifetimes, current_time, censured, \n",
        "                   \"Meses\", \"Pacientes\", \"Soropositivo HIV\",\n",
        "                   10, 6) # Plot size"
      ],
      "execution_count": 19,
      "outputs": [
        {
          "output_type": "stream",
          "text": [
            "Tempo de vida observado: \n",
            " [1 2 2 3 2 5] \n",
            "\n"
          ],
          "name": "stdout"
        },
        {
          "output_type": "display_data",
          "data": {
            "image/png": "[encoded data removed]",
            "text/plain": [
              "<Figure size 720x432 with 1 Axes>"
            ]
          },
          "metadata": {
            "tags": [],
            "needs_background": "light"
          }
        }
      ]
    },
    {
      "cell_type": "markdown",
      "metadata": {
        "id": "r_fzxDROl9Ft",
        "colab_type": "text"
      },
      "source": [
        "<a id='E2.6.d'></a>\n",
        "#### **d) Represente as trajetórias dos seis indivíduos utilizando as variáveis N(t) e Y (t).**"
      ]
    },
    {
      "cell_type": "code",
      "metadata": {
        "id": "U0n80WAql9Ft",
        "colab_type": "code",
        "outputId": "365d96fb-06eb-43b8-a963-48ee9525a3e2",
        "colab": {
          "base_uri": "https://localhost:8080/",
          "height": 1000
        }
      },
      "source": [
        "individual_trajectory_plot(entry_individual, actual_lifetimes, censured, \"Meses\")"
      ],
      "execution_count": 20,
      "outputs": [
        {
          "output_type": "stream",
          "text": [
            "Indivíduo: 1, Trajetória de Sobrevivência: 1.\n"
          ],
          "name": "stdout"
        },
        {
          "output_type": "display_data",
          "data": {
            "image/png": "[encoded data removed]",
            "text/plain": [
              "<Figure size 432x216 with 1 Axes>"
            ]
          },
          "metadata": {
            "tags": [],
            "needs_background": "light"
          }
        },
        {
          "output_type": "stream",
          "text": [
            "Indivíduo: 2, Trajetória de Sobrevivência: 2.\n"
          ],
          "name": "stdout"
        },
        {
          "output_type": "display_data",
          "data": {
            "image/png": "[encoded data removed]",
            "text/plain": [
              "<Figure size 432x216 with 1 Axes>"
            ]
          },
          "metadata": {
            "tags": [],
            "needs_background": "light"
          }
        },
        {
          "output_type": "stream",
          "text": [
            "Indivíduo: 3, Trajetória de Sobrevivência: 2.\n"
          ],
          "name": "stdout"
        },
        {
          "output_type": "display_data",
          "data": {
            "image/png": "[encoded data removed]",
            "text/plain": [
              "<Figure size 432x216 with 1 Axes>"
            ]
          },
          "metadata": {
            "tags": [],
            "needs_background": "light"
          }
        },
        {
          "output_type": "stream",
          "text": [
            "Indivíduo: 4, Trajetória de Sobrevivência: 3.\n"
          ],
          "name": "stdout"
        },
        {
          "output_type": "display_data",
          "data": {
            "image/png": "[encoded data removed]",
            "text/plain": [
              "<Figure size 432x216 with 1 Axes>"
            ]
          },
          "metadata": {
            "tags": [],
            "needs_background": "light"
          }
        },
        {
          "output_type": "stream",
          "text": [
            "Indivíduo: 5, Trajetória de Sobrevivência: 2.\n"
          ],
          "name": "stdout"
        },
        {
          "output_type": "display_data",
          "data": {
            "image/png": "[encoded data removed]",
            "text/plain": [
              "<Figure size 432x216 with 1 Axes>"
            ]
          },
          "metadata": {
            "tags": [],
            "needs_background": "light"
          }
        },
        {
          "output_type": "stream",
          "text": [
            "Indivíduo: 6, Trajetória de Sobrevivência: 5.\n"
          ],
          "name": "stdout"
        },
        {
          "output_type": "display_data",
          "data": {
            "image/png": "[encoded data removed]",
            "text/plain": [
              "<Figure size 432x216 with 1 Axes>"
            ]
          },
          "metadata": {
            "tags": [],
            "needs_background": "light"
          }
        }
      ]
    },
    {
      "cell_type": "markdown",
      "metadata": {
        "id": "zmxjGabyl9Fz",
        "colab_type": "text"
      },
      "source": [
        "e) Quais são os indivíduos em risco no 5º mês do estudo?\n",
        "\n",
        "**4 e 6**\n",
        "\n",
        "f) Que tipo de censura ocorreu neste estudo?\n",
        "\n",
        "**Censura intervalar**\n",
        "\n",
        "g) Em que situação haveria truncamento?\n",
        "\n",
        "**Incluíndo indivíduos já HIV positivos, ainda vivos no momento do primeiro exame.**"
      ]
    },
    {
      "cell_type": "markdown",
      "metadata": {
        "id": "d3aKUmKdl9Fz",
        "colab_type": "text"
      },
      "source": [
        "## Exercício 2.7  <a id='Exercicio2.7'></a>\n",
        "\n",
        "Para se familiarizar com o banco de dados do IPEC (ipec.csv, veja o Apêndice, seção AIDS – clássico) que será utilizado nos próximos capítulos, inicie a análise de sobrevivência observando os dados dos pacientes.\n",
        "\n",
        "\n",
        "[Topo](#topo)"
      ]
    },
    {
      "cell_type": "markdown",
      "metadata": {
        "id": "5_eiDDxzvvLk",
        "colab_type": "text"
      },
      "source": [
        "#### Load dataset"
      ]
    },
    {
      "cell_type": "code",
      "metadata": {
        "id": "g3QS0v-Ll9F0",
        "colab_type": "code",
        "outputId": "d89ce5e7-41cd-4a05-9a00-d1001a0b8cec",
        "colab": {
          "base_uri": "https://localhost:8080/",
          "height": 300
        }
      },
      "source": [
        "df = pd.read_csv('drive/My Drive/Colab Notebooks/datasets/ipec.csv', sep=';')\n",
        "df.describe()"
      ],
      "execution_count": 21,
      "outputs": [
        {
          "output_type": "execute_result",
          "data": {
            "text/html": [
              "<div>\n",
              "<style scoped>\n",
              "    .dataframe tbody tr th:only-of-type {\n",
              "        vertical-align: middle;\n",
              "    }\n",
              "\n",
              "    .dataframe tbody tr th {\n",
              "        vertical-align: top;\n",
              "    }\n",
              "\n",
              "    .dataframe thead th {\n",
              "        text-align: right;\n",
              "    }\n",
              "</style>\n",
              "<table border=\"1\" class=\"dataframe\">\n",
              "  <thead>\n",
              "    <tr style=\"text-align: right;\">\n",
              "      <th></th>\n",
              "      <th>id</th>\n",
              "      <th>ini</th>\n",
              "      <th>fim</th>\n",
              "      <th>tempo</th>\n",
              "      <th>status</th>\n",
              "      <th>escola</th>\n",
              "      <th>idade</th>\n",
              "      <th>risco</th>\n",
              "      <th>acompan</th>\n",
              "      <th>anotrat</th>\n",
              "      <th>tratam</th>\n",
              "      <th>doenca</th>\n",
              "      <th>propcp</th>\n",
              "    </tr>\n",
              "  </thead>\n",
              "  <tbody>\n",
              "    <tr>\n",
              "      <th>count</th>\n",
              "      <td>193.000000</td>\n",
              "      <td>193.000000</td>\n",
              "      <td>193.000000</td>\n",
              "      <td>193.000000</td>\n",
              "      <td>193.000000</td>\n",
              "      <td>182.000000</td>\n",
              "      <td>193.000000</td>\n",
              "      <td>156.000000</td>\n",
              "      <td>193.000000</td>\n",
              "      <td>193.000000</td>\n",
              "      <td>193.000000</td>\n",
              "      <td>193.000000</td>\n",
              "      <td>193.000000</td>\n",
              "    </tr>\n",
              "    <tr>\n",
              "      <th>mean</th>\n",
              "      <td>97.000000</td>\n",
              "      <td>2396.922280</td>\n",
              "      <td>3335.160622</td>\n",
              "      <td>938.238342</td>\n",
              "      <td>0.466321</td>\n",
              "      <td>1.241758</td>\n",
              "      <td>36.554404</td>\n",
              "      <td>1.506410</td>\n",
              "      <td>0.896373</td>\n",
              "      <td>1542.005181</td>\n",
              "      <td>1.098446</td>\n",
              "      <td>37.958549</td>\n",
              "      <td>2.948187</td>\n",
              "    </tr>\n",
              "    <tr>\n",
              "      <th>std</th>\n",
              "      <td>55.858452</td>\n",
              "      <td>1216.918778</td>\n",
              "      <td>1501.300776</td>\n",
              "      <td>770.741415</td>\n",
              "      <td>0.500162</td>\n",
              "      <td>1.049500</td>\n",
              "      <td>9.508680</td>\n",
              "      <td>1.975648</td>\n",
              "      <td>0.691946</td>\n",
              "      <td>835.230679</td>\n",
              "      <td>0.832696</td>\n",
              "      <td>44.700489</td>\n",
              "      <td>1.603190</td>\n",
              "    </tr>\n",
              "    <tr>\n",
              "      <th>min</th>\n",
              "      <td>1.000000</td>\n",
              "      <td>1.000000</td>\n",
              "      <td>96.000000</td>\n",
              "      <td>16.000000</td>\n",
              "      <td>0.000000</td>\n",
              "      <td>0.000000</td>\n",
              "      <td>20.000000</td>\n",
              "      <td>0.000000</td>\n",
              "      <td>0.000000</td>\n",
              "      <td>9.000000</td>\n",
              "      <td>0.000000</td>\n",
              "      <td>1.000000</td>\n",
              "      <td>0.000000</td>\n",
              "    </tr>\n",
              "    <tr>\n",
              "      <th>25%</th>\n",
              "      <td>49.000000</td>\n",
              "      <td>1406.000000</td>\n",
              "      <td>2095.000000</td>\n",
              "      <td>290.000000</td>\n",
              "      <td>0.000000</td>\n",
              "      <td>0.000000</td>\n",
              "      <td>30.000000</td>\n",
              "      <td>0.000000</td>\n",
              "      <td>0.000000</td>\n",
              "      <td>1990.000000</td>\n",
              "      <td>1.000000</td>\n",
              "      <td>3.000000</td>\n",
              "      <td>2.000000</td>\n",
              "    </tr>\n",
              "    <tr>\n",
              "      <th>50%</th>\n",
              "      <td>97.000000</td>\n",
              "      <td>2454.000000</td>\n",
              "      <td>3711.000000</td>\n",
              "      <td>852.000000</td>\n",
              "      <td>0.000000</td>\n",
              "      <td>1.000000</td>\n",
              "      <td>35.000000</td>\n",
              "      <td>0.000000</td>\n",
              "      <td>1.000000</td>\n",
              "      <td>1993.000000</td>\n",
              "      <td>1.000000</td>\n",
              "      <td>8.000000</td>\n",
              "      <td>4.000000</td>\n",
              "    </tr>\n",
              "    <tr>\n",
              "      <th>75%</th>\n",
              "      <td>145.000000</td>\n",
              "      <td>3314.000000</td>\n",
              "      <td>4790.000000</td>\n",
              "      <td>1348.000000</td>\n",
              "      <td>1.000000</td>\n",
              "      <td>2.000000</td>\n",
              "      <td>43.000000</td>\n",
              "      <td>3.000000</td>\n",
              "      <td>1.000000</td>\n",
              "      <td>1996.000000</td>\n",
              "      <td>2.000000</td>\n",
              "      <td>99.000000</td>\n",
              "      <td>4.000000</td>\n",
              "    </tr>\n",
              "    <tr>\n",
              "      <th>max</th>\n",
              "      <td>193.000000</td>\n",
              "      <td>4593.000000</td>\n",
              "      <td>4822.000000</td>\n",
              "      <td>3228.000000</td>\n",
              "      <td>1.000000</td>\n",
              "      <td>3.000000</td>\n",
              "      <td>68.000000</td>\n",
              "      <td>6.000000</td>\n",
              "      <td>2.000000</td>\n",
              "      <td>2000.000000</td>\n",
              "      <td>3.000000</td>\n",
              "      <td>99.000000</td>\n",
              "      <td>4.000000</td>\n",
              "    </tr>\n",
              "  </tbody>\n",
              "</table>\n",
              "</div>"
            ],
            "text/plain": [
              "               id          ini          fim  ...      tratam      doenca      propcp\n",
              "count  193.000000   193.000000   193.000000  ...  193.000000  193.000000  193.000000\n",
              "mean    97.000000  2396.922280  3335.160622  ...    1.098446   37.958549    2.948187\n",
              "std     55.858452  1216.918778  1501.300776  ...    0.832696   44.700489    1.603190\n",
              "min      1.000000     1.000000    96.000000  ...    0.000000    1.000000    0.000000\n",
              "25%     49.000000  1406.000000  2095.000000  ...    1.000000    3.000000    2.000000\n",
              "50%     97.000000  2454.000000  3711.000000  ...    1.000000    8.000000    4.000000\n",
              "75%    145.000000  3314.000000  4790.000000  ...    2.000000   99.000000    4.000000\n",
              "max    193.000000  4593.000000  4822.000000  ...    3.000000   99.000000    4.000000\n",
              "\n",
              "[8 rows x 13 columns]"
            ]
          },
          "metadata": {
            "tags": []
          },
          "execution_count": 21
        }
      ]
    },
    {
      "cell_type": "code",
      "metadata": {
        "id": "5MC-unHJl9F6",
        "colab_type": "code",
        "outputId": "da205444-1f43-497c-be1a-3fc69aff1ed7",
        "colab": {
          "base_uri": "https://localhost:8080/",
          "height": 206
        }
      },
      "source": [
        "df.head()"
      ],
      "execution_count": 22,
      "outputs": [
        {
          "output_type": "execute_result",
          "data": {
            "text/html": [
              "<div>\n",
              "<style scoped>\n",
              "    .dataframe tbody tr th:only-of-type {\n",
              "        vertical-align: middle;\n",
              "    }\n",
              "\n",
              "    .dataframe tbody tr th {\n",
              "        vertical-align: top;\n",
              "    }\n",
              "\n",
              "    .dataframe thead th {\n",
              "        text-align: right;\n",
              "    }\n",
              "</style>\n",
              "<table border=\"1\" class=\"dataframe\">\n",
              "  <thead>\n",
              "    <tr style=\"text-align: right;\">\n",
              "      <th></th>\n",
              "      <th>id</th>\n",
              "      <th>ini</th>\n",
              "      <th>fim</th>\n",
              "      <th>tempo</th>\n",
              "      <th>status</th>\n",
              "      <th>sexo</th>\n",
              "      <th>escola</th>\n",
              "      <th>idade</th>\n",
              "      <th>risco</th>\n",
              "      <th>acompan</th>\n",
              "      <th>obito</th>\n",
              "      <th>anotrat</th>\n",
              "      <th>tratam</th>\n",
              "      <th>doenca</th>\n",
              "      <th>propcp</th>\n",
              "    </tr>\n",
              "  </thead>\n",
              "  <tbody>\n",
              "    <tr>\n",
              "      <th>0</th>\n",
              "      <td>1</td>\n",
              "      <td>1243</td>\n",
              "      <td>2095</td>\n",
              "      <td>852</td>\n",
              "      <td>1</td>\n",
              "      <td>M</td>\n",
              "      <td>3.0</td>\n",
              "      <td>34</td>\n",
              "      <td>0.0</td>\n",
              "      <td>1</td>\n",
              "      <td>S</td>\n",
              "      <td>1991</td>\n",
              "      <td>1</td>\n",
              "      <td>4</td>\n",
              "      <td>3</td>\n",
              "    </tr>\n",
              "    <tr>\n",
              "      <th>1</th>\n",
              "      <td>2</td>\n",
              "      <td>2800</td>\n",
              "      <td>2923</td>\n",
              "      <td>123</td>\n",
              "      <td>1</td>\n",
              "      <td>M</td>\n",
              "      <td>2.0</td>\n",
              "      <td>38</td>\n",
              "      <td>6.0</td>\n",
              "      <td>1</td>\n",
              "      <td>S</td>\n",
              "      <td>9</td>\n",
              "      <td>0</td>\n",
              "      <td>7</td>\n",
              "      <td>4</td>\n",
              "    </tr>\n",
              "    <tr>\n",
              "      <th>2</th>\n",
              "      <td>3</td>\n",
              "      <td>1250</td>\n",
              "      <td>2395</td>\n",
              "      <td>1145</td>\n",
              "      <td>1</td>\n",
              "      <td>M</td>\n",
              "      <td>NaN</td>\n",
              "      <td>32</td>\n",
              "      <td>0.0</td>\n",
              "      <td>1</td>\n",
              "      <td>S</td>\n",
              "      <td>1992</td>\n",
              "      <td>1</td>\n",
              "      <td>3</td>\n",
              "      <td>4</td>\n",
              "    </tr>\n",
              "    <tr>\n",
              "      <th>3</th>\n",
              "      <td>4</td>\n",
              "      <td>1915</td>\n",
              "      <td>4670</td>\n",
              "      <td>2755</td>\n",
              "      <td>0</td>\n",
              "      <td>M</td>\n",
              "      <td>NaN</td>\n",
              "      <td>43</td>\n",
              "      <td>6.0</td>\n",
              "      <td>0</td>\n",
              "      <td>N</td>\n",
              "      <td>1992</td>\n",
              "      <td>1</td>\n",
              "      <td>10</td>\n",
              "      <td>4</td>\n",
              "    </tr>\n",
              "    <tr>\n",
              "      <th>4</th>\n",
              "      <td>5</td>\n",
              "      <td>2653</td>\n",
              "      <td>4770</td>\n",
              "      <td>2117</td>\n",
              "      <td>0</td>\n",
              "      <td>M</td>\n",
              "      <td>NaN</td>\n",
              "      <td>40</td>\n",
              "      <td>0.0</td>\n",
              "      <td>1</td>\n",
              "      <td>N</td>\n",
              "      <td>1992</td>\n",
              "      <td>1</td>\n",
              "      <td>5</td>\n",
              "      <td>4</td>\n",
              "    </tr>\n",
              "  </tbody>\n",
              "</table>\n",
              "</div>"
            ],
            "text/plain": [
              "   id   ini   fim  tempo  status  ... obito  anotrat  tratam  doenca  propcp\n",
              "0   1  1243  2095    852       1  ...     S     1991       1       4       3\n",
              "1   2  2800  2923    123       1  ...     S        9       0       7       4\n",
              "2   3  1250  2395   1145       1  ...     S     1992       1       3       4\n",
              "3   4  1915  4670   2755       0  ...     N     1992       1      10       4\n",
              "4   5  2653  4770   2117       0  ...     N     1992       1       5       4\n",
              "\n",
              "[5 rows x 15 columns]"
            ]
          },
          "metadata": {
            "tags": []
          },
          "execution_count": 22
        }
      ]
    },
    {
      "cell_type": "markdown",
      "metadata": {
        "id": "qV401rB2l9F-",
        "colab_type": "text"
      },
      "source": [
        "<a id='surv'></a>\n",
        "#### Function: surv"
      ]
    },
    {
      "cell_type": "code",
      "metadata": {
        "id": "48GEalJal9GA",
        "colab_type": "code",
        "colab": {}
      },
      "source": [
        "# Imprime variável de responsta e devolve em um array\n",
        "def surv(p_df, p_ini, p_fim, p_tempo, p_status):\n",
        "    tempDf = pd.DataFrame()\n",
        "    classic_list = []\n",
        "    count_list = []\n",
        "\n",
        "    # Classic format\n",
        "    if p_tempo != '':    \n",
        "        result = \"\"\n",
        "        for index, row in p_df.iterrows():\n",
        "            value = (\"%s\" % row[p_tempo]) + (\"+\" if row[p_status] == 0 else \"\")\n",
        "            result = result + \"\\t\" + value\n",
        "            classic_list.append(value)\n",
        "\n",
        "        tempDf['Classic'] = np.array(classic_list)\n",
        "        print(result)\n",
        "\n",
        "    # Count process format\n",
        "    line_counts = 0\n",
        "    if p_ini != '':    \n",
        "        result = \"\"\n",
        "        for index, row in p_df.iterrows():\n",
        "            value = (\"(%s,%s\" % (row[p_ini],row[p_fim])) + (\"+\" if row[p_status] == 0 else \"\") + \"]\"\n",
        "            result = result + \"\\t\" + value\n",
        "            count_list.append(value)\n",
        "\n",
        "        tempDf['Score'] = np.array(count_list)\n",
        "        print(result)\n",
        "\n",
        "    return tempDf"
      ],
      "execution_count": 0,
      "outputs": []
    },
    {
      "cell_type": "markdown",
      "metadata": {
        "id": "77yDQw4htfJX",
        "colab_type": "text"
      },
      "source": [
        "#### a) No formato clássico"
      ]
    },
    {
      "cell_type": "code",
      "metadata": {
        "id": "73gSlfMFugRb",
        "colab_type": "code",
        "outputId": "654c44ab-39e4-42ca-d355-04685b25a629",
        "colab": {
          "base_uri": "https://localhost:8080/",
          "height": 54
        }
      },
      "source": [
        "dfAux = surv(df, '', 'fim', 'tempo', 'status')"
      ],
      "execution_count": 24,
      "outputs": [
        {
          "output_type": "stream",
          "text": [
            "\t852\t123\t1145\t2755+\t2117+\t329+\t60\t151\t1563\t1247\t84\t214\t25+\t1348\t158\t555\t408\t1116\t998\t1125\t944+\t54\t151\t855\t116\t80+\t1757+\t194\t183\t37\t237+\t1506\t168+\t134\t803+\t18\t371\t173\t688\t163\t3178+\t29\t50+\t887\t516\t645\t310\t204\t1344+\t1261\t285\t83\t150\t1307+\t1076+\t1226\t865+\t811\t2898\t80\t967\t618\t235\t2236+\t152\t892\t81+\t1085\t1073+\t1615+\t35\t290\t1780+\t3228+\t52\t733\t3213+\t1983\t2304+\t572\t21\t1272+\t1646+\t304\t418\t854\t2973+\t40\t850\t1139\t323\t1507+\t2717+\t1735+\t388+\t145\t905\t927\t1027+\t631\t2495+\t1331+\t623\t2568+\t2013+\t721\t1952+\t397\t254\t1630+\t1523+\t146+\t108\t1835+\t499\t333\t202+\t2437+\t1015\t2138+\t22\t2090+\t179\t2439+\t1063+\t85+\t343+\t2215+\t259\t2258+\t1371\t39\t2371+\t975+\t952\t2492+\t1478+\t295+\t992\t1011+\t644\t426\t537+\t1454+\t1869+\t714+\t1310+\t2084+\t1918+\t1649+\t290+\t1685+\t1348+\t652+\t1384+\t1471+\t1512+\t378+\t1352+\t419\t1426+\t1488+\t1315+\t643+\t1197+\t1343+\t1176+\t944\t340\t881+\t915+\t948+\t985+\t1242+\t955+\t987+\t899+\t1056+\t775\t785+\t731+\t16\t680+\t21+\t444+\t524+\t217+\t440+\t470+\t390+\t344+\t578+\t504+\n"
          ],
          "name": "stdout"
        }
      ]
    },
    {
      "cell_type": "markdown",
      "metadata": {
        "id": "87Pj35ICuvox",
        "colab_type": "text"
      },
      "source": [
        "#### b) No formato de processo de contagem"
      ]
    },
    {
      "cell_type": "code",
      "metadata": {
        "id": "RuTe-7PEt-St",
        "colab_type": "code",
        "outputId": "78ce7740-9ced-43b3-db1b-8bec23230440",
        "colab": {
          "base_uri": "https://localhost:8080/",
          "height": 54
        }
      },
      "source": [
        "dfAux = surv(df, 'ini', 'fim', '', 'status')"
      ],
      "execution_count": 25,
      "outputs": [
        {
          "output_type": "stream",
          "text": [
            "\t(1243,2095]\t(2800,2923]\t(1250,2395]\t(1915,4670+]\t(2653,4770+]\t(3,332+]\t(36,96]\t(1,152]\t(544,2107]\t(71,1318]\t(946,1030]\t(802,1016]\t(266,291+]\t(1544,2892]\t(57,215]\t(1270,1825]\t(2753,3161]\t(940,2056]\t(393,1391]\t(1000,2125]\t(238,1182+]\t(423,477]\t(206,357]\t(480,1335]\t(226,342]\t(249,329+]\t(3052,4809+]\t(1802,1996]\t(1395,1578]\t(354,391]\t(493,730+]\t(1113,2619]\t(638,806+]\t(655,789]\t(1189,1992+]\t(943,961]\t(1715,2086]\t(792,965]\t(1037,1725]\t(820,983]\t(884,4062+]\t(2262,2291]\t(1121,1171+]\t(1131,2018]\t(878,1394]\t(1316,1961]\t(1107,1417]\t(1190,1394]\t(393,1737+]\t(1274,2535]\t(1172,1457]\t(2360,2443]\t(2074,2224]\t(1019,2326+]\t(605,1681+]\t(1915,3141]\t(3948,4813+]\t(1314,2125]\t(1502,4400]\t(1347,1427]\t(1379,2346]\t(2352,2970]\t(2625,2860]\t(2586,4822+]\t(1406,1558]\t(1466,2358]\t(3314,3395+]\t(3413,4498]\t(3712,4785+]\t(3207,4822+]\t(1592,1627]\t(1537,1827]\t(3018,4798+]\t(1555,4783+]\t(1541,1593]\t(1589,2322]\t(1609,4822+]\t(1682,3665]\t(2465,4769+]\t(1243,1815]\t(1667,1688]\t(1605,2877+]\t(3157,4803+]\t(2066,2370]\t(1929,2347]\t(2216,3070]\t(1809,4782+]\t(1670,1710]\t(1983,2833]\t(2883,4022]\t(1766,2089]\t(3313,4820+]\t(1977,4694+]\t(3087,4822+]\t(2286,2674+]\t(1877,2022]\t(1852,2757]\t(1549,2476]\t(3795,4822+]\t(2475,3106]\t(2310,4805+]\t(2870,4201+]\t(1935,2558]\t(2199,4767+]\t(2800,4813+]\t(2990,3711]\t(2857,4809+]\t(3586,3983]\t(2143,2397]\t(3124,4754+]\t(3276,4799+]\t(2208,2354+]\t(2209,2317]\t(2976,4811+]\t(2626,3125]\t(3838,4171]\t(2314,2516+]\t(2311,4748+]\t(2280,3295]\t(2684,4822+]\t(2454,2476]\t(2713,4803+]\t(2311,2490]\t(2370,4809+]\t(3756,4819+]\t(2565,2650+]\t(2599,2942+]\t(2553,4768+]\t(2601,2860]\t(2553,4811+]\t(2726,4097]\t(2739,2778]\t(2447,4818+]\t(3830,4805+]\t(2429,3381]\t(2311,4803+]\t(3299,4777+]\t(4510,4805+]\t(2384,3376]\t(3749,4760+]\t(2676,3320]\t(2985,3411]\t(4192,4729+]\t(3159,4613+]\t(2921,4790+]\t(4078,4792+]\t(2934,4244+]\t(2645,4729+]\t(2857,4775+]\t(3173,4822+]\t(4509,4799+]\t(3082,4767+]\t(3465,4813+]\t(3188,3840+]\t(3271,4655+]\t(3276,4747+]\t(3287,4799+]\t(4439,4817+]\t(3446,4798+]\t(3305,3724]\t(3391,4817+]\t(3307,4795+]\t(3425,4740+]\t(4117,4760+]\t(3612,4809+]\t(3479,4822+]\t(3572,4748+]\t(3796,4740]\t(3527,3867]\t(3921,4802+]\t(3798,4713+]\t(3808,4756+]\t(3772,4757+]\t(3557,4799+]\t(3867,4822+]\t(3594,4581+]\t(3923,4822+]\t(3733,4789+]\t(4019,4794]\t(4033,4818+]\t(4040,4771+]\t(4053,4069]\t(4137,4817+]\t(4208,4229+]\t(4362,4806+]\t(4279,4803+]\t(4593,4810+]\t(4320,4760+]\t(4343,4813+]\t(4419,4809+]\t(4406,4750+]\t(4199,4777+]\t(4301,4805+]\n"
          ],
          "name": "stdout"
        }
      ]
    },
    {
      "cell_type": "markdown",
      "metadata": {
        "id": "u8TKXsPiv---",
        "colab_type": "text"
      },
      "source": [
        "#### c) Observe a saída nos dois formatos. Quais os tempos e status do 1o e 79o pacientes em cada um dos formatos?\n"
      ]
    },
    {
      "cell_type": "code",
      "metadata": {
        "id": "EbdQCCSnl9GD",
        "colab_type": "code",
        "outputId": "c63a1528-a67b-4921-ce71-4e861be8a921",
        "colab": {
          "base_uri": "https://localhost:8080/",
          "height": 211
        }
      },
      "source": [
        "dfAux = surv(df, 'ini', 'fim', 'tempo', 'status')\n",
        "print(\"\\nPaciente 1\")\n",
        "print(\"Tempo processo clássico: \" + dfAux.Classic[0])\n",
        "print(\"Tempo processo de contagem: \" + dfAux.Score[0])\n",
        "print(\"\")\n",
        "print(\"Paciente 79\")\n",
        "print(\"Tempo processo clássico: \" + dfAux.Classic[78])\n",
        "print(\"Tempo processo de contagem: \" + dfAux.Score[78])\n"
      ],
      "execution_count": 26,
      "outputs": [
        {
          "output_type": "stream",
          "text": [
            "\t852\t123\t1145\t2755+\t2117+\t329+\t60\t151\t1563\t1247\t84\t214\t25+\t1348\t158\t555\t408\t1116\t998\t1125\t944+\t54\t151\t855\t116\t80+\t1757+\t194\t183\t37\t237+\t1506\t168+\t134\t803+\t18\t371\t173\t688\t163\t3178+\t29\t50+\t887\t516\t645\t310\t204\t1344+\t1261\t285\t83\t150\t1307+\t1076+\t1226\t865+\t811\t2898\t80\t967\t618\t235\t2236+\t152\t892\t81+\t1085\t1073+\t1615+\t35\t290\t1780+\t3228+\t52\t733\t3213+\t1983\t2304+\t572\t21\t1272+\t1646+\t304\t418\t854\t2973+\t40\t850\t1139\t323\t1507+\t2717+\t1735+\t388+\t145\t905\t927\t1027+\t631\t2495+\t1331+\t623\t2568+\t2013+\t721\t1952+\t397\t254\t1630+\t1523+\t146+\t108\t1835+\t499\t333\t202+\t2437+\t1015\t2138+\t22\t2090+\t179\t2439+\t1063+\t85+\t343+\t2215+\t259\t2258+\t1371\t39\t2371+\t975+\t952\t2492+\t1478+\t295+\t992\t1011+\t644\t426\t537+\t1454+\t1869+\t714+\t1310+\t2084+\t1918+\t1649+\t290+\t1685+\t1348+\t652+\t1384+\t1471+\t1512+\t378+\t1352+\t419\t1426+\t1488+\t1315+\t643+\t1197+\t1343+\t1176+\t944\t340\t881+\t915+\t948+\t985+\t1242+\t955+\t987+\t899+\t1056+\t775\t785+\t731+\t16\t680+\t21+\t444+\t524+\t217+\t440+\t470+\t390+\t344+\t578+\t504+\n",
            "\t(1243,2095]\t(2800,2923]\t(1250,2395]\t(1915,4670+]\t(2653,4770+]\t(3,332+]\t(36,96]\t(1,152]\t(544,2107]\t(71,1318]\t(946,1030]\t(802,1016]\t(266,291+]\t(1544,2892]\t(57,215]\t(1270,1825]\t(2753,3161]\t(940,2056]\t(393,1391]\t(1000,2125]\t(238,1182+]\t(423,477]\t(206,357]\t(480,1335]\t(226,342]\t(249,329+]\t(3052,4809+]\t(1802,1996]\t(1395,1578]\t(354,391]\t(493,730+]\t(1113,2619]\t(638,806+]\t(655,789]\t(1189,1992+]\t(943,961]\t(1715,2086]\t(792,965]\t(1037,1725]\t(820,983]\t(884,4062+]\t(2262,2291]\t(1121,1171+]\t(1131,2018]\t(878,1394]\t(1316,1961]\t(1107,1417]\t(1190,1394]\t(393,1737+]\t(1274,2535]\t(1172,1457]\t(2360,2443]\t(2074,2224]\t(1019,2326+]\t(605,1681+]\t(1915,3141]\t(3948,4813+]\t(1314,2125]\t(1502,4400]\t(1347,1427]\t(1379,2346]\t(2352,2970]\t(2625,2860]\t(2586,4822+]\t(1406,1558]\t(1466,2358]\t(3314,3395+]\t(3413,4498]\t(3712,4785+]\t(3207,4822+]\t(1592,1627]\t(1537,1827]\t(3018,4798+]\t(1555,4783+]\t(1541,1593]\t(1589,2322]\t(1609,4822+]\t(1682,3665]\t(2465,4769+]\t(1243,1815]\t(1667,1688]\t(1605,2877+]\t(3157,4803+]\t(2066,2370]\t(1929,2347]\t(2216,3070]\t(1809,4782+]\t(1670,1710]\t(1983,2833]\t(2883,4022]\t(1766,2089]\t(3313,4820+]\t(1977,4694+]\t(3087,4822+]\t(2286,2674+]\t(1877,2022]\t(1852,2757]\t(1549,2476]\t(3795,4822+]\t(2475,3106]\t(2310,4805+]\t(2870,4201+]\t(1935,2558]\t(2199,4767+]\t(2800,4813+]\t(2990,3711]\t(2857,4809+]\t(3586,3983]\t(2143,2397]\t(3124,4754+]\t(3276,4799+]\t(2208,2354+]\t(2209,2317]\t(2976,4811+]\t(2626,3125]\t(3838,4171]\t(2314,2516+]\t(2311,4748+]\t(2280,3295]\t(2684,4822+]\t(2454,2476]\t(2713,4803+]\t(2311,2490]\t(2370,4809+]\t(3756,4819+]\t(2565,2650+]\t(2599,2942+]\t(2553,4768+]\t(2601,2860]\t(2553,4811+]\t(2726,4097]\t(2739,2778]\t(2447,4818+]\t(3830,4805+]\t(2429,3381]\t(2311,4803+]\t(3299,4777+]\t(4510,4805+]\t(2384,3376]\t(3749,4760+]\t(2676,3320]\t(2985,3411]\t(4192,4729+]\t(3159,4613+]\t(2921,4790+]\t(4078,4792+]\t(2934,4244+]\t(2645,4729+]\t(2857,4775+]\t(3173,4822+]\t(4509,4799+]\t(3082,4767+]\t(3465,4813+]\t(3188,3840+]\t(3271,4655+]\t(3276,4747+]\t(3287,4799+]\t(4439,4817+]\t(3446,4798+]\t(3305,3724]\t(3391,4817+]\t(3307,4795+]\t(3425,4740+]\t(4117,4760+]\t(3612,4809+]\t(3479,4822+]\t(3572,4748+]\t(3796,4740]\t(3527,3867]\t(3921,4802+]\t(3798,4713+]\t(3808,4756+]\t(3772,4757+]\t(3557,4799+]\t(3867,4822+]\t(3594,4581+]\t(3923,4822+]\t(3733,4789+]\t(4019,4794]\t(4033,4818+]\t(4040,4771+]\t(4053,4069]\t(4137,4817+]\t(4208,4229+]\t(4362,4806+]\t(4279,4803+]\t(4593,4810+]\t(4320,4760+]\t(4343,4813+]\t(4419,4809+]\t(4406,4750+]\t(4199,4777+]\t(4301,4805+]\n",
            "\n",
            "Paciente 1\n",
            "Tempo processo clássico: 852\n",
            "Tempo processo de contagem: (1243,2095]\n",
            "\n",
            "Paciente 79\n",
            "Tempo processo clássico: 2304+\n",
            "Tempo processo de contagem: (2465,4769+]\n"
          ],
          "name": "stdout"
        }
      ]
    },
    {
      "cell_type": "code",
      "metadata": {
        "id": "RevJOi1syoQK",
        "colab_type": "code",
        "colab": {}
      },
      "source": [
        ""
      ],
      "execution_count": 0,
      "outputs": []
    },
    {
      "cell_type": "markdown",
      "metadata": {
        "id": "9Gh7YNlsl9GH",
        "colab_type": "text"
      },
      "source": [
        "## Exercício 2.8  <a id='Exercicio2.8'></a>\n",
        "\n",
        "Análise Exploratória do banco do IPEC\n",
        "\n",
        "\n",
        "[Topo](#topo)"
      ]
    },
    {
      "cell_type": "code",
      "metadata": {
        "id": "kRCBn30t08sR",
        "colab_type": "code",
        "colab": {}
      },
      "source": [
        "df = pd.read_csv('drive/My Drive/Colab Notebooks/datasets/ipec.csv', sep=';')"
      ],
      "execution_count": 0,
      "outputs": []
    },
    {
      "cell_type": "markdown",
      "metadata": {
        "id": "fctjfvncsHP1",
        "colab_type": "text"
      },
      "source": [
        "#### a) Verifique as dimensões dos dados\n"
      ]
    },
    {
      "cell_type": "code",
      "metadata": {
        "id": "Br3jis2zl9GJ",
        "colab_type": "code",
        "outputId": "5adbff4e-a872-4b96-ff59-2dce030ee70c",
        "colab": {
          "base_uri": "https://localhost:8080/",
          "height": 34
        }
      },
      "source": [
        "df.shape"
      ],
      "execution_count": 28,
      "outputs": [
        {
          "output_type": "execute_result",
          "data": {
            "text/plain": [
              "(193, 15)"
            ]
          },
          "metadata": {
            "tags": []
          },
          "execution_count": 28
        }
      ]
    },
    {
      "cell_type": "markdown",
      "metadata": {
        "id": "tOkRu8lCsRha",
        "colab_type": "text"
      },
      "source": [
        "#### b) Veja quais são as variáveis que constam no arquivo de dados"
      ]
    },
    {
      "cell_type": "code",
      "metadata": {
        "id": "X8IabXsGl9GM",
        "colab_type": "code",
        "outputId": "eb5f0241-277c-4649-c1fa-3f5cd4bb9144",
        "colab": {
          "base_uri": "https://localhost:8080/",
          "height": 69
        }
      },
      "source": [
        "df.columns"
      ],
      "execution_count": 29,
      "outputs": [
        {
          "output_type": "execute_result",
          "data": {
            "text/plain": [
              "Index(['id', 'ini', 'fim', 'tempo', 'status', 'sexo', 'escola', 'idade',\n",
              "       'risco', 'acompan', 'obito', 'anotrat', 'tratam', 'doenca', 'propcp'],\n",
              "      dtype='object')"
            ]
          },
          "metadata": {
            "tags": []
          },
          "execution_count": 29
        }
      ]
    },
    {
      "cell_type": "code",
      "metadata": {
        "id": "3XeFfspgl9GQ",
        "colab_type": "code",
        "outputId": "f53a3acc-face-42c7-9fb7-cfa979cb7ee5",
        "colab": {
          "base_uri": "https://localhost:8080/",
          "height": 206
        }
      },
      "source": [
        "df.head()"
      ],
      "execution_count": 30,
      "outputs": [
        {
          "output_type": "execute_result",
          "data": {
            "text/html": [
              "<div>\n",
              "<style scoped>\n",
              "    .dataframe tbody tr th:only-of-type {\n",
              "        vertical-align: middle;\n",
              "    }\n",
              "\n",
              "    .dataframe tbody tr th {\n",
              "        vertical-align: top;\n",
              "    }\n",
              "\n",
              "    .dataframe thead th {\n",
              "        text-align: right;\n",
              "    }\n",
              "</style>\n",
              "<table border=\"1\" class=\"dataframe\">\n",
              "  <thead>\n",
              "    <tr style=\"text-align: right;\">\n",
              "      <th></th>\n",
              "      <th>id</th>\n",
              "      <th>ini</th>\n",
              "      <th>fim</th>\n",
              "      <th>tempo</th>\n",
              "      <th>status</th>\n",
              "      <th>sexo</th>\n",
              "      <th>escola</th>\n",
              "      <th>idade</th>\n",
              "      <th>risco</th>\n",
              "      <th>acompan</th>\n",
              "      <th>obito</th>\n",
              "      <th>anotrat</th>\n",
              "      <th>tratam</th>\n",
              "      <th>doenca</th>\n",
              "      <th>propcp</th>\n",
              "    </tr>\n",
              "  </thead>\n",
              "  <tbody>\n",
              "    <tr>\n",
              "      <th>0</th>\n",
              "      <td>1</td>\n",
              "      <td>1243</td>\n",
              "      <td>2095</td>\n",
              "      <td>852</td>\n",
              "      <td>1</td>\n",
              "      <td>M</td>\n",
              "      <td>3.0</td>\n",
              "      <td>34</td>\n",
              "      <td>0.0</td>\n",
              "      <td>1</td>\n",
              "      <td>S</td>\n",
              "      <td>1991</td>\n",
              "      <td>1</td>\n",
              "      <td>4</td>\n",
              "      <td>3</td>\n",
              "    </tr>\n",
              "    <tr>\n",
              "      <th>1</th>\n",
              "      <td>2</td>\n",
              "      <td>2800</td>\n",
              "      <td>2923</td>\n",
              "      <td>123</td>\n",
              "      <td>1</td>\n",
              "      <td>M</td>\n",
              "      <td>2.0</td>\n",
              "      <td>38</td>\n",
              "      <td>6.0</td>\n",
              "      <td>1</td>\n",
              "      <td>S</td>\n",
              "      <td>9</td>\n",
              "      <td>0</td>\n",
              "      <td>7</td>\n",
              "      <td>4</td>\n",
              "    </tr>\n",
              "    <tr>\n",
              "      <th>2</th>\n",
              "      <td>3</td>\n",
              "      <td>1250</td>\n",
              "      <td>2395</td>\n",
              "      <td>1145</td>\n",
              "      <td>1</td>\n",
              "      <td>M</td>\n",
              "      <td>NaN</td>\n",
              "      <td>32</td>\n",
              "      <td>0.0</td>\n",
              "      <td>1</td>\n",
              "      <td>S</td>\n",
              "      <td>1992</td>\n",
              "      <td>1</td>\n",
              "      <td>3</td>\n",
              "      <td>4</td>\n",
              "    </tr>\n",
              "    <tr>\n",
              "      <th>3</th>\n",
              "      <td>4</td>\n",
              "      <td>1915</td>\n",
              "      <td>4670</td>\n",
              "      <td>2755</td>\n",
              "      <td>0</td>\n",
              "      <td>M</td>\n",
              "      <td>NaN</td>\n",
              "      <td>43</td>\n",
              "      <td>6.0</td>\n",
              "      <td>0</td>\n",
              "      <td>N</td>\n",
              "      <td>1992</td>\n",
              "      <td>1</td>\n",
              "      <td>10</td>\n",
              "      <td>4</td>\n",
              "    </tr>\n",
              "    <tr>\n",
              "      <th>4</th>\n",
              "      <td>5</td>\n",
              "      <td>2653</td>\n",
              "      <td>4770</td>\n",
              "      <td>2117</td>\n",
              "      <td>0</td>\n",
              "      <td>M</td>\n",
              "      <td>NaN</td>\n",
              "      <td>40</td>\n",
              "      <td>0.0</td>\n",
              "      <td>1</td>\n",
              "      <td>N</td>\n",
              "      <td>1992</td>\n",
              "      <td>1</td>\n",
              "      <td>5</td>\n",
              "      <td>4</td>\n",
              "    </tr>\n",
              "  </tbody>\n",
              "</table>\n",
              "</div>"
            ],
            "text/plain": [
              "   id   ini   fim  tempo  status  ... obito  anotrat  tratam  doenca  propcp\n",
              "0   1  1243  2095    852       1  ...     S     1991       1       4       3\n",
              "1   2  2800  2923    123       1  ...     S        9       0       7       4\n",
              "2   3  1250  2395   1145       1  ...     S     1992       1       3       4\n",
              "3   4  1915  4670   2755       0  ...     N     1992       1      10       4\n",
              "4   5  2653  4770   2117       0  ...     N     1992       1       5       4\n",
              "\n",
              "[5 rows x 15 columns]"
            ]
          },
          "metadata": {
            "tags": []
          },
          "execution_count": 30
        }
      ]
    },
    {
      "cell_type": "code",
      "metadata": {
        "id": "EsSYJJH4l9GU",
        "colab_type": "code",
        "outputId": "02f293de-110c-430a-a575-3f0d60c5b66e",
        "colab": {
          "base_uri": "https://localhost:8080/",
          "height": 1000
        }
      },
      "source": [
        "for col in df.columns:\n",
        "    print(col)\n",
        "    print(df[col].unique())\n"
      ],
      "execution_count": 31,
      "outputs": [
        {
          "output_type": "stream",
          "text": [
            "id\n",
            "[  1   2   3   4   5   6   7   8   9  10  11  12  13  14  15  16  17  18\n",
            "  19  20  21  22  23  24  25  26  27  28  29  30  31  32  33  34  35  36\n",
            "  37  38  39  40  41  42  43  44  45  46  47  48  49  50  51  52  53  54\n",
            "  55  56  57  58  59  60  61  62  63  64  65  66  67  68  69  70  71  72\n",
            "  73  74  75  76  77  78  79  80  81  82  83  84  85  86  87  88  89  90\n",
            "  91  92  93  94  95  96  97  98  99 100 101 102 103 104 105 106 107 108\n",
            " 109 110 111 112 113 114 115 116 117 118 119 120 121 122 123 124 125 126\n",
            " 127 128 129 130 131 132 133 134 135 136 137 138 139 140 141 142 143 144\n",
            " 145 146 147 148 149 150 151 152 153 154 155 156 157 158 159 160 161 162\n",
            " 163 164 165 166 167 168 169 170 171 172 173 174 175 176 177 178 179 180\n",
            " 181 182 183 184 185 186 187 188 189 190 191 192 193]\n",
            "ini\n",
            "[1243 2800 1250 1915 2653    3   36    1  544   71  946  802  266 1544\n",
            "   57 1270 2753  940  393 1000  238  423  206  480  226  249 3052 1802\n",
            " 1395  354  493 1113  638  655 1189  943 1715  792 1037  820  884 2262\n",
            " 1121 1131  878 1316 1107 1190 1274 1172 2360 2074 1019  605 3948 1314\n",
            " 1502 1347 1379 2352 2625 2586 1406 1466 3314 3413 3712 3207 1592 1537\n",
            " 3018 1555 1541 1589 1609 1682 2465 1667 1605 3157 2066 1929 2216 1809\n",
            " 1670 1983 2883 1766 3313 1977 3087 2286 1877 1852 1549 3795 2475 2310\n",
            " 2870 1935 2199 2990 2857 3586 2143 3124 3276 2208 2209 2976 2626 3838\n",
            " 2314 2311 2280 2684 2454 2713 2370 3756 2565 2599 2553 2601 2726 2739\n",
            " 2447 3830 2429 3299 4510 2384 3749 2676 2985 4192 3159 2921 4078 2934\n",
            " 2645 3173 4509 3082 3465 3188 3271 3287 4439 3446 3305 3391 3307 3425\n",
            " 4117 3612 3479 3572 3796 3527 3921 3798 3808 3772 3557 3867 3594 3923\n",
            " 3733 4019 4033 4040 4053 4137 4208 4362 4279 4593 4320 4343 4419 4406\n",
            " 4199 4301]\n",
            "fim\n",
            "[2095 2923 2395 4670 4770  332   96  152 2107 1318 1030 1016  291 2892\n",
            "  215 1825 3161 2056 1391 2125 1182  477  357 1335  342  329 4809 1996\n",
            " 1578  391  730 2619  806  789 1992  961 2086  965 1725  983 4062 2291\n",
            " 1171 2018 1394 1961 1417 1737 2535 1457 2443 2224 2326 1681 3141 4813\n",
            " 4400 1427 2346 2970 2860 4822 1558 2358 3395 4498 4785 1627 1827 4798\n",
            " 4783 1593 2322 3665 4769 1815 1688 2877 4803 2370 2347 3070 4782 1710\n",
            " 2833 4022 2089 4820 4694 2674 2022 2757 2476 3106 4805 4201 2558 4767\n",
            " 3711 3983 2397 4754 4799 2354 2317 4811 3125 4171 2516 4748 3295 2490\n",
            " 4819 2650 2942 4768 4097 2778 4818 3381 4777 3376 4760 3320 3411 4729\n",
            " 4613 4790 4792 4244 4775 3840 4655 4747 4817 3724 4795 4740 3867 4802\n",
            " 4713 4756 4757 4581 4789 4794 4771 4069 4229 4806 4810 4750]\n",
            "tempo\n",
            "[ 852  123 1145 2755 2117  329   60  151 1563 1247   84  214   25 1348\n",
            "  158  555  408 1116  998 1125  944   54  855  116   80 1757  194  183\n",
            "   37  237 1506  168  134  803   18  371  173  688  163 3178   29   50\n",
            "  887  516  645  310  204 1344 1261  285   83  150 1307 1076 1226  865\n",
            "  811 2898  967  618  235 2236  152  892   81 1085 1073 1615   35  290\n",
            " 1780 3228   52  733 3213 1983 2304  572   21 1272 1646  304  418  854\n",
            " 2973   40  850 1139  323 1507 2717 1735  388  145  905  927 1027  631\n",
            " 2495 1331  623 2568 2013  721 1952  397  254 1630 1523  146  108 1835\n",
            "  499  333  202 2437 1015 2138   22 2090  179 2439 1063   85  343 2215\n",
            "  259 2258 1371   39 2371  975  952 2492 1478  295  992 1011  644  426\n",
            "  537 1454 1869  714 1310 2084 1918 1649 1685  652 1384 1471 1512  378\n",
            " 1352  419 1426 1488 1315  643 1197 1343 1176  340  881  915  948  985\n",
            " 1242  955  987  899 1056  775  785  731   16  680  444  524  217  440\n",
            "  470  390  344  578  504]\n",
            "status\n",
            "[1 0]\n",
            "sexo\n",
            "['M' 'F']\n",
            "escola\n",
            "[ 3.  2. nan  0.  1.]\n",
            "idade\n",
            "[34 38 32 43 40 27 22 44 23 33 41 35 45 42 51 47 46 49 37 50 28 52 25 61\n",
            " 31 30 26 53 54 29 36 55 20 24 39 66 68 67 65 21 48]\n",
            "risco\n",
            "[ 0.  6. nan  1.  5.  2.  3.]\n",
            "acompan\n",
            "[1 0 2]\n",
            "obito\n",
            "['S' 'N' 'I']\n",
            "anotrat\n",
            "[1991    9 1992 1993 1990 1995 1994 1998 1997 1996 1999 2000]\n",
            "tratam\n",
            "[1 0 2 3]\n",
            "doenca\n",
            "[ 4  7  3 10  5  1 99  2  9  8]\n",
            "propcp\n",
            "[3 4 0 2]\n"
          ],
          "name": "stdout"
        }
      ]
    },
    {
      "cell_type": "markdown",
      "metadata": {
        "id": "O0ArF_XksdQF",
        "colab_type": "text"
      },
      "source": [
        "#### c) Substitua as informações ignoradas codificadas com 9/99 ou I por NA"
      ]
    },
    {
      "cell_type": "code",
      "metadata": {
        "id": "4s1KjmMtxIoz",
        "colab_type": "code",
        "outputId": "bc3e91ea-d82e-49c3-9e94-e030565ea3ac",
        "colab": {
          "base_uri": "https://localhost:8080/",
          "height": 310
        }
      },
      "source": [
        "dfAux = df.copy()\n",
        "dfAux.anotrat.replace({9:'NA'}, inplace=True)\n",
        "print('anotrat: ')\n",
        "print(dfAux.anotrat.unique())\n",
        "\n",
        "dfAux.obito.replace({'I':'NA'}, inplace=True)\n",
        "print('obito: ')\n",
        "print(dfAux.obito.unique())\n",
        "\n",
        "dfAux.escola.fillna(9, inplace=True)\n",
        "print('escola: ')\n",
        "print(dfAux.escola.unique())\n",
        "\n",
        "dfAux.fillna('NA', inplace=True)\n",
        "dfAux[:5]"
      ],
      "execution_count": 32,
      "outputs": [
        {
          "output_type": "stream",
          "text": [
            "anotrat: \n",
            "[1991 'NA' 1992 1993 1990 1995 1994 1998 1997 1996 1999 2000]\n",
            "obito: \n",
            "['S' 'N' 'NA']\n",
            "escola: \n",
            "[3. 2. 9. 0. 1.]\n"
          ],
          "name": "stdout"
        },
        {
          "output_type": "execute_result",
          "data": {
            "text/html": [
              "<div>\n",
              "<style scoped>\n",
              "    .dataframe tbody tr th:only-of-type {\n",
              "        vertical-align: middle;\n",
              "    }\n",
              "\n",
              "    .dataframe tbody tr th {\n",
              "        vertical-align: top;\n",
              "    }\n",
              "\n",
              "    .dataframe thead th {\n",
              "        text-align: right;\n",
              "    }\n",
              "</style>\n",
              "<table border=\"1\" class=\"dataframe\">\n",
              "  <thead>\n",
              "    <tr style=\"text-align: right;\">\n",
              "      <th></th>\n",
              "      <th>id</th>\n",
              "      <th>ini</th>\n",
              "      <th>fim</th>\n",
              "      <th>tempo</th>\n",
              "      <th>status</th>\n",
              "      <th>sexo</th>\n",
              "      <th>escola</th>\n",
              "      <th>idade</th>\n",
              "      <th>risco</th>\n",
              "      <th>acompan</th>\n",
              "      <th>obito</th>\n",
              "      <th>anotrat</th>\n",
              "      <th>tratam</th>\n",
              "      <th>doenca</th>\n",
              "      <th>propcp</th>\n",
              "    </tr>\n",
              "  </thead>\n",
              "  <tbody>\n",
              "    <tr>\n",
              "      <th>0</th>\n",
              "      <td>1</td>\n",
              "      <td>1243</td>\n",
              "      <td>2095</td>\n",
              "      <td>852</td>\n",
              "      <td>1</td>\n",
              "      <td>M</td>\n",
              "      <td>3.0</td>\n",
              "      <td>34</td>\n",
              "      <td>0</td>\n",
              "      <td>1</td>\n",
              "      <td>S</td>\n",
              "      <td>1991</td>\n",
              "      <td>1</td>\n",
              "      <td>4</td>\n",
              "      <td>3</td>\n",
              "    </tr>\n",
              "    <tr>\n",
              "      <th>1</th>\n",
              "      <td>2</td>\n",
              "      <td>2800</td>\n",
              "      <td>2923</td>\n",
              "      <td>123</td>\n",
              "      <td>1</td>\n",
              "      <td>M</td>\n",
              "      <td>2.0</td>\n",
              "      <td>38</td>\n",
              "      <td>6</td>\n",
              "      <td>1</td>\n",
              "      <td>S</td>\n",
              "      <td>NA</td>\n",
              "      <td>0</td>\n",
              "      <td>7</td>\n",
              "      <td>4</td>\n",
              "    </tr>\n",
              "    <tr>\n",
              "      <th>2</th>\n",
              "      <td>3</td>\n",
              "      <td>1250</td>\n",
              "      <td>2395</td>\n",
              "      <td>1145</td>\n",
              "      <td>1</td>\n",
              "      <td>M</td>\n",
              "      <td>9.0</td>\n",
              "      <td>32</td>\n",
              "      <td>0</td>\n",
              "      <td>1</td>\n",
              "      <td>S</td>\n",
              "      <td>1992</td>\n",
              "      <td>1</td>\n",
              "      <td>3</td>\n",
              "      <td>4</td>\n",
              "    </tr>\n",
              "    <tr>\n",
              "      <th>3</th>\n",
              "      <td>4</td>\n",
              "      <td>1915</td>\n",
              "      <td>4670</td>\n",
              "      <td>2755</td>\n",
              "      <td>0</td>\n",
              "      <td>M</td>\n",
              "      <td>9.0</td>\n",
              "      <td>43</td>\n",
              "      <td>6</td>\n",
              "      <td>0</td>\n",
              "      <td>N</td>\n",
              "      <td>1992</td>\n",
              "      <td>1</td>\n",
              "      <td>10</td>\n",
              "      <td>4</td>\n",
              "    </tr>\n",
              "    <tr>\n",
              "      <th>4</th>\n",
              "      <td>5</td>\n",
              "      <td>2653</td>\n",
              "      <td>4770</td>\n",
              "      <td>2117</td>\n",
              "      <td>0</td>\n",
              "      <td>M</td>\n",
              "      <td>9.0</td>\n",
              "      <td>40</td>\n",
              "      <td>0</td>\n",
              "      <td>1</td>\n",
              "      <td>N</td>\n",
              "      <td>1992</td>\n",
              "      <td>1</td>\n",
              "      <td>5</td>\n",
              "      <td>4</td>\n",
              "    </tr>\n",
              "  </tbody>\n",
              "</table>\n",
              "</div>"
            ],
            "text/plain": [
              "   id   ini   fim  tempo  status  ... obito  anotrat  tratam doenca  propcp\n",
              "0   1  1243  2095    852       1  ...     S     1991       1      4       3\n",
              "1   2  2800  2923    123       1  ...     S       NA       0      7       4\n",
              "2   3  1250  2395   1145       1  ...     S     1992       1      3       4\n",
              "3   4  1915  4670   2755       0  ...     N     1992       1     10       4\n",
              "4   5  2653  4770   2117       0  ...     N     1992       1      5       4\n",
              "\n",
              "[5 rows x 15 columns]"
            ]
          },
          "metadata": {
            "tags": []
          },
          "execution_count": 32
        }
      ]
    },
    {
      "cell_type": "code",
      "metadata": {
        "id": "VYETizyjl9Ga",
        "colab_type": "code",
        "outputId": "cdcc0533-029e-446f-fec0-3eb03ddee301",
        "colab": {
          "base_uri": "https://localhost:8080/",
          "height": 191
        }
      },
      "source": [
        "for index, row in dfAux[:10].iterrows():\n",
        "    print(\"O paciente %d é do sexo %s, tem %d anos e foi acompanhado por %d dias %s\" % \n",
        "          (row.id, (\"masculino\" if row.sexo == 'M' else \"feminino\"),row.idade, row.tempo, (\"até a data do seu óbito.\" if row.obito == 'S' else \".\")))"
      ],
      "execution_count": 33,
      "outputs": [
        {
          "output_type": "stream",
          "text": [
            "O paciente 1 é do sexo masculino, tem 34 anos e foi acompanhado por 852 dias até a data do seu óbito.\n",
            "O paciente 2 é do sexo masculino, tem 38 anos e foi acompanhado por 123 dias até a data do seu óbito.\n",
            "O paciente 3 é do sexo masculino, tem 32 anos e foi acompanhado por 1145 dias até a data do seu óbito.\n",
            "O paciente 4 é do sexo masculino, tem 43 anos e foi acompanhado por 2755 dias .\n",
            "O paciente 5 é do sexo masculino, tem 40 anos e foi acompanhado por 2117 dias .\n",
            "O paciente 6 é do sexo masculino, tem 34 anos e foi acompanhado por 329 dias .\n",
            "O paciente 7 é do sexo masculino, tem 27 anos e foi acompanhado por 60 dias até a data do seu óbito.\n",
            "O paciente 8 é do sexo masculino, tem 22 anos e foi acompanhado por 151 dias até a data do seu óbito.\n",
            "O paciente 9 é do sexo masculino, tem 44 anos e foi acompanhado por 1563 dias até a data do seu óbito.\n",
            "O paciente 10 é do sexo masculino, tem 23 anos e foi acompanhado por 1247 dias até a data do seu óbito.\n"
          ],
          "name": "stdout"
        }
      ]
    },
    {
      "cell_type": "markdown",
      "metadata": {
        "id": "3jYLoP5owrUL",
        "colab_type": "text"
      },
      "source": [
        "#### d) Indique quais são as variáveis que estão erroneamente classificadas como numéricas (isso acontece quando números são usados para codificar as categorias).\n"
      ]
    },
    {
      "cell_type": "code",
      "metadata": {
        "id": "7Wocq4WXl9Gf",
        "colab_type": "code",
        "outputId": "e8c89ebc-9d73-4f6c-eba6-a8d4c1ac9ad7",
        "colab": {
          "base_uri": "https://localhost:8080/",
          "height": 206
        }
      },
      "source": [
        "dfAux = df.copy()\n",
        "\n",
        "ipec_dict = {'status': {0:'censura',\n",
        "                        1:'óbito'},\n",
        "             'escola': {0:'sem escolaridade', 1:'ensino fundamental', \n",
        "                        2:'ensino médio', 3:'ensino superior'},\n",
        "             'risco': {0:'homossexual masculino', 1:'usuário de drogas injetáveis', 2:'transfusão', \n",
        "                       3:'contato sexual com HIV+', 5:'hétero c/múltiplos parceiros', 6:'dois fatores de risco'},\n",
        "             'acompan': {0:'ambulatorial/hospital-dia', 1:'internação posterior', 2:'internação imediata'},\n",
        "             'tratam':  {0:'nenhum', 1:'mono', 2:'combinada', 3:'potente'},\n",
        "             'doenca': {1:'pcp', 2:'pcp pulmonar', 3:'pcp disseminada', 4:'toxoplasmose', 5:'sarcoma', \n",
        "                        7:'outra doença', 8:'candidíase', 9:'duas doenças', 10:'herpes', 99:'definido por cd4'},\n",
        "             'propcp': {0:'sem profilaxia', 2:'primária', 3:'secundária', 4:'ambas'},\n",
        "             'obito': {'S':'óbito', 'N':'não óbito', 'I':'ignorado'}\n",
        "            }\n",
        "\n",
        "dfAux.anotrat.replace({9:'NA'}, inplace=True)\n",
        "dfAux.fillna('NA', inplace=True)\n",
        "dfAux.replace(ipec_dict, inplace=True)\n",
        "dfAux.head()"
      ],
      "execution_count": 34,
      "outputs": [
        {
          "output_type": "execute_result",
          "data": {
            "text/html": [
              "<div>\n",
              "<style scoped>\n",
              "    .dataframe tbody tr th:only-of-type {\n",
              "        vertical-align: middle;\n",
              "    }\n",
              "\n",
              "    .dataframe tbody tr th {\n",
              "        vertical-align: top;\n",
              "    }\n",
              "\n",
              "    .dataframe thead th {\n",
              "        text-align: right;\n",
              "    }\n",
              "</style>\n",
              "<table border=\"1\" class=\"dataframe\">\n",
              "  <thead>\n",
              "    <tr style=\"text-align: right;\">\n",
              "      <th></th>\n",
              "      <th>id</th>\n",
              "      <th>ini</th>\n",
              "      <th>fim</th>\n",
              "      <th>tempo</th>\n",
              "      <th>status</th>\n",
              "      <th>sexo</th>\n",
              "      <th>escola</th>\n",
              "      <th>idade</th>\n",
              "      <th>risco</th>\n",
              "      <th>acompan</th>\n",
              "      <th>obito</th>\n",
              "      <th>anotrat</th>\n",
              "      <th>tratam</th>\n",
              "      <th>doenca</th>\n",
              "      <th>propcp</th>\n",
              "    </tr>\n",
              "  </thead>\n",
              "  <tbody>\n",
              "    <tr>\n",
              "      <th>0</th>\n",
              "      <td>1</td>\n",
              "      <td>1243</td>\n",
              "      <td>2095</td>\n",
              "      <td>852</td>\n",
              "      <td>óbito</td>\n",
              "      <td>M</td>\n",
              "      <td>ensino superior</td>\n",
              "      <td>34</td>\n",
              "      <td>homossexual masculino</td>\n",
              "      <td>internação posterior</td>\n",
              "      <td>óbito</td>\n",
              "      <td>1991</td>\n",
              "      <td>mono</td>\n",
              "      <td>toxoplasmose</td>\n",
              "      <td>secundária</td>\n",
              "    </tr>\n",
              "    <tr>\n",
              "      <th>1</th>\n",
              "      <td>2</td>\n",
              "      <td>2800</td>\n",
              "      <td>2923</td>\n",
              "      <td>123</td>\n",
              "      <td>óbito</td>\n",
              "      <td>M</td>\n",
              "      <td>ensino médio</td>\n",
              "      <td>38</td>\n",
              "      <td>dois fatores de risco</td>\n",
              "      <td>internação posterior</td>\n",
              "      <td>óbito</td>\n",
              "      <td>NA</td>\n",
              "      <td>nenhum</td>\n",
              "      <td>outra doença</td>\n",
              "      <td>ambas</td>\n",
              "    </tr>\n",
              "    <tr>\n",
              "      <th>2</th>\n",
              "      <td>3</td>\n",
              "      <td>1250</td>\n",
              "      <td>2395</td>\n",
              "      <td>1145</td>\n",
              "      <td>óbito</td>\n",
              "      <td>M</td>\n",
              "      <td>NA</td>\n",
              "      <td>32</td>\n",
              "      <td>homossexual masculino</td>\n",
              "      <td>internação posterior</td>\n",
              "      <td>óbito</td>\n",
              "      <td>1992</td>\n",
              "      <td>mono</td>\n",
              "      <td>pcp disseminada</td>\n",
              "      <td>ambas</td>\n",
              "    </tr>\n",
              "    <tr>\n",
              "      <th>3</th>\n",
              "      <td>4</td>\n",
              "      <td>1915</td>\n",
              "      <td>4670</td>\n",
              "      <td>2755</td>\n",
              "      <td>censura</td>\n",
              "      <td>M</td>\n",
              "      <td>NA</td>\n",
              "      <td>43</td>\n",
              "      <td>dois fatores de risco</td>\n",
              "      <td>ambulatorial/hospital-dia</td>\n",
              "      <td>não óbito</td>\n",
              "      <td>1992</td>\n",
              "      <td>mono</td>\n",
              "      <td>herpes</td>\n",
              "      <td>ambas</td>\n",
              "    </tr>\n",
              "    <tr>\n",
              "      <th>4</th>\n",
              "      <td>5</td>\n",
              "      <td>2653</td>\n",
              "      <td>4770</td>\n",
              "      <td>2117</td>\n",
              "      <td>censura</td>\n",
              "      <td>M</td>\n",
              "      <td>NA</td>\n",
              "      <td>40</td>\n",
              "      <td>homossexual masculino</td>\n",
              "      <td>internação posterior</td>\n",
              "      <td>não óbito</td>\n",
              "      <td>1992</td>\n",
              "      <td>mono</td>\n",
              "      <td>sarcoma</td>\n",
              "      <td>ambas</td>\n",
              "    </tr>\n",
              "  </tbody>\n",
              "</table>\n",
              "</div>"
            ],
            "text/plain": [
              "   id   ini   fim  tempo  ... anotrat  tratam           doenca      propcp\n",
              "0   1  1243  2095    852  ...    1991    mono     toxoplasmose  secundária\n",
              "1   2  2800  2923    123  ...      NA  nenhum     outra doença       ambas\n",
              "2   3  1250  2395   1145  ...    1992    mono  pcp disseminada       ambas\n",
              "3   4  1915  4670   2755  ...    1992    mono           herpes       ambas\n",
              "4   5  2653  4770   2117  ...    1992    mono          sarcoma       ambas\n",
              "\n",
              "[5 rows x 15 columns]"
            ]
          },
          "metadata": {
            "tags": []
          },
          "execution_count": 34
        }
      ]
    },
    {
      "cell_type": "markdown",
      "metadata": {
        "id": "LTOJwmwHwxp9",
        "colab_type": "text"
      },
      "source": [
        "#### e) Calcule as medidas resumo das variáveis presentes no banco"
      ]
    },
    {
      "cell_type": "code",
      "metadata": {
        "id": "BuVhC-ODl9Gj",
        "colab_type": "code",
        "outputId": "d134b182-38fe-4c6c-f993-901673c5f22d",
        "colab": {
          "base_uri": "https://localhost:8080/",
          "height": 1000
        }
      },
      "source": [
        "from pandas.api.types import is_string_dtype\n",
        "from pandas.api.types import is_numeric_dtype\n",
        "\n",
        "for col in df.columns:\n",
        "    if is_string_dtype(dfAux[col]):\n",
        "        print('-----------------------------')\n",
        "        print('Feature: %s' % col)\n",
        "        print(dfAux[col].describe())\n",
        "        print('-- Counts')\n",
        "        print(dfAux[col].value_counts())\n",
        "    else:\n",
        "        print('-----------------------------')\n",
        "        print('Feature: %s' % col)\n",
        "        print(dfAux[col].describe())\n",
        "    "
      ],
      "execution_count": 35,
      "outputs": [
        {
          "output_type": "stream",
          "text": [
            "-----------------------------\n",
            "Feature: id\n",
            "count    193.000000\n",
            "mean      97.000000\n",
            "std       55.858452\n",
            "min        1.000000\n",
            "25%       49.000000\n",
            "50%       97.000000\n",
            "75%      145.000000\n",
            "max      193.000000\n",
            "Name: id, dtype: float64\n",
            "-----------------------------\n",
            "Feature: ini\n",
            "count     193.000000\n",
            "mean     2396.922280\n",
            "std      1216.918778\n",
            "min         1.000000\n",
            "25%      1406.000000\n",
            "50%      2454.000000\n",
            "75%      3314.000000\n",
            "max      4593.000000\n",
            "Name: ini, dtype: float64\n",
            "-----------------------------\n",
            "Feature: fim\n",
            "count     193.000000\n",
            "mean     3335.160622\n",
            "std      1501.300776\n",
            "min        96.000000\n",
            "25%      2095.000000\n",
            "50%      3711.000000\n",
            "75%      4790.000000\n",
            "max      4822.000000\n",
            "Name: fim, dtype: float64\n",
            "-----------------------------\n",
            "Feature: tempo\n",
            "count     193.000000\n",
            "mean      938.238342\n",
            "std       770.741415\n",
            "min        16.000000\n",
            "25%       290.000000\n",
            "50%       852.000000\n",
            "75%      1348.000000\n",
            "max      3228.000000\n",
            "Name: tempo, dtype: float64\n",
            "-----------------------------\n",
            "Feature: status\n",
            "count         193\n",
            "unique          2\n",
            "top       censura\n",
            "freq          103\n",
            "Name: status, dtype: object\n",
            "-- Counts\n",
            "censura    103\n",
            "óbito       90\n",
            "Name: status, dtype: int64\n",
            "-----------------------------\n",
            "Feature: sexo\n",
            "count     193\n",
            "unique      2\n",
            "top         M\n",
            "freq      144\n",
            "Name: sexo, dtype: object\n",
            "-- Counts\n",
            "M    144\n",
            "F     49\n",
            "Name: sexo, dtype: int64\n",
            "-----------------------------\n",
            "Feature: escola\n",
            "count                  193\n",
            "unique                   5\n",
            "top       sem escolaridade\n",
            "freq                    59\n",
            "Name: escola, dtype: object\n",
            "-- Counts\n",
            "sem escolaridade      59\n",
            "ensino médio          55\n",
            "ensino fundamental    44\n",
            "ensino superior       24\n",
            "NA                    11\n",
            "Name: escola, dtype: int64\n",
            "-----------------------------\n",
            "Feature: idade\n",
            "count    193.000000\n",
            "mean      36.554404\n",
            "std        9.508680\n",
            "min       20.000000\n",
            "25%       30.000000\n",
            "50%       35.000000\n",
            "75%       43.000000\n",
            "max       68.000000\n",
            "Name: idade, dtype: float64\n",
            "-----------------------------\n",
            "Feature: risco\n",
            "count                       193\n",
            "unique                        7\n",
            "top       homossexual masculino\n",
            "freq                         87\n",
            "Name: risco, dtype: object\n",
            "-- Counts\n",
            "homossexual masculino           87\n",
            "NA                              37\n",
            "contato sexual com HIV+         30\n",
            "hétero c/múltiplos parceiros    16\n",
            "usuário de drogas injetáveis     9\n",
            "transfusão                       7\n",
            "dois fatores de risco            7\n",
            "Name: risco, dtype: int64\n",
            "-----------------------------\n",
            "Feature: acompan\n",
            "count                      193\n",
            "unique                       3\n",
            "top       internação posterior\n",
            "freq                        99\n",
            "Name: acompan, dtype: object\n",
            "-- Counts\n",
            "internação posterior         99\n",
            "ambulatorial/hospital-dia    57\n",
            "internação imediata          37\n",
            "Name: acompan, dtype: int64\n",
            "-----------------------------\n",
            "Feature: obito\n",
            "count       193\n",
            "unique        3\n",
            "top       óbito\n",
            "freq         92\n",
            "Name: obito, dtype: object\n",
            "-- Counts\n",
            "óbito        92\n",
            "não óbito    80\n",
            "ignorado     21\n",
            "Name: obito, dtype: int64\n",
            "-----------------------------\n",
            "Feature: anotrat\n",
            "count     193\n",
            "unique     12\n",
            "top        NA\n",
            "freq       44\n",
            "Name: anotrat, dtype: object\n",
            "-- Counts\n",
            "NA      44\n",
            "1992    22\n",
            "1995    20\n",
            "1993    19\n",
            "1996    18\n",
            "1998    16\n",
            "1994    16\n",
            "1997    14\n",
            "1991     8\n",
            "1999     6\n",
            "1990     6\n",
            "2000     4\n",
            "Name: anotrat, dtype: int64\n",
            "-----------------------------\n",
            "Feature: tratam\n",
            "count      193\n",
            "unique       4\n",
            "top       mono\n",
            "freq       100\n",
            "Name: tratam, dtype: object\n",
            "-- Counts\n",
            "mono         100\n",
            "nenhum        44\n",
            "combinada     35\n",
            "potente       14\n",
            "Name: tratam, dtype: int64\n",
            "-----------------------------\n",
            "Feature: doenca\n",
            "count                  193\n",
            "unique                  10\n",
            "top       definido por cd4\n",
            "freq                    67\n",
            "Name: doenca, dtype: object\n",
            "-- Counts\n",
            "definido por cd4    67\n",
            "pcp disseminada     31\n",
            "herpes              25\n",
            "outra doença        17\n",
            "candidíase          12\n",
            "pcp                 12\n",
            "pcp pulmonar        10\n",
            "toxoplasmose         8\n",
            "sarcoma              7\n",
            "duas doenças         4\n",
            "Name: doenca, dtype: int64\n",
            "-----------------------------\n",
            "Feature: propcp\n",
            "count       193\n",
            "unique        4\n",
            "top       ambas\n",
            "freq        128\n",
            "Name: propcp, dtype: object\n",
            "-- Counts\n",
            "ambas             128\n",
            "sem profilaxia     38\n",
            "primária           24\n",
            "secundária          3\n",
            "Name: propcp, dtype: int64\n"
          ],
          "name": "stdout"
        }
      ]
    },
    {
      "cell_type": "markdown",
      "metadata": {
        "id": "X_rWhu_kw0OU",
        "colab_type": "text"
      },
      "source": [
        "#### f) Construa também tabelas de freqüência das variáveis de maior interesse"
      ]
    },
    {
      "cell_type": "code",
      "metadata": {
        "id": "d0mRHhV61a90",
        "colab_type": "code",
        "colab": {
          "base_uri": "https://localhost:8080/",
          "height": 238
        },
        "outputId": "fe09c267-62c0-4c75-c4c5-cd265107a9b5"
      },
      "source": [
        "pd.DataFrame(dfAux.groupby('escola').size())"
      ],
      "execution_count": 36,
      "outputs": [
        {
          "output_type": "execute_result",
          "data": {
            "text/html": [
              "<div>\n",
              "<style scoped>\n",
              "    .dataframe tbody tr th:only-of-type {\n",
              "        vertical-align: middle;\n",
              "    }\n",
              "\n",
              "    .dataframe tbody tr th {\n",
              "        vertical-align: top;\n",
              "    }\n",
              "\n",
              "    .dataframe thead th {\n",
              "        text-align: right;\n",
              "    }\n",
              "</style>\n",
              "<table border=\"1\" class=\"dataframe\">\n",
              "  <thead>\n",
              "    <tr style=\"text-align: right;\">\n",
              "      <th></th>\n",
              "      <th>0</th>\n",
              "    </tr>\n",
              "    <tr>\n",
              "      <th>escola</th>\n",
              "      <th></th>\n",
              "    </tr>\n",
              "  </thead>\n",
              "  <tbody>\n",
              "    <tr>\n",
              "      <th>NA</th>\n",
              "      <td>11</td>\n",
              "    </tr>\n",
              "    <tr>\n",
              "      <th>ensino fundamental</th>\n",
              "      <td>44</td>\n",
              "    </tr>\n",
              "    <tr>\n",
              "      <th>ensino médio</th>\n",
              "      <td>55</td>\n",
              "    </tr>\n",
              "    <tr>\n",
              "      <th>ensino superior</th>\n",
              "      <td>24</td>\n",
              "    </tr>\n",
              "    <tr>\n",
              "      <th>sem escolaridade</th>\n",
              "      <td>59</td>\n",
              "    </tr>\n",
              "  </tbody>\n",
              "</table>\n",
              "</div>"
            ],
            "text/plain": [
              "                     0\n",
              "escola                \n",
              "NA                  11\n",
              "ensino fundamental  44\n",
              "ensino médio        55\n",
              "ensino superior     24\n",
              "sem escolaridade    59"
            ]
          },
          "metadata": {
            "tags": []
          },
          "execution_count": 36
        }
      ]
    },
    {
      "cell_type": "code",
      "metadata": {
        "id": "CjunBGYR4DKC",
        "colab_type": "code",
        "colab": {
          "base_uri": "https://localhost:8080/",
          "height": 206
        },
        "outputId": "4e0fc391-a55a-48e8-a9e9-cf3ef757af08"
      },
      "source": [
        "pd.DataFrame(dfAux.groupby('tratam').size())"
      ],
      "execution_count": 37,
      "outputs": [
        {
          "output_type": "execute_result",
          "data": {
            "text/html": [
              "<div>\n",
              "<style scoped>\n",
              "    .dataframe tbody tr th:only-of-type {\n",
              "        vertical-align: middle;\n",
              "    }\n",
              "\n",
              "    .dataframe tbody tr th {\n",
              "        vertical-align: top;\n",
              "    }\n",
              "\n",
              "    .dataframe thead th {\n",
              "        text-align: right;\n",
              "    }\n",
              "</style>\n",
              "<table border=\"1\" class=\"dataframe\">\n",
              "  <thead>\n",
              "    <tr style=\"text-align: right;\">\n",
              "      <th></th>\n",
              "      <th>0</th>\n",
              "    </tr>\n",
              "    <tr>\n",
              "      <th>tratam</th>\n",
              "      <th></th>\n",
              "    </tr>\n",
              "  </thead>\n",
              "  <tbody>\n",
              "    <tr>\n",
              "      <th>combinada</th>\n",
              "      <td>35</td>\n",
              "    </tr>\n",
              "    <tr>\n",
              "      <th>mono</th>\n",
              "      <td>100</td>\n",
              "    </tr>\n",
              "    <tr>\n",
              "      <th>nenhum</th>\n",
              "      <td>44</td>\n",
              "    </tr>\n",
              "    <tr>\n",
              "      <th>potente</th>\n",
              "      <td>14</td>\n",
              "    </tr>\n",
              "  </tbody>\n",
              "</table>\n",
              "</div>"
            ],
            "text/plain": [
              "             0\n",
              "tratam        \n",
              "combinada   35\n",
              "mono       100\n",
              "nenhum      44\n",
              "potente     14"
            ]
          },
          "metadata": {
            "tags": []
          },
          "execution_count": 37
        }
      ]
    },
    {
      "cell_type": "code",
      "metadata": {
        "id": "-8Bkp7mN4KuN",
        "colab_type": "code",
        "colab": {
          "base_uri": "https://localhost:8080/",
          "height": 143
        },
        "outputId": "3a86fcc0-b6ef-452a-d67a-e27d00c20506"
      },
      "source": [
        "pd.DataFrame(dfAux.groupby(['status']).size())"
      ],
      "execution_count": 38,
      "outputs": [
        {
          "output_type": "execute_result",
          "data": {
            "text/html": [
              "<div>\n",
              "<style scoped>\n",
              "    .dataframe tbody tr th:only-of-type {\n",
              "        vertical-align: middle;\n",
              "    }\n",
              "\n",
              "    .dataframe tbody tr th {\n",
              "        vertical-align: top;\n",
              "    }\n",
              "\n",
              "    .dataframe thead th {\n",
              "        text-align: right;\n",
              "    }\n",
              "</style>\n",
              "<table border=\"1\" class=\"dataframe\">\n",
              "  <thead>\n",
              "    <tr style=\"text-align: right;\">\n",
              "      <th></th>\n",
              "      <th>0</th>\n",
              "    </tr>\n",
              "    <tr>\n",
              "      <th>status</th>\n",
              "      <th></th>\n",
              "    </tr>\n",
              "  </thead>\n",
              "  <tbody>\n",
              "    <tr>\n",
              "      <th>censura</th>\n",
              "      <td>103</td>\n",
              "    </tr>\n",
              "    <tr>\n",
              "      <th>óbito</th>\n",
              "      <td>90</td>\n",
              "    </tr>\n",
              "  </tbody>\n",
              "</table>\n",
              "</div>"
            ],
            "text/plain": [
              "           0\n",
              "status      \n",
              "censura  103\n",
              "óbito     90"
            ]
          },
          "metadata": {
            "tags": []
          },
          "execution_count": 38
        }
      ]
    },
    {
      "cell_type": "code",
      "metadata": {
        "id": "CyxBNUi94PVe",
        "colab_type": "code",
        "colab": {
          "base_uri": "https://localhost:8080/",
          "height": 394
        },
        "outputId": "1186a2f3-dfe8-4d4a-81e2-7185ab382294"
      },
      "source": [
        "pd.DataFrame(dfAux.groupby(['sexo','escola']).size())"
      ],
      "execution_count": 39,
      "outputs": [
        {
          "output_type": "execute_result",
          "data": {
            "text/html": [
              "<div>\n",
              "<style scoped>\n",
              "    .dataframe tbody tr th:only-of-type {\n",
              "        vertical-align: middle;\n",
              "    }\n",
              "\n",
              "    .dataframe tbody tr th {\n",
              "        vertical-align: top;\n",
              "    }\n",
              "\n",
              "    .dataframe thead th {\n",
              "        text-align: right;\n",
              "    }\n",
              "</style>\n",
              "<table border=\"1\" class=\"dataframe\">\n",
              "  <thead>\n",
              "    <tr style=\"text-align: right;\">\n",
              "      <th></th>\n",
              "      <th></th>\n",
              "      <th>0</th>\n",
              "    </tr>\n",
              "    <tr>\n",
              "      <th>sexo</th>\n",
              "      <th>escola</th>\n",
              "      <th></th>\n",
              "    </tr>\n",
              "  </thead>\n",
              "  <tbody>\n",
              "    <tr>\n",
              "      <th rowspan=\"5\" valign=\"top\">F</th>\n",
              "      <th>NA</th>\n",
              "      <td>1</td>\n",
              "    </tr>\n",
              "    <tr>\n",
              "      <th>ensino fundamental</th>\n",
              "      <td>11</td>\n",
              "    </tr>\n",
              "    <tr>\n",
              "      <th>ensino médio</th>\n",
              "      <td>12</td>\n",
              "    </tr>\n",
              "    <tr>\n",
              "      <th>ensino superior</th>\n",
              "      <td>1</td>\n",
              "    </tr>\n",
              "    <tr>\n",
              "      <th>sem escolaridade</th>\n",
              "      <td>24</td>\n",
              "    </tr>\n",
              "    <tr>\n",
              "      <th rowspan=\"5\" valign=\"top\">M</th>\n",
              "      <th>NA</th>\n",
              "      <td>10</td>\n",
              "    </tr>\n",
              "    <tr>\n",
              "      <th>ensino fundamental</th>\n",
              "      <td>33</td>\n",
              "    </tr>\n",
              "    <tr>\n",
              "      <th>ensino médio</th>\n",
              "      <td>43</td>\n",
              "    </tr>\n",
              "    <tr>\n",
              "      <th>ensino superior</th>\n",
              "      <td>23</td>\n",
              "    </tr>\n",
              "    <tr>\n",
              "      <th>sem escolaridade</th>\n",
              "      <td>35</td>\n",
              "    </tr>\n",
              "  </tbody>\n",
              "</table>\n",
              "</div>"
            ],
            "text/plain": [
              "                          0\n",
              "sexo escola                \n",
              "F    NA                   1\n",
              "     ensino fundamental  11\n",
              "     ensino médio        12\n",
              "     ensino superior      1\n",
              "     sem escolaridade    24\n",
              "M    NA                  10\n",
              "     ensino fundamental  33\n",
              "     ensino médio        43\n",
              "     ensino superior     23\n",
              "     sem escolaridade    35"
            ]
          },
          "metadata": {
            "tags": []
          },
          "execution_count": 39
        }
      ]
    },
    {
      "cell_type": "code",
      "metadata": {
        "id": "dYxPcNAs6QWA",
        "colab_type": "code",
        "colab": {
          "base_uri": "https://localhost:8080/",
          "height": 489
        },
        "outputId": "d5d3520f-b529-4601-8630-f2f66248cfd2"
      },
      "source": [
        "pd.DataFrame(dfAux.groupby(['risco','sexo']).size())"
      ],
      "execution_count": 40,
      "outputs": [
        {
          "output_type": "execute_result",
          "data": {
            "text/html": [
              "<div>\n",
              "<style scoped>\n",
              "    .dataframe tbody tr th:only-of-type {\n",
              "        vertical-align: middle;\n",
              "    }\n",
              "\n",
              "    .dataframe tbody tr th {\n",
              "        vertical-align: top;\n",
              "    }\n",
              "\n",
              "    .dataframe thead th {\n",
              "        text-align: right;\n",
              "    }\n",
              "</style>\n",
              "<table border=\"1\" class=\"dataframe\">\n",
              "  <thead>\n",
              "    <tr style=\"text-align: right;\">\n",
              "      <th></th>\n",
              "      <th></th>\n",
              "      <th>0</th>\n",
              "    </tr>\n",
              "    <tr>\n",
              "      <th>risco</th>\n",
              "      <th>sexo</th>\n",
              "      <th></th>\n",
              "    </tr>\n",
              "  </thead>\n",
              "  <tbody>\n",
              "    <tr>\n",
              "      <th rowspan=\"2\" valign=\"top\">NA</th>\n",
              "      <th>F</th>\n",
              "      <td>17</td>\n",
              "    </tr>\n",
              "    <tr>\n",
              "      <th>M</th>\n",
              "      <td>20</td>\n",
              "    </tr>\n",
              "    <tr>\n",
              "      <th rowspan=\"2\" valign=\"top\">contato sexual com HIV+</th>\n",
              "      <th>F</th>\n",
              "      <td>25</td>\n",
              "    </tr>\n",
              "    <tr>\n",
              "      <th>M</th>\n",
              "      <td>5</td>\n",
              "    </tr>\n",
              "    <tr>\n",
              "      <th rowspan=\"2\" valign=\"top\">dois fatores de risco</th>\n",
              "      <th>F</th>\n",
              "      <td>1</td>\n",
              "    </tr>\n",
              "    <tr>\n",
              "      <th>M</th>\n",
              "      <td>6</td>\n",
              "    </tr>\n",
              "    <tr>\n",
              "      <th>homossexual masculino</th>\n",
              "      <th>M</th>\n",
              "      <td>87</td>\n",
              "    </tr>\n",
              "    <tr>\n",
              "      <th rowspan=\"2\" valign=\"top\">hétero c/múltiplos parceiros</th>\n",
              "      <th>F</th>\n",
              "      <td>2</td>\n",
              "    </tr>\n",
              "    <tr>\n",
              "      <th>M</th>\n",
              "      <td>14</td>\n",
              "    </tr>\n",
              "    <tr>\n",
              "      <th rowspan=\"2\" valign=\"top\">transfusão</th>\n",
              "      <th>F</th>\n",
              "      <td>2</td>\n",
              "    </tr>\n",
              "    <tr>\n",
              "      <th>M</th>\n",
              "      <td>5</td>\n",
              "    </tr>\n",
              "    <tr>\n",
              "      <th rowspan=\"2\" valign=\"top\">usuário de drogas injetáveis</th>\n",
              "      <th>F</th>\n",
              "      <td>2</td>\n",
              "    </tr>\n",
              "    <tr>\n",
              "      <th>M</th>\n",
              "      <td>7</td>\n",
              "    </tr>\n",
              "  </tbody>\n",
              "</table>\n",
              "</div>"
            ],
            "text/plain": [
              "                                    0\n",
              "risco                        sexo    \n",
              "NA                           F     17\n",
              "                             M     20\n",
              "contato sexual com HIV+      F     25\n",
              "                             M      5\n",
              "dois fatores de risco        F      1\n",
              "                             M      6\n",
              "homossexual masculino        M     87\n",
              "hétero c/múltiplos parceiros F      2\n",
              "                             M     14\n",
              "transfusão                   F      2\n",
              "                             M      5\n",
              "usuário de drogas injetáveis F      2\n",
              "                             M      7"
            ]
          },
          "metadata": {
            "tags": []
          },
          "execution_count": 40
        }
      ]
    },
    {
      "cell_type": "markdown",
      "metadata": {
        "id": "b3vKWgvXw4a0",
        "colab_type": "text"
      },
      "source": [
        "#### g) Construa gráficos para o tempo de sobrevivência e para outras variáveis de interesse"
      ]
    },
    {
      "cell_type": "code",
      "metadata": {
        "id": "gBafYW_El9Gq",
        "colab_type": "code",
        "colab": {
          "base_uri": "https://localhost:8080/",
          "height": 542
        },
        "outputId": "ddd29eb1-ac1f-423b-afb3-c2590d05bd5d"
      },
      "source": [
        "import plotly.express as px\n",
        "fig = px.box(df, x = 'sexo', y='idade', points='all')\n",
        "fig.update_layout(title_text='Idade por gênero',\n",
        "                  xaxis_title_text='Sexo',\n",
        "                  yaxis_title_text='Idade'\n",
        ")\n",
        "fig.show()"
      ],
      "execution_count": 41,
      "outputs": [
        {
          "output_type": "display_data",
          "data": {
            "text/html": [
              "<html>\n",
              "<head><meta charset=\"utf-8\" /></head>\n",
              "<body>\n",
              "    <div>\n",
              "            <script src=\"https://cdnjs.cloudflare.com/ajax/libs/mathjax/2.7.5/MathJax.js?config=TeX-AMS-MML_SVG\"></script><script type=\"text/javascript\">if (window.MathJax) {MathJax.Hub.Config({SVG: {font: \"STIX-Web\"}});}</script>\n",
              "                <script type=\"text/javascript\">window.PlotlyConfig = {MathJaxConfig: 'local'};</script>\n",
              "        <script src=\"https://cdn.plot.ly/plotly-latest.min.js\"></script>    \n",
              "            <div id=\"bccaaf28-82d8-4323-8168-80e432e53fb3\" class=\"plotly-graph-div\" style=\"height:525px; width:100%;\"></div>\n",
              "            <script type=\"text/javascript\">\n",
              "                \n",
              "                    window.PLOTLYENV=window.PLOTLYENV || {};\n",
              "                    \n",
              "                if (document.getElementById(\"bccaaf28-82d8-4323-8168-80e432e53fb3\")) {\n",
              "                    Plotly.newPlot(\n",
              "                        'bccaaf28-82d8-4323-8168-80e432e53fb3',\n",
              "                        [{\"alignmentgroup\": \"True\", \"boxpoints\": \"all\", \"hoverlabel\": {\"namelength\": 0}, \"hovertemplate\": \"sexo=%{x}<br>idade=%{y}\", \"legendgroup\": \"\", \"marker\": {\"color\": \"#636efa\"}, \"name\": \"\", \"notched\": false, \"offsetgroup\": \"\", \"orientation\": \"v\", \"showlegend\": false, \"type\": \"box\", \"x\": [\"M\", \"M\", \"M\", \"M\", \"M\", \"M\", \"M\", \"M\", \"M\", \"M\", \"M\", \"M\", \"M\", \"M\", \"M\", \"M\", \"M\", \"M\", \"M\", \"M\", \"M\", \"M\", \"F\", \"M\", \"F\", \"M\", \"M\", \"M\", \"M\", \"M\", \"M\", \"M\", \"M\", \"F\", \"M\", \"M\", \"M\", \"F\", \"M\", \"F\", \"M\", \"M\", \"M\", \"M\", \"M\", \"M\", \"M\", \"M\", \"M\", \"M\", \"M\", \"M\", \"M\", \"M\", \"M\", \"M\", \"F\", \"M\", \"M\", \"M\", \"M\", \"M\", \"F\", \"M\", \"M\", \"M\", \"F\", \"M\", \"F\", \"M\", \"M\", \"M\", \"M\", \"F\", \"M\", \"M\", \"M\", \"F\", \"M\", \"M\", \"M\", \"M\", \"M\", \"M\", \"F\", \"F\", \"F\", \"M\", \"M\", \"M\", \"M\", \"F\", \"M\", \"M\", \"M\", \"F\", \"F\", \"M\", \"F\", \"M\", \"M\", \"F\", \"M\", \"M\", \"M\", \"F\", \"F\", \"M\", \"M\", \"M\", \"M\", \"M\", \"M\", \"M\", \"M\", \"F\", \"M\", \"M\", \"M\", \"M\", \"F\", \"M\", \"M\", \"F\", \"M\", \"M\", \"M\", \"M\", \"M\", \"M\", \"F\", \"M\", \"M\", \"F\", \"M\", \"F\", \"F\", \"M\", \"M\", \"M\", \"M\", \"M\", \"F\", \"M\", \"M\", \"F\", \"M\", \"F\", \"M\", \"M\", \"F\", \"F\", \"F\", \"M\", \"M\", \"F\", \"M\", \"F\", \"M\", \"M\", \"F\", \"F\", \"M\", \"F\", \"F\", \"M\", \"F\", \"F\", \"M\", \"F\", \"M\", \"M\", \"M\", \"M\", \"M\", \"M\", \"F\", \"F\", \"M\", \"F\", \"M\", \"M\", \"M\", \"M\", \"F\", \"F\", \"F\", \"M\", \"M\", \"M\", \"M\", \"M\", \"M\"], \"x0\": \" \", \"xaxis\": \"x\", \"y\": [34, 38, 32, 43, 40, 34, 27, 22, 44, 23, 40, 33, 41, 35, 45, 35, 42, 33, 40, 23, 51, 47, 27, 51, 22, 46, 40, 40, 45, 49, 37, 50, 28, 52, 25, 34, 35, 61, 33, 32, 32, 32, 27, 43, 31, 31, 25, 35, 30, 28, 26, 23, 27, 47, 44, 34, 46, 53, 37, 31, 33, 30, 31, 54, 47, 31, 33, 47, 43, 34, 29, 32, 37, 25, 38, 40, 29, 36, 42, 26, 55, 22, 41, 40, 20, 34, 37, 31, 38, 31, 25, 32, 25, 42, 24, 38, 36, 31, 32, 29, 29, 49, 44, 38, 39, 31, 66, 47, 29, 55, 41, 44, 41, 68, 39, 45, 36, 30, 27, 26, 28, 45, 39, 33, 53, 37, 28, 29, 29, 35, 24, 35, 32, 38, 40, 29, 35, 45, 49, 31, 34, 33, 44, 33, 46, 36, 37, 31, 37, 25, 28, 50, 25, 41, 35, 26, 32, 39, 45, 38, 51, 43, 25, 24, 35, 33, 22, 27, 53, 24, 67, 25, 36, 33, 24, 46, 49, 65, 34, 30, 46, 42, 46, 32, 38, 31, 32, 21, 41, 24, 51, 33, 48], \"y0\": \" \", \"yaxis\": \"y\"}],\n",
              "                        {\"boxmode\": \"group\", \"legend\": {\"tracegroupgap\": 0}, \"margin\": {\"t\": 60}, \"template\": {\"data\": {\"bar\": [{\"error_x\": {\"color\": \"#2a3f5f\"}, \"error_y\": {\"color\": \"#2a3f5f\"}, \"marker\": {\"line\": {\"color\": \"#E5ECF6\", \"width\": 0.5}}, \"type\": \"bar\"}], \"barpolar\": [{\"marker\": {\"line\": {\"color\": \"#E5ECF6\", \"width\": 0.5}}, \"type\": \"barpolar\"}], \"carpet\": [{\"aaxis\": {\"endlinecolor\": \"#2a3f5f\", \"gridcolor\": \"white\", \"linecolor\": \"white\", \"minorgridcolor\": \"white\", \"startlinecolor\": \"#2a3f5f\"}, \"baxis\": {\"endlinecolor\": \"#2a3f5f\", \"gridcolor\": \"white\", \"linecolor\": \"white\", \"minorgridcolor\": \"white\", \"startlinecolor\": \"#2a3f5f\"}, \"type\": \"carpet\"}], \"choropleth\": [{\"colorbar\": {\"outlinewidth\": 0, \"ticks\": \"\"}, \"type\": \"choropleth\"}], \"contour\": [{\"colorbar\": {\"outlinewidth\": 0, \"ticks\": \"\"}, \"colorscale\": [[0.0, \"#0d0887\"], [0.1111111111111111, \"#46039f\"], [0.2222222222222222, \"#7201a8\"], [0.3333333333333333, \"#9c179e\"], [0.4444444444444444, \"#bd3786\"], [0.5555555555555556, \"#d8576b\"], [0.6666666666666666, \"#ed7953\"], [0.7777777777777778, \"#fb9f3a\"], [0.8888888888888888, \"#fdca26\"], [1.0, \"#f0f921\"]], \"type\": \"contour\"}], \"contourcarpet\": [{\"colorbar\": {\"outlinewidth\": 0, \"ticks\": \"\"}, \"type\": \"contourcarpet\"}], \"heatmap\": [{\"colorbar\": {\"outlinewidth\": 0, \"ticks\": \"\"}, \"colorscale\": [[0.0, \"#0d0887\"], [0.1111111111111111, \"#46039f\"], [0.2222222222222222, \"#7201a8\"], [0.3333333333333333, \"#9c179e\"], [0.4444444444444444, \"#bd3786\"], [0.5555555555555556, \"#d8576b\"], [0.6666666666666666, \"#ed7953\"], [0.7777777777777778, \"#fb9f3a\"], [0.8888888888888888, \"#fdca26\"], [1.0, \"#f0f921\"]], \"type\": \"heatmap\"}], \"heatmapgl\": [{\"colorbar\": {\"outlinewidth\": 0, \"ticks\": \"\"}, \"colorscale\": [[0.0, \"#0d0887\"], [0.1111111111111111, \"#46039f\"], [0.2222222222222222, \"#7201a8\"], [0.3333333333333333, \"#9c179e\"], [0.4444444444444444, \"#bd3786\"], [0.5555555555555556, \"#d8576b\"], [0.6666666666666666, \"#ed7953\"], [0.7777777777777778, \"#fb9f3a\"], [0.8888888888888888, \"#fdca26\"], [1.0, \"#f0f921\"]], \"type\": \"heatmapgl\"}], \"histogram\": [{\"marker\": {\"colorbar\": {\"outlinewidth\": 0, \"ticks\": \"\"}}, \"type\": \"histogram\"}], \"histogram2d\": [{\"colorbar\": {\"outlinewidth\": 0, \"ticks\": \"\"}, \"colorscale\": [[0.0, \"#0d0887\"], [0.1111111111111111, \"#46039f\"], [0.2222222222222222, \"#7201a8\"], [0.3333333333333333, \"#9c179e\"], [0.4444444444444444, \"#bd3786\"], [0.5555555555555556, \"#d8576b\"], [0.6666666666666666, \"#ed7953\"], [0.7777777777777778, \"#fb9f3a\"], [0.8888888888888888, \"#fdca26\"], [1.0, \"#f0f921\"]], \"type\": \"histogram2d\"}], \"histogram2dcontour\": [{\"colorbar\": {\"outlinewidth\": 0, \"ticks\": \"\"}, \"colorscale\": [[0.0, \"#0d0887\"], [0.1111111111111111, \"#46039f\"], [0.2222222222222222, \"#7201a8\"], [0.3333333333333333, \"#9c179e\"], [0.4444444444444444, \"#bd3786\"], [0.5555555555555556, \"#d8576b\"], [0.6666666666666666, \"#ed7953\"], [0.7777777777777778, \"#fb9f3a\"], [0.8888888888888888, \"#fdca26\"], [1.0, \"#f0f921\"]], \"type\": \"histogram2dcontour\"}], \"mesh3d\": [{\"colorbar\": {\"outlinewidth\": 0, \"ticks\": \"\"}, \"type\": \"mesh3d\"}], \"parcoords\": [{\"line\": {\"colorbar\": {\"outlinewidth\": 0, \"ticks\": \"\"}}, \"type\": \"parcoords\"}], \"pie\": [{\"automargin\": true, \"type\": \"pie\"}], \"scatter\": [{\"marker\": {\"colorbar\": {\"outlinewidth\": 0, \"ticks\": \"\"}}, \"type\": \"scatter\"}], \"scatter3d\": [{\"line\": {\"colorbar\": {\"outlinewidth\": 0, \"ticks\": \"\"}}, \"marker\": {\"colorbar\": {\"outlinewidth\": 0, \"ticks\": \"\"}}, \"type\": \"scatter3d\"}], \"scattercarpet\": [{\"marker\": {\"colorbar\": {\"outlinewidth\": 0, \"ticks\": \"\"}}, \"type\": \"scattercarpet\"}], \"scattergeo\": [{\"marker\": {\"colorbar\": {\"outlinewidth\": 0, \"ticks\": \"\"}}, \"type\": \"scattergeo\"}], \"scattergl\": [{\"marker\": {\"colorbar\": {\"outlinewidth\": 0, \"ticks\": \"\"}}, \"type\": \"scattergl\"}], \"scattermapbox\": [{\"marker\": {\"colorbar\": {\"outlinewidth\": 0, \"ticks\": \"\"}}, \"type\": \"scattermapbox\"}], \"scatterpolar\": [{\"marker\": {\"colorbar\": {\"outlinewidth\": 0, \"ticks\": \"\"}}, \"type\": \"scatterpolar\"}], \"scatterpolargl\": [{\"marker\": {\"colorbar\": {\"outlinewidth\": 0, \"ticks\": \"\"}}, \"type\": \"scatterpolargl\"}], \"scatterternary\": [{\"marker\": {\"colorbar\": {\"outlinewidth\": 0, \"ticks\": \"\"}}, \"type\": \"scatterternary\"}], \"surface\": [{\"colorbar\": {\"outlinewidth\": 0, \"ticks\": \"\"}, \"colorscale\": [[0.0, \"#0d0887\"], [0.1111111111111111, \"#46039f\"], [0.2222222222222222, \"#7201a8\"], [0.3333333333333333, \"#9c179e\"], [0.4444444444444444, \"#bd3786\"], [0.5555555555555556, \"#d8576b\"], [0.6666666666666666, \"#ed7953\"], [0.7777777777777778, \"#fb9f3a\"], [0.8888888888888888, \"#fdca26\"], [1.0, \"#f0f921\"]], \"type\": \"surface\"}], \"table\": [{\"cells\": {\"fill\": {\"color\": \"#EBF0F8\"}, \"line\": {\"color\": \"white\"}}, \"header\": {\"fill\": {\"color\": \"#C8D4E3\"}, \"line\": {\"color\": \"white\"}}, \"type\": \"table\"}]}, \"layout\": {\"annotationdefaults\": {\"arrowcolor\": \"#2a3f5f\", \"arrowhead\": 0, \"arrowwidth\": 1}, \"coloraxis\": {\"colorbar\": {\"outlinewidth\": 0, \"ticks\": \"\"}}, \"colorscale\": {\"diverging\": [[0, \"#8e0152\"], [0.1, \"#c51b7d\"], [0.2, \"#de77ae\"], [0.3, \"#f1b6da\"], [0.4, \"#fde0ef\"], [0.5, \"#f7f7f7\"], [0.6, \"#e6f5d0\"], [0.7, \"#b8e186\"], [0.8, \"#7fbc41\"], [0.9, \"#4d9221\"], [1, \"#276419\"]], \"sequential\": [[0.0, \"#0d0887\"], [0.1111111111111111, \"#46039f\"], [0.2222222222222222, \"#7201a8\"], [0.3333333333333333, \"#9c179e\"], [0.4444444444444444, \"#bd3786\"], [0.5555555555555556, \"#d8576b\"], [0.6666666666666666, \"#ed7953\"], [0.7777777777777778, \"#fb9f3a\"], [0.8888888888888888, \"#fdca26\"], [1.0, \"#f0f921\"]], \"sequentialminus\": [[0.0, \"#0d0887\"], [0.1111111111111111, \"#46039f\"], [0.2222222222222222, \"#7201a8\"], [0.3333333333333333, \"#9c179e\"], [0.4444444444444444, \"#bd3786\"], [0.5555555555555556, \"#d8576b\"], [0.6666666666666666, \"#ed7953\"], [0.7777777777777778, \"#fb9f3a\"], [0.8888888888888888, \"#fdca26\"], [1.0, \"#f0f921\"]]}, \"colorway\": [\"#636efa\", \"#EF553B\", \"#00cc96\", \"#ab63fa\", \"#FFA15A\", \"#19d3f3\", \"#FF6692\", \"#B6E880\", \"#FF97FF\", \"#FECB52\"], \"font\": {\"color\": \"#2a3f5f\"}, \"geo\": {\"bgcolor\": \"white\", \"lakecolor\": \"white\", \"landcolor\": \"#E5ECF6\", \"showlakes\": true, \"showland\": true, \"subunitcolor\": \"white\"}, \"hoverlabel\": {\"align\": \"left\"}, \"hovermode\": \"closest\", \"mapbox\": {\"style\": \"light\"}, \"paper_bgcolor\": \"white\", \"plot_bgcolor\": \"#E5ECF6\", \"polar\": {\"angularaxis\": {\"gridcolor\": \"white\", \"linecolor\": \"white\", \"ticks\": \"\"}, \"bgcolor\": \"#E5ECF6\", \"radialaxis\": {\"gridcolor\": \"white\", \"linecolor\": \"white\", \"ticks\": \"\"}}, \"scene\": {\"xaxis\": {\"backgroundcolor\": \"#E5ECF6\", \"gridcolor\": \"white\", \"gridwidth\": 2, \"linecolor\": \"white\", \"showbackground\": true, \"ticks\": \"\", \"zerolinecolor\": \"white\"}, \"yaxis\": {\"backgroundcolor\": \"#E5ECF6\", \"gridcolor\": \"white\", \"gridwidth\": 2, \"linecolor\": \"white\", \"showbackground\": true, \"ticks\": \"\", \"zerolinecolor\": \"white\"}, \"zaxis\": {\"backgroundcolor\": \"#E5ECF6\", \"gridcolor\": \"white\", \"gridwidth\": 2, \"linecolor\": \"white\", \"showbackground\": true, \"ticks\": \"\", \"zerolinecolor\": \"white\"}}, \"shapedefaults\": {\"line\": {\"color\": \"#2a3f5f\"}}, \"ternary\": {\"aaxis\": {\"gridcolor\": \"white\", \"linecolor\": \"white\", \"ticks\": \"\"}, \"baxis\": {\"gridcolor\": \"white\", \"linecolor\": \"white\", \"ticks\": \"\"}, \"bgcolor\": \"#E5ECF6\", \"caxis\": {\"gridcolor\": \"white\", \"linecolor\": \"white\", \"ticks\": \"\"}}, \"title\": {\"x\": 0.05}, \"xaxis\": {\"automargin\": true, \"gridcolor\": \"white\", \"linecolor\": \"white\", \"ticks\": \"\", \"title\": {\"standoff\": 15}, \"zerolinecolor\": \"white\", \"zerolinewidth\": 2}, \"yaxis\": {\"automargin\": true, \"gridcolor\": \"white\", \"linecolor\": \"white\", \"ticks\": \"\", \"title\": {\"standoff\": 15}, \"zerolinecolor\": \"white\", \"zerolinewidth\": 2}}}, \"title\": {\"text\": \"Idade por g\\u00eanero\"}, \"xaxis\": {\"anchor\": \"y\", \"domain\": [0.0, 1.0], \"title\": {\"text\": \"Sexo\"}}, \"yaxis\": {\"anchor\": \"x\", \"domain\": [0.0, 1.0], \"title\": {\"text\": \"Idade\"}}},\n",
              "                        {\"responsive\": true}\n",
              "                    ).then(function(){\n",
              "                            \n",
              "var gd = document.getElementById('bccaaf28-82d8-4323-8168-80e432e53fb3');\n",
              "var x = new MutationObserver(function (mutations, observer) {{\n",
              "        var display = window.getComputedStyle(gd).display;\n",
              "        if (!display || display === 'none') {{\n",
              "            console.log([gd, 'removed!']);\n",
              "            Plotly.purge(gd);\n",
              "            observer.disconnect();\n",
              "        }}\n",
              "}});\n",
              "\n",
              "// Listen for the removal of the full notebook cells\n",
              "var notebookContainer = gd.closest('#notebook-container');\n",
              "if (notebookContainer) {{\n",
              "    x.observe(notebookContainer, {childList: true});\n",
              "}}\n",
              "\n",
              "// Listen for the clearing of the current output cell\n",
              "var outputEl = gd.closest('.output');\n",
              "if (outputEl) {{\n",
              "    x.observe(outputEl, {childList: true});\n",
              "}}\n",
              "\n",
              "                        })\n",
              "                };\n",
              "                \n",
              "            </script>\n",
              "        </div>\n",
              "</body>\n",
              "</html>"
            ]
          },
          "metadata": {
            "tags": []
          }
        }
      ]
    },
    {
      "cell_type": "code",
      "metadata": {
        "id": "OkIBLcUJ8Ixs",
        "colab_type": "code",
        "colab": {
          "base_uri": "https://localhost:8080/",
          "height": 542
        },
        "outputId": "4ef17abc-5b22-4b10-c139-54f7b8abd9c4"
      },
      "source": [
        "fig = px.box(dfAux, x='sexo', y='idade', color='risco')\n",
        "fig.update_layout(title_text='Idade por sexo e risco',\n",
        "                  xaxis_title_text='Sexo',\n",
        "                  yaxis_title_text='Idade'\n",
        ")\n",
        "fig.show()"
      ],
      "execution_count": 42,
      "outputs": [
        {
          "output_type": "display_data",
          "data": {
            "text/html": [
              "<html>\n",
              "<head><meta charset=\"utf-8\" /></head>\n",
              "<body>\n",
              "    <div>\n",
              "            <script src=\"https://cdnjs.cloudflare.com/ajax/libs/mathjax/2.7.5/MathJax.js?config=TeX-AMS-MML_SVG\"></script><script type=\"text/javascript\">if (window.MathJax) {MathJax.Hub.Config({SVG: {font: \"STIX-Web\"}});}</script>\n",
              "                <script type=\"text/javascript\">window.PlotlyConfig = {MathJaxConfig: 'local'};</script>\n",
              "        <script src=\"https://cdn.plot.ly/plotly-latest.min.js\"></script>    \n",
              "            <div id=\"088cb320-c290-43a7-ad64-d70029897e8e\" class=\"plotly-graph-div\" style=\"height:525px; width:100%;\"></div>\n",
              "            <script type=\"text/javascript\">\n",
              "                \n",
              "                    window.PLOTLYENV=window.PLOTLYENV || {};\n",
              "                    \n",
              "                if (document.getElementById(\"088cb320-c290-43a7-ad64-d70029897e8e\")) {\n",
              "                    Plotly.newPlot(\n",
              "                        '088cb320-c290-43a7-ad64-d70029897e8e',\n",
              "                        [{\"alignmentgroup\": \"True\", \"hoverlabel\": {\"namelength\": 0}, \"hovertemplate\": \"risco=homossexual masculino<br>sexo=%{x}<br>idade=%{y}\", \"legendgroup\": \"risco=homossexual masculino\", \"marker\": {\"color\": \"#636efa\"}, \"name\": \"risco=homossexual masculino\", \"notched\": false, \"offsetgroup\": \"risco=homossexual masculino\", \"orientation\": \"v\", \"showlegend\": true, \"type\": \"box\", \"x\": [\"M\", \"M\", \"M\", \"M\", \"M\", \"M\", \"M\", \"M\", \"M\", \"M\", \"M\", \"M\", \"M\", \"M\", \"M\", \"M\", \"M\", \"M\", \"M\", \"M\", \"M\", \"M\", \"M\", \"M\", \"M\", \"M\", \"M\", \"M\", \"M\", \"M\", \"M\", \"M\", \"M\", \"M\", \"M\", \"M\", \"M\", \"M\", \"M\", \"M\", \"M\", \"M\", \"M\", \"M\", \"M\", \"M\", \"M\", \"M\", \"M\", \"M\", \"M\", \"M\", \"M\", \"M\", \"M\", \"M\", \"M\", \"M\", \"M\", \"M\", \"M\", \"M\", \"M\", \"M\", \"M\", \"M\", \"M\", \"M\", \"M\", \"M\", \"M\", \"M\", \"M\", \"M\", \"M\", \"M\", \"M\", \"M\", \"M\", \"M\", \"M\", \"M\", \"M\", \"M\", \"M\", \"M\", \"M\"], \"x0\": \" \", \"xaxis\": \"x\", \"y\": [34, 32, 40, 34, 27, 23, 40, 33, 45, 35, 42, 33, 40, 23, 51, 47, 51, 46, 40, 45, 49, 37, 25, 35, 33, 32, 27, 31, 31, 25, 30, 28, 26, 23, 44, 34, 53, 37, 31, 30, 31, 47, 34, 29, 38, 42, 26, 22, 41, 40, 25, 25, 42, 29, 29, 44, 38, 47, 55, 41, 30, 27, 26, 39, 53, 28, 29, 29, 35, 35, 32, 31, 33, 46, 37, 37, 32, 38, 25, 33, 25, 36, 34, 32, 24, 33, 48], \"y0\": \" \", \"yaxis\": \"y\"}, {\"alignmentgroup\": \"True\", \"hoverlabel\": {\"namelength\": 0}, \"hovertemplate\": \"risco=dois fatores de risco<br>sexo=%{x}<br>idade=%{y}\", \"legendgroup\": \"risco=dois fatores de risco\", \"marker\": {\"color\": \"#EF553B\"}, \"name\": \"risco=dois fatores de risco\", \"notched\": false, \"offsetgroup\": \"risco=dois fatores de risco\", \"orientation\": \"v\", \"showlegend\": true, \"type\": \"box\", \"x\": [\"M\", \"M\", \"M\", \"F\", \"M\", \"M\", \"M\"], \"x0\": \" \", \"xaxis\": \"x\", \"y\": [38, 43, 22, 27, 34, 47, 33], \"y0\": \" \", \"yaxis\": \"y\"}, {\"alignmentgroup\": \"True\", \"hoverlabel\": {\"namelength\": 0}, \"hovertemplate\": \"risco=NA<br>sexo=%{x}<br>idade=%{y}\", \"legendgroup\": \"risco=NA\", \"marker\": {\"color\": \"#00cc96\"}, \"name\": \"risco=NA\", \"notched\": false, \"offsetgroup\": \"risco=NA\", \"orientation\": \"v\", \"showlegend\": true, \"type\": \"box\", \"x\": [\"M\", \"M\", \"M\", \"F\", \"M\", \"M\", \"F\", \"M\", \"F\", \"F\", \"M\", \"M\", \"F\", \"F\", \"M\", \"F\", \"M\", \"F\", \"M\", \"M\", \"F\", \"F\", \"F\", \"F\", \"M\", \"M\", \"M\", \"M\", \"F\", \"F\", \"M\", \"M\", \"F\", \"F\", \"F\", \"M\", \"M\"], \"x0\": \" \", \"xaxis\": \"x\", \"y\": [44, 41, 50, 32, 35, 40, 20, 31, 32, 32, 44, 36, 24, 29, 34, 44, 25, 50, 41, 35, 26, 43, 24, 35, 53, 33, 24, 46, 49, 30, 42, 46, 38, 31, 32, 21, 41], \"y0\": \" \", \"yaxis\": \"y\"}, {\"alignmentgroup\": \"True\", \"hoverlabel\": {\"namelength\": 0}, \"hovertemplate\": \"risco=usu\\u00e1rio de drogas injet\\u00e1veis<br>sexo=%{x}<br>idade=%{y}\", \"legendgroup\": \"risco=usu\\u00e1rio de drogas injet\\u00e1veis\", \"marker\": {\"color\": \"#ab63fa\"}, \"name\": \"risco=usu\\u00e1rio de drogas injet\\u00e1veis\", \"notched\": false, \"offsetgroup\": \"risco=usu\\u00e1rio de drogas injet\\u00e1veis\", \"orientation\": \"v\", \"showlegend\": true, \"type\": \"box\", \"x\": [\"M\", \"F\", \"M\", \"M\", \"M\", \"F\", \"M\", \"M\", \"M\"], \"x0\": \" \", \"xaxis\": \"x\", \"y\": [35, 22, 43, 27, 29, 37, 24, 37, 46], \"y0\": \" \", \"yaxis\": \"y\"}, {\"alignmentgroup\": \"True\", \"hoverlabel\": {\"namelength\": 0}, \"hovertemplate\": \"risco=h\\u00e9tero c/m\\u00faltiplos parceiros<br>sexo=%{x}<br>idade=%{y}\", \"legendgroup\": \"risco=h\\u00e9tero c/m\\u00faltiplos parceiros\", \"marker\": {\"color\": \"#FFA15A\"}, \"name\": \"risco=h\\u00e9tero c/m\\u00faltiplos parceiros\", \"notched\": false, \"offsetgroup\": \"risco=h\\u00e9tero c/m\\u00faltiplos parceiros\", \"orientation\": \"v\", \"showlegend\": true, \"type\": \"box\", \"x\": [\"M\", \"M\", \"M\", \"M\", \"M\", \"M\", \"F\", \"M\", \"M\", \"M\", \"M\", \"M\", \"M\", \"M\", \"F\", \"M\"], \"x0\": \" \", \"xaxis\": \"x\", \"y\": [40, 32, 33, 54, 31, 39, 31, 41, 68, 39, 45, 40, 45, 49, 65, 51], \"y0\": \" \", \"yaxis\": \"y\"}, {\"alignmentgroup\": \"True\", \"hoverlabel\": {\"namelength\": 0}, \"hovertemplate\": \"risco=transfus\\u00e3o<br>sexo=%{x}<br>idade=%{y}\", \"legendgroup\": \"risco=transfus\\u00e3o\", \"marker\": {\"color\": \"#19d3f3\"}, \"name\": \"risco=transfus\\u00e3o\", \"notched\": false, \"offsetgroup\": \"risco=transfus\\u00e3o\", \"orientation\": \"v\", \"showlegend\": true, \"type\": \"box\", \"x\": [\"M\", \"M\", \"M\", \"M\", \"M\", \"F\", \"F\"], \"x0\": \" \", \"xaxis\": \"x\", \"y\": [28, 47, 32, 55, 38, 49, 33], \"y0\": \" \", \"yaxis\": \"y\"}, {\"alignmentgroup\": \"True\", \"hoverlabel\": {\"namelength\": 0}, \"hovertemplate\": \"risco=contato sexual com HIV+<br>sexo=%{x}<br>idade=%{y}\", \"legendgroup\": \"risco=contato sexual com HIV+\", \"marker\": {\"color\": \"#FF6692\"}, \"name\": \"risco=contato sexual com HIV+\", \"notched\": false, \"offsetgroup\": \"risco=contato sexual com HIV+\", \"orientation\": \"v\", \"showlegend\": true, \"type\": \"box\", \"x\": [\"F\", \"F\", \"F\", \"F\", \"F\", \"F\", \"M\", \"F\", \"F\", \"F\", \"F\", \"F\", \"M\", \"F\", \"M\", \"F\", \"F\", \"F\", \"F\", \"F\", \"F\", \"F\", \"F\", \"F\", \"M\", \"F\", \"F\", \"F\", \"F\", \"M\"], \"x0\": \" \", \"xaxis\": \"x\", \"y\": [52, 61, 46, 31, 33, 43, 37, 25, 36, 34, 38, 36, 31, 66, 29, 45, 28, 38, 35, 36, 31, 28, 25, 39, 45, 51, 22, 27, 24, 67], \"y0\": \" \", \"yaxis\": \"y\"}],\n",
              "                        {\"boxmode\": \"group\", \"legend\": {\"tracegroupgap\": 0}, \"margin\": {\"t\": 60}, \"template\": {\"data\": {\"bar\": [{\"error_x\": {\"color\": \"#2a3f5f\"}, \"error_y\": {\"color\": \"#2a3f5f\"}, \"marker\": {\"line\": {\"color\": \"#E5ECF6\", \"width\": 0.5}}, \"type\": \"bar\"}], \"barpolar\": [{\"marker\": {\"line\": {\"color\": \"#E5ECF6\", \"width\": 0.5}}, \"type\": \"barpolar\"}], \"carpet\": [{\"aaxis\": {\"endlinecolor\": \"#2a3f5f\", \"gridcolor\": \"white\", \"linecolor\": \"white\", \"minorgridcolor\": \"white\", \"startlinecolor\": \"#2a3f5f\"}, \"baxis\": {\"endlinecolor\": \"#2a3f5f\", \"gridcolor\": \"white\", \"linecolor\": \"white\", \"minorgridcolor\": \"white\", \"startlinecolor\": \"#2a3f5f\"}, \"type\": \"carpet\"}], \"choropleth\": [{\"colorbar\": {\"outlinewidth\": 0, \"ticks\": \"\"}, \"type\": \"choropleth\"}], \"contour\": [{\"colorbar\": {\"outlinewidth\": 0, \"ticks\": \"\"}, \"colorscale\": [[0.0, \"#0d0887\"], [0.1111111111111111, \"#46039f\"], [0.2222222222222222, \"#7201a8\"], [0.3333333333333333, \"#9c179e\"], [0.4444444444444444, \"#bd3786\"], [0.5555555555555556, \"#d8576b\"], [0.6666666666666666, \"#ed7953\"], [0.7777777777777778, \"#fb9f3a\"], [0.8888888888888888, \"#fdca26\"], [1.0, \"#f0f921\"]], \"type\": \"contour\"}], \"contourcarpet\": [{\"colorbar\": {\"outlinewidth\": 0, \"ticks\": \"\"}, \"type\": \"contourcarpet\"}], \"heatmap\": [{\"colorbar\": {\"outlinewidth\": 0, \"ticks\": \"\"}, \"colorscale\": [[0.0, \"#0d0887\"], [0.1111111111111111, \"#46039f\"], [0.2222222222222222, \"#7201a8\"], [0.3333333333333333, \"#9c179e\"], [0.4444444444444444, \"#bd3786\"], [0.5555555555555556, \"#d8576b\"], [0.6666666666666666, \"#ed7953\"], [0.7777777777777778, \"#fb9f3a\"], [0.8888888888888888, \"#fdca26\"], [1.0, \"#f0f921\"]], \"type\": \"heatmap\"}], \"heatmapgl\": [{\"colorbar\": {\"outlinewidth\": 0, \"ticks\": \"\"}, \"colorscale\": [[0.0, \"#0d0887\"], [0.1111111111111111, \"#46039f\"], [0.2222222222222222, \"#7201a8\"], [0.3333333333333333, \"#9c179e\"], [0.4444444444444444, \"#bd3786\"], [0.5555555555555556, \"#d8576b\"], [0.6666666666666666, \"#ed7953\"], [0.7777777777777778, \"#fb9f3a\"], [0.8888888888888888, \"#fdca26\"], [1.0, \"#f0f921\"]], \"type\": \"heatmapgl\"}], \"histogram\": [{\"marker\": {\"colorbar\": {\"outlinewidth\": 0, \"ticks\": \"\"}}, \"type\": \"histogram\"}], \"histogram2d\": [{\"colorbar\": {\"outlinewidth\": 0, \"ticks\": \"\"}, \"colorscale\": [[0.0, \"#0d0887\"], [0.1111111111111111, \"#46039f\"], [0.2222222222222222, \"#7201a8\"], [0.3333333333333333, \"#9c179e\"], [0.4444444444444444, \"#bd3786\"], [0.5555555555555556, \"#d8576b\"], [0.6666666666666666, \"#ed7953\"], [0.7777777777777778, \"#fb9f3a\"], [0.8888888888888888, \"#fdca26\"], [1.0, \"#f0f921\"]], \"type\": \"histogram2d\"}], \"histogram2dcontour\": [{\"colorbar\": {\"outlinewidth\": 0, \"ticks\": \"\"}, \"colorscale\": [[0.0, \"#0d0887\"], [0.1111111111111111, \"#46039f\"], [0.2222222222222222, \"#7201a8\"], [0.3333333333333333, \"#9c179e\"], [0.4444444444444444, \"#bd3786\"], [0.5555555555555556, \"#d8576b\"], [0.6666666666666666, \"#ed7953\"], [0.7777777777777778, \"#fb9f3a\"], [0.8888888888888888, \"#fdca26\"], [1.0, \"#f0f921\"]], \"type\": \"histogram2dcontour\"}], \"mesh3d\": [{\"colorbar\": {\"outlinewidth\": 0, \"ticks\": \"\"}, \"type\": \"mesh3d\"}], \"parcoords\": [{\"line\": {\"colorbar\": {\"outlinewidth\": 0, \"ticks\": \"\"}}, \"type\": \"parcoords\"}], \"pie\": [{\"automargin\": true, \"type\": \"pie\"}], \"scatter\": [{\"marker\": {\"colorbar\": {\"outlinewidth\": 0, \"ticks\": \"\"}}, \"type\": \"scatter\"}], \"scatter3d\": [{\"line\": {\"colorbar\": {\"outlinewidth\": 0, \"ticks\": \"\"}}, \"marker\": {\"colorbar\": {\"outlinewidth\": 0, \"ticks\": \"\"}}, \"type\": \"scatter3d\"}], \"scattercarpet\": [{\"marker\": {\"colorbar\": {\"outlinewidth\": 0, \"ticks\": \"\"}}, \"type\": \"scattercarpet\"}], \"scattergeo\": [{\"marker\": {\"colorbar\": {\"outlinewidth\": 0, \"ticks\": \"\"}}, \"type\": \"scattergeo\"}], \"scattergl\": [{\"marker\": {\"colorbar\": {\"outlinewidth\": 0, \"ticks\": \"\"}}, \"type\": \"scattergl\"}], \"scattermapbox\": [{\"marker\": {\"colorbar\": {\"outlinewidth\": 0, \"ticks\": \"\"}}, \"type\": \"scattermapbox\"}], \"scatterpolar\": [{\"marker\": {\"colorbar\": {\"outlinewidth\": 0, \"ticks\": \"\"}}, \"type\": \"scatterpolar\"}], \"scatterpolargl\": [{\"marker\": {\"colorbar\": {\"outlinewidth\": 0, \"ticks\": \"\"}}, \"type\": \"scatterpolargl\"}], \"scatterternary\": [{\"marker\": {\"colorbar\": {\"outlinewidth\": 0, \"ticks\": \"\"}}, \"type\": \"scatterternary\"}], \"surface\": [{\"colorbar\": {\"outlinewidth\": 0, \"ticks\": \"\"}, \"colorscale\": [[0.0, \"#0d0887\"], [0.1111111111111111, \"#46039f\"], [0.2222222222222222, \"#7201a8\"], [0.3333333333333333, \"#9c179e\"], [0.4444444444444444, \"#bd3786\"], [0.5555555555555556, \"#d8576b\"], [0.6666666666666666, \"#ed7953\"], [0.7777777777777778, \"#fb9f3a\"], [0.8888888888888888, \"#fdca26\"], [1.0, \"#f0f921\"]], \"type\": \"surface\"}], \"table\": [{\"cells\": {\"fill\": {\"color\": \"#EBF0F8\"}, \"line\": {\"color\": \"white\"}}, \"header\": {\"fill\": {\"color\": \"#C8D4E3\"}, \"line\": {\"color\": \"white\"}}, \"type\": \"table\"}]}, \"layout\": {\"annotationdefaults\": {\"arrowcolor\": \"#2a3f5f\", \"arrowhead\": 0, \"arrowwidth\": 1}, \"coloraxis\": {\"colorbar\": {\"outlinewidth\": 0, \"ticks\": \"\"}}, \"colorscale\": {\"diverging\": [[0, \"#8e0152\"], [0.1, \"#c51b7d\"], [0.2, \"#de77ae\"], [0.3, \"#f1b6da\"], [0.4, \"#fde0ef\"], [0.5, \"#f7f7f7\"], [0.6, \"#e6f5d0\"], [0.7, \"#b8e186\"], [0.8, \"#7fbc41\"], [0.9, \"#4d9221\"], [1, \"#276419\"]], \"sequential\": [[0.0, \"#0d0887\"], [0.1111111111111111, \"#46039f\"], [0.2222222222222222, \"#7201a8\"], [0.3333333333333333, \"#9c179e\"], [0.4444444444444444, \"#bd3786\"], [0.5555555555555556, \"#d8576b\"], [0.6666666666666666, \"#ed7953\"], [0.7777777777777778, \"#fb9f3a\"], [0.8888888888888888, \"#fdca26\"], [1.0, \"#f0f921\"]], \"sequentialminus\": [[0.0, \"#0d0887\"], [0.1111111111111111, \"#46039f\"], [0.2222222222222222, \"#7201a8\"], [0.3333333333333333, \"#9c179e\"], [0.4444444444444444, \"#bd3786\"], [0.5555555555555556, \"#d8576b\"], [0.6666666666666666, \"#ed7953\"], [0.7777777777777778, \"#fb9f3a\"], [0.8888888888888888, \"#fdca26\"], [1.0, \"#f0f921\"]]}, \"colorway\": [\"#636efa\", \"#EF553B\", \"#00cc96\", \"#ab63fa\", \"#FFA15A\", \"#19d3f3\", \"#FF6692\", \"#B6E880\", \"#FF97FF\", \"#FECB52\"], \"font\": {\"color\": \"#2a3f5f\"}, \"geo\": {\"bgcolor\": \"white\", \"lakecolor\": \"white\", \"landcolor\": \"#E5ECF6\", \"showlakes\": true, \"showland\": true, \"subunitcolor\": \"white\"}, \"hoverlabel\": {\"align\": \"left\"}, \"hovermode\": \"closest\", \"mapbox\": {\"style\": \"light\"}, \"paper_bgcolor\": \"white\", \"plot_bgcolor\": \"#E5ECF6\", \"polar\": {\"angularaxis\": {\"gridcolor\": \"white\", \"linecolor\": \"white\", \"ticks\": \"\"}, \"bgcolor\": \"#E5ECF6\", \"radialaxis\": {\"gridcolor\": \"white\", \"linecolor\": \"white\", \"ticks\": \"\"}}, \"scene\": {\"xaxis\": {\"backgroundcolor\": \"#E5ECF6\", \"gridcolor\": \"white\", \"gridwidth\": 2, \"linecolor\": \"white\", \"showbackground\": true, \"ticks\": \"\", \"zerolinecolor\": \"white\"}, \"yaxis\": {\"backgroundcolor\": \"#E5ECF6\", \"gridcolor\": \"white\", \"gridwidth\": 2, \"linecolor\": \"white\", \"showbackground\": true, \"ticks\": \"\", \"zerolinecolor\": \"white\"}, \"zaxis\": {\"backgroundcolor\": \"#E5ECF6\", \"gridcolor\": \"white\", \"gridwidth\": 2, \"linecolor\": \"white\", \"showbackground\": true, \"ticks\": \"\", \"zerolinecolor\": \"white\"}}, \"shapedefaults\": {\"line\": {\"color\": \"#2a3f5f\"}}, \"ternary\": {\"aaxis\": {\"gridcolor\": \"white\", \"linecolor\": \"white\", \"ticks\": \"\"}, \"baxis\": {\"gridcolor\": \"white\", \"linecolor\": \"white\", \"ticks\": \"\"}, \"bgcolor\": \"#E5ECF6\", \"caxis\": {\"gridcolor\": \"white\", \"linecolor\": \"white\", \"ticks\": \"\"}}, \"title\": {\"x\": 0.05}, \"xaxis\": {\"automargin\": true, \"gridcolor\": \"white\", \"linecolor\": \"white\", \"ticks\": \"\", \"title\": {\"standoff\": 15}, \"zerolinecolor\": \"white\", \"zerolinewidth\": 2}, \"yaxis\": {\"automargin\": true, \"gridcolor\": \"white\", \"linecolor\": \"white\", \"ticks\": \"\", \"title\": {\"standoff\": 15}, \"zerolinecolor\": \"white\", \"zerolinewidth\": 2}}}, \"title\": {\"text\": \"Idade por sexo e risco\"}, \"xaxis\": {\"anchor\": \"y\", \"domain\": [0.0, 1.0], \"title\": {\"text\": \"Sexo\"}}, \"yaxis\": {\"anchor\": \"x\", \"domain\": [0.0, 1.0], \"title\": {\"text\": \"Idade\"}}},\n",
              "                        {\"responsive\": true}\n",
              "                    ).then(function(){\n",
              "                            \n",
              "var gd = document.getElementById('088cb320-c290-43a7-ad64-d70029897e8e');\n",
              "var x = new MutationObserver(function (mutations, observer) {{\n",
              "        var display = window.getComputedStyle(gd).display;\n",
              "        if (!display || display === 'none') {{\n",
              "            console.log([gd, 'removed!']);\n",
              "            Plotly.purge(gd);\n",
              "            observer.disconnect();\n",
              "        }}\n",
              "}});\n",
              "\n",
              "// Listen for the removal of the full notebook cells\n",
              "var notebookContainer = gd.closest('#notebook-container');\n",
              "if (notebookContainer) {{\n",
              "    x.observe(notebookContainer, {childList: true});\n",
              "}}\n",
              "\n",
              "// Listen for the clearing of the current output cell\n",
              "var outputEl = gd.closest('.output');\n",
              "if (outputEl) {{\n",
              "    x.observe(outputEl, {childList: true});\n",
              "}}\n",
              "\n",
              "                        })\n",
              "                };\n",
              "                \n",
              "            </script>\n",
              "        </div>\n",
              "</body>\n",
              "</html>"
            ]
          },
          "metadata": {
            "tags": []
          }
        }
      ]
    },
    {
      "cell_type": "code",
      "metadata": {
        "id": "uXfOktC1D2VM",
        "colab_type": "code",
        "colab": {
          "base_uri": "https://localhost:8080/",
          "height": 542
        },
        "outputId": "273a3b16-075b-431b-8bb0-5135b16a475d"
      },
      "source": [
        "fig = px.histogram(dfAux, x=\"obito\", y=\"id\", histfunc='count', facet_col='sexo', opacity=0.5)\n",
        "fig.update_layout(title_text='Sobrevivência',\n",
        "                  xaxis_title_text='Ocorrência', # xaxis label\n",
        "                  yaxis_title_text='Quantidade', # yaxis label\n",
        "                  bargap=0.05, # gap between bars of adjacent location coordinates\n",
        ")\n",
        "\n",
        "fig.show()"
      ],
      "execution_count": 43,
      "outputs": [
        {
          "output_type": "display_data",
          "data": {
            "text/html": [
              "<html>\n",
              "<head><meta charset=\"utf-8\" /></head>\n",
              "<body>\n",
              "    <div>\n",
              "            <script src=\"https://cdnjs.cloudflare.com/ajax/libs/mathjax/2.7.5/MathJax.js?config=TeX-AMS-MML_SVG\"></script><script type=\"text/javascript\">if (window.MathJax) {MathJax.Hub.Config({SVG: {font: \"STIX-Web\"}});}</script>\n",
              "                <script type=\"text/javascript\">window.PlotlyConfig = {MathJaxConfig: 'local'};</script>\n",
              "        <script src=\"https://cdn.plot.ly/plotly-latest.min.js\"></script>    \n",
              "            <div id=\"cf15939e-943b-4745-973a-6ad883082d69\" class=\"plotly-graph-div\" style=\"height:525px; width:100%;\"></div>\n",
              "            <script type=\"text/javascript\">\n",
              "                \n",
              "                    window.PLOTLYENV=window.PLOTLYENV || {};\n",
              "                    \n",
              "                if (document.getElementById(\"cf15939e-943b-4745-973a-6ad883082d69\")) {\n",
              "                    Plotly.newPlot(\n",
              "                        'cf15939e-943b-4745-973a-6ad883082d69',\n",
              "                        [{\"alignmentgroup\": \"True\", \"bingroup\": \"x\", \"histfunc\": \"count\", \"hoverlabel\": {\"namelength\": 0}, \"hovertemplate\": \"sexo=M<br>obito=%{x}<br>count of id=%{y}\", \"legendgroup\": \"\", \"marker\": {\"color\": \"#636efa\", \"opacity\": 0.5}, \"name\": \"\", \"offsetgroup\": \"\", \"orientation\": \"v\", \"showlegend\": false, \"type\": \"histogram\", \"x\": [\"\\u00f3bito\", \"\\u00f3bito\", \"\\u00f3bito\", \"n\\u00e3o \\u00f3bito\", \"n\\u00e3o \\u00f3bito\", \"ignorado\", \"\\u00f3bito\", \"\\u00f3bito\", \"\\u00f3bito\", \"\\u00f3bito\", \"\\u00f3bito\", \"\\u00f3bito\", \"ignorado\", \"\\u00f3bito\", \"\\u00f3bito\", \"\\u00f3bito\", \"\\u00f3bito\", \"\\u00f3bito\", \"\\u00f3bito\", \"\\u00f3bito\", \"ignorado\", \"\\u00f3bito\", \"\\u00f3bito\", \"ignorado\", \"n\\u00e3o \\u00f3bito\", \"\\u00f3bito\", \"\\u00f3bito\", \"\\u00f3bito\", \"ignorado\", \"\\u00f3bito\", \"ignorado\", \"ignorado\", \"\\u00f3bito\", \"\\u00f3bito\", \"\\u00f3bito\", \"\\u00f3bito\", \"\\u00f3bito\", \"ignorado\", \"\\u00f3bito\", \"\\u00f3bito\", \"\\u00f3bito\", \"\\u00f3bito\", \"\\u00f3bito\", \"ignorado\", \"\\u00f3bito\", \"\\u00f3bito\", \"\\u00f3bito\", \"\\u00f3bito\", \"ignorado\", \"ignorado\", \"\\u00f3bito\", \"\\u00f3bito\", \"\\u00f3bito\", \"\\u00f3bito\", \"\\u00f3bito\", \"\\u00f3bito\", \"n\\u00e3o \\u00f3bito\", \"\\u00f3bito\", \"\\u00f3bito\", \"\\u00f3bito\", \"n\\u00e3o \\u00f3bito\", \"\\u00f3bito\", \"\\u00f3bito\", \"n\\u00e3o \\u00f3bito\", \"\\u00f3bito\", \"\\u00f3bito\", \"n\\u00e3o \\u00f3bito\", \"n\\u00e3o \\u00f3bito\", \"\\u00f3bito\", \"\\u00f3bito\", \"ignorado\", \"n\\u00e3o \\u00f3bito\", \"\\u00f3bito\", \"\\u00f3bito\", \"\\u00f3bito\", \"\\u00f3bito\", \"\\u00f3bito\", \"n\\u00e3o \\u00f3bito\", \"n\\u00e3o \\u00f3bito\", \"ignorado\", \"\\u00f3bito\", \"\\u00f3bito\", \"n\\u00e3o \\u00f3bito\", \"\\u00f3bito\", \"n\\u00e3o \\u00f3bito\", \"n\\u00e3o \\u00f3bito\", \"\\u00f3bito\", \"\\u00f3bito\", \"n\\u00e3o \\u00f3bito\", \"n\\u00e3o \\u00f3bito\", \"ignorado\", \"\\u00f3bito\", \"n\\u00e3o \\u00f3bito\", \"\\u00f3bito\", \"ignorado\", \"n\\u00e3o \\u00f3bito\", \"\\u00f3bito\", \"n\\u00e3o \\u00f3bito\", \"n\\u00e3o \\u00f3bito\", \"\\u00f3bito\", \"n\\u00e3o \\u00f3bito\", \"\\u00f3bito\", \"ignorado\", \"n\\u00e3o \\u00f3bito\", \"\\u00f3bito\", \"n\\u00e3o \\u00f3bito\", \"\\u00f3bito\", \"n\\u00e3o \\u00f3bito\", \"\\u00f3bito\", \"n\\u00e3o \\u00f3bito\", \"\\u00f3bito\", \"n\\u00e3o \\u00f3bito\", \"\\u00f3bito\", \"\\u00f3bito\", \"n\\u00e3o \\u00f3bito\", \"n\\u00e3o \\u00f3bito\", \"ignorado\", \"n\\u00e3o \\u00f3bito\", \"n\\u00e3o \\u00f3bito\", \"ignorado\", \"n\\u00e3o \\u00f3bito\", \"n\\u00e3o \\u00f3bito\", \"n\\u00e3o \\u00f3bito\", \"\\u00f3bito\", \"n\\u00e3o \\u00f3bito\", \"n\\u00e3o \\u00f3bito\", \"\\u00f3bito\", \"n\\u00e3o \\u00f3bito\", \"n\\u00e3o \\u00f3bito\", \"n\\u00e3o \\u00f3bito\", \"n\\u00e3o \\u00f3bito\", \"n\\u00e3o \\u00f3bito\", \"n\\u00e3o \\u00f3bito\", \"\\u00f3bito\", \"n\\u00e3o \\u00f3bito\", \"\\u00f3bito\", \"n\\u00e3o \\u00f3bito\", \"ignorado\", \"n\\u00e3o \\u00f3bito\", \"n\\u00e3o \\u00f3bito\", \"n\\u00e3o \\u00f3bito\", \"n\\u00e3o \\u00f3bito\", \"n\\u00e3o \\u00f3bito\", \"n\\u00e3o \\u00f3bito\"], \"xaxis\": \"x\", \"y\": [1, 2, 3, 4, 5, 6, 7, 8, 9, 10, 11, 12, 13, 14, 15, 16, 17, 18, 19, 20, 21, 22, 24, 26, 27, 28, 29, 30, 31, 32, 33, 35, 36, 37, 39, 41, 42, 43, 44, 45, 46, 47, 48, 49, 50, 51, 52, 53, 54, 55, 56, 58, 59, 60, 61, 62, 64, 65, 66, 68, 70, 71, 72, 73, 75, 76, 77, 79, 80, 81, 82, 83, 84, 88, 89, 90, 91, 93, 94, 95, 98, 100, 101, 103, 104, 105, 108, 109, 110, 111, 112, 113, 114, 115, 117, 118, 119, 120, 122, 123, 125, 126, 127, 128, 129, 130, 132, 133, 135, 138, 139, 140, 141, 142, 144, 145, 147, 149, 150, 154, 155, 157, 159, 160, 163, 166, 169, 171, 172, 173, 174, 175, 176, 179, 181, 182, 183, 184, 188, 189, 190, 191, 192, 193], \"yaxis\": \"y\"}, {\"alignmentgroup\": \"True\", \"bingroup\": \"x\", \"histfunc\": \"count\", \"hoverlabel\": {\"namelength\": 0}, \"hovertemplate\": \"sexo=F<br>obito=%{x}<br>count of id=%{y}\", \"legendgroup\": \"\", \"marker\": {\"color\": \"#636efa\", \"opacity\": 0.5}, \"name\": \"\", \"offsetgroup\": \"\", \"orientation\": \"v\", \"showlegend\": false, \"type\": \"histogram\", \"x\": [\"\\u00f3bito\", \"\\u00f3bito\", \"\\u00f3bito\", \"\\u00f3bito\", \"\\u00f3bito\", \"n\\u00e3o \\u00f3bito\", \"\\u00f3bito\", \"ignorado\", \"n\\u00e3o \\u00f3bito\", \"n\\u00e3o \\u00f3bito\", \"\\u00f3bito\", \"\\u00f3bito\", \"\\u00f3bito\", \"n\\u00e3o \\u00f3bito\", \"n\\u00e3o \\u00f3bito\", \"\\u00f3bito\", \"\\u00f3bito\", \"n\\u00e3o \\u00f3bito\", \"ignorado\", \"\\u00f3bito\", \"n\\u00e3o \\u00f3bito\", \"\\u00f3bito\", \"\\u00f3bito\", \"n\\u00e3o \\u00f3bito\", \"\\u00f3bito\", \"n\\u00e3o \\u00f3bito\", \"n\\u00e3o \\u00f3bito\", \"n\\u00e3o \\u00f3bito\", \"n\\u00e3o \\u00f3bito\", \"n\\u00e3o \\u00f3bito\", \"n\\u00e3o \\u00f3bito\", \"n\\u00e3o \\u00f3bito\", \"n\\u00e3o \\u00f3bito\", \"n\\u00e3o \\u00f3bito\", \"n\\u00e3o \\u00f3bito\", \"n\\u00e3o \\u00f3bito\", \"n\\u00e3o \\u00f3bito\", \"n\\u00e3o \\u00f3bito\", \"n\\u00e3o \\u00f3bito\", \"n\\u00e3o \\u00f3bito\", \"n\\u00e3o \\u00f3bito\", \"\\u00f3bito\", \"n\\u00e3o \\u00f3bito\", \"n\\u00e3o \\u00f3bito\", \"n\\u00e3o \\u00f3bito\", \"n\\u00e3o \\u00f3bito\", \"n\\u00e3o \\u00f3bito\", \"n\\u00e3o \\u00f3bito\", \"n\\u00e3o \\u00f3bito\"], \"xaxis\": \"x2\", \"y\": [23, 25, 34, 38, 40, 57, 63, 67, 69, 74, 78, 85, 86, 87, 92, 96, 97, 99, 102, 106, 107, 116, 121, 124, 131, 134, 136, 137, 143, 146, 148, 151, 152, 153, 156, 158, 161, 162, 164, 165, 167, 168, 170, 177, 178, 180, 185, 186, 187], \"yaxis\": \"y2\"}],\n",
              "                        {\"annotations\": [{\"font\": {}, \"showarrow\": false, \"text\": \"sexo=M\", \"x\": 0.245, \"xanchor\": \"center\", \"xref\": \"paper\", \"y\": 1.0, \"yanchor\": \"bottom\", \"yref\": \"paper\"}, {\"font\": {}, \"showarrow\": false, \"text\": \"sexo=F\", \"x\": 0.755, \"xanchor\": \"center\", \"xref\": \"paper\", \"y\": 1.0, \"yanchor\": \"bottom\", \"yref\": \"paper\"}], \"bargap\": 0.05, \"barmode\": \"relative\", \"legend\": {\"tracegroupgap\": 0}, \"margin\": {\"t\": 60}, \"template\": {\"data\": {\"bar\": [{\"error_x\": {\"color\": \"#2a3f5f\"}, \"error_y\": {\"color\": \"#2a3f5f\"}, \"marker\": {\"line\": {\"color\": \"#E5ECF6\", \"width\": 0.5}}, \"type\": \"bar\"}], \"barpolar\": [{\"marker\": {\"line\": {\"color\": \"#E5ECF6\", \"width\": 0.5}}, \"type\": \"barpolar\"}], \"carpet\": [{\"aaxis\": {\"endlinecolor\": \"#2a3f5f\", \"gridcolor\": \"white\", \"linecolor\": \"white\", \"minorgridcolor\": \"white\", \"startlinecolor\": \"#2a3f5f\"}, \"baxis\": {\"endlinecolor\": \"#2a3f5f\", \"gridcolor\": \"white\", \"linecolor\": \"white\", \"minorgridcolor\": \"white\", \"startlinecolor\": \"#2a3f5f\"}, \"type\": \"carpet\"}], \"choropleth\": [{\"colorbar\": {\"outlinewidth\": 0, \"ticks\": \"\"}, \"type\": \"choropleth\"}], \"contour\": [{\"colorbar\": {\"outlinewidth\": 0, \"ticks\": \"\"}, \"colorscale\": [[0.0, \"#0d0887\"], [0.1111111111111111, \"#46039f\"], [0.2222222222222222, \"#7201a8\"], [0.3333333333333333, \"#9c179e\"], [0.4444444444444444, \"#bd3786\"], [0.5555555555555556, \"#d8576b\"], [0.6666666666666666, \"#ed7953\"], [0.7777777777777778, \"#fb9f3a\"], [0.8888888888888888, \"#fdca26\"], [1.0, \"#f0f921\"]], \"type\": \"contour\"}], \"contourcarpet\": [{\"colorbar\": {\"outlinewidth\": 0, \"ticks\": \"\"}, \"type\": \"contourcarpet\"}], \"heatmap\": [{\"colorbar\": {\"outlinewidth\": 0, \"ticks\": \"\"}, \"colorscale\": [[0.0, \"#0d0887\"], [0.1111111111111111, \"#46039f\"], [0.2222222222222222, \"#7201a8\"], [0.3333333333333333, \"#9c179e\"], [0.4444444444444444, \"#bd3786\"], [0.5555555555555556, \"#d8576b\"], [0.6666666666666666, \"#ed7953\"], [0.7777777777777778, \"#fb9f3a\"], [0.8888888888888888, \"#fdca26\"], [1.0, \"#f0f921\"]], \"type\": \"heatmap\"}], \"heatmapgl\": [{\"colorbar\": {\"outlinewidth\": 0, \"ticks\": \"\"}, \"colorscale\": [[0.0, \"#0d0887\"], [0.1111111111111111, \"#46039f\"], [0.2222222222222222, \"#7201a8\"], [0.3333333333333333, \"#9c179e\"], [0.4444444444444444, \"#bd3786\"], [0.5555555555555556, \"#d8576b\"], [0.6666666666666666, \"#ed7953\"], [0.7777777777777778, \"#fb9f3a\"], [0.8888888888888888, \"#fdca26\"], [1.0, \"#f0f921\"]], \"type\": \"heatmapgl\"}], \"histogram\": [{\"marker\": {\"colorbar\": {\"outlinewidth\": 0, \"ticks\": \"\"}}, \"type\": \"histogram\"}], \"histogram2d\": [{\"colorbar\": {\"outlinewidth\": 0, \"ticks\": \"\"}, \"colorscale\": [[0.0, \"#0d0887\"], [0.1111111111111111, \"#46039f\"], [0.2222222222222222, \"#7201a8\"], [0.3333333333333333, \"#9c179e\"], [0.4444444444444444, \"#bd3786\"], [0.5555555555555556, \"#d8576b\"], [0.6666666666666666, \"#ed7953\"], [0.7777777777777778, \"#fb9f3a\"], [0.8888888888888888, \"#fdca26\"], [1.0, \"#f0f921\"]], \"type\": \"histogram2d\"}], \"histogram2dcontour\": [{\"colorbar\": {\"outlinewidth\": 0, \"ticks\": \"\"}, \"colorscale\": [[0.0, \"#0d0887\"], [0.1111111111111111, \"#46039f\"], [0.2222222222222222, \"#7201a8\"], [0.3333333333333333, \"#9c179e\"], [0.4444444444444444, \"#bd3786\"], [0.5555555555555556, \"#d8576b\"], [0.6666666666666666, \"#ed7953\"], [0.7777777777777778, \"#fb9f3a\"], [0.8888888888888888, \"#fdca26\"], [1.0, \"#f0f921\"]], \"type\": \"histogram2dcontour\"}], \"mesh3d\": [{\"colorbar\": {\"outlinewidth\": 0, \"ticks\": \"\"}, \"type\": \"mesh3d\"}], \"parcoords\": [{\"line\": {\"colorbar\": {\"outlinewidth\": 0, \"ticks\": \"\"}}, \"type\": \"parcoords\"}], \"pie\": [{\"automargin\": true, \"type\": \"pie\"}], \"scatter\": [{\"marker\": {\"colorbar\": {\"outlinewidth\": 0, \"ticks\": \"\"}}, \"type\": \"scatter\"}], \"scatter3d\": [{\"line\": {\"colorbar\": {\"outlinewidth\": 0, \"ticks\": \"\"}}, \"marker\": {\"colorbar\": {\"outlinewidth\": 0, \"ticks\": \"\"}}, \"type\": \"scatter3d\"}], \"scattercarpet\": [{\"marker\": {\"colorbar\": {\"outlinewidth\": 0, \"ticks\": \"\"}}, \"type\": \"scattercarpet\"}], \"scattergeo\": [{\"marker\": {\"colorbar\": {\"outlinewidth\": 0, \"ticks\": \"\"}}, \"type\": \"scattergeo\"}], \"scattergl\": [{\"marker\": {\"colorbar\": {\"outlinewidth\": 0, \"ticks\": \"\"}}, \"type\": \"scattergl\"}], \"scattermapbox\": [{\"marker\": {\"colorbar\": {\"outlinewidth\": 0, \"ticks\": \"\"}}, \"type\": \"scattermapbox\"}], \"scatterpolar\": [{\"marker\": {\"colorbar\": {\"outlinewidth\": 0, \"ticks\": \"\"}}, \"type\": \"scatterpolar\"}], \"scatterpolargl\": [{\"marker\": {\"colorbar\": {\"outlinewidth\": 0, \"ticks\": \"\"}}, \"type\": \"scatterpolargl\"}], \"scatterternary\": [{\"marker\": {\"colorbar\": {\"outlinewidth\": 0, \"ticks\": \"\"}}, \"type\": \"scatterternary\"}], \"surface\": [{\"colorbar\": {\"outlinewidth\": 0, \"ticks\": \"\"}, \"colorscale\": [[0.0, \"#0d0887\"], [0.1111111111111111, \"#46039f\"], [0.2222222222222222, \"#7201a8\"], [0.3333333333333333, \"#9c179e\"], [0.4444444444444444, \"#bd3786\"], [0.5555555555555556, \"#d8576b\"], [0.6666666666666666, \"#ed7953\"], [0.7777777777777778, \"#fb9f3a\"], [0.8888888888888888, \"#fdca26\"], [1.0, \"#f0f921\"]], \"type\": \"surface\"}], \"table\": [{\"cells\": {\"fill\": {\"color\": \"#EBF0F8\"}, \"line\": {\"color\": \"white\"}}, \"header\": {\"fill\": {\"color\": \"#C8D4E3\"}, \"line\": {\"color\": \"white\"}}, \"type\": \"table\"}]}, \"layout\": {\"annotationdefaults\": {\"arrowcolor\": \"#2a3f5f\", \"arrowhead\": 0, \"arrowwidth\": 1}, \"coloraxis\": {\"colorbar\": {\"outlinewidth\": 0, \"ticks\": \"\"}}, \"colorscale\": {\"diverging\": [[0, \"#8e0152\"], [0.1, \"#c51b7d\"], [0.2, \"#de77ae\"], [0.3, \"#f1b6da\"], [0.4, \"#fde0ef\"], [0.5, \"#f7f7f7\"], [0.6, \"#e6f5d0\"], [0.7, \"#b8e186\"], [0.8, \"#7fbc41\"], [0.9, \"#4d9221\"], [1, \"#276419\"]], \"sequential\": [[0.0, \"#0d0887\"], [0.1111111111111111, \"#46039f\"], [0.2222222222222222, \"#7201a8\"], [0.3333333333333333, \"#9c179e\"], [0.4444444444444444, \"#bd3786\"], [0.5555555555555556, \"#d8576b\"], [0.6666666666666666, \"#ed7953\"], [0.7777777777777778, \"#fb9f3a\"], [0.8888888888888888, \"#fdca26\"], [1.0, \"#f0f921\"]], \"sequentialminus\": [[0.0, \"#0d0887\"], [0.1111111111111111, \"#46039f\"], [0.2222222222222222, \"#7201a8\"], [0.3333333333333333, \"#9c179e\"], [0.4444444444444444, \"#bd3786\"], [0.5555555555555556, \"#d8576b\"], [0.6666666666666666, \"#ed7953\"], [0.7777777777777778, \"#fb9f3a\"], [0.8888888888888888, \"#fdca26\"], [1.0, \"#f0f921\"]]}, \"colorway\": [\"#636efa\", \"#EF553B\", \"#00cc96\", \"#ab63fa\", \"#FFA15A\", \"#19d3f3\", \"#FF6692\", \"#B6E880\", \"#FF97FF\", \"#FECB52\"], \"font\": {\"color\": \"#2a3f5f\"}, \"geo\": {\"bgcolor\": \"white\", \"lakecolor\": \"white\", \"landcolor\": \"#E5ECF6\", \"showlakes\": true, \"showland\": true, \"subunitcolor\": \"white\"}, \"hoverlabel\": {\"align\": \"left\"}, \"hovermode\": \"closest\", \"mapbox\": {\"style\": \"light\"}, \"paper_bgcolor\": \"white\", \"plot_bgcolor\": \"#E5ECF6\", \"polar\": {\"angularaxis\": {\"gridcolor\": \"white\", \"linecolor\": \"white\", \"ticks\": \"\"}, \"bgcolor\": \"#E5ECF6\", \"radialaxis\": {\"gridcolor\": \"white\", \"linecolor\": \"white\", \"ticks\": \"\"}}, \"scene\": {\"xaxis\": {\"backgroundcolor\": \"#E5ECF6\", \"gridcolor\": \"white\", \"gridwidth\": 2, \"linecolor\": \"white\", \"showbackground\": true, \"ticks\": \"\", \"zerolinecolor\": \"white\"}, \"yaxis\": {\"backgroundcolor\": \"#E5ECF6\", \"gridcolor\": \"white\", \"gridwidth\": 2, \"linecolor\": \"white\", \"showbackground\": true, \"ticks\": \"\", \"zerolinecolor\": \"white\"}, \"zaxis\": {\"backgroundcolor\": \"#E5ECF6\", \"gridcolor\": \"white\", \"gridwidth\": 2, \"linecolor\": \"white\", \"showbackground\": true, \"ticks\": \"\", \"zerolinecolor\": \"white\"}}, \"shapedefaults\": {\"line\": {\"color\": \"#2a3f5f\"}}, \"ternary\": {\"aaxis\": {\"gridcolor\": \"white\", \"linecolor\": \"white\", \"ticks\": \"\"}, \"baxis\": {\"gridcolor\": \"white\", \"linecolor\": \"white\", \"ticks\": \"\"}, \"bgcolor\": \"#E5ECF6\", \"caxis\": {\"gridcolor\": \"white\", \"linecolor\": \"white\", \"ticks\": \"\"}}, \"title\": {\"x\": 0.05}, \"xaxis\": {\"automargin\": true, \"gridcolor\": \"white\", \"linecolor\": \"white\", \"ticks\": \"\", \"title\": {\"standoff\": 15}, \"zerolinecolor\": \"white\", \"zerolinewidth\": 2}, \"yaxis\": {\"automargin\": true, \"gridcolor\": \"white\", \"linecolor\": \"white\", \"ticks\": \"\", \"title\": {\"standoff\": 15}, \"zerolinecolor\": \"white\", \"zerolinewidth\": 2}}}, \"title\": {\"text\": \"Sobreviv\\u00eancia\"}, \"xaxis\": {\"anchor\": \"y\", \"domain\": [0.0, 0.49], \"title\": {\"text\": \"Ocorr\\u00eancia\"}}, \"xaxis2\": {\"anchor\": \"y2\", \"domain\": [0.51, 1.0], \"matches\": \"x\", \"title\": {\"text\": \"obito\"}}, \"yaxis\": {\"anchor\": \"x\", \"domain\": [0.0, 1.0], \"title\": {\"text\": \"Quantidade\"}}, \"yaxis2\": {\"anchor\": \"x2\", \"domain\": [0.0, 1.0], \"matches\": \"y\", \"showticklabels\": false}},\n",
              "                        {\"responsive\": true}\n",
              "                    ).then(function(){\n",
              "                            \n",
              "var gd = document.getElementById('cf15939e-943b-4745-973a-6ad883082d69');\n",
              "var x = new MutationObserver(function (mutations, observer) {{\n",
              "        var display = window.getComputedStyle(gd).display;\n",
              "        if (!display || display === 'none') {{\n",
              "            console.log([gd, 'removed!']);\n",
              "            Plotly.purge(gd);\n",
              "            observer.disconnect();\n",
              "        }}\n",
              "}});\n",
              "\n",
              "// Listen for the removal of the full notebook cells\n",
              "var notebookContainer = gd.closest('#notebook-container');\n",
              "if (notebookContainer) {{\n",
              "    x.observe(notebookContainer, {childList: true});\n",
              "}}\n",
              "\n",
              "// Listen for the clearing of the current output cell\n",
              "var outputEl = gd.closest('.output');\n",
              "if (outputEl) {{\n",
              "    x.observe(outputEl, {childList: true});\n",
              "}}\n",
              "\n",
              "                        })\n",
              "                };\n",
              "                \n",
              "            </script>\n",
              "        </div>\n",
              "</body>\n",
              "</html>"
            ]
          },
          "metadata": {
            "tags": []
          }
        }
      ]
    },
    {
      "cell_type": "code",
      "metadata": {
        "id": "uUnhmdTCE83T",
        "colab_type": "code",
        "colab": {
          "base_uri": "https://localhost:8080/",
          "height": 542
        },
        "outputId": "4f2a1190-07dc-443c-d81a-8e463b52cf9a"
      },
      "source": [
        "fig = px.histogram(dfAux, x=\"tempo\", nbins=10, labels={'tempo':'Dias'}, opacity=0.5)\n",
        "fig.update_layout(title_text='Sobrevivência',\n",
        "                  xaxis_title_text='Dias', # xaxis label\n",
        "                  yaxis_title_text='Frequência', # yaxis label\n",
        ")\n",
        "fig.show()"
      ],
      "execution_count": 44,
      "outputs": [
        {
          "output_type": "display_data",
          "data": {
            "text/html": [
              "<html>\n",
              "<head><meta charset=\"utf-8\" /></head>\n",
              "<body>\n",
              "    <div>\n",
              "            <script src=\"https://cdnjs.cloudflare.com/ajax/libs/mathjax/2.7.5/MathJax.js?config=TeX-AMS-MML_SVG\"></script><script type=\"text/javascript\">if (window.MathJax) {MathJax.Hub.Config({SVG: {font: \"STIX-Web\"}});}</script>\n",
              "                <script type=\"text/javascript\">window.PlotlyConfig = {MathJaxConfig: 'local'};</script>\n",
              "        <script src=\"https://cdn.plot.ly/plotly-latest.min.js\"></script>    \n",
              "            <div id=\"0d947a1d-aea5-4de2-b166-5712d68ac93a\" class=\"plotly-graph-div\" style=\"height:525px; width:100%;\"></div>\n",
              "            <script type=\"text/javascript\">\n",
              "                \n",
              "                    window.PLOTLYENV=window.PLOTLYENV || {};\n",
              "                    \n",
              "                if (document.getElementById(\"0d947a1d-aea5-4de2-b166-5712d68ac93a\")) {\n",
              "                    Plotly.newPlot(\n",
              "                        '0d947a1d-aea5-4de2-b166-5712d68ac93a',\n",
              "                        [{\"alignmentgroup\": \"True\", \"bingroup\": \"x\", \"hoverlabel\": {\"namelength\": 0}, \"hovertemplate\": \"Dias=%{x}<br>count=%{y}\", \"legendgroup\": \"\", \"marker\": {\"color\": \"#636efa\", \"opacity\": 0.5}, \"name\": \"\", \"nbinsx\": 10, \"offsetgroup\": \"\", \"orientation\": \"v\", \"showlegend\": false, \"type\": \"histogram\", \"x\": [852, 123, 1145, 2755, 2117, 329, 60, 151, 1563, 1247, 84, 214, 25, 1348, 158, 555, 408, 1116, 998, 1125, 944, 54, 151, 855, 116, 80, 1757, 194, 183, 37, 237, 1506, 168, 134, 803, 18, 371, 173, 688, 163, 3178, 29, 50, 887, 516, 645, 310, 204, 1344, 1261, 285, 83, 150, 1307, 1076, 1226, 865, 811, 2898, 80, 967, 618, 235, 2236, 152, 892, 81, 1085, 1073, 1615, 35, 290, 1780, 3228, 52, 733, 3213, 1983, 2304, 572, 21, 1272, 1646, 304, 418, 854, 2973, 40, 850, 1139, 323, 1507, 2717, 1735, 388, 145, 905, 927, 1027, 631, 2495, 1331, 623, 2568, 2013, 721, 1952, 397, 254, 1630, 1523, 146, 108, 1835, 499, 333, 202, 2437, 1015, 2138, 22, 2090, 179, 2439, 1063, 85, 343, 2215, 259, 2258, 1371, 39, 2371, 975, 952, 2492, 1478, 295, 992, 1011, 644, 426, 537, 1454, 1869, 714, 1310, 2084, 1918, 1649, 290, 1685, 1348, 652, 1384, 1471, 1512, 378, 1352, 419, 1426, 1488, 1315, 643, 1197, 1343, 1176, 944, 340, 881, 915, 948, 985, 1242, 955, 987, 899, 1056, 775, 785, 731, 16, 680, 21, 444, 524, 217, 440, 470, 390, 344, 578, 504], \"xaxis\": \"x\", \"yaxis\": \"y\"}],\n",
              "                        {\"barmode\": \"relative\", \"legend\": {\"tracegroupgap\": 0}, \"margin\": {\"t\": 60}, \"template\": {\"data\": {\"bar\": [{\"error_x\": {\"color\": \"#2a3f5f\"}, \"error_y\": {\"color\": \"#2a3f5f\"}, \"marker\": {\"line\": {\"color\": \"#E5ECF6\", \"width\": 0.5}}, \"type\": \"bar\"}], \"barpolar\": [{\"marker\": {\"line\": {\"color\": \"#E5ECF6\", \"width\": 0.5}}, \"type\": \"barpolar\"}], \"carpet\": [{\"aaxis\": {\"endlinecolor\": \"#2a3f5f\", \"gridcolor\": \"white\", \"linecolor\": \"white\", \"minorgridcolor\": \"white\", \"startlinecolor\": \"#2a3f5f\"}, \"baxis\": {\"endlinecolor\": \"#2a3f5f\", \"gridcolor\": \"white\", \"linecolor\": \"white\", \"minorgridcolor\": \"white\", \"startlinecolor\": \"#2a3f5f\"}, \"type\": \"carpet\"}], \"choropleth\": [{\"colorbar\": {\"outlinewidth\": 0, \"ticks\": \"\"}, \"type\": \"choropleth\"}], \"contour\": [{\"colorbar\": {\"outlinewidth\": 0, \"ticks\": \"\"}, \"colorscale\": [[0.0, \"#0d0887\"], [0.1111111111111111, \"#46039f\"], [0.2222222222222222, \"#7201a8\"], [0.3333333333333333, \"#9c179e\"], [0.4444444444444444, \"#bd3786\"], [0.5555555555555556, \"#d8576b\"], [0.6666666666666666, \"#ed7953\"], [0.7777777777777778, \"#fb9f3a\"], [0.8888888888888888, \"#fdca26\"], [1.0, \"#f0f921\"]], \"type\": \"contour\"}], \"contourcarpet\": [{\"colorbar\": {\"outlinewidth\": 0, \"ticks\": \"\"}, \"type\": \"contourcarpet\"}], \"heatmap\": [{\"colorbar\": {\"outlinewidth\": 0, \"ticks\": \"\"}, \"colorscale\": [[0.0, \"#0d0887\"], [0.1111111111111111, \"#46039f\"], [0.2222222222222222, \"#7201a8\"], [0.3333333333333333, \"#9c179e\"], [0.4444444444444444, \"#bd3786\"], [0.5555555555555556, \"#d8576b\"], [0.6666666666666666, \"#ed7953\"], [0.7777777777777778, \"#fb9f3a\"], [0.8888888888888888, \"#fdca26\"], [1.0, \"#f0f921\"]], \"type\": \"heatmap\"}], \"heatmapgl\": [{\"colorbar\": {\"outlinewidth\": 0, \"ticks\": \"\"}, \"colorscale\": [[0.0, \"#0d0887\"], [0.1111111111111111, \"#46039f\"], [0.2222222222222222, \"#7201a8\"], [0.3333333333333333, \"#9c179e\"], [0.4444444444444444, \"#bd3786\"], [0.5555555555555556, \"#d8576b\"], [0.6666666666666666, \"#ed7953\"], [0.7777777777777778, \"#fb9f3a\"], [0.8888888888888888, \"#fdca26\"], [1.0, \"#f0f921\"]], \"type\": \"heatmapgl\"}], \"histogram\": [{\"marker\": {\"colorbar\": {\"outlinewidth\": 0, \"ticks\": \"\"}}, \"type\": \"histogram\"}], \"histogram2d\": [{\"colorbar\": {\"outlinewidth\": 0, \"ticks\": \"\"}, \"colorscale\": [[0.0, \"#0d0887\"], [0.1111111111111111, \"#46039f\"], [0.2222222222222222, \"#7201a8\"], [0.3333333333333333, \"#9c179e\"], [0.4444444444444444, \"#bd3786\"], [0.5555555555555556, \"#d8576b\"], [0.6666666666666666, \"#ed7953\"], [0.7777777777777778, \"#fb9f3a\"], [0.8888888888888888, \"#fdca26\"], [1.0, \"#f0f921\"]], \"type\": \"histogram2d\"}], \"histogram2dcontour\": [{\"colorbar\": {\"outlinewidth\": 0, \"ticks\": \"\"}, \"colorscale\": [[0.0, \"#0d0887\"], [0.1111111111111111, \"#46039f\"], [0.2222222222222222, \"#7201a8\"], [0.3333333333333333, \"#9c179e\"], [0.4444444444444444, \"#bd3786\"], [0.5555555555555556, \"#d8576b\"], [0.6666666666666666, \"#ed7953\"], [0.7777777777777778, \"#fb9f3a\"], [0.8888888888888888, \"#fdca26\"], [1.0, \"#f0f921\"]], \"type\": \"histogram2dcontour\"}], \"mesh3d\": [{\"colorbar\": {\"outlinewidth\": 0, \"ticks\": \"\"}, \"type\": \"mesh3d\"}], \"parcoords\": [{\"line\": {\"colorbar\": {\"outlinewidth\": 0, \"ticks\": \"\"}}, \"type\": \"parcoords\"}], \"pie\": [{\"automargin\": true, \"type\": \"pie\"}], \"scatter\": [{\"marker\": {\"colorbar\": {\"outlinewidth\": 0, \"ticks\": \"\"}}, \"type\": \"scatter\"}], \"scatter3d\": [{\"line\": {\"colorbar\": {\"outlinewidth\": 0, \"ticks\": \"\"}}, \"marker\": {\"colorbar\": {\"outlinewidth\": 0, \"ticks\": \"\"}}, \"type\": \"scatter3d\"}], \"scattercarpet\": [{\"marker\": {\"colorbar\": {\"outlinewidth\": 0, \"ticks\": \"\"}}, \"type\": \"scattercarpet\"}], \"scattergeo\": [{\"marker\": {\"colorbar\": {\"outlinewidth\": 0, \"ticks\": \"\"}}, \"type\": \"scattergeo\"}], \"scattergl\": [{\"marker\": {\"colorbar\": {\"outlinewidth\": 0, \"ticks\": \"\"}}, \"type\": \"scattergl\"}], \"scattermapbox\": [{\"marker\": {\"colorbar\": {\"outlinewidth\": 0, \"ticks\": \"\"}}, \"type\": \"scattermapbox\"}], \"scatterpolar\": [{\"marker\": {\"colorbar\": {\"outlinewidth\": 0, \"ticks\": \"\"}}, \"type\": \"scatterpolar\"}], \"scatterpolargl\": [{\"marker\": {\"colorbar\": {\"outlinewidth\": 0, \"ticks\": \"\"}}, \"type\": \"scatterpolargl\"}], \"scatterternary\": [{\"marker\": {\"colorbar\": {\"outlinewidth\": 0, \"ticks\": \"\"}}, \"type\": \"scatterternary\"}], \"surface\": [{\"colorbar\": {\"outlinewidth\": 0, \"ticks\": \"\"}, \"colorscale\": [[0.0, \"#0d0887\"], [0.1111111111111111, \"#46039f\"], [0.2222222222222222, \"#7201a8\"], [0.3333333333333333, \"#9c179e\"], [0.4444444444444444, \"#bd3786\"], [0.5555555555555556, \"#d8576b\"], [0.6666666666666666, \"#ed7953\"], [0.7777777777777778, \"#fb9f3a\"], [0.8888888888888888, \"#fdca26\"], [1.0, \"#f0f921\"]], \"type\": \"surface\"}], \"table\": [{\"cells\": {\"fill\": {\"color\": \"#EBF0F8\"}, \"line\": {\"color\": \"white\"}}, \"header\": {\"fill\": {\"color\": \"#C8D4E3\"}, \"line\": {\"color\": \"white\"}}, \"type\": \"table\"}]}, \"layout\": {\"annotationdefaults\": {\"arrowcolor\": \"#2a3f5f\", \"arrowhead\": 0, \"arrowwidth\": 1}, \"coloraxis\": {\"colorbar\": {\"outlinewidth\": 0, \"ticks\": \"\"}}, \"colorscale\": {\"diverging\": [[0, \"#8e0152\"], [0.1, \"#c51b7d\"], [0.2, \"#de77ae\"], [0.3, \"#f1b6da\"], [0.4, \"#fde0ef\"], [0.5, \"#f7f7f7\"], [0.6, \"#e6f5d0\"], [0.7, \"#b8e186\"], [0.8, \"#7fbc41\"], [0.9, \"#4d9221\"], [1, \"#276419\"]], \"sequential\": [[0.0, \"#0d0887\"], [0.1111111111111111, \"#46039f\"], [0.2222222222222222, \"#7201a8\"], [0.3333333333333333, \"#9c179e\"], [0.4444444444444444, \"#bd3786\"], [0.5555555555555556, \"#d8576b\"], [0.6666666666666666, \"#ed7953\"], [0.7777777777777778, \"#fb9f3a\"], [0.8888888888888888, \"#fdca26\"], [1.0, \"#f0f921\"]], \"sequentialminus\": [[0.0, \"#0d0887\"], [0.1111111111111111, \"#46039f\"], [0.2222222222222222, \"#7201a8\"], [0.3333333333333333, \"#9c179e\"], [0.4444444444444444, \"#bd3786\"], [0.5555555555555556, \"#d8576b\"], [0.6666666666666666, \"#ed7953\"], [0.7777777777777778, \"#fb9f3a\"], [0.8888888888888888, \"#fdca26\"], [1.0, \"#f0f921\"]]}, \"colorway\": [\"#636efa\", \"#EF553B\", \"#00cc96\", \"#ab63fa\", \"#FFA15A\", \"#19d3f3\", \"#FF6692\", \"#B6E880\", \"#FF97FF\", \"#FECB52\"], \"font\": {\"color\": \"#2a3f5f\"}, \"geo\": {\"bgcolor\": \"white\", \"lakecolor\": \"white\", \"landcolor\": \"#E5ECF6\", \"showlakes\": true, \"showland\": true, \"subunitcolor\": \"white\"}, \"hoverlabel\": {\"align\": \"left\"}, \"hovermode\": \"closest\", \"mapbox\": {\"style\": \"light\"}, \"paper_bgcolor\": \"white\", \"plot_bgcolor\": \"#E5ECF6\", \"polar\": {\"angularaxis\": {\"gridcolor\": \"white\", \"linecolor\": \"white\", \"ticks\": \"\"}, \"bgcolor\": \"#E5ECF6\", \"radialaxis\": {\"gridcolor\": \"white\", \"linecolor\": \"white\", \"ticks\": \"\"}}, \"scene\": {\"xaxis\": {\"backgroundcolor\": \"#E5ECF6\", \"gridcolor\": \"white\", \"gridwidth\": 2, \"linecolor\": \"white\", \"showbackground\": true, \"ticks\": \"\", \"zerolinecolor\": \"white\"}, \"yaxis\": {\"backgroundcolor\": \"#E5ECF6\", \"gridcolor\": \"white\", \"gridwidth\": 2, \"linecolor\": \"white\", \"showbackground\": true, \"ticks\": \"\", \"zerolinecolor\": \"white\"}, \"zaxis\": {\"backgroundcolor\": \"#E5ECF6\", \"gridcolor\": \"white\", \"gridwidth\": 2, \"linecolor\": \"white\", \"showbackground\": true, \"ticks\": \"\", \"zerolinecolor\": \"white\"}}, \"shapedefaults\": {\"line\": {\"color\": \"#2a3f5f\"}}, \"ternary\": {\"aaxis\": {\"gridcolor\": \"white\", \"linecolor\": \"white\", \"ticks\": \"\"}, \"baxis\": {\"gridcolor\": \"white\", \"linecolor\": \"white\", \"ticks\": \"\"}, \"bgcolor\": \"#E5ECF6\", \"caxis\": {\"gridcolor\": \"white\", \"linecolor\": \"white\", \"ticks\": \"\"}}, \"title\": {\"x\": 0.05}, \"xaxis\": {\"automargin\": true, \"gridcolor\": \"white\", \"linecolor\": \"white\", \"ticks\": \"\", \"title\": {\"standoff\": 15}, \"zerolinecolor\": \"white\", \"zerolinewidth\": 2}, \"yaxis\": {\"automargin\": true, \"gridcolor\": \"white\", \"linecolor\": \"white\", \"ticks\": \"\", \"title\": {\"standoff\": 15}, \"zerolinecolor\": \"white\", \"zerolinewidth\": 2}}}, \"title\": {\"text\": \"Sobreviv\\u00eancia\"}, \"xaxis\": {\"anchor\": \"y\", \"domain\": [0.0, 1.0], \"title\": {\"text\": \"Dias\"}}, \"yaxis\": {\"anchor\": \"x\", \"domain\": [0.0, 1.0], \"title\": {\"text\": \"Frequ\\u00eancia\"}}},\n",
              "                        {\"responsive\": true}\n",
              "                    ).then(function(){\n",
              "                            \n",
              "var gd = document.getElementById('0d947a1d-aea5-4de2-b166-5712d68ac93a');\n",
              "var x = new MutationObserver(function (mutations, observer) {{\n",
              "        var display = window.getComputedStyle(gd).display;\n",
              "        if (!display || display === 'none') {{\n",
              "            console.log([gd, 'removed!']);\n",
              "            Plotly.purge(gd);\n",
              "            observer.disconnect();\n",
              "        }}\n",
              "}});\n",
              "\n",
              "// Listen for the removal of the full notebook cells\n",
              "var notebookContainer = gd.closest('#notebook-container');\n",
              "if (notebookContainer) {{\n",
              "    x.observe(notebookContainer, {childList: true});\n",
              "}}\n",
              "\n",
              "// Listen for the clearing of the current output cell\n",
              "var outputEl = gd.closest('.output');\n",
              "if (outputEl) {{\n",
              "    x.observe(outputEl, {childList: true});\n",
              "}}\n",
              "\n",
              "                        })\n",
              "                };\n",
              "                \n",
              "            </script>\n",
              "        </div>\n",
              "</body>\n",
              "</html>"
            ]
          },
          "metadata": {
            "tags": []
          }
        }
      ]
    },
    {
      "cell_type": "code",
      "metadata": {
        "id": "yshLruuGHJpE",
        "colab_type": "code",
        "colab": {
          "base_uri": "https://localhost:8080/",
          "height": 542
        },
        "outputId": "4c35b72a-9df8-45be-ea9d-740c950302e2"
      },
      "source": [
        "fig = px.histogram(dfAux, x=\"tempo\", nbins=10, color='sexo', labels={'tempo':'Dias'}, opacity=0.75)\n",
        "fig.update_layout(title_text='Sobrevivência',\n",
        "                  xaxis_title_text='Dias', # xaxis label\n",
        "                  yaxis_title_text='Frequência', # yaxis label\n",
        "                  bargap=0.05, # gap between bars of adjacent location coordinates\n",
        ")\n",
        "fig.show()"
      ],
      "execution_count": 45,
      "outputs": [
        {
          "output_type": "display_data",
          "data": {
            "text/html": [
              "<html>\n",
              "<head><meta charset=\"utf-8\" /></head>\n",
              "<body>\n",
              "    <div>\n",
              "            <script src=\"https://cdnjs.cloudflare.com/ajax/libs/mathjax/2.7.5/MathJax.js?config=TeX-AMS-MML_SVG\"></script><script type=\"text/javascript\">if (window.MathJax) {MathJax.Hub.Config({SVG: {font: \"STIX-Web\"}});}</script>\n",
              "                <script type=\"text/javascript\">window.PlotlyConfig = {MathJaxConfig: 'local'};</script>\n",
              "        <script src=\"https://cdn.plot.ly/plotly-latest.min.js\"></script>    \n",
              "            <div id=\"20daac6d-01a2-4ba1-b76e-a5f95ccdfd1b\" class=\"plotly-graph-div\" style=\"height:525px; width:100%;\"></div>\n",
              "            <script type=\"text/javascript\">\n",
              "                \n",
              "                    window.PLOTLYENV=window.PLOTLYENV || {};\n",
              "                    \n",
              "                if (document.getElementById(\"20daac6d-01a2-4ba1-b76e-a5f95ccdfd1b\")) {\n",
              "                    Plotly.newPlot(\n",
              "                        '20daac6d-01a2-4ba1-b76e-a5f95ccdfd1b',\n",
              "                        [{\"alignmentgroup\": \"True\", \"bingroup\": \"x\", \"hoverlabel\": {\"namelength\": 0}, \"hovertemplate\": \"sexo=M<br>Dias=%{x}<br>count=%{y}\", \"legendgroup\": \"sexo=M\", \"marker\": {\"color\": \"#636efa\", \"opacity\": 0.75}, \"name\": \"sexo=M\", \"nbinsx\": 10, \"offsetgroup\": \"sexo=M\", \"orientation\": \"v\", \"showlegend\": true, \"type\": \"histogram\", \"x\": [852, 123, 1145, 2755, 2117, 329, 60, 151, 1563, 1247, 84, 214, 25, 1348, 158, 555, 408, 1116, 998, 1125, 944, 54, 855, 80, 1757, 194, 183, 37, 237, 1506, 168, 803, 18, 371, 688, 3178, 29, 50, 887, 516, 645, 310, 204, 1344, 1261, 285, 83, 150, 1307, 1076, 1226, 811, 2898, 80, 967, 618, 2236, 152, 892, 1085, 1615, 35, 290, 1780, 52, 733, 3213, 2304, 572, 21, 1272, 1646, 304, 40, 850, 1139, 323, 2717, 1735, 388, 927, 631, 2495, 623, 2568, 2013, 397, 254, 1630, 1523, 146, 108, 1835, 499, 202, 2437, 1015, 2138, 2090, 179, 1063, 85, 343, 2215, 259, 2258, 39, 2371, 952, 295, 992, 1011, 644, 426, 1454, 1869, 1310, 1918, 1649, 652, 1384, 1512, 1352, 419, 1315, 1343, 340, 915, 948, 985, 1242, 955, 987, 775, 731, 16, 680, 21, 440, 470, 390, 344, 578, 504], \"xaxis\": \"x\", \"yaxis\": \"y\"}, {\"alignmentgroup\": \"True\", \"bingroup\": \"x\", \"hoverlabel\": {\"namelength\": 0}, \"hovertemplate\": \"sexo=F<br>Dias=%{x}<br>count=%{y}\", \"legendgroup\": \"sexo=F\", \"marker\": {\"color\": \"#EF553B\", \"opacity\": 0.75}, \"name\": \"sexo=F\", \"nbinsx\": 10, \"offsetgroup\": \"sexo=F\", \"orientation\": \"v\", \"showlegend\": true, \"type\": \"histogram\", \"x\": [151, 116, 134, 173, 163, 865, 235, 81, 1073, 3228, 1983, 418, 854, 2973, 1507, 145, 905, 1027, 1331, 721, 1952, 333, 22, 2439, 1371, 975, 2492, 1478, 537, 714, 2084, 290, 1685, 1348, 1471, 378, 1426, 1488, 643, 1197, 1176, 944, 881, 899, 1056, 785, 444, 524, 217], \"xaxis\": \"x\", \"yaxis\": \"y\"}],\n",
              "                        {\"bargap\": 0.05, \"barmode\": \"relative\", \"legend\": {\"tracegroupgap\": 0}, \"margin\": {\"t\": 60}, \"template\": {\"data\": {\"bar\": [{\"error_x\": {\"color\": \"#2a3f5f\"}, \"error_y\": {\"color\": \"#2a3f5f\"}, \"marker\": {\"line\": {\"color\": \"#E5ECF6\", \"width\": 0.5}}, \"type\": \"bar\"}], \"barpolar\": [{\"marker\": {\"line\": {\"color\": \"#E5ECF6\", \"width\": 0.5}}, \"type\": \"barpolar\"}], \"carpet\": [{\"aaxis\": {\"endlinecolor\": \"#2a3f5f\", \"gridcolor\": \"white\", \"linecolor\": \"white\", \"minorgridcolor\": \"white\", \"startlinecolor\": \"#2a3f5f\"}, \"baxis\": {\"endlinecolor\": \"#2a3f5f\", \"gridcolor\": \"white\", \"linecolor\": \"white\", \"minorgridcolor\": \"white\", \"startlinecolor\": \"#2a3f5f\"}, \"type\": \"carpet\"}], \"choropleth\": [{\"colorbar\": {\"outlinewidth\": 0, \"ticks\": \"\"}, \"type\": \"choropleth\"}], \"contour\": [{\"colorbar\": {\"outlinewidth\": 0, \"ticks\": \"\"}, \"colorscale\": [[0.0, \"#0d0887\"], [0.1111111111111111, \"#46039f\"], [0.2222222222222222, \"#7201a8\"], [0.3333333333333333, \"#9c179e\"], [0.4444444444444444, \"#bd3786\"], [0.5555555555555556, \"#d8576b\"], [0.6666666666666666, \"#ed7953\"], [0.7777777777777778, \"#fb9f3a\"], [0.8888888888888888, \"#fdca26\"], [1.0, \"#f0f921\"]], \"type\": \"contour\"}], \"contourcarpet\": [{\"colorbar\": {\"outlinewidth\": 0, \"ticks\": \"\"}, \"type\": \"contourcarpet\"}], \"heatmap\": [{\"colorbar\": {\"outlinewidth\": 0, \"ticks\": \"\"}, \"colorscale\": [[0.0, \"#0d0887\"], [0.1111111111111111, \"#46039f\"], [0.2222222222222222, \"#7201a8\"], [0.3333333333333333, \"#9c179e\"], [0.4444444444444444, \"#bd3786\"], [0.5555555555555556, \"#d8576b\"], [0.6666666666666666, \"#ed7953\"], [0.7777777777777778, \"#fb9f3a\"], [0.8888888888888888, \"#fdca26\"], [1.0, \"#f0f921\"]], \"type\": \"heatmap\"}], \"heatmapgl\": [{\"colorbar\": {\"outlinewidth\": 0, \"ticks\": \"\"}, \"colorscale\": [[0.0, \"#0d0887\"], [0.1111111111111111, \"#46039f\"], [0.2222222222222222, \"#7201a8\"], [0.3333333333333333, \"#9c179e\"], [0.4444444444444444, \"#bd3786\"], [0.5555555555555556, \"#d8576b\"], [0.6666666666666666, \"#ed7953\"], [0.7777777777777778, \"#fb9f3a\"], [0.8888888888888888, \"#fdca26\"], [1.0, \"#f0f921\"]], \"type\": \"heatmapgl\"}], \"histogram\": [{\"marker\": {\"colorbar\": {\"outlinewidth\": 0, \"ticks\": \"\"}}, \"type\": \"histogram\"}], \"histogram2d\": [{\"colorbar\": {\"outlinewidth\": 0, \"ticks\": \"\"}, \"colorscale\": [[0.0, \"#0d0887\"], [0.1111111111111111, \"#46039f\"], [0.2222222222222222, \"#7201a8\"], [0.3333333333333333, \"#9c179e\"], [0.4444444444444444, \"#bd3786\"], [0.5555555555555556, \"#d8576b\"], [0.6666666666666666, \"#ed7953\"], [0.7777777777777778, \"#fb9f3a\"], [0.8888888888888888, \"#fdca26\"], [1.0, \"#f0f921\"]], \"type\": \"histogram2d\"}], \"histogram2dcontour\": [{\"colorbar\": {\"outlinewidth\": 0, \"ticks\": \"\"}, \"colorscale\": [[0.0, \"#0d0887\"], [0.1111111111111111, \"#46039f\"], [0.2222222222222222, \"#7201a8\"], [0.3333333333333333, \"#9c179e\"], [0.4444444444444444, \"#bd3786\"], [0.5555555555555556, \"#d8576b\"], [0.6666666666666666, \"#ed7953\"], [0.7777777777777778, \"#fb9f3a\"], [0.8888888888888888, \"#fdca26\"], [1.0, \"#f0f921\"]], \"type\": \"histogram2dcontour\"}], \"mesh3d\": [{\"colorbar\": {\"outlinewidth\": 0, \"ticks\": \"\"}, \"type\": \"mesh3d\"}], \"parcoords\": [{\"line\": {\"colorbar\": {\"outlinewidth\": 0, \"ticks\": \"\"}}, \"type\": \"parcoords\"}], \"pie\": [{\"automargin\": true, \"type\": \"pie\"}], \"scatter\": [{\"marker\": {\"colorbar\": {\"outlinewidth\": 0, \"ticks\": \"\"}}, \"type\": \"scatter\"}], \"scatter3d\": [{\"line\": {\"colorbar\": {\"outlinewidth\": 0, \"ticks\": \"\"}}, \"marker\": {\"colorbar\": {\"outlinewidth\": 0, \"ticks\": \"\"}}, \"type\": \"scatter3d\"}], \"scattercarpet\": [{\"marker\": {\"colorbar\": {\"outlinewidth\": 0, \"ticks\": \"\"}}, \"type\": \"scattercarpet\"}], \"scattergeo\": [{\"marker\": {\"colorbar\": {\"outlinewidth\": 0, \"ticks\": \"\"}}, \"type\": \"scattergeo\"}], \"scattergl\": [{\"marker\": {\"colorbar\": {\"outlinewidth\": 0, \"ticks\": \"\"}}, \"type\": \"scattergl\"}], \"scattermapbox\": [{\"marker\": {\"colorbar\": {\"outlinewidth\": 0, \"ticks\": \"\"}}, \"type\": \"scattermapbox\"}], \"scatterpolar\": [{\"marker\": {\"colorbar\": {\"outlinewidth\": 0, \"ticks\": \"\"}}, \"type\": \"scatterpolar\"}], \"scatterpolargl\": [{\"marker\": {\"colorbar\": {\"outlinewidth\": 0, \"ticks\": \"\"}}, \"type\": \"scatterpolargl\"}], \"scatterternary\": [{\"marker\": {\"colorbar\": {\"outlinewidth\": 0, \"ticks\": \"\"}}, \"type\": \"scatterternary\"}], \"surface\": [{\"colorbar\": {\"outlinewidth\": 0, \"ticks\": \"\"}, \"colorscale\": [[0.0, \"#0d0887\"], [0.1111111111111111, \"#46039f\"], [0.2222222222222222, \"#7201a8\"], [0.3333333333333333, \"#9c179e\"], [0.4444444444444444, \"#bd3786\"], [0.5555555555555556, \"#d8576b\"], [0.6666666666666666, \"#ed7953\"], [0.7777777777777778, \"#fb9f3a\"], [0.8888888888888888, \"#fdca26\"], [1.0, \"#f0f921\"]], \"type\": \"surface\"}], \"table\": [{\"cells\": {\"fill\": {\"color\": \"#EBF0F8\"}, \"line\": {\"color\": \"white\"}}, \"header\": {\"fill\": {\"color\": \"#C8D4E3\"}, \"line\": {\"color\": \"white\"}}, \"type\": \"table\"}]}, \"layout\": {\"annotationdefaults\": {\"arrowcolor\": \"#2a3f5f\", \"arrowhead\": 0, \"arrowwidth\": 1}, \"coloraxis\": {\"colorbar\": {\"outlinewidth\": 0, \"ticks\": \"\"}}, \"colorscale\": {\"diverging\": [[0, \"#8e0152\"], [0.1, \"#c51b7d\"], [0.2, \"#de77ae\"], [0.3, \"#f1b6da\"], [0.4, \"#fde0ef\"], [0.5, \"#f7f7f7\"], [0.6, \"#e6f5d0\"], [0.7, \"#b8e186\"], [0.8, \"#7fbc41\"], [0.9, \"#4d9221\"], [1, \"#276419\"]], \"sequential\": [[0.0, \"#0d0887\"], [0.1111111111111111, \"#46039f\"], [0.2222222222222222, \"#7201a8\"], [0.3333333333333333, \"#9c179e\"], [0.4444444444444444, \"#bd3786\"], [0.5555555555555556, \"#d8576b\"], [0.6666666666666666, \"#ed7953\"], [0.7777777777777778, \"#fb9f3a\"], [0.8888888888888888, \"#fdca26\"], [1.0, \"#f0f921\"]], \"sequentialminus\": [[0.0, \"#0d0887\"], [0.1111111111111111, \"#46039f\"], [0.2222222222222222, \"#7201a8\"], [0.3333333333333333, \"#9c179e\"], [0.4444444444444444, \"#bd3786\"], [0.5555555555555556, \"#d8576b\"], [0.6666666666666666, \"#ed7953\"], [0.7777777777777778, \"#fb9f3a\"], [0.8888888888888888, \"#fdca26\"], [1.0, \"#f0f921\"]]}, \"colorway\": [\"#636efa\", \"#EF553B\", \"#00cc96\", \"#ab63fa\", \"#FFA15A\", \"#19d3f3\", \"#FF6692\", \"#B6E880\", \"#FF97FF\", \"#FECB52\"], \"font\": {\"color\": \"#2a3f5f\"}, \"geo\": {\"bgcolor\": \"white\", \"lakecolor\": \"white\", \"landcolor\": \"#E5ECF6\", \"showlakes\": true, \"showland\": true, \"subunitcolor\": \"white\"}, \"hoverlabel\": {\"align\": \"left\"}, \"hovermode\": \"closest\", \"mapbox\": {\"style\": \"light\"}, \"paper_bgcolor\": \"white\", \"plot_bgcolor\": \"#E5ECF6\", \"polar\": {\"angularaxis\": {\"gridcolor\": \"white\", \"linecolor\": \"white\", \"ticks\": \"\"}, \"bgcolor\": \"#E5ECF6\", \"radialaxis\": {\"gridcolor\": \"white\", \"linecolor\": \"white\", \"ticks\": \"\"}}, \"scene\": {\"xaxis\": {\"backgroundcolor\": \"#E5ECF6\", \"gridcolor\": \"white\", \"gridwidth\": 2, \"linecolor\": \"white\", \"showbackground\": true, \"ticks\": \"\", \"zerolinecolor\": \"white\"}, \"yaxis\": {\"backgroundcolor\": \"#E5ECF6\", \"gridcolor\": \"white\", \"gridwidth\": 2, \"linecolor\": \"white\", \"showbackground\": true, \"ticks\": \"\", \"zerolinecolor\": \"white\"}, \"zaxis\": {\"backgroundcolor\": \"#E5ECF6\", \"gridcolor\": \"white\", \"gridwidth\": 2, \"linecolor\": \"white\", \"showbackground\": true, \"ticks\": \"\", \"zerolinecolor\": \"white\"}}, \"shapedefaults\": {\"line\": {\"color\": \"#2a3f5f\"}}, \"ternary\": {\"aaxis\": {\"gridcolor\": \"white\", \"linecolor\": \"white\", \"ticks\": \"\"}, \"baxis\": {\"gridcolor\": \"white\", \"linecolor\": \"white\", \"ticks\": \"\"}, \"bgcolor\": \"#E5ECF6\", \"caxis\": {\"gridcolor\": \"white\", \"linecolor\": \"white\", \"ticks\": \"\"}}, \"title\": {\"x\": 0.05}, \"xaxis\": {\"automargin\": true, \"gridcolor\": \"white\", \"linecolor\": \"white\", \"ticks\": \"\", \"title\": {\"standoff\": 15}, \"zerolinecolor\": \"white\", \"zerolinewidth\": 2}, \"yaxis\": {\"automargin\": true, \"gridcolor\": \"white\", \"linecolor\": \"white\", \"ticks\": \"\", \"title\": {\"standoff\": 15}, \"zerolinecolor\": \"white\", \"zerolinewidth\": 2}}}, \"title\": {\"text\": \"Sobreviv\\u00eancia\"}, \"xaxis\": {\"anchor\": \"y\", \"domain\": [0.0, 1.0], \"title\": {\"text\": \"Dias\"}}, \"yaxis\": {\"anchor\": \"x\", \"domain\": [0.0, 1.0], \"title\": {\"text\": \"Frequ\\u00eancia\"}}},\n",
              "                        {\"responsive\": true}\n",
              "                    ).then(function(){\n",
              "                            \n",
              "var gd = document.getElementById('20daac6d-01a2-4ba1-b76e-a5f95ccdfd1b');\n",
              "var x = new MutationObserver(function (mutations, observer) {{\n",
              "        var display = window.getComputedStyle(gd).display;\n",
              "        if (!display || display === 'none') {{\n",
              "            console.log([gd, 'removed!']);\n",
              "            Plotly.purge(gd);\n",
              "            observer.disconnect();\n",
              "        }}\n",
              "}});\n",
              "\n",
              "// Listen for the removal of the full notebook cells\n",
              "var notebookContainer = gd.closest('#notebook-container');\n",
              "if (notebookContainer) {{\n",
              "    x.observe(notebookContainer, {childList: true});\n",
              "}}\n",
              "\n",
              "// Listen for the clearing of the current output cell\n",
              "var outputEl = gd.closest('.output');\n",
              "if (outputEl) {{\n",
              "    x.observe(outputEl, {childList: true});\n",
              "}}\n",
              "\n",
              "                        })\n",
              "                };\n",
              "                \n",
              "            </script>\n",
              "        </div>\n",
              "</body>\n",
              "</html>"
            ]
          },
          "metadata": {
            "tags": []
          }
        }
      ]
    },
    {
      "cell_type": "code",
      "metadata": {
        "id": "JKgCYrV0JJr6",
        "colab_type": "code",
        "colab": {
          "base_uri": "https://localhost:8080/",
          "height": 542
        },
        "outputId": "3ce9b560-a026-4f1b-81a4-8bba8b306ea5"
      },
      "source": [
        "fig = px.histogram(dfAux.loc[dfAux['status'] == 'óbito'], x=\"tempo\", nbins=10, color='sexo', labels={'tempo':'Dias'}, opacity=0.75)\n",
        "fig.update_layout(title_text='Eventos',\n",
        "                  xaxis_title_text='Dias', # xaxis label\n",
        "                  yaxis_title_text='Frequência', # yaxis label\n",
        "                  bargap=0.05, # gap between bars of adjacent location coordinates\n",
        ")\n",
        "fig.show()"
      ],
      "execution_count": 46,
      "outputs": [
        {
          "output_type": "display_data",
          "data": {
            "text/html": [
              "<html>\n",
              "<head><meta charset=\"utf-8\" /></head>\n",
              "<body>\n",
              "    <div>\n",
              "            <script src=\"https://cdnjs.cloudflare.com/ajax/libs/mathjax/2.7.5/MathJax.js?config=TeX-AMS-MML_SVG\"></script><script type=\"text/javascript\">if (window.MathJax) {MathJax.Hub.Config({SVG: {font: \"STIX-Web\"}});}</script>\n",
              "                <script type=\"text/javascript\">window.PlotlyConfig = {MathJaxConfig: 'local'};</script>\n",
              "        <script src=\"https://cdn.plot.ly/plotly-latest.min.js\"></script>    \n",
              "            <div id=\"697a56ee-2996-4d14-8647-2a64d8c0f0bc\" class=\"plotly-graph-div\" style=\"height:525px; width:100%;\"></div>\n",
              "            <script type=\"text/javascript\">\n",
              "                \n",
              "                    window.PLOTLYENV=window.PLOTLYENV || {};\n",
              "                    \n",
              "                if (document.getElementById(\"697a56ee-2996-4d14-8647-2a64d8c0f0bc\")) {\n",
              "                    Plotly.newPlot(\n",
              "                        '697a56ee-2996-4d14-8647-2a64d8c0f0bc',\n",
              "                        [{\"alignmentgroup\": \"True\", \"bingroup\": \"x\", \"hoverlabel\": {\"namelength\": 0}, \"hovertemplate\": \"sexo=M<br>Dias=%{x}<br>count=%{y}\", \"legendgroup\": \"sexo=M\", \"marker\": {\"color\": \"#636efa\", \"opacity\": 0.75}, \"name\": \"sexo=M\", \"nbinsx\": 10, \"offsetgroup\": \"sexo=M\", \"orientation\": \"v\", \"showlegend\": true, \"type\": \"histogram\", \"x\": [852, 123, 1145, 60, 151, 1563, 1247, 84, 214, 1348, 158, 555, 408, 1116, 998, 1125, 54, 855, 194, 183, 37, 1506, 18, 371, 688, 29, 887, 516, 645, 310, 204, 1261, 285, 83, 150, 1226, 811, 2898, 80, 967, 618, 152, 892, 1085, 35, 290, 52, 733, 572, 21, 304, 40, 850, 1139, 323, 927, 631, 623, 397, 254, 108, 499, 1015, 179, 259, 39, 952, 992, 644, 426, 419, 340, 775, 16], \"xaxis\": \"x\", \"yaxis\": \"y\"}, {\"alignmentgroup\": \"True\", \"bingroup\": \"x\", \"hoverlabel\": {\"namelength\": 0}, \"hovertemplate\": \"sexo=F<br>Dias=%{x}<br>count=%{y}\", \"legendgroup\": \"sexo=F\", \"marker\": {\"color\": \"#EF553B\", \"opacity\": 0.75}, \"name\": \"sexo=F\", \"nbinsx\": 10, \"offsetgroup\": \"sexo=F\", \"orientation\": \"v\", \"showlegend\": true, \"type\": \"histogram\", \"x\": [151, 116, 134, 173, 163, 235, 1983, 418, 854, 145, 905, 721, 333, 22, 1371, 944], \"xaxis\": \"x\", \"yaxis\": \"y\"}],\n",
              "                        {\"bargap\": 0.05, \"barmode\": \"relative\", \"legend\": {\"tracegroupgap\": 0}, \"margin\": {\"t\": 60}, \"template\": {\"data\": {\"bar\": [{\"error_x\": {\"color\": \"#2a3f5f\"}, \"error_y\": {\"color\": \"#2a3f5f\"}, \"marker\": {\"line\": {\"color\": \"#E5ECF6\", \"width\": 0.5}}, \"type\": \"bar\"}], \"barpolar\": [{\"marker\": {\"line\": {\"color\": \"#E5ECF6\", \"width\": 0.5}}, \"type\": \"barpolar\"}], \"carpet\": [{\"aaxis\": {\"endlinecolor\": \"#2a3f5f\", \"gridcolor\": \"white\", \"linecolor\": \"white\", \"minorgridcolor\": \"white\", \"startlinecolor\": \"#2a3f5f\"}, \"baxis\": {\"endlinecolor\": \"#2a3f5f\", \"gridcolor\": \"white\", \"linecolor\": \"white\", \"minorgridcolor\": \"white\", \"startlinecolor\": \"#2a3f5f\"}, \"type\": \"carpet\"}], \"choropleth\": [{\"colorbar\": {\"outlinewidth\": 0, \"ticks\": \"\"}, \"type\": \"choropleth\"}], \"contour\": [{\"colorbar\": {\"outlinewidth\": 0, \"ticks\": \"\"}, \"colorscale\": [[0.0, \"#0d0887\"], [0.1111111111111111, \"#46039f\"], [0.2222222222222222, \"#7201a8\"], [0.3333333333333333, \"#9c179e\"], [0.4444444444444444, \"#bd3786\"], [0.5555555555555556, \"#d8576b\"], [0.6666666666666666, \"#ed7953\"], [0.7777777777777778, \"#fb9f3a\"], [0.8888888888888888, \"#fdca26\"], [1.0, \"#f0f921\"]], \"type\": \"contour\"}], \"contourcarpet\": [{\"colorbar\": {\"outlinewidth\": 0, \"ticks\": \"\"}, \"type\": \"contourcarpet\"}], \"heatmap\": [{\"colorbar\": {\"outlinewidth\": 0, \"ticks\": \"\"}, \"colorscale\": [[0.0, \"#0d0887\"], [0.1111111111111111, \"#46039f\"], [0.2222222222222222, \"#7201a8\"], [0.3333333333333333, \"#9c179e\"], [0.4444444444444444, \"#bd3786\"], [0.5555555555555556, \"#d8576b\"], [0.6666666666666666, \"#ed7953\"], [0.7777777777777778, \"#fb9f3a\"], [0.8888888888888888, \"#fdca26\"], [1.0, \"#f0f921\"]], \"type\": \"heatmap\"}], \"heatmapgl\": [{\"colorbar\": {\"outlinewidth\": 0, \"ticks\": \"\"}, \"colorscale\": [[0.0, \"#0d0887\"], [0.1111111111111111, \"#46039f\"], [0.2222222222222222, \"#7201a8\"], [0.3333333333333333, \"#9c179e\"], [0.4444444444444444, \"#bd3786\"], [0.5555555555555556, \"#d8576b\"], [0.6666666666666666, \"#ed7953\"], [0.7777777777777778, \"#fb9f3a\"], [0.8888888888888888, \"#fdca26\"], [1.0, \"#f0f921\"]], \"type\": \"heatmapgl\"}], \"histogram\": [{\"marker\": {\"colorbar\": {\"outlinewidth\": 0, \"ticks\": \"\"}}, \"type\": \"histogram\"}], \"histogram2d\": [{\"colorbar\": {\"outlinewidth\": 0, \"ticks\": \"\"}, \"colorscale\": [[0.0, \"#0d0887\"], [0.1111111111111111, \"#46039f\"], [0.2222222222222222, \"#7201a8\"], [0.3333333333333333, \"#9c179e\"], [0.4444444444444444, \"#bd3786\"], [0.5555555555555556, \"#d8576b\"], [0.6666666666666666, \"#ed7953\"], [0.7777777777777778, \"#fb9f3a\"], [0.8888888888888888, \"#fdca26\"], [1.0, \"#f0f921\"]], \"type\": \"histogram2d\"}], \"histogram2dcontour\": [{\"colorbar\": {\"outlinewidth\": 0, \"ticks\": \"\"}, \"colorscale\": [[0.0, \"#0d0887\"], [0.1111111111111111, \"#46039f\"], [0.2222222222222222, \"#7201a8\"], [0.3333333333333333, \"#9c179e\"], [0.4444444444444444, \"#bd3786\"], [0.5555555555555556, \"#d8576b\"], [0.6666666666666666, \"#ed7953\"], [0.7777777777777778, \"#fb9f3a\"], [0.8888888888888888, \"#fdca26\"], [1.0, \"#f0f921\"]], \"type\": \"histogram2dcontour\"}], \"mesh3d\": [{\"colorbar\": {\"outlinewidth\": 0, \"ticks\": \"\"}, \"type\": \"mesh3d\"}], \"parcoords\": [{\"line\": {\"colorbar\": {\"outlinewidth\": 0, \"ticks\": \"\"}}, \"type\": \"parcoords\"}], \"pie\": [{\"automargin\": true, \"type\": \"pie\"}], \"scatter\": [{\"marker\": {\"colorbar\": {\"outlinewidth\": 0, \"ticks\": \"\"}}, \"type\": \"scatter\"}], \"scatter3d\": [{\"line\": {\"colorbar\": {\"outlinewidth\": 0, \"ticks\": \"\"}}, \"marker\": {\"colorbar\": {\"outlinewidth\": 0, \"ticks\": \"\"}}, \"type\": \"scatter3d\"}], \"scattercarpet\": [{\"marker\": {\"colorbar\": {\"outlinewidth\": 0, \"ticks\": \"\"}}, \"type\": \"scattercarpet\"}], \"scattergeo\": [{\"marker\": {\"colorbar\": {\"outlinewidth\": 0, \"ticks\": \"\"}}, \"type\": \"scattergeo\"}], \"scattergl\": [{\"marker\": {\"colorbar\": {\"outlinewidth\": 0, \"ticks\": \"\"}}, \"type\": \"scattergl\"}], \"scattermapbox\": [{\"marker\": {\"colorbar\": {\"outlinewidth\": 0, \"ticks\": \"\"}}, \"type\": \"scattermapbox\"}], \"scatterpolar\": [{\"marker\": {\"colorbar\": {\"outlinewidth\": 0, \"ticks\": \"\"}}, \"type\": \"scatterpolar\"}], \"scatterpolargl\": [{\"marker\": {\"colorbar\": {\"outlinewidth\": 0, \"ticks\": \"\"}}, \"type\": \"scatterpolargl\"}], \"scatterternary\": [{\"marker\": {\"colorbar\": {\"outlinewidth\": 0, \"ticks\": \"\"}}, \"type\": \"scatterternary\"}], \"surface\": [{\"colorbar\": {\"outlinewidth\": 0, \"ticks\": \"\"}, \"colorscale\": [[0.0, \"#0d0887\"], [0.1111111111111111, \"#46039f\"], [0.2222222222222222, \"#7201a8\"], [0.3333333333333333, \"#9c179e\"], [0.4444444444444444, \"#bd3786\"], [0.5555555555555556, \"#d8576b\"], [0.6666666666666666, \"#ed7953\"], [0.7777777777777778, \"#fb9f3a\"], [0.8888888888888888, \"#fdca26\"], [1.0, \"#f0f921\"]], \"type\": \"surface\"}], \"table\": [{\"cells\": {\"fill\": {\"color\": \"#EBF0F8\"}, \"line\": {\"color\": \"white\"}}, \"header\": {\"fill\": {\"color\": \"#C8D4E3\"}, \"line\": {\"color\": \"white\"}}, \"type\": \"table\"}]}, \"layout\": {\"annotationdefaults\": {\"arrowcolor\": \"#2a3f5f\", \"arrowhead\": 0, \"arrowwidth\": 1}, \"coloraxis\": {\"colorbar\": {\"outlinewidth\": 0, \"ticks\": \"\"}}, \"colorscale\": {\"diverging\": [[0, \"#8e0152\"], [0.1, \"#c51b7d\"], [0.2, \"#de77ae\"], [0.3, \"#f1b6da\"], [0.4, \"#fde0ef\"], [0.5, \"#f7f7f7\"], [0.6, \"#e6f5d0\"], [0.7, \"#b8e186\"], [0.8, \"#7fbc41\"], [0.9, \"#4d9221\"], [1, \"#276419\"]], \"sequential\": [[0.0, \"#0d0887\"], [0.1111111111111111, \"#46039f\"], [0.2222222222222222, \"#7201a8\"], [0.3333333333333333, \"#9c179e\"], [0.4444444444444444, \"#bd3786\"], [0.5555555555555556, \"#d8576b\"], [0.6666666666666666, \"#ed7953\"], [0.7777777777777778, \"#fb9f3a\"], [0.8888888888888888, \"#fdca26\"], [1.0, \"#f0f921\"]], \"sequentialminus\": [[0.0, \"#0d0887\"], [0.1111111111111111, \"#46039f\"], [0.2222222222222222, \"#7201a8\"], [0.3333333333333333, \"#9c179e\"], [0.4444444444444444, \"#bd3786\"], [0.5555555555555556, \"#d8576b\"], [0.6666666666666666, \"#ed7953\"], [0.7777777777777778, \"#fb9f3a\"], [0.8888888888888888, \"#fdca26\"], [1.0, \"#f0f921\"]]}, \"colorway\": [\"#636efa\", \"#EF553B\", \"#00cc96\", \"#ab63fa\", \"#FFA15A\", \"#19d3f3\", \"#FF6692\", \"#B6E880\", \"#FF97FF\", \"#FECB52\"], \"font\": {\"color\": \"#2a3f5f\"}, \"geo\": {\"bgcolor\": \"white\", \"lakecolor\": \"white\", \"landcolor\": \"#E5ECF6\", \"showlakes\": true, \"showland\": true, \"subunitcolor\": \"white\"}, \"hoverlabel\": {\"align\": \"left\"}, \"hovermode\": \"closest\", \"mapbox\": {\"style\": \"light\"}, \"paper_bgcolor\": \"white\", \"plot_bgcolor\": \"#E5ECF6\", \"polar\": {\"angularaxis\": {\"gridcolor\": \"white\", \"linecolor\": \"white\", \"ticks\": \"\"}, \"bgcolor\": \"#E5ECF6\", \"radialaxis\": {\"gridcolor\": \"white\", \"linecolor\": \"white\", \"ticks\": \"\"}}, \"scene\": {\"xaxis\": {\"backgroundcolor\": \"#E5ECF6\", \"gridcolor\": \"white\", \"gridwidth\": 2, \"linecolor\": \"white\", \"showbackground\": true, \"ticks\": \"\", \"zerolinecolor\": \"white\"}, \"yaxis\": {\"backgroundcolor\": \"#E5ECF6\", \"gridcolor\": \"white\", \"gridwidth\": 2, \"linecolor\": \"white\", \"showbackground\": true, \"ticks\": \"\", \"zerolinecolor\": \"white\"}, \"zaxis\": {\"backgroundcolor\": \"#E5ECF6\", \"gridcolor\": \"white\", \"gridwidth\": 2, \"linecolor\": \"white\", \"showbackground\": true, \"ticks\": \"\", \"zerolinecolor\": \"white\"}}, \"shapedefaults\": {\"line\": {\"color\": \"#2a3f5f\"}}, \"ternary\": {\"aaxis\": {\"gridcolor\": \"white\", \"linecolor\": \"white\", \"ticks\": \"\"}, \"baxis\": {\"gridcolor\": \"white\", \"linecolor\": \"white\", \"ticks\": \"\"}, \"bgcolor\": \"#E5ECF6\", \"caxis\": {\"gridcolor\": \"white\", \"linecolor\": \"white\", \"ticks\": \"\"}}, \"title\": {\"x\": 0.05}, \"xaxis\": {\"automargin\": true, \"gridcolor\": \"white\", \"linecolor\": \"white\", \"ticks\": \"\", \"title\": {\"standoff\": 15}, \"zerolinecolor\": \"white\", \"zerolinewidth\": 2}, \"yaxis\": {\"automargin\": true, \"gridcolor\": \"white\", \"linecolor\": \"white\", \"ticks\": \"\", \"title\": {\"standoff\": 15}, \"zerolinecolor\": \"white\", \"zerolinewidth\": 2}}}, \"title\": {\"text\": \"Eventos\"}, \"xaxis\": {\"anchor\": \"y\", \"domain\": [0.0, 1.0], \"title\": {\"text\": \"Dias\"}}, \"yaxis\": {\"anchor\": \"x\", \"domain\": [0.0, 1.0], \"title\": {\"text\": \"Frequ\\u00eancia\"}}},\n",
              "                        {\"responsive\": true}\n",
              "                    ).then(function(){\n",
              "                            \n",
              "var gd = document.getElementById('697a56ee-2996-4d14-8647-2a64d8c0f0bc');\n",
              "var x = new MutationObserver(function (mutations, observer) {{\n",
              "        var display = window.getComputedStyle(gd).display;\n",
              "        if (!display || display === 'none') {{\n",
              "            console.log([gd, 'removed!']);\n",
              "            Plotly.purge(gd);\n",
              "            observer.disconnect();\n",
              "        }}\n",
              "}});\n",
              "\n",
              "// Listen for the removal of the full notebook cells\n",
              "var notebookContainer = gd.closest('#notebook-container');\n",
              "if (notebookContainer) {{\n",
              "    x.observe(notebookContainer, {childList: true});\n",
              "}}\n",
              "\n",
              "// Listen for the clearing of the current output cell\n",
              "var outputEl = gd.closest('.output');\n",
              "if (outputEl) {{\n",
              "    x.observe(outputEl, {childList: true});\n",
              "}}\n",
              "\n",
              "                        })\n",
              "                };\n",
              "                \n",
              "            </script>\n",
              "        </div>\n",
              "</body>\n",
              "</html>"
            ]
          },
          "metadata": {
            "tags": []
          }
        }
      ]
    },
    {
      "cell_type": "code",
      "metadata": {
        "id": "ZoAyB2SAKZI_",
        "colab_type": "code",
        "colab": {
          "base_uri": "https://localhost:8080/",
          "height": 542
        },
        "outputId": "d442bbb7-9b07-4182-aa13-c00146e27396"
      },
      "source": [
        "fig = px.histogram(dfAux.loc[dfAux['status'] == 'censura'], x=\"tempo\", nbins=10, color='sexo', labels={'tempo':'Dias'}, opacity=0.75)\n",
        "fig.update_layout(title_text='Censurados',\n",
        "                  xaxis_title_text='Dias', # xaxis label\n",
        "                  yaxis_title_text='Frequência', # yaxis label\n",
        "                  bargap=0.05, # gap between bars of adjacent location coordinates\n",
        ")\n",
        "fig.show()"
      ],
      "execution_count": 47,
      "outputs": [
        {
          "output_type": "display_data",
          "data": {
            "text/html": [
              "<html>\n",
              "<head><meta charset=\"utf-8\" /></head>\n",
              "<body>\n",
              "    <div>\n",
              "            <script src=\"https://cdnjs.cloudflare.com/ajax/libs/mathjax/2.7.5/MathJax.js?config=TeX-AMS-MML_SVG\"></script><script type=\"text/javascript\">if (window.MathJax) {MathJax.Hub.Config({SVG: {font: \"STIX-Web\"}});}</script>\n",
              "                <script type=\"text/javascript\">window.PlotlyConfig = {MathJaxConfig: 'local'};</script>\n",
              "        <script src=\"https://cdn.plot.ly/plotly-latest.min.js\"></script>    \n",
              "            <div id=\"8be91713-f2aa-4f76-8637-d5a7736d3a48\" class=\"plotly-graph-div\" style=\"height:525px; width:100%;\"></div>\n",
              "            <script type=\"text/javascript\">\n",
              "                \n",
              "                    window.PLOTLYENV=window.PLOTLYENV || {};\n",
              "                    \n",
              "                if (document.getElementById(\"8be91713-f2aa-4f76-8637-d5a7736d3a48\")) {\n",
              "                    Plotly.newPlot(\n",
              "                        '8be91713-f2aa-4f76-8637-d5a7736d3a48',\n",
              "                        [{\"alignmentgroup\": \"True\", \"bingroup\": \"x\", \"hoverlabel\": {\"namelength\": 0}, \"hovertemplate\": \"sexo=M<br>Dias=%{x}<br>count=%{y}\", \"legendgroup\": \"sexo=M\", \"marker\": {\"color\": \"#636efa\", \"opacity\": 0.75}, \"name\": \"sexo=M\", \"nbinsx\": 10, \"offsetgroup\": \"sexo=M\", \"orientation\": \"v\", \"showlegend\": true, \"type\": \"histogram\", \"x\": [2755, 2117, 329, 25, 944, 80, 1757, 237, 168, 803, 3178, 50, 1344, 1307, 1076, 2236, 1615, 1780, 3213, 2304, 1272, 1646, 2717, 1735, 388, 2495, 2568, 2013, 1630, 1523, 146, 1835, 202, 2437, 2138, 2090, 1063, 85, 343, 2215, 2258, 2371, 295, 1011, 1454, 1869, 1310, 1918, 1649, 652, 1384, 1512, 1352, 1315, 1343, 915, 948, 985, 1242, 955, 987, 731, 680, 21, 440, 470, 390, 344, 578, 504], \"xaxis\": \"x\", \"yaxis\": \"y\"}, {\"alignmentgroup\": \"True\", \"bingroup\": \"x\", \"hoverlabel\": {\"namelength\": 0}, \"hovertemplate\": \"sexo=F<br>Dias=%{x}<br>count=%{y}\", \"legendgroup\": \"sexo=F\", \"marker\": {\"color\": \"#EF553B\", \"opacity\": 0.75}, \"name\": \"sexo=F\", \"nbinsx\": 10, \"offsetgroup\": \"sexo=F\", \"orientation\": \"v\", \"showlegend\": true, \"type\": \"histogram\", \"x\": [865, 81, 1073, 3228, 2973, 1507, 1027, 1331, 1952, 2439, 975, 2492, 1478, 537, 714, 2084, 290, 1685, 1348, 1471, 378, 1426, 1488, 643, 1197, 1176, 881, 899, 1056, 785, 444, 524, 217], \"xaxis\": \"x\", \"yaxis\": \"y\"}],\n",
              "                        {\"bargap\": 0.05, \"barmode\": \"relative\", \"legend\": {\"tracegroupgap\": 0}, \"margin\": {\"t\": 60}, \"template\": {\"data\": {\"bar\": [{\"error_x\": {\"color\": \"#2a3f5f\"}, \"error_y\": {\"color\": \"#2a3f5f\"}, \"marker\": {\"line\": {\"color\": \"#E5ECF6\", \"width\": 0.5}}, \"type\": \"bar\"}], \"barpolar\": [{\"marker\": {\"line\": {\"color\": \"#E5ECF6\", \"width\": 0.5}}, \"type\": \"barpolar\"}], \"carpet\": [{\"aaxis\": {\"endlinecolor\": \"#2a3f5f\", \"gridcolor\": \"white\", \"linecolor\": \"white\", \"minorgridcolor\": \"white\", \"startlinecolor\": \"#2a3f5f\"}, \"baxis\": {\"endlinecolor\": \"#2a3f5f\", \"gridcolor\": \"white\", \"linecolor\": \"white\", \"minorgridcolor\": \"white\", \"startlinecolor\": \"#2a3f5f\"}, \"type\": \"carpet\"}], \"choropleth\": [{\"colorbar\": {\"outlinewidth\": 0, \"ticks\": \"\"}, \"type\": \"choropleth\"}], \"contour\": [{\"colorbar\": {\"outlinewidth\": 0, \"ticks\": \"\"}, \"colorscale\": [[0.0, \"#0d0887\"], [0.1111111111111111, \"#46039f\"], [0.2222222222222222, \"#7201a8\"], [0.3333333333333333, \"#9c179e\"], [0.4444444444444444, \"#bd3786\"], [0.5555555555555556, \"#d8576b\"], [0.6666666666666666, \"#ed7953\"], [0.7777777777777778, \"#fb9f3a\"], [0.8888888888888888, \"#fdca26\"], [1.0, \"#f0f921\"]], \"type\": \"contour\"}], \"contourcarpet\": [{\"colorbar\": {\"outlinewidth\": 0, \"ticks\": \"\"}, \"type\": \"contourcarpet\"}], \"heatmap\": [{\"colorbar\": {\"outlinewidth\": 0, \"ticks\": \"\"}, \"colorscale\": [[0.0, \"#0d0887\"], [0.1111111111111111, \"#46039f\"], [0.2222222222222222, \"#7201a8\"], [0.3333333333333333, \"#9c179e\"], [0.4444444444444444, \"#bd3786\"], [0.5555555555555556, \"#d8576b\"], [0.6666666666666666, \"#ed7953\"], [0.7777777777777778, \"#fb9f3a\"], [0.8888888888888888, \"#fdca26\"], [1.0, \"#f0f921\"]], \"type\": \"heatmap\"}], \"heatmapgl\": [{\"colorbar\": {\"outlinewidth\": 0, \"ticks\": \"\"}, \"colorscale\": [[0.0, \"#0d0887\"], [0.1111111111111111, \"#46039f\"], [0.2222222222222222, \"#7201a8\"], [0.3333333333333333, \"#9c179e\"], [0.4444444444444444, \"#bd3786\"], [0.5555555555555556, \"#d8576b\"], [0.6666666666666666, \"#ed7953\"], [0.7777777777777778, \"#fb9f3a\"], [0.8888888888888888, \"#fdca26\"], [1.0, \"#f0f921\"]], \"type\": \"heatmapgl\"}], \"histogram\": [{\"marker\": {\"colorbar\": {\"outlinewidth\": 0, \"ticks\": \"\"}}, \"type\": \"histogram\"}], \"histogram2d\": [{\"colorbar\": {\"outlinewidth\": 0, \"ticks\": \"\"}, \"colorscale\": [[0.0, \"#0d0887\"], [0.1111111111111111, \"#46039f\"], [0.2222222222222222, \"#7201a8\"], [0.3333333333333333, \"#9c179e\"], [0.4444444444444444, \"#bd3786\"], [0.5555555555555556, \"#d8576b\"], [0.6666666666666666, \"#ed7953\"], [0.7777777777777778, \"#fb9f3a\"], [0.8888888888888888, \"#fdca26\"], [1.0, \"#f0f921\"]], \"type\": \"histogram2d\"}], \"histogram2dcontour\": [{\"colorbar\": {\"outlinewidth\": 0, \"ticks\": \"\"}, \"colorscale\": [[0.0, \"#0d0887\"], [0.1111111111111111, \"#46039f\"], [0.2222222222222222, \"#7201a8\"], [0.3333333333333333, \"#9c179e\"], [0.4444444444444444, \"#bd3786\"], [0.5555555555555556, \"#d8576b\"], [0.6666666666666666, \"#ed7953\"], [0.7777777777777778, \"#fb9f3a\"], [0.8888888888888888, \"#fdca26\"], [1.0, \"#f0f921\"]], \"type\": \"histogram2dcontour\"}], \"mesh3d\": [{\"colorbar\": {\"outlinewidth\": 0, \"ticks\": \"\"}, \"type\": \"mesh3d\"}], \"parcoords\": [{\"line\": {\"colorbar\": {\"outlinewidth\": 0, \"ticks\": \"\"}}, \"type\": \"parcoords\"}], \"pie\": [{\"automargin\": true, \"type\": \"pie\"}], \"scatter\": [{\"marker\": {\"colorbar\": {\"outlinewidth\": 0, \"ticks\": \"\"}}, \"type\": \"scatter\"}], \"scatter3d\": [{\"line\": {\"colorbar\": {\"outlinewidth\": 0, \"ticks\": \"\"}}, \"marker\": {\"colorbar\": {\"outlinewidth\": 0, \"ticks\": \"\"}}, \"type\": \"scatter3d\"}], \"scattercarpet\": [{\"marker\": {\"colorbar\": {\"outlinewidth\": 0, \"ticks\": \"\"}}, \"type\": \"scattercarpet\"}], \"scattergeo\": [{\"marker\": {\"colorbar\": {\"outlinewidth\": 0, \"ticks\": \"\"}}, \"type\": \"scattergeo\"}], \"scattergl\": [{\"marker\": {\"colorbar\": {\"outlinewidth\": 0, \"ticks\": \"\"}}, \"type\": \"scattergl\"}], \"scattermapbox\": [{\"marker\": {\"colorbar\": {\"outlinewidth\": 0, \"ticks\": \"\"}}, \"type\": \"scattermapbox\"}], \"scatterpolar\": [{\"marker\": {\"colorbar\": {\"outlinewidth\": 0, \"ticks\": \"\"}}, \"type\": \"scatterpolar\"}], \"scatterpolargl\": [{\"marker\": {\"colorbar\": {\"outlinewidth\": 0, \"ticks\": \"\"}}, \"type\": \"scatterpolargl\"}], \"scatterternary\": [{\"marker\": {\"colorbar\": {\"outlinewidth\": 0, \"ticks\": \"\"}}, \"type\": \"scatterternary\"}], \"surface\": [{\"colorbar\": {\"outlinewidth\": 0, \"ticks\": \"\"}, \"colorscale\": [[0.0, \"#0d0887\"], [0.1111111111111111, \"#46039f\"], [0.2222222222222222, \"#7201a8\"], [0.3333333333333333, \"#9c179e\"], [0.4444444444444444, \"#bd3786\"], [0.5555555555555556, \"#d8576b\"], [0.6666666666666666, \"#ed7953\"], [0.7777777777777778, \"#fb9f3a\"], [0.8888888888888888, \"#fdca26\"], [1.0, \"#f0f921\"]], \"type\": \"surface\"}], \"table\": [{\"cells\": {\"fill\": {\"color\": \"#EBF0F8\"}, \"line\": {\"color\": \"white\"}}, \"header\": {\"fill\": {\"color\": \"#C8D4E3\"}, \"line\": {\"color\": \"white\"}}, \"type\": \"table\"}]}, \"layout\": {\"annotationdefaults\": {\"arrowcolor\": \"#2a3f5f\", \"arrowhead\": 0, \"arrowwidth\": 1}, \"coloraxis\": {\"colorbar\": {\"outlinewidth\": 0, \"ticks\": \"\"}}, \"colorscale\": {\"diverging\": [[0, \"#8e0152\"], [0.1, \"#c51b7d\"], [0.2, \"#de77ae\"], [0.3, \"#f1b6da\"], [0.4, \"#fde0ef\"], [0.5, \"#f7f7f7\"], [0.6, \"#e6f5d0\"], [0.7, \"#b8e186\"], [0.8, \"#7fbc41\"], [0.9, \"#4d9221\"], [1, \"#276419\"]], \"sequential\": [[0.0, \"#0d0887\"], [0.1111111111111111, \"#46039f\"], [0.2222222222222222, \"#7201a8\"], [0.3333333333333333, \"#9c179e\"], [0.4444444444444444, \"#bd3786\"], [0.5555555555555556, \"#d8576b\"], [0.6666666666666666, \"#ed7953\"], [0.7777777777777778, \"#fb9f3a\"], [0.8888888888888888, \"#fdca26\"], [1.0, \"#f0f921\"]], \"sequentialminus\": [[0.0, \"#0d0887\"], [0.1111111111111111, \"#46039f\"], [0.2222222222222222, \"#7201a8\"], [0.3333333333333333, \"#9c179e\"], [0.4444444444444444, \"#bd3786\"], [0.5555555555555556, \"#d8576b\"], [0.6666666666666666, \"#ed7953\"], [0.7777777777777778, \"#fb9f3a\"], [0.8888888888888888, \"#fdca26\"], [1.0, \"#f0f921\"]]}, \"colorway\": [\"#636efa\", \"#EF553B\", \"#00cc96\", \"#ab63fa\", \"#FFA15A\", \"#19d3f3\", \"#FF6692\", \"#B6E880\", \"#FF97FF\", \"#FECB52\"], \"font\": {\"color\": \"#2a3f5f\"}, \"geo\": {\"bgcolor\": \"white\", \"lakecolor\": \"white\", \"landcolor\": \"#E5ECF6\", \"showlakes\": true, \"showland\": true, \"subunitcolor\": \"white\"}, \"hoverlabel\": {\"align\": \"left\"}, \"hovermode\": \"closest\", \"mapbox\": {\"style\": \"light\"}, \"paper_bgcolor\": \"white\", \"plot_bgcolor\": \"#E5ECF6\", \"polar\": {\"angularaxis\": {\"gridcolor\": \"white\", \"linecolor\": \"white\", \"ticks\": \"\"}, \"bgcolor\": \"#E5ECF6\", \"radialaxis\": {\"gridcolor\": \"white\", \"linecolor\": \"white\", \"ticks\": \"\"}}, \"scene\": {\"xaxis\": {\"backgroundcolor\": \"#E5ECF6\", \"gridcolor\": \"white\", \"gridwidth\": 2, \"linecolor\": \"white\", \"showbackground\": true, \"ticks\": \"\", \"zerolinecolor\": \"white\"}, \"yaxis\": {\"backgroundcolor\": \"#E5ECF6\", \"gridcolor\": \"white\", \"gridwidth\": 2, \"linecolor\": \"white\", \"showbackground\": true, \"ticks\": \"\", \"zerolinecolor\": \"white\"}, \"zaxis\": {\"backgroundcolor\": \"#E5ECF6\", \"gridcolor\": \"white\", \"gridwidth\": 2, \"linecolor\": \"white\", \"showbackground\": true, \"ticks\": \"\", \"zerolinecolor\": \"white\"}}, \"shapedefaults\": {\"line\": {\"color\": \"#2a3f5f\"}}, \"ternary\": {\"aaxis\": {\"gridcolor\": \"white\", \"linecolor\": \"white\", \"ticks\": \"\"}, \"baxis\": {\"gridcolor\": \"white\", \"linecolor\": \"white\", \"ticks\": \"\"}, \"bgcolor\": \"#E5ECF6\", \"caxis\": {\"gridcolor\": \"white\", \"linecolor\": \"white\", \"ticks\": \"\"}}, \"title\": {\"x\": 0.05}, \"xaxis\": {\"automargin\": true, \"gridcolor\": \"white\", \"linecolor\": \"white\", \"ticks\": \"\", \"title\": {\"standoff\": 15}, \"zerolinecolor\": \"white\", \"zerolinewidth\": 2}, \"yaxis\": {\"automargin\": true, \"gridcolor\": \"white\", \"linecolor\": \"white\", \"ticks\": \"\", \"title\": {\"standoff\": 15}, \"zerolinecolor\": \"white\", \"zerolinewidth\": 2}}}, \"title\": {\"text\": \"Censurados\"}, \"xaxis\": {\"anchor\": \"y\", \"domain\": [0.0, 1.0], \"title\": {\"text\": \"Dias\"}}, \"yaxis\": {\"anchor\": \"x\", \"domain\": [0.0, 1.0], \"title\": {\"text\": \"Frequ\\u00eancia\"}}},\n",
              "                        {\"responsive\": true}\n",
              "                    ).then(function(){\n",
              "                            \n",
              "var gd = document.getElementById('8be91713-f2aa-4f76-8637-d5a7736d3a48');\n",
              "var x = new MutationObserver(function (mutations, observer) {{\n",
              "        var display = window.getComputedStyle(gd).display;\n",
              "        if (!display || display === 'none') {{\n",
              "            console.log([gd, 'removed!']);\n",
              "            Plotly.purge(gd);\n",
              "            observer.disconnect();\n",
              "        }}\n",
              "}});\n",
              "\n",
              "// Listen for the removal of the full notebook cells\n",
              "var notebookContainer = gd.closest('#notebook-container');\n",
              "if (notebookContainer) {{\n",
              "    x.observe(notebookContainer, {childList: true});\n",
              "}}\n",
              "\n",
              "// Listen for the clearing of the current output cell\n",
              "var outputEl = gd.closest('.output');\n",
              "if (outputEl) {{\n",
              "    x.observe(outputEl, {childList: true});\n",
              "}}\n",
              "\n",
              "                        })\n",
              "                };\n",
              "                \n",
              "            </script>\n",
              "        </div>\n",
              "</body>\n",
              "</html>"
            ]
          },
          "metadata": {
            "tags": []
          }
        }
      ]
    }
  ]
}