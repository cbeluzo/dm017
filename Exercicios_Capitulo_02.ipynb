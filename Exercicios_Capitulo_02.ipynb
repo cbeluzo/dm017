{
 "cells": [
  {
   "cell_type": "markdown",
   "metadata": {},
   "source": [
    "## ANÁLISE DE SOBREVIVÊNCIA\n",
    "### Teoria e aplicações em saúde\n",
    "#### Capítulo 2: O tempo na análise de sobrevivência\n",
    "#### Exercícios Resolvidos\n",
    "###### **Autor: Carlos Ed Beluzo - cbeluzo@gmail.com**\n",
    "\n",
    "## Tópicos:\n",
    "\n",
    "* [Importação de bibliotecas e leitura do arquivco CSV](#import)\n",
    "* [Funções](#functions)\n",
    "* [Exercício 2.1](#Exercicio2.1)\n",
    "* [Exercício 2.2](#Exercicio2.2)\n",
    "* [Exercício 2.3](#Exercicio2.3)\n"
   ]
  },
  {
   "cell_type": "markdown",
   "metadata": {},
   "source": [
    "**Importação de bibliotecas e leitura do arquivco CSV** <a id='imports'></a>"
   ]
  },
  {
   "cell_type": "code",
   "execution_count": 1,
   "metadata": {},
   "outputs": [
    {
     "data": {
      "text/html": [
       "<div>\n",
       "<style scoped>\n",
       "    .dataframe tbody tr th:only-of-type {\n",
       "        vertical-align: middle;\n",
       "    }\n",
       "\n",
       "    .dataframe tbody tr th {\n",
       "        vertical-align: top;\n",
       "    }\n",
       "\n",
       "    .dataframe thead th {\n",
       "        text-align: right;\n",
       "    }\n",
       "</style>\n",
       "<table border=\"1\" class=\"dataframe\">\n",
       "  <thead>\n",
       "    <tr style=\"text-align: right;\">\n",
       "      <th></th>\n",
       "      <th>id</th>\n",
       "      <th>ini</th>\n",
       "      <th>fim</th>\n",
       "      <th>tempo</th>\n",
       "      <th>status</th>\n",
       "      <th>idade</th>\n",
       "      <th>acompan</th>\n",
       "      <th>anotrat</th>\n",
       "      <th>tratam</th>\n",
       "      <th>doenca</th>\n",
       "      <th>propcp</th>\n",
       "    </tr>\n",
       "  </thead>\n",
       "  <tbody>\n",
       "    <tr>\n",
       "      <th>count</th>\n",
       "      <td>193.000000</td>\n",
       "      <td>193.000000</td>\n",
       "      <td>193.000000</td>\n",
       "      <td>193.000000</td>\n",
       "      <td>193.000000</td>\n",
       "      <td>193.000000</td>\n",
       "      <td>193.000000</td>\n",
       "      <td>193.000000</td>\n",
       "      <td>193.000000</td>\n",
       "      <td>193.000000</td>\n",
       "      <td>193.000000</td>\n",
       "    </tr>\n",
       "    <tr>\n",
       "      <th>mean</th>\n",
       "      <td>97.000000</td>\n",
       "      <td>2396.922280</td>\n",
       "      <td>3335.160622</td>\n",
       "      <td>938.238342</td>\n",
       "      <td>0.466321</td>\n",
       "      <td>36.554404</td>\n",
       "      <td>0.896373</td>\n",
       "      <td>1542.005181</td>\n",
       "      <td>1.098446</td>\n",
       "      <td>37.958549</td>\n",
       "      <td>2.948187</td>\n",
       "    </tr>\n",
       "    <tr>\n",
       "      <th>std</th>\n",
       "      <td>55.858452</td>\n",
       "      <td>1216.918778</td>\n",
       "      <td>1501.300776</td>\n",
       "      <td>770.741415</td>\n",
       "      <td>0.500162</td>\n",
       "      <td>9.508680</td>\n",
       "      <td>0.691946</td>\n",
       "      <td>835.230679</td>\n",
       "      <td>0.832696</td>\n",
       "      <td>44.700489</td>\n",
       "      <td>1.603190</td>\n",
       "    </tr>\n",
       "    <tr>\n",
       "      <th>min</th>\n",
       "      <td>1.000000</td>\n",
       "      <td>1.000000</td>\n",
       "      <td>96.000000</td>\n",
       "      <td>16.000000</td>\n",
       "      <td>0.000000</td>\n",
       "      <td>20.000000</td>\n",
       "      <td>0.000000</td>\n",
       "      <td>9.000000</td>\n",
       "      <td>0.000000</td>\n",
       "      <td>1.000000</td>\n",
       "      <td>0.000000</td>\n",
       "    </tr>\n",
       "    <tr>\n",
       "      <th>25%</th>\n",
       "      <td>49.000000</td>\n",
       "      <td>1406.000000</td>\n",
       "      <td>2095.000000</td>\n",
       "      <td>290.000000</td>\n",
       "      <td>0.000000</td>\n",
       "      <td>30.000000</td>\n",
       "      <td>0.000000</td>\n",
       "      <td>1990.000000</td>\n",
       "      <td>1.000000</td>\n",
       "      <td>3.000000</td>\n",
       "      <td>2.000000</td>\n",
       "    </tr>\n",
       "    <tr>\n",
       "      <th>50%</th>\n",
       "      <td>97.000000</td>\n",
       "      <td>2454.000000</td>\n",
       "      <td>3711.000000</td>\n",
       "      <td>852.000000</td>\n",
       "      <td>0.000000</td>\n",
       "      <td>35.000000</td>\n",
       "      <td>1.000000</td>\n",
       "      <td>1993.000000</td>\n",
       "      <td>1.000000</td>\n",
       "      <td>8.000000</td>\n",
       "      <td>4.000000</td>\n",
       "    </tr>\n",
       "    <tr>\n",
       "      <th>75%</th>\n",
       "      <td>145.000000</td>\n",
       "      <td>3314.000000</td>\n",
       "      <td>4790.000000</td>\n",
       "      <td>1348.000000</td>\n",
       "      <td>1.000000</td>\n",
       "      <td>43.000000</td>\n",
       "      <td>1.000000</td>\n",
       "      <td>1996.000000</td>\n",
       "      <td>2.000000</td>\n",
       "      <td>99.000000</td>\n",
       "      <td>4.000000</td>\n",
       "    </tr>\n",
       "    <tr>\n",
       "      <th>max</th>\n",
       "      <td>193.000000</td>\n",
       "      <td>4593.000000</td>\n",
       "      <td>4822.000000</td>\n",
       "      <td>3228.000000</td>\n",
       "      <td>1.000000</td>\n",
       "      <td>68.000000</td>\n",
       "      <td>2.000000</td>\n",
       "      <td>2000.000000</td>\n",
       "      <td>3.000000</td>\n",
       "      <td>99.000000</td>\n",
       "      <td>4.000000</td>\n",
       "    </tr>\n",
       "  </tbody>\n",
       "</table>\n",
       "</div>"
      ],
      "text/plain": [
       "               id          ini          fim        tempo      status  \\\n",
       "count  193.000000   193.000000   193.000000   193.000000  193.000000   \n",
       "mean    97.000000  2396.922280  3335.160622   938.238342    0.466321   \n",
       "std     55.858452  1216.918778  1501.300776   770.741415    0.500162   \n",
       "min      1.000000     1.000000    96.000000    16.000000    0.000000   \n",
       "25%     49.000000  1406.000000  2095.000000   290.000000    0.000000   \n",
       "50%     97.000000  2454.000000  3711.000000   852.000000    0.000000   \n",
       "75%    145.000000  3314.000000  4790.000000  1348.000000    1.000000   \n",
       "max    193.000000  4593.000000  4822.000000  3228.000000    1.000000   \n",
       "\n",
       "            idade     acompan      anotrat      tratam      doenca      propcp  \n",
       "count  193.000000  193.000000   193.000000  193.000000  193.000000  193.000000  \n",
       "mean    36.554404    0.896373  1542.005181    1.098446   37.958549    2.948187  \n",
       "std      9.508680    0.691946   835.230679    0.832696   44.700489    1.603190  \n",
       "min     20.000000    0.000000     9.000000    0.000000    1.000000    0.000000  \n",
       "25%     30.000000    0.000000  1990.000000    1.000000    3.000000    2.000000  \n",
       "50%     35.000000    1.000000  1993.000000    1.000000    8.000000    4.000000  \n",
       "75%     43.000000    1.000000  1996.000000    2.000000   99.000000    4.000000  \n",
       "max     68.000000    2.000000  2000.000000    3.000000   99.000000    4.000000  "
      ]
     },
     "execution_count": 1,
     "metadata": {},
     "output_type": "execute_result"
    }
   ],
   "source": [
    "import pandas as pd\n",
    "import numpy as np\n",
    "from lifelines.plotting import plot_lifetimes\n",
    "import matplotlib.pyplot as plt\n",
    "\n",
    "df = pd.read_csv('ipec.csv', sep=';').fillna('-1')\n",
    "df.describe()\n"
   ]
  },
  {
   "cell_type": "markdown",
   "metadata": {},
   "source": [
    "**Funções**  <a id='functions'></a>"
   ]
  },
  {
   "cell_type": "code",
   "execution_count": 616,
   "metadata": {},
   "outputs": [],
   "source": [
    "# Função que gera gráfico de tempo de sobrevivência\n",
    "def linha_do_tempo(p_entry_individual, p_actual_lifetimes, p_current_time, p_censured, p_time_unit, p_person_type, p_title, p_width, p_height):\n",
    "    observed_lifetimes = np.minimum(p_actual_lifetimes, p_current_time)\n",
    "    death_observed = p_actual_lifetimes < p_current_time\n",
    "\n",
    "    fig = plt.figure(figsize=(p_width,p_height))\n",
    "    ax = plot_lifetimes(durations = observed_lifetimes,\n",
    "                        event_observed = death_observed,\n",
    "                        entry = p_entry_individual,\n",
    "                        left_truncated = True,\n",
    "                        sort_by_duration = False,\n",
    "                        event_observed_color = \"black\",\n",
    "                        event_censored_color = \"r\",\n",
    "                       )\n",
    "\n",
    "    ax.vlines(p_current_time, 0, len(p_actual_lifetimes), lw=1, linestyles='--')\n",
    "    ax.set_xlim(-0.5, max(p_actual_lifetimes)+1)\n",
    "    ax.set_xticks(np.array(range(0,max(p_actual_lifetimes)+1)))\n",
    "    ax.set_yticks(np.array(range(0,len(p_actual_lifetimes))))\n",
    "    ax.set_xlabel(p_time_unit, fontsize=12)\n",
    "    ax.set_ylabel(p_person_type, fontsize=12)\n",
    "    ax.set_title(p_title, fontsize=16)\n",
    "    \n",
    "    ax.set_yticklabels(np.array(range(0,len(p_actual_lifetimes)))+1)\n",
    "    \n",
    "    marker_style_X = dict(color='black', marker='x', markersize=10)\n",
    "    marker_style_O = dict(color='black', marker='o', markersize=10)\n",
    "    \n",
    "    iterator = 0\n",
    "    for ind in p_censured:\n",
    "        ax.text(p_entry_individual[iterator]+((observed_lifetimes[iterator])/2).astype(int), iterator + 0.2, \"T=%d\" % observed_lifetimes[iterator], fontsize=10)\n",
    "        if ind == 1:\n",
    "            ax.plot(p_entry_individual[iterator]+observed_lifetimes[iterator], np.array(range(0,len(p_actual_lifetimes)))[iterator], fillstyle='none', **marker_style_X)\n",
    "        else:\n",
    "            ax.plot(p_entry_individual[iterator]+observed_lifetimes[iterator], np.array(range(0,len(p_actual_lifetimes)))[iterator], fillstyle='none', **marker_style_O)\n",
    "        iterator = iterator + 1\n",
    "    \n",
    "    ax.vlines(max(observed_lifetimes), 0, len(observed_lifetimes), lw=1, linestyles='--')\n",
    "    ax.plot(0,0, label='X - Evento', color='white')\n",
    "    ax.plot(0,0, label='O - Censura', color='white')\n",
    "    ax.legend(frameon=False)\n",
    "    \n",
    "    print(\"Tempo de vida observado: \\n\", observed_lifetimes, \"\\n\")"
   ]
  },
  {
   "cell_type": "code",
   "execution_count": 614,
   "metadata": {},
   "outputs": [],
   "source": [
    "# Função que gera gráfico de tragetória com variáveis N(t) e Y(t) do processo de contagem\n",
    "def tragetoria(p_entry_individual, p_lifetimes, p_censured, p_time_unit):\n",
    "    \n",
    "    total_individuals = max(p_lifetimes)\n",
    "    \n",
    "    for individual in total_individuals:\n",
    "        entrytime = p_entry_individual[individual]\n",
    "        lifetime = p_lifetimes[individual]\n",
    "        censured = p_censured[individual]\n",
    "        \n",
    "        print(\"Indivíduo: %d, Trajetória de Sobrevivência: %d.\" %(individual, lifetime))\n",
    "        fig, ax = plt.subplots(figsize=(6,3))\n",
    "\n",
    "        # Y(t)\n",
    "        ax.plot([0, entrytime],[.5, .5], color='r', linewidth=1)\n",
    "        ax.plot([entrytime, entrytime + lifetime],[1, 1], color='b', linewidth=1)\n",
    "        ax.plot([entrytime + lifetime, total_individuals],[.5, .5], color='r', linewidth=1)\n",
    "        ax.scatter(entrytime + lifetime, 1, marker=\"o\", color='black', facecolors='none')\n",
    "        \n",
    "        if entrytime > 0:\n",
    "            ax.vlines(entrytime, 0.5, 1, lw=1, linestyles='--')\n",
    "            ax.scatter(entrytime, 0.5, marker=\"o\", color='black')\n",
    "        \n",
    "        if entrytime + lifetime < total_individuals:\n",
    "            ax.vlines(entrytime + lifetime, 0.5, 1, lw=1, linestyles='--')\n",
    "\n",
    "        # N(t)\n",
    "        ax.plot([entrytime, entrytime + lifetime],[-1, -1], color='r', linewidth=1)\n",
    "        ax.scatter(entrytime + lifetime, -0.5, marker=\"o\", color='black')\n",
    "        ax.vlines(ntrytime + lifetime, -1, -0,5, lw=1, linestyles='--')\n",
    "        ax.plot([entrytime + lifetime, total_individuals],[-0.5, -0.5], color='b', linewidth=1)\n",
    "\n",
    "        # Draw Up Horizontal line - Y(t)\n",
    "        #ax.plot([entry, point+entry],[1, 1], color='b', linewidth=1)\n",
    "        #ax.plot([point + entry, max(p_lifetimes),[.5, .5], color='r', linewidth=1)\n",
    "        #ax.scatter(point, 1, marker=\"o\", color='black', facecolors='none')\n",
    "\n",
    "        if entrytime + lifetime < max(p_lifetimes):\n",
    "            ax.text(point+0.3, -0.7, \"dN(t)\", fontsize=14)\n",
    "        else:\n",
    "            ax.text((max(p_lifetimes)/2), -0.7, \"dN(t)=0\", fontsize=14)\n",
    "                \n",
    "        # Zero line\n",
    "        ax.plot([0, max(p_lifetimes)],[0, 0], color='black')\n",
    "\n",
    "        ax.set_yticklabels([\"\", \"\", \"0\",\"1\",\"\",\"\",\"\",\"\"],rotation=90)\n",
    "        ax.set_xticklabels([])\n",
    "        ax.text(point, -1.3, point, fontsize=10)\n",
    "        ax.text(point, -1.3, point, fontsize=10)\n",
    "\n",
    "        ax.set_xlabel(p_time_unit, fontsize=14)\n",
    "        ax.set_xlim(-0.5, max(p_lifetimes)+ 0.5)\n",
    "        ax.xaxis.set_label_coords(0.5,-0.15)\n",
    "\n",
    "        ax.set_ylabel(\"  $N_{%d}(t)$     $Y_{%d}(t)$  \" %(individual,individual), fontsize=14)\n",
    "\n",
    "        ax.set_title(\"$I_{%d}$ -> $T_{%d}=%d$\" %(individual,individual,point), fontsize=14)\n",
    "\n",
    "        plt.show()"
   ]
  },
  {
   "cell_type": "code",
   "execution_count": null,
   "metadata": {},
   "outputs": [],
   "source": []
  },
  {
   "cell_type": "markdown",
   "metadata": {},
   "source": [
    "## Exercício 2.1 <a id='Exercicio2.1'></a>\n",
    "\n",
    "O tempo de aleitamento, isto é, o tempo decorrido desde o nascimento até o desmame, pode ser considerado como uma variável tempo de sobrevivência. Suponha que o tempo  até  o  desmame,  em  meses,  tenha  sido  registrado  para  15  crianças  e  que  todas entraram no estudo no mesmo dia:\n",
    "\n",
    "Tempos de aleitamento: 6 12 10 3 5 1 6 8 1 5 2 2 5 8 1\n",
    "\n",
    "Considerando que não houve censura:\n",
    "\n",
    "* [**a) Represente graficamente os tempos de observação das 15 crianças.**](#E2.1.a)\n",
    "* [**b) Represente as trajetórias dos primeiros cinco indivíduos utilizando as variáveis N(t) e Y (t) do processo de contagem.**](#E2.1.b)\n",
    "* [**c) Como  você  construiria  um  banco  de  dados  para  analisar  estes  dados  pelo  processo clássico?**](#E2.1.c)\n",
    "* [**d)E pelo processo de contagem?**](#E2.1.d)"
   ]
  },
  {
   "cell_type": "markdown",
   "metadata": {},
   "source": [
    "<a id='E2.1.a'></a>\n",
    "#### a) Represente graficamente os tempos de observação das 15 crianças."
   ]
  },
  {
   "cell_type": "code",
   "execution_count": 569,
   "metadata": {},
   "outputs": [
    {
     "name": "stdout",
     "output_type": "stream",
     "text": [
      "Tempo de vida observado: \n",
      " [ 6 12 10  3  5  1  6  8  1  5  2  2  5  8  1] \n",
      "\n"
     ]
    },
    {
     "data": {
      "image/png": "[encoded data removed]",
      "text/plain": [
       "<Figure size 576x432 with 1 Axes>"
      ]
     },
     "metadata": {
      "needs_background": "light"
     },
     "output_type": "display_data"
    }
   ],
   "source": [
    "# Dados de sobrevivência\n",
    "entry_individual = np.zeros(15, dtype=np.int)\n",
    "actual_lifetimes = np.array([6,12,10,3,5,1,6,8,1,5,2,2,5,8,1])\n",
    "censured = np.ones(15, dtype=np.int)\n",
    "current_time = max(actual_lifetimes) + 1  #This variable defines the time window\n",
    "\n",
    "# Função que gera gráfico de tempo de sobrevivência\n",
    "linha_do_tempo (entry_individual, actual_lifetimes, current_time, censured, \"Meses\", \"Crianças\", \"Tempo de Aleitamento\", 8, 6)\n"
   ]
  },
  {
   "cell_type": "markdown",
   "metadata": {},
   "source": [
    "<a id='E2.1.b'></a>\n",
    "#### b) Represente as trajetórias dos primeiros cinco indivíduos utilizando as variáveis N(t) e Y (t) do processo de contagem."
   ]
  },
  {
   "cell_type": "code",
   "execution_count": 605,
   "metadata": {},
   "outputs": [
    {
     "name": "stdout",
     "output_type": "stream",
     "text": [
      "Indivíduo: 1, Trajetória de Sobrevivência: 6.\n"
     ]
    },
    {
     "data": {
      "image/png": "[encoded data removed]",
      "text/plain": [
       "<Figure size 432x216 with 1 Axes>"
      ]
     },
     "metadata": {
      "needs_background": "light"
     },
     "output_type": "display_data"
    },
    {
     "name": "stdout",
     "output_type": "stream",
     "text": [
      "Indivíduo: 2, Trajetória de Sobrevivência: 12.\n"
     ]
    },
    {
     "data": {
      "image/png": "[encoded data removed]",
      "text/plain": [
       "<Figure size 432x216 with 1 Axes>"
      ]
     },
     "metadata": {
      "needs_background": "light"
     },
     "output_type": "display_data"
    },
    {
     "name": "stdout",
     "output_type": "stream",
     "text": [
      "Indivíduo: 3, Trajetória de Sobrevivência: 10.\n"
     ]
    },
    {
     "data": {
      "image/png": "[encoded data removed]",
      "text/plain": [
       "<Figure size 432x216 with 1 Axes>"
      ]
     },
     "metadata": {
      "needs_background": "light"
     },
     "output_type": "display_data"
    },
    {
     "name": "stdout",
     "output_type": "stream",
     "text": [
      "Indivíduo: 4, Trajetória de Sobrevivência: 3.\n"
     ]
    },
    {
     "data": {
      "image/png": "[encoded data removed]",
      "text/plain": [
       "<Figure size 432x216 with 1 Axes>"
      ]
     },
     "metadata": {
      "needs_background": "light"
     },
     "output_type": "display_data"
    },
    {
     "name": "stdout",
     "output_type": "stream",
     "text": [
      "Indivíduo: 5, Trajetória de Sobrevivência: 5.\n"
     ]
    },
    {
     "data": {
      "image/png": "[encoded data removed]",
      "text/plain": [
       "<Figure size 432x216 with 1 Axes>"
      ]
     },
     "metadata": {
      "needs_background": "light"
     },
     "output_type": "display_data"
    },
    {
     "name": "stdout",
     "output_type": "stream",
     "text": [
      "Indivíduo: 6, Trajetória de Sobrevivência: 1.\n"
     ]
    },
    {
     "data": {
      "image/png": "[encoded data removed]",
      "text/plain": [
       "<Figure size 432x216 with 1 Axes>"
      ]
     },
     "metadata": {
      "needs_background": "light"
     },
     "output_type": "display_data"
    },
    {
     "name": "stdout",
     "output_type": "stream",
     "text": [
      "Indivíduo: 7, Trajetória de Sobrevivência: 6.\n"
     ]
    },
    {
     "data": {
      "image/png": "[encoded data removed]",
      "text/plain": [
       "<Figure size 432x216 with 1 Axes>"
      ]
     },
     "metadata": {
      "needs_background": "light"
     },
     "output_type": "display_data"
    },
    {
     "name": "stdout",
     "output_type": "stream",
     "text": [
      "Indivíduo: 8, Trajetória de Sobrevivência: 8.\n"
     ]
    },
    {
     "data": {
      "image/png": "[encoded data removed]",
      "text/plain": [
       "<Figure size 432x216 with 1 Axes>"
      ]
     },
     "metadata": {
      "needs_background": "light"
     },
     "output_type": "display_data"
    },
    {
     "name": "stdout",
     "output_type": "stream",
     "text": [
      "Indivíduo: 9, Trajetória de Sobrevivência: 1.\n"
     ]
    },
    {
     "data": {
      "image/png": "[encoded data removed]",
      "text/plain": [
       "<Figure size 432x216 with 1 Axes>"
      ]
     },
     "metadata": {
      "needs_background": "light"
     },
     "output_type": "display_data"
    },
    {
     "name": "stdout",
     "output_type": "stream",
     "text": [
      "Indivíduo: 10, Trajetória de Sobrevivência: 5.\n"
     ]
    },
    {
     "data": {
      "image/png": "[encoded data removed]",
      "text/plain": [
       "<Figure size 432x216 with 1 Axes>"
      ]
     },
     "metadata": {
      "needs_background": "light"
     },
     "output_type": "display_data"
    },
    {
     "name": "stdout",
     "output_type": "stream",
     "text": [
      "Indivíduo: 11, Trajetória de Sobrevivência: 2.\n"
     ]
    },
    {
     "data": {
      "image/png": "[encoded data removed]",
      "text/plain": [
       "<Figure size 432x216 with 1 Axes>"
      ]
     },
     "metadata": {
      "needs_background": "light"
     },
     "output_type": "display_data"
    },
    {
     "name": "stdout",
     "output_type": "stream",
     "text": [
      "Indivíduo: 12, Trajetória de Sobrevivência: 2.\n"
     ]
    },
    {
     "data": {
      "image/png": "[encoded data removed]",
      "text/plain": [
       "<Figure size 432x216 with 1 Axes>"
      ]
     },
     "metadata": {
      "needs_background": "light"
     },
     "output_type": "display_data"
    },
    {
     "name": "stdout",
     "output_type": "stream",
     "text": [
      "Indivíduo: 13, Trajetória de Sobrevivência: 5.\n"
     ]
    },
    {
     "data": {
      "image/png": "[encoded data removed]",
      "text/plain": [
       "<Figure size 432x216 with 1 Axes>"
      ]
     },
     "metadata": {
      "needs_background": "light"
     },
     "output_type": "display_data"
    },
    {
     "name": "stdout",
     "output_type": "stream",
     "text": [
      "Indivíduo: 14, Trajetória de Sobrevivência: 8.\n"
     ]
    },
    {
     "data": {
      "image/png": "[encoded data removed]",
      "text/plain": [
       "<Figure size 432x216 with 1 Axes>"
      ]
     },
     "metadata": {
      "needs_background": "light"
     },
     "output_type": "display_data"
    },
    {
     "name": "stdout",
     "output_type": "stream",
     "text": [
      "Indivíduo: 15, Trajetória de Sobrevivência: 1.\n"
     ]
    },
    {
     "data": {
      "image/png": "[encoded data removed]",
      "text/plain": [
       "<Figure size 432x216 with 1 Axes>"
      ]
     },
     "metadata": {
      "needs_background": "light"
     },
     "output_type": "display_data"
    }
   ],
   "source": [
    "entry_individual = np.zeros(15, dtype=np.int)\n",
    "original_lifetimes = np.array([6,12,10,3,5,1,6,8,1,5,2,2,5,8,1])\n",
    "censured = np.ones(15, dtype=np.int)\n",
    "\n",
    "tragetoria(entry_individual, original_lifetimes, censured, \"Meses\")\n"
   ]
  },
  {
   "cell_type": "markdown",
   "metadata": {},
   "source": [
    "<a id='E2.1.c'></a>\n",
    "#### c) Como você construiria um banco de dados para analisar estes dados pelo processo clássico?"
   ]
  },
  {
   "cell_type": "code",
   "execution_count": 459,
   "metadata": {},
   "outputs": [
    {
     "data": {
      "text/html": [
       "<div>\n",
       "<style scoped>\n",
       "    .dataframe tbody tr th:only-of-type {\n",
       "        vertical-align: middle;\n",
       "    }\n",
       "\n",
       "    .dataframe tbody tr th {\n",
       "        vertical-align: top;\n",
       "    }\n",
       "\n",
       "    .dataframe thead th {\n",
       "        text-align: right;\n",
       "    }\n",
       "</style>\n",
       "<table border=\"1\" class=\"dataframe\">\n",
       "  <thead>\n",
       "    <tr style=\"text-align: right;\">\n",
       "      <th></th>\n",
       "      <th>Criança</th>\n",
       "      <th>Tempo</th>\n",
       "      <th>Status</th>\n",
       "    </tr>\n",
       "  </thead>\n",
       "  <tbody>\n",
       "    <tr>\n",
       "      <th>0</th>\n",
       "      <td>1</td>\n",
       "      <td>6</td>\n",
       "      <td>1</td>\n",
       "    </tr>\n",
       "    <tr>\n",
       "      <th>1</th>\n",
       "      <td>2</td>\n",
       "      <td>12</td>\n",
       "      <td>1</td>\n",
       "    </tr>\n",
       "    <tr>\n",
       "      <th>2</th>\n",
       "      <td>3</td>\n",
       "      <td>10</td>\n",
       "      <td>1</td>\n",
       "    </tr>\n",
       "    <tr>\n",
       "      <th>3</th>\n",
       "      <td>4</td>\n",
       "      <td>3</td>\n",
       "      <td>1</td>\n",
       "    </tr>\n",
       "    <tr>\n",
       "      <th>4</th>\n",
       "      <td>5</td>\n",
       "      <td>5</td>\n",
       "      <td>1</td>\n",
       "    </tr>\n",
       "    <tr>\n",
       "      <th>5</th>\n",
       "      <td>6</td>\n",
       "      <td>1</td>\n",
       "      <td>1</td>\n",
       "    </tr>\n",
       "    <tr>\n",
       "      <th>6</th>\n",
       "      <td>7</td>\n",
       "      <td>6</td>\n",
       "      <td>1</td>\n",
       "    </tr>\n",
       "    <tr>\n",
       "      <th>7</th>\n",
       "      <td>8</td>\n",
       "      <td>8</td>\n",
       "      <td>1</td>\n",
       "    </tr>\n",
       "    <tr>\n",
       "      <th>8</th>\n",
       "      <td>9</td>\n",
       "      <td>1</td>\n",
       "      <td>1</td>\n",
       "    </tr>\n",
       "    <tr>\n",
       "      <th>9</th>\n",
       "      <td>10</td>\n",
       "      <td>5</td>\n",
       "      <td>1</td>\n",
       "    </tr>\n",
       "    <tr>\n",
       "      <th>10</th>\n",
       "      <td>11</td>\n",
       "      <td>2</td>\n",
       "      <td>1</td>\n",
       "    </tr>\n",
       "    <tr>\n",
       "      <th>11</th>\n",
       "      <td>12</td>\n",
       "      <td>2</td>\n",
       "      <td>1</td>\n",
       "    </tr>\n",
       "    <tr>\n",
       "      <th>12</th>\n",
       "      <td>13</td>\n",
       "      <td>5</td>\n",
       "      <td>1</td>\n",
       "    </tr>\n",
       "    <tr>\n",
       "      <th>13</th>\n",
       "      <td>14</td>\n",
       "      <td>8</td>\n",
       "      <td>1</td>\n",
       "    </tr>\n",
       "    <tr>\n",
       "      <th>14</th>\n",
       "      <td>15</td>\n",
       "      <td>1</td>\n",
       "      <td>1</td>\n",
       "    </tr>\n",
       "  </tbody>\n",
       "</table>\n",
       "</div>"
      ],
      "text/plain": [
       "    Criança  Tempo  Status\n",
       "0         1      6       1\n",
       "1         2     12       1\n",
       "2         3     10       1\n",
       "3         4      3       1\n",
       "4         5      5       1\n",
       "5         6      1       1\n",
       "6         7      6       1\n",
       "7         8      8       1\n",
       "8         9      1       1\n",
       "9        10      5       1\n",
       "10       11      2       1\n",
       "11       12      2       1\n",
       "12       13      5       1\n",
       "13       14      8       1\n",
       "14       15      1       1"
      ]
     },
     "execution_count": 459,
     "metadata": {},
     "output_type": "execute_result"
    }
   ],
   "source": [
    "df = pd.DataFrame(np.array([6,12,10,3,5,1,6,8,1,5,2,2,5,8,1]))\n",
    "df = df.reset_index()\n",
    "df = df.rename(columns={0: 'Tempo', 'index':'Criança'})\n",
    "df['Status'] = 1\n",
    "df['Criança'] = df['Criança'] + 1\n",
    "df"
   ]
  },
  {
   "cell_type": "markdown",
   "metadata": {},
   "source": [
    "<a id='E2.1.a'></a>\n",
    "#### d)E pelo processo de contagem?"
   ]
  },
  {
   "cell_type": "code",
   "execution_count": 460,
   "metadata": {},
   "outputs": [
    {
     "data": {
      "text/html": [
       "<div>\n",
       "<style scoped>\n",
       "    .dataframe tbody tr th:only-of-type {\n",
       "        vertical-align: middle;\n",
       "    }\n",
       "\n",
       "    .dataframe tbody tr th {\n",
       "        vertical-align: top;\n",
       "    }\n",
       "\n",
       "    .dataframe thead th {\n",
       "        text-align: right;\n",
       "    }\n",
       "</style>\n",
       "<table border=\"1\" class=\"dataframe\">\n",
       "  <thead>\n",
       "    <tr style=\"text-align: right;\">\n",
       "      <th></th>\n",
       "      <th>Criança</th>\n",
       "      <th>Tempo Inicial</th>\n",
       "      <th>Tempo Final</th>\n",
       "      <th>Status</th>\n",
       "    </tr>\n",
       "  </thead>\n",
       "  <tbody>\n",
       "    <tr>\n",
       "      <th>0</th>\n",
       "      <td>1</td>\n",
       "      <td>0</td>\n",
       "      <td>6</td>\n",
       "      <td>1</td>\n",
       "    </tr>\n",
       "    <tr>\n",
       "      <th>1</th>\n",
       "      <td>2</td>\n",
       "      <td>0</td>\n",
       "      <td>12</td>\n",
       "      <td>1</td>\n",
       "    </tr>\n",
       "    <tr>\n",
       "      <th>2</th>\n",
       "      <td>3</td>\n",
       "      <td>0</td>\n",
       "      <td>10</td>\n",
       "      <td>1</td>\n",
       "    </tr>\n",
       "    <tr>\n",
       "      <th>3</th>\n",
       "      <td>4</td>\n",
       "      <td>0</td>\n",
       "      <td>3</td>\n",
       "      <td>1</td>\n",
       "    </tr>\n",
       "    <tr>\n",
       "      <th>4</th>\n",
       "      <td>5</td>\n",
       "      <td>0</td>\n",
       "      <td>5</td>\n",
       "      <td>1</td>\n",
       "    </tr>\n",
       "    <tr>\n",
       "      <th>5</th>\n",
       "      <td>6</td>\n",
       "      <td>0</td>\n",
       "      <td>1</td>\n",
       "      <td>1</td>\n",
       "    </tr>\n",
       "    <tr>\n",
       "      <th>6</th>\n",
       "      <td>7</td>\n",
       "      <td>0</td>\n",
       "      <td>6</td>\n",
       "      <td>1</td>\n",
       "    </tr>\n",
       "    <tr>\n",
       "      <th>7</th>\n",
       "      <td>8</td>\n",
       "      <td>0</td>\n",
       "      <td>8</td>\n",
       "      <td>1</td>\n",
       "    </tr>\n",
       "    <tr>\n",
       "      <th>8</th>\n",
       "      <td>9</td>\n",
       "      <td>0</td>\n",
       "      <td>1</td>\n",
       "      <td>1</td>\n",
       "    </tr>\n",
       "    <tr>\n",
       "      <th>9</th>\n",
       "      <td>10</td>\n",
       "      <td>0</td>\n",
       "      <td>5</td>\n",
       "      <td>1</td>\n",
       "    </tr>\n",
       "    <tr>\n",
       "      <th>10</th>\n",
       "      <td>11</td>\n",
       "      <td>0</td>\n",
       "      <td>2</td>\n",
       "      <td>1</td>\n",
       "    </tr>\n",
       "    <tr>\n",
       "      <th>11</th>\n",
       "      <td>12</td>\n",
       "      <td>0</td>\n",
       "      <td>2</td>\n",
       "      <td>1</td>\n",
       "    </tr>\n",
       "    <tr>\n",
       "      <th>12</th>\n",
       "      <td>13</td>\n",
       "      <td>0</td>\n",
       "      <td>5</td>\n",
       "      <td>1</td>\n",
       "    </tr>\n",
       "    <tr>\n",
       "      <th>13</th>\n",
       "      <td>14</td>\n",
       "      <td>0</td>\n",
       "      <td>8</td>\n",
       "      <td>1</td>\n",
       "    </tr>\n",
       "    <tr>\n",
       "      <th>14</th>\n",
       "      <td>15</td>\n",
       "      <td>0</td>\n",
       "      <td>1</td>\n",
       "      <td>1</td>\n",
       "    </tr>\n",
       "  </tbody>\n",
       "</table>\n",
       "</div>"
      ],
      "text/plain": [
       "    Criança  Tempo Inicial  Tempo Final  Status\n",
       "0         1              0            6       1\n",
       "1         2              0           12       1\n",
       "2         3              0           10       1\n",
       "3         4              0            3       1\n",
       "4         5              0            5       1\n",
       "5         6              0            1       1\n",
       "6         7              0            6       1\n",
       "7         8              0            8       1\n",
       "8         9              0            1       1\n",
       "9        10              0            5       1\n",
       "10       11              0            2       1\n",
       "11       12              0            2       1\n",
       "12       13              0            5       1\n",
       "13       14              0            8       1\n",
       "14       15              0            1       1"
      ]
     },
     "execution_count": 460,
     "metadata": {},
     "output_type": "execute_result"
    }
   ],
   "source": [
    "df = pd.DataFrame(np.array([6,12,10,3,5,1,6,8,1,5,2,2,5,8,1]))\n",
    "df['Tempo Inicial'] = 0\n",
    "df = df[['Tempo Inicial', 0]]\n",
    "df = df.reset_index()\n",
    "df = df.rename(columns={0: 'Tempo Final', 'index':'Criança'})\n",
    "df['Status'] = 1\n",
    "df['Criança'] = df['Criança'] + 1\n",
    "df"
   ]
  },
  {
   "cell_type": "markdown",
   "metadata": {},
   "source": [
    "## Exercício 2.2  <a id='Exercicio2.2'></a>\n",
    "\n",
    "Considere agora o tempo de sobrevivência de 15 pacientes submetidos à hemodiálise. Neste caso, a variável de interesse  é  o  tempo  desde  a  primeira diálise até o óbito (em meses).\n",
    "\n",
    "2, 4, 29+, 6+, 3, 1, 1, 2, 3, 9+, 10, 11, 5+, 5, 1\n",
    "\n",
    "Os tempos censurados (censura a direita) estão indicados pelo sinal de +.\n",
    "\n",
    "Considere  que todos os pacientes entraram juntos no início do estudo.\n",
    "\n",
    "* [**a) Represente graficamente os tempos de observação dos pacientes, utilizando a notação clássica.**](#E2.2.a)\n",
    "* [**b) Represente as trajetórias dos primeiros cinco indivíduos utilizando as variáveis N(t) e Y (t) do processo de contagem.**](#E2.2.b)\n",
    "* [**c) Construa um banco de dados para analisar esses dados pelo processo clássico.**](#E2.2.c)\n",
    "* [**d) Reconstrua o banco de dados, na formas de processo de contagem, considerando que esta  é  uma  coorte  aberta  e  as  datas  de  início  de  observação  de  cada  paciente  são dadas na tabela abaixo**](#E2.2.d)\n"
   ]
  },
  {
   "cell_type": "markdown",
   "metadata": {},
   "source": [
    "<a id='E2.2.a'></a>\n",
    "#### a) Represente graficamente os tempos de observação dos pacientes, utilizando a notação clássica."
   ]
  },
  {
   "cell_type": "code",
   "execution_count": 617,
   "metadata": {},
   "outputs": [
    {
     "name": "stdout",
     "output_type": "stream",
     "text": [
      "Tempo de vida observado: \n",
      " [ 2  4 29  6  3  1  1  2  3  9 10 11  5  5  1] \n",
      "\n"
     ]
    },
    {
     "data": {
      "image/png": "[encoded data removed]",
      "text/plain": [
       "<Figure size 720x432 with 1 Axes>"
      ]
     },
     "metadata": {
      "needs_background": "light"
     },
     "output_type": "display_data"
    }
   ],
   "source": [
    "# Dados de sobrevivência\n",
    "entry_individual = np.zeros(15, dtype=np.int)\n",
    "actual_lifetimes = np.array([2, 4, 29, 6, 3, 1, 1, 2, 3, 9, 10, 11, 5, 5, 1])\n",
    "censured = np.array([1,1,0,0,1,1,1,1,1,0,1,1,0,1,1])\n",
    "current_time = max(actual_lifetimes) + 1  #This variable defines the time window\n",
    "\n",
    "# Função que gera gráfico de tempo de sobrevivência\n",
    "linha_do_tempo (entry_individual, actual_lifetimes, current_time, censured, \"Meses\", \"Pacientes\", \"Óbito\", 10, 6)\n"
   ]
  },
  {
   "cell_type": "markdown",
   "metadata": {},
   "source": [
    "<a id='E2.2.b'></a>\n",
    "#### b) Represente as trajetórias dos primeiros cinco indivíduos utilizando as variáveis N(t) e Y (t) do processo de contagem.."
   ]
  },
  {
   "cell_type": "code",
   "execution_count": 608,
   "metadata": {},
   "outputs": [
    {
     "name": "stdout",
     "output_type": "stream",
     "text": [
      "Indivíduo: 1, Trajetória de Sobrevivência: 2.\n"
     ]
    },
    {
     "data": {
      "image/png": "[encoded data removed]",
      "text/plain": [
       "<Figure size 432x216 with 1 Axes>"
      ]
     },
     "metadata": {
      "needs_background": "light"
     },
     "output_type": "display_data"
    },
    {
     "name": "stdout",
     "output_type": "stream",
     "text": [
      "Indivíduo: 2, Trajetória de Sobrevivência: 4.\n"
     ]
    },
    {
     "data": {
      "image/png": "[encoded data removed]",
      "text/plain": [
       "<Figure size 432x216 with 1 Axes>"
      ]
     },
     "metadata": {
      "needs_background": "light"
     },
     "output_type": "display_data"
    },
    {
     "name": "stdout",
     "output_type": "stream",
     "text": [
      "Indivíduo: 3, Trajetória de Sobrevivência: 29.\n"
     ]
    },
    {
     "data": {
      "image/png": "[encoded data removed]",
      "text/plain": [
       "<Figure size 432x216 with 1 Axes>"
      ]
     },
     "metadata": {
      "needs_background": "light"
     },
     "output_type": "display_data"
    },
    {
     "name": "stdout",
     "output_type": "stream",
     "text": [
      "Indivíduo: 4, Trajetória de Sobrevivência: 6.\n"
     ]
    },
    {
     "data": {
      "image/png": "[encoded data removed]",
      "text/plain": [
       "<Figure size 432x216 with 1 Axes>"
      ]
     },
     "metadata": {
      "needs_background": "light"
     },
     "output_type": "display_data"
    },
    {
     "name": "stdout",
     "output_type": "stream",
     "text": [
      "Indivíduo: 5, Trajetória de Sobrevivência: 3.\n"
     ]
    },
    {
     "data": {
      "image/png": "[encoded data removed]",
      "text/plain": [
       "<Figure size 432x216 with 1 Axes>"
      ]
     },
     "metadata": {
      "needs_background": "light"
     },
     "output_type": "display_data"
    },
    {
     "name": "stdout",
     "output_type": "stream",
     "text": [
      "Indivíduo: 6, Trajetória de Sobrevivência: 1.\n"
     ]
    },
    {
     "data": {
      "image/png": "[encoded data removed]",
      "text/plain": [
       "<Figure size 432x216 with 1 Axes>"
      ]
     },
     "metadata": {
      "needs_background": "light"
     },
     "output_type": "display_data"
    },
    {
     "name": "stdout",
     "output_type": "stream",
     "text": [
      "Indivíduo: 7, Trajetória de Sobrevivência: 1.\n"
     ]
    },
    {
     "data": {
      "image/png": "[encoded data removed]",
      "text/plain": [
       "<Figure size 432x216 with 1 Axes>"
      ]
     },
     "metadata": {
      "needs_background": "light"
     },
     "output_type": "display_data"
    },
    {
     "name": "stdout",
     "output_type": "stream",
     "text": [
      "Indivíduo: 8, Trajetória de Sobrevivência: 2.\n"
     ]
    },
    {
     "data": {
      "image/png": "[encoded data removed]",
      "text/plain": [
       "<Figure size 432x216 with 1 Axes>"
      ]
     },
     "metadata": {
      "needs_background": "light"
     },
     "output_type": "display_data"
    },
    {
     "name": "stdout",
     "output_type": "stream",
     "text": [
      "Indivíduo: 9, Trajetória de Sobrevivência: 3.\n"
     ]
    },
    {
     "data": {
      "image/png": "[encoded data removed]",
      "text/plain": [
       "<Figure size 432x216 with 1 Axes>"
      ]
     },
     "metadata": {
      "needs_background": "light"
     },
     "output_type": "display_data"
    },
    {
     "name": "stdout",
     "output_type": "stream",
     "text": [
      "Indivíduo: 10, Trajetória de Sobrevivência: 9.\n"
     ]
    },
    {
     "data": {
      "image/png": "[encoded data removed]",
      "text/plain": [
       "<Figure size 432x216 with 1 Axes>"
      ]
     },
     "metadata": {
      "needs_background": "light"
     },
     "output_type": "display_data"
    },
    {
     "name": "stdout",
     "output_type": "stream",
     "text": [
      "Indivíduo: 11, Trajetória de Sobrevivência: 10.\n"
     ]
    },
    {
     "data": {
      "image/png": "[encoded data removed]",
      "text/plain": [
       "<Figure size 432x216 with 1 Axes>"
      ]
     },
     "metadata": {
      "needs_background": "light"
     },
     "output_type": "display_data"
    },
    {
     "name": "stdout",
     "output_type": "stream",
     "text": [
      "Indivíduo: 12, Trajetória de Sobrevivência: 11.\n"
     ]
    },
    {
     "data": {
      "image/png": "[encoded data removed]",
      "text/plain": [
       "<Figure size 432x216 with 1 Axes>"
      ]
     },
     "metadata": {
      "needs_background": "light"
     },
     "output_type": "display_data"
    },
    {
     "name": "stdout",
     "output_type": "stream",
     "text": [
      "Indivíduo: 13, Trajetória de Sobrevivência: 5.\n"
     ]
    },
    {
     "data": {
      "image/png": "[encoded data removed]",
      "text/plain": [
       "<Figure size 432x216 with 1 Axes>"
      ]
     },
     "metadata": {
      "needs_background": "light"
     },
     "output_type": "display_data"
    },
    {
     "name": "stdout",
     "output_type": "stream",
     "text": [
      "Indivíduo: 14, Trajetória de Sobrevivência: 5.\n"
     ]
    },
    {
     "data": {
      "image/png": "[encoded data removed]",
      "text/plain": [
       "<Figure size 432x216 with 1 Axes>"
      ]
     },
     "metadata": {
      "needs_background": "light"
     },
     "output_type": "display_data"
    },
    {
     "name": "stdout",
     "output_type": "stream",
     "text": [
      "Indivíduo: 15, Trajetória de Sobrevivência: 1.\n"
     ]
    },
    {
     "data": {
      "image/png": "[encoded data removed]",
      "text/plain": [
       "<Figure size 432x216 with 1 Axes>"
      ]
     },
     "metadata": {
      "needs_background": "light"
     },
     "output_type": "display_data"
    }
   ],
   "source": [
    "entry_individual = np.zeros(15, dtype=np.int)\n",
    "original_lifetimes = np.array([2, 4, 29, 6, 3, 1, 1, 2, 3, 9, 10, 11, 5, 5, 1])\n",
    "censured = np.array([1,1,0,0,1,1,1,1,1,0,1,1,0,1,1])\n",
    "\n",
    "tragetoria(entry_individual, original_lifetimes, censured, \"Meses\")\n"
   ]
  },
  {
   "cell_type": "markdown",
   "metadata": {},
   "source": [
    "<a id='E2.2.c'></a>\n",
    "#### c) Construa um banco de dados para analisar esses dados pelo processo clássico."
   ]
  },
  {
   "cell_type": "code",
   "execution_count": 482,
   "metadata": {},
   "outputs": [
    {
     "data": {
      "text/html": [
       "<div>\n",
       "<style scoped>\n",
       "    .dataframe tbody tr th:only-of-type {\n",
       "        vertical-align: middle;\n",
       "    }\n",
       "\n",
       "    .dataframe tbody tr th {\n",
       "        vertical-align: top;\n",
       "    }\n",
       "\n",
       "    .dataframe thead th {\n",
       "        text-align: right;\n",
       "    }\n",
       "</style>\n",
       "<table border=\"1\" class=\"dataframe\">\n",
       "  <thead>\n",
       "    <tr style=\"text-align: right;\">\n",
       "      <th></th>\n",
       "      <th>Paciente</th>\n",
       "      <th>Tempo</th>\n",
       "      <th>Status</th>\n",
       "    </tr>\n",
       "  </thead>\n",
       "  <tbody>\n",
       "    <tr>\n",
       "      <th>0</th>\n",
       "      <td>1</td>\n",
       "      <td>2</td>\n",
       "      <td>1</td>\n",
       "    </tr>\n",
       "    <tr>\n",
       "      <th>1</th>\n",
       "      <td>2</td>\n",
       "      <td>4</td>\n",
       "      <td>1</td>\n",
       "    </tr>\n",
       "    <tr>\n",
       "      <th>2</th>\n",
       "      <td>3</td>\n",
       "      <td>29</td>\n",
       "      <td>0</td>\n",
       "    </tr>\n",
       "    <tr>\n",
       "      <th>3</th>\n",
       "      <td>4</td>\n",
       "      <td>6</td>\n",
       "      <td>0</td>\n",
       "    </tr>\n",
       "    <tr>\n",
       "      <th>4</th>\n",
       "      <td>5</td>\n",
       "      <td>3</td>\n",
       "      <td>1</td>\n",
       "    </tr>\n",
       "    <tr>\n",
       "      <th>5</th>\n",
       "      <td>6</td>\n",
       "      <td>1</td>\n",
       "      <td>1</td>\n",
       "    </tr>\n",
       "    <tr>\n",
       "      <th>6</th>\n",
       "      <td>7</td>\n",
       "      <td>1</td>\n",
       "      <td>1</td>\n",
       "    </tr>\n",
       "    <tr>\n",
       "      <th>7</th>\n",
       "      <td>8</td>\n",
       "      <td>2</td>\n",
       "      <td>1</td>\n",
       "    </tr>\n",
       "    <tr>\n",
       "      <th>8</th>\n",
       "      <td>9</td>\n",
       "      <td>3</td>\n",
       "      <td>1</td>\n",
       "    </tr>\n",
       "    <tr>\n",
       "      <th>9</th>\n",
       "      <td>10</td>\n",
       "      <td>9</td>\n",
       "      <td>0</td>\n",
       "    </tr>\n",
       "    <tr>\n",
       "      <th>10</th>\n",
       "      <td>11</td>\n",
       "      <td>10</td>\n",
       "      <td>1</td>\n",
       "    </tr>\n",
       "    <tr>\n",
       "      <th>11</th>\n",
       "      <td>12</td>\n",
       "      <td>11</td>\n",
       "      <td>1</td>\n",
       "    </tr>\n",
       "    <tr>\n",
       "      <th>12</th>\n",
       "      <td>13</td>\n",
       "      <td>5</td>\n",
       "      <td>0</td>\n",
       "    </tr>\n",
       "    <tr>\n",
       "      <th>13</th>\n",
       "      <td>14</td>\n",
       "      <td>5</td>\n",
       "      <td>1</td>\n",
       "    </tr>\n",
       "    <tr>\n",
       "      <th>14</th>\n",
       "      <td>15</td>\n",
       "      <td>1</td>\n",
       "      <td>1</td>\n",
       "    </tr>\n",
       "  </tbody>\n",
       "</table>\n",
       "</div>"
      ],
      "text/plain": [
       "    Paciente  Tempo  Status\n",
       "0          1      2       1\n",
       "1          2      4       1\n",
       "2          3     29       0\n",
       "3          4      6       0\n",
       "4          5      3       1\n",
       "5          6      1       1\n",
       "6          7      1       1\n",
       "7          8      2       1\n",
       "8          9      3       1\n",
       "9         10      9       0\n",
       "10        11     10       1\n",
       "11        12     11       1\n",
       "12        13      5       0\n",
       "13        14      5       1\n",
       "14        15      1       1"
      ]
     },
     "execution_count": 482,
     "metadata": {},
     "output_type": "execute_result"
    }
   ],
   "source": [
    "df = pd.DataFrame(np.array([2, 4, 29, 6, 3, 1, 1, 2, 3, 9, 10, 11, 5, 5, 1]))\n",
    "df = df.reset_index()\n",
    "df = df.rename(columns={0: 'Tempo', 'index':'Paciente'})\n",
    "df['Status'] = np.array([1,1,0,0,1,1,1,1,1,0,1,1,0,1,1])\n",
    "df['Paciente'] = df['Paciente'] + 1\n",
    "df"
   ]
  },
  {
   "cell_type": "markdown",
   "metadata": {},
   "source": [
    "<a id='E2.2.d'></a>\n",
    "#### d) Reconstrua o banco de dados, na formas de processo de contagem, considerando que esta  é  uma  coorte  aberta  e  as  datas  de  início  de  observação  de  cada  paciente  são dadas na tabela abaixo."
   ]
  },
  {
   "cell_type": "code",
   "execution_count": 483,
   "metadata": {},
   "outputs": [
    {
     "data": {
      "text/html": [
       "<div>\n",
       "<style scoped>\n",
       "    .dataframe tbody tr th:only-of-type {\n",
       "        vertical-align: middle;\n",
       "    }\n",
       "\n",
       "    .dataframe tbody tr th {\n",
       "        vertical-align: top;\n",
       "    }\n",
       "\n",
       "    .dataframe thead th {\n",
       "        text-align: right;\n",
       "    }\n",
       "</style>\n",
       "<table border=\"1\" class=\"dataframe\">\n",
       "  <thead>\n",
       "    <tr style=\"text-align: right;\">\n",
       "      <th></th>\n",
       "      <th>Paciente</th>\n",
       "      <th>Tempo</th>\n",
       "      <th>Tempo Inicial</th>\n",
       "      <th>Tempo Final</th>\n",
       "      <th>Status</th>\n",
       "    </tr>\n",
       "  </thead>\n",
       "  <tbody>\n",
       "    <tr>\n",
       "      <th>0</th>\n",
       "      <td>1</td>\n",
       "      <td>2</td>\n",
       "      <td>0</td>\n",
       "      <td>2</td>\n",
       "      <td>1</td>\n",
       "    </tr>\n",
       "    <tr>\n",
       "      <th>1</th>\n",
       "      <td>2</td>\n",
       "      <td>4</td>\n",
       "      <td>1</td>\n",
       "      <td>5</td>\n",
       "      <td>1</td>\n",
       "    </tr>\n",
       "    <tr>\n",
       "      <th>2</th>\n",
       "      <td>3</td>\n",
       "      <td>29</td>\n",
       "      <td>12</td>\n",
       "      <td>41</td>\n",
       "      <td>0</td>\n",
       "    </tr>\n",
       "    <tr>\n",
       "      <th>3</th>\n",
       "      <td>4</td>\n",
       "      <td>6</td>\n",
       "      <td>3</td>\n",
       "      <td>9</td>\n",
       "      <td>0</td>\n",
       "    </tr>\n",
       "    <tr>\n",
       "      <th>4</th>\n",
       "      <td>5</td>\n",
       "      <td>3</td>\n",
       "      <td>1</td>\n",
       "      <td>4</td>\n",
       "      <td>1</td>\n",
       "    </tr>\n",
       "    <tr>\n",
       "      <th>5</th>\n",
       "      <td>6</td>\n",
       "      <td>1</td>\n",
       "      <td>7</td>\n",
       "      <td>8</td>\n",
       "      <td>1</td>\n",
       "    </tr>\n",
       "    <tr>\n",
       "      <th>6</th>\n",
       "      <td>7</td>\n",
       "      <td>1</td>\n",
       "      <td>0</td>\n",
       "      <td>1</td>\n",
       "      <td>1</td>\n",
       "    </tr>\n",
       "    <tr>\n",
       "      <th>7</th>\n",
       "      <td>8</td>\n",
       "      <td>2</td>\n",
       "      <td>1</td>\n",
       "      <td>3</td>\n",
       "      <td>1</td>\n",
       "    </tr>\n",
       "    <tr>\n",
       "      <th>8</th>\n",
       "      <td>9</td>\n",
       "      <td>3</td>\n",
       "      <td>1</td>\n",
       "      <td>4</td>\n",
       "      <td>1</td>\n",
       "    </tr>\n",
       "    <tr>\n",
       "      <th>9</th>\n",
       "      <td>10</td>\n",
       "      <td>9</td>\n",
       "      <td>3</td>\n",
       "      <td>12</td>\n",
       "      <td>0</td>\n",
       "    </tr>\n",
       "    <tr>\n",
       "      <th>10</th>\n",
       "      <td>11</td>\n",
       "      <td>10</td>\n",
       "      <td>12</td>\n",
       "      <td>22</td>\n",
       "      <td>1</td>\n",
       "    </tr>\n",
       "    <tr>\n",
       "      <th>11</th>\n",
       "      <td>12</td>\n",
       "      <td>11</td>\n",
       "      <td>4</td>\n",
       "      <td>15</td>\n",
       "      <td>1</td>\n",
       "    </tr>\n",
       "    <tr>\n",
       "      <th>12</th>\n",
       "      <td>13</td>\n",
       "      <td>5</td>\n",
       "      <td>4</td>\n",
       "      <td>9</td>\n",
       "      <td>0</td>\n",
       "    </tr>\n",
       "    <tr>\n",
       "      <th>13</th>\n",
       "      <td>14</td>\n",
       "      <td>5</td>\n",
       "      <td>1</td>\n",
       "      <td>6</td>\n",
       "      <td>1</td>\n",
       "    </tr>\n",
       "    <tr>\n",
       "      <th>14</th>\n",
       "      <td>15</td>\n",
       "      <td>1</td>\n",
       "      <td>22</td>\n",
       "      <td>23</td>\n",
       "      <td>1</td>\n",
       "    </tr>\n",
       "  </tbody>\n",
       "</table>\n",
       "</div>"
      ],
      "text/plain": [
       "    Paciente  Tempo  Tempo Inicial  Tempo Final  Status\n",
       "0          1      2              0            2       1\n",
       "1          2      4              1            5       1\n",
       "2          3     29             12           41       0\n",
       "3          4      6              3            9       0\n",
       "4          5      3              1            4       1\n",
       "5          6      1              7            8       1\n",
       "6          7      1              0            1       1\n",
       "7          8      2              1            3       1\n",
       "8          9      3              1            4       1\n",
       "9         10      9              3           12       0\n",
       "10        11     10             12           22       1\n",
       "11        12     11              4           15       1\n",
       "12        13      5              4            9       0\n",
       "13        14      5              1            6       1\n",
       "14        15      1             22           23       1"
      ]
     },
     "execution_count": 483,
     "metadata": {},
     "output_type": "execute_result"
    }
   ],
   "source": [
    "df = pd.DataFrame(np.array([2, 4, 29, 6, 3, 1, 1, 2, 3, 9, 10, 11, 5, 5, 1]))\n",
    "df['Tempo Inicial'] = np.array([0, 1, 12, 3, 1, 7, 0, 1, 1, 3, 12, 4, 4, 1, 22])\n",
    "df = df.reset_index()\n",
    "df = df.rename(columns={0: 'Tempo', 'index':'Paciente'})\n",
    "df['Paciente'] = df['Paciente'] + 1\n",
    "df['Tempo Final'] = df['Tempo Inicial'] + df['Tempo']\n",
    "df['Status'] = np.array([1,1,0,0,1,1,1,1,1,0,1,1,0,1,1])\n",
    "df"
   ]
  },
  {
   "cell_type": "markdown",
   "metadata": {},
   "source": [
    "## Exercício 2.3  <a id='Exercicio2.3'></a>\n",
    "\n",
    "Suponha que, em um hospital, 6 pacientes HIV positivo são acompanhados ao longo  de  um  ano.\n",
    "\n",
    "No  gráfico  abaixo,  as  linhas  horizontais  representam  o  tempo  de acompanhamento  de  cada  paciente. Represente,  utilizando  as variáveis N(t) e Y (t), as trajetórias de cada um dos 6 pacientes.\n"
   ]
  },
  {
   "cell_type": "code",
   "execution_count": 618,
   "metadata": {},
   "outputs": [
    {
     "name": "stdout",
     "output_type": "stream",
     "text": [
      "Tempo de vida observado: \n",
      " [ 9  6  3 12  6  4] \n",
      "\n"
     ]
    },
    {
     "data": {
      "image/png": "[encoded data removed]",
      "text/plain": [
       "<Figure size 576x432 with 1 Axes>"
      ]
     },
     "metadata": {
      "needs_background": "light"
     },
     "output_type": "display_data"
    }
   ],
   "source": [
    "# Dados de sobrevivência\n",
    "entry_individual = np.array([3,0,5,0,6,3])\n",
    "actual_lifetimes = np.array([9,6,3,12,6,4])\n",
    "censured = np.array([0,1,0,0,0,1])\n",
    "current_time = max(actual_lifetimes) + 1  #This variable defines the time window\n",
    "\n",
    "# Função que gera gráfico de tempo de sobrevivência\n",
    "linha_do_tempo (entry_individual, actual_lifetimes, current_time, censured, \"Meses\", \"Pacientes\", \"Óbito por HIV\", 8, 6)"
   ]
  },
  {
   "cell_type": "code",
   "execution_count": 619,
   "metadata": {},
   "outputs": [
    {
     "ename": "TypeError",
     "evalue": "'numpy.int64' object is not iterable",
     "output_type": "error",
     "traceback": [
      "\u001b[0;31m---------------------------------------------------------------------------\u001b[0m",
      "\u001b[0;31mTypeError\u001b[0m                                 Traceback (most recent call last)",
      "\u001b[0;32m<ipython-input-619-c91c7294f2aa>\u001b[0m in \u001b[0;36m<module>\u001b[0;34m\u001b[0m\n\u001b[0;32m----> 1\u001b[0;31m \u001b[0mtragetoria\u001b[0m\u001b[0;34m(\u001b[0m\u001b[0mentry_individual\u001b[0m\u001b[0;34m,\u001b[0m \u001b[0moriginal_lifetimes\u001b[0m\u001b[0;34m,\u001b[0m \u001b[0mcensured\u001b[0m\u001b[0;34m,\u001b[0m \u001b[0;34m\"Meses\"\u001b[0m\u001b[0;34m)\u001b[0m\u001b[0;34m\u001b[0m\u001b[0;34m\u001b[0m\u001b[0m\n\u001b[0m",
      "\u001b[0;32m<ipython-input-614-7df8c548d0ea>\u001b[0m in \u001b[0;36mtragetoria\u001b[0;34m(p_entry_individual, p_lifetimes, p_censured, p_time_unit)\u001b[0m\n\u001b[1;32m      4\u001b[0m     \u001b[0mtotal_individuals\u001b[0m \u001b[0;34m=\u001b[0m \u001b[0mmax\u001b[0m\u001b[0;34m(\u001b[0m\u001b[0mp_lifetimes\u001b[0m\u001b[0;34m)\u001b[0m\u001b[0;34m\u001b[0m\u001b[0;34m\u001b[0m\u001b[0m\n\u001b[1;32m      5\u001b[0m \u001b[0;34m\u001b[0m\u001b[0m\n\u001b[0;32m----> 6\u001b[0;31m     \u001b[0;32mfor\u001b[0m \u001b[0mindividual\u001b[0m \u001b[0;32min\u001b[0m \u001b[0mtotal_individuals\u001b[0m\u001b[0;34m:\u001b[0m\u001b[0;34m\u001b[0m\u001b[0;34m\u001b[0m\u001b[0m\n\u001b[0m\u001b[1;32m      7\u001b[0m         \u001b[0mentrytime\u001b[0m \u001b[0;34m=\u001b[0m \u001b[0mp_entry_individual\u001b[0m\u001b[0;34m[\u001b[0m\u001b[0mindividual\u001b[0m\u001b[0;34m]\u001b[0m\u001b[0;34m\u001b[0m\u001b[0;34m\u001b[0m\u001b[0m\n\u001b[1;32m      8\u001b[0m         \u001b[0mlifetime\u001b[0m \u001b[0;34m=\u001b[0m \u001b[0mp_lifetimes\u001b[0m\u001b[0;34m[\u001b[0m\u001b[0mindividual\u001b[0m\u001b[0;34m]\u001b[0m\u001b[0;34m\u001b[0m\u001b[0;34m\u001b[0m\u001b[0m\n",
      "\u001b[0;31mTypeError\u001b[0m: 'numpy.int64' object is not iterable"
     ]
    }
   ],
   "source": [
    "tragetoria(entry_individual, original_lifetimes, censured, \"Meses\")"
   ]
  }
 ],
 "metadata": {
  "kernelspec": {
   "display_name": "Python 3",
   "language": "python",
   "name": "python3"
  },
  "language_info": {
   "codemirror_mode": {
    "name": "ipython",
    "version": 3
   },
   "file_extension": ".py",
   "mimetype": "text/x-python",
   "name": "python",
   "nbconvert_exporter": "python",
   "pygments_lexer": "ipython3",
   "version": "3.7.3"
  }
 },
 "nbformat": 4,
 "nbformat_minor": 2
}
