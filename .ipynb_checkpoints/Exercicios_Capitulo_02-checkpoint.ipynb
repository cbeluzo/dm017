{
 "cells": [
  {
   "cell_type": "markdown",
   "metadata": {},
   "source": [
    "## ANÁLISE DE SOBREVIVÊNCIA\n",
    "### Teoria e aplicações em saúde\n",
    "#### Capítulo 2: O tempo na análise de sobrevivência\n",
    "#### Exercícios Resolvidos\n",
    "###### **Autor: Carlos Ed Beluzo - cbeluzo@gmail.com**\n",
    "\n",
    "## Tópicos:\n",
    "\n",
    "* [Importação de bibliotecas e leitura do arquivco CSV](#import)\n",
    "* [Funções](#functions)\n",
    "* [Exercício 2.1](#Exercicio2.1)\n",
    "* [Exercício 2.2](#Exercicio2.2)\n"
   ]
  },
  {
   "cell_type": "markdown",
   "metadata": {},
   "source": [
    "**Importação de bibliotecas e leitura do arquivco CSV** <a id='imports'></a>"
   ]
  },
  {
   "cell_type": "code",
   "execution_count": 1,
   "metadata": {},
   "outputs": [
    {
     "data": {
      "text/html": [
       "<div>\n",
       "<style scoped>\n",
       "    .dataframe tbody tr th:only-of-type {\n",
       "        vertical-align: middle;\n",
       "    }\n",
       "\n",
       "    .dataframe tbody tr th {\n",
       "        vertical-align: top;\n",
       "    }\n",
       "\n",
       "    .dataframe thead th {\n",
       "        text-align: right;\n",
       "    }\n",
       "</style>\n",
       "<table border=\"1\" class=\"dataframe\">\n",
       "  <thead>\n",
       "    <tr style=\"text-align: right;\">\n",
       "      <th></th>\n",
       "      <th>id</th>\n",
       "      <th>ini</th>\n",
       "      <th>fim</th>\n",
       "      <th>tempo</th>\n",
       "      <th>status</th>\n",
       "      <th>idade</th>\n",
       "      <th>acompan</th>\n",
       "      <th>anotrat</th>\n",
       "      <th>tratam</th>\n",
       "      <th>doenca</th>\n",
       "      <th>propcp</th>\n",
       "    </tr>\n",
       "  </thead>\n",
       "  <tbody>\n",
       "    <tr>\n",
       "      <th>count</th>\n",
       "      <td>193.000000</td>\n",
       "      <td>193.000000</td>\n",
       "      <td>193.000000</td>\n",
       "      <td>193.000000</td>\n",
       "      <td>193.000000</td>\n",
       "      <td>193.000000</td>\n",
       "      <td>193.000000</td>\n",
       "      <td>193.000000</td>\n",
       "      <td>193.000000</td>\n",
       "      <td>193.000000</td>\n",
       "      <td>193.000000</td>\n",
       "    </tr>\n",
       "    <tr>\n",
       "      <th>mean</th>\n",
       "      <td>97.000000</td>\n",
       "      <td>2396.922280</td>\n",
       "      <td>3335.160622</td>\n",
       "      <td>938.238342</td>\n",
       "      <td>0.466321</td>\n",
       "      <td>36.554404</td>\n",
       "      <td>0.896373</td>\n",
       "      <td>1542.005181</td>\n",
       "      <td>1.098446</td>\n",
       "      <td>37.958549</td>\n",
       "      <td>2.948187</td>\n",
       "    </tr>\n",
       "    <tr>\n",
       "      <th>std</th>\n",
       "      <td>55.858452</td>\n",
       "      <td>1216.918778</td>\n",
       "      <td>1501.300776</td>\n",
       "      <td>770.741415</td>\n",
       "      <td>0.500162</td>\n",
       "      <td>9.508680</td>\n",
       "      <td>0.691946</td>\n",
       "      <td>835.230679</td>\n",
       "      <td>0.832696</td>\n",
       "      <td>44.700489</td>\n",
       "      <td>1.603190</td>\n",
       "    </tr>\n",
       "    <tr>\n",
       "      <th>min</th>\n",
       "      <td>1.000000</td>\n",
       "      <td>1.000000</td>\n",
       "      <td>96.000000</td>\n",
       "      <td>16.000000</td>\n",
       "      <td>0.000000</td>\n",
       "      <td>20.000000</td>\n",
       "      <td>0.000000</td>\n",
       "      <td>9.000000</td>\n",
       "      <td>0.000000</td>\n",
       "      <td>1.000000</td>\n",
       "      <td>0.000000</td>\n",
       "    </tr>\n",
       "    <tr>\n",
       "      <th>25%</th>\n",
       "      <td>49.000000</td>\n",
       "      <td>1406.000000</td>\n",
       "      <td>2095.000000</td>\n",
       "      <td>290.000000</td>\n",
       "      <td>0.000000</td>\n",
       "      <td>30.000000</td>\n",
       "      <td>0.000000</td>\n",
       "      <td>1990.000000</td>\n",
       "      <td>1.000000</td>\n",
       "      <td>3.000000</td>\n",
       "      <td>2.000000</td>\n",
       "    </tr>\n",
       "    <tr>\n",
       "      <th>50%</th>\n",
       "      <td>97.000000</td>\n",
       "      <td>2454.000000</td>\n",
       "      <td>3711.000000</td>\n",
       "      <td>852.000000</td>\n",
       "      <td>0.000000</td>\n",
       "      <td>35.000000</td>\n",
       "      <td>1.000000</td>\n",
       "      <td>1993.000000</td>\n",
       "      <td>1.000000</td>\n",
       "      <td>8.000000</td>\n",
       "      <td>4.000000</td>\n",
       "    </tr>\n",
       "    <tr>\n",
       "      <th>75%</th>\n",
       "      <td>145.000000</td>\n",
       "      <td>3314.000000</td>\n",
       "      <td>4790.000000</td>\n",
       "      <td>1348.000000</td>\n",
       "      <td>1.000000</td>\n",
       "      <td>43.000000</td>\n",
       "      <td>1.000000</td>\n",
       "      <td>1996.000000</td>\n",
       "      <td>2.000000</td>\n",
       "      <td>99.000000</td>\n",
       "      <td>4.000000</td>\n",
       "    </tr>\n",
       "    <tr>\n",
       "      <th>max</th>\n",
       "      <td>193.000000</td>\n",
       "      <td>4593.000000</td>\n",
       "      <td>4822.000000</td>\n",
       "      <td>3228.000000</td>\n",
       "      <td>1.000000</td>\n",
       "      <td>68.000000</td>\n",
       "      <td>2.000000</td>\n",
       "      <td>2000.000000</td>\n",
       "      <td>3.000000</td>\n",
       "      <td>99.000000</td>\n",
       "      <td>4.000000</td>\n",
       "    </tr>\n",
       "  </tbody>\n",
       "</table>\n",
       "</div>"
      ],
      "text/plain": [
       "               id          ini          fim        tempo      status  \\\n",
       "count  193.000000   193.000000   193.000000   193.000000  193.000000   \n",
       "mean    97.000000  2396.922280  3335.160622   938.238342    0.466321   \n",
       "std     55.858452  1216.918778  1501.300776   770.741415    0.500162   \n",
       "min      1.000000     1.000000    96.000000    16.000000    0.000000   \n",
       "25%     49.000000  1406.000000  2095.000000   290.000000    0.000000   \n",
       "50%     97.000000  2454.000000  3711.000000   852.000000    0.000000   \n",
       "75%    145.000000  3314.000000  4790.000000  1348.000000    1.000000   \n",
       "max    193.000000  4593.000000  4822.000000  3228.000000    1.000000   \n",
       "\n",
       "            idade     acompan      anotrat      tratam      doenca      propcp  \n",
       "count  193.000000  193.000000   193.000000  193.000000  193.000000  193.000000  \n",
       "mean    36.554404    0.896373  1542.005181    1.098446   37.958549    2.948187  \n",
       "std      9.508680    0.691946   835.230679    0.832696   44.700489    1.603190  \n",
       "min     20.000000    0.000000     9.000000    0.000000    1.000000    0.000000  \n",
       "25%     30.000000    0.000000  1990.000000    1.000000    3.000000    2.000000  \n",
       "50%     35.000000    1.000000  1993.000000    1.000000    8.000000    4.000000  \n",
       "75%     43.000000    1.000000  1996.000000    2.000000   99.000000    4.000000  \n",
       "max     68.000000    2.000000  2000.000000    3.000000   99.000000    4.000000  "
      ]
     },
     "execution_count": 1,
     "metadata": {},
     "output_type": "execute_result"
    }
   ],
   "source": [
    "import pandas as pd\n",
    "import numpy as np\n",
    "from lifelines.plotting import plot_lifetimes\n",
    "import matplotlib.pyplot as plt\n",
    "\n",
    "df = pd.read_csv('ipec.csv', sep=';').fillna('-1')\n",
    "df.describe()\n"
   ]
  },
  {
   "cell_type": "markdown",
   "metadata": {},
   "source": [
    "**Funções**  <a id='functions'></a>"
   ]
  },
  {
   "cell_type": "code",
   "execution_count": 195,
   "metadata": {},
   "outputs": [],
   "source": [
    "# Função que gera gráfico de tempo de sobrevivência\n",
    "def linha_do_tempo(p_entry_individual, p_actual_lifetimes, p_current_time, p_time_unit, p_person_type, p_title):\n",
    "    observed_lifetimes = np.minimum(p_actual_lifetimes, p_current_time)\n",
    "    death_observed = p_actual_lifetimes < p_current_time\n",
    "\n",
    "    fig = plt.figure(figsize=(8,6))\n",
    "    ax = plot_lifetimes(durations = observed_lifetimes,\n",
    "                        event_observed = death_observed,\n",
    "                        entry = p_entry_individual,\n",
    "                        left_truncated = True,\n",
    "                        sort_by_duration = False,\n",
    "                        event_observed_color = \"b\",\n",
    "                        event_censored_color = \"r\",\n",
    "                       )\n",
    "\n",
    "    ax.vlines(p_current_time, 0, len(p_actual_lifetimes), lw=1, linestyles='--')\n",
    "    ax.set_xlim(-0.5, max(p_actual_lifetimes)+1)\n",
    "    ax.set_xticks(np.array(range(0,max(p_actual_lifetimes)+1)))\n",
    "    ax.set_yticks(np.array(range(0,len(p_actual_lifetimes))))\n",
    "    ax.set_xlabel(p_time_unit, fontsize=12)\n",
    "    ax.set_ylabel(p_person_type, fontsize=12)\n",
    "    ax.set_title(p_title, fontsize=16)\n",
    "    plt.scatter(observed_lifetimes, np.array(range(0,len(p_actual_lifetimes))), marker=\"x\")\n",
    "\n",
    "    print(\"Tempo de vida observado: \\n\", observed_lifetimes, \"\\n\")"
   ]
  },
  {
   "cell_type": "code",
   "execution_count": 279,
   "metadata": {},
   "outputs": [],
   "source": [
    "# Função que gera gráfico de tragetória com variáveis N(t) e Y(t) do processo de contagem\n",
    "def tragetoria(p_lifetimes, p_time_unit):\n",
    "\n",
    "    individual = 0\n",
    "\n",
    "    for point in p_lifetimes:\n",
    "        individual = individual + 1\n",
    "        print(\"Indivíduo: %d, Trajetória de Sobrevivência: %d.\" %(individual,point))\n",
    "\n",
    "        fig, ax = plt.subplots(figsize=(6,3))\n",
    "        \n",
    "        line = ax.plot([0, point],[1, 1], color='b', linewidth=1)\n",
    "        line = ax.plot([point, max(original_lifetimes)],[.5, .5], color='r', linewidth=1)\n",
    "        #\n",
    "        line = ax.plot([0, point],[-1, -1],color='r', linewidth=1)\n",
    "        line = ax.plot([point, max(original_lifetimes)],[-.5, -.5],color='b', linewidth=1)\n",
    "\n",
    "        plt.scatter(point, 1, marker=\"o\",color='black')\n",
    "\n",
    "        if point < max(original_lifetimes):\n",
    "            ax.vlines(point, 0.5, 1, lw=1, linestyles='--')\n",
    "            ax.vlines(point, -0.5, -1, lw=1, linestyles='--')\n",
    "            plt.scatter(point, -0.5, marker=\"o\",color='black')\n",
    "\n",
    "        line = ax.plot([0, max(original_lifetimes)],[0, 0], color='black')\n",
    "\n",
    "        ax.set_yticklabels([\"\", \"\", \"0\",\"1\",\"\",\"\",\"\",\"\"],rotation=90)\n",
    "        ax.set_xticklabels([])\n",
    "        plt.text(point, -1.3, point, fontsize=10)\n",
    "        \n",
    "        ax.set_xlabel(p_time_unit, fontsize=14)\n",
    "        ax.set_xlim(-0.5, max(original_lifetimes)+ 0.5)\n",
    "        ax.xaxis.set_label_coords(0.5,-0.15)\n",
    "\n",
    "        ax.set_ylabel(\"  $N_{%d}(t)$     $Y_{%d}(t)$  \" %(individual,individual), fontsize=14)\n",
    "        \n",
    "        ax.set_title(\"$I_{%d}$ -> $T_{%d}=%d$\" %(individual,individual,point), fontsize=14)\n",
    "        plt.show()"
   ]
  },
  {
   "cell_type": "code",
   "execution_count": null,
   "metadata": {},
   "outputs": [],
   "source": []
  },
  {
   "cell_type": "markdown",
   "metadata": {},
   "source": [
    "## Exercício 2.1 <a id='Exercicio2.1'></a>\n",
    "\n",
    "O tempo de aleitamento, isto é, o tempo decorrido desde o nascimento até o desmame, pode ser considerado como uma variável tempo de sobrevivência. Suponha que o tempo  até  o  desmame,  em  meses,  tenha  sido  registrado  para  15  crianças  e  que  todas entraram no estudo no mesmo dia:\n",
    "\n",
    "Tempos de aleitamento: 6 12 10 3 5 1 6 8 1 5 2 2 5 8 1\n",
    "\n",
    "Considerando que não houve censura:\n",
    "\n",
    "* [**a) Represente graficamente os tempos de observação das 15 crianças.**](#E2.1.a)\n",
    "* [**b) Represente as trajetórias dos primeiros cinco indivíduos utilizando as variáveis N(t) e Y (t) do processo de contagem.**](#E2.1.b)\n",
    "* [**c) Como  você  construiria  um  banco  de  dados  para  analisar  estes  dados  pelo  processo clássico?**](#E2.1.c)\n",
    "* [**d)E pelo processo de contagem?**](#E2.1.d)"
   ]
  },
  {
   "cell_type": "markdown",
   "metadata": {},
   "source": [
    "<a id='E2.1.a'></a>\n",
    "#### a) Represente graficamente os tempos de observação das 15 crianças."
   ]
  },
  {
   "cell_type": "code",
   "execution_count": 208,
   "metadata": {},
   "outputs": [
    {
     "name": "stdout",
     "output_type": "stream",
     "text": [
      "Tempo de vida observado: \n",
      " [ 0  6 12 10  3  5  1  6  8  1  5  2  2  5  8  1] \n",
      "\n"
     ]
    },
    {
     "data": {
      "image/png": "[encoded data removed]",
      "text/plain": [
       "<Figure size 576x432 with 1 Axes>"
      ]
     },
     "metadata": {
      "needs_background": "light"
     },
     "output_type": "display_data"
    }
   ],
   "source": [
    "# Dados de sobrevivência\n",
    "entry_individual = np.array([0,0,0,0,0,0,0,0,0,0,0,0,0,0,0,0])\n",
    "actual_lifetimes = np.array([0,6,12,10,3,5,1,6,8,1,5,2,2,5,8,1])\n",
    "current_time = max(actual_lifetimes) + 1  #This variable defines the time window\n",
    "\n",
    "# Função que gera gráfico de tempo de sobrevivência\n",
    "linha_do_tempo (entry_individual, actual_lifetimes, current_time, \"Meses\", \"Crianças\", \"Tempo de Aleitamento\")\n"
   ]
  },
  {
   "cell_type": "markdown",
   "metadata": {},
   "source": [
    "<a id='E2.1.b'></a>\n",
    "#### b) Represente as trajetórias dos primeiros cinco indivíduos utilizando as variáveis N(t) e Y (t) do processo de contagem."
   ]
  },
  {
   "cell_type": "code",
   "execution_count": 280,
   "metadata": {},
   "outputs": [
    {
     "name": "stdout",
     "output_type": "stream",
     "text": [
      "Indivíduo: 1, Trajetória de Sobrevivência: 6.\n"
     ]
    },
    {
     "data": {
      "image/png": "[encoded data removed]",
      "text/plain": [
       "<Figure size 432x216 with 1 Axes>"
      ]
     },
     "metadata": {
      "needs_background": "light"
     },
     "output_type": "display_data"
    },
    {
     "name": "stdout",
     "output_type": "stream",
     "text": [
      "Indivíduo: 2, Trajetória de Sobrevivência: 12.\n"
     ]
    },
    {
     "data": {
      "image/png": "[encoded data removed]",
      "text/plain": [
       "<Figure size 432x216 with 1 Axes>"
      ]
     },
     "metadata": {
      "needs_background": "light"
     },
     "output_type": "display_data"
    },
    {
     "name": "stdout",
     "output_type": "stream",
     "text": [
      "Indivíduo: 3, Trajetória de Sobrevivência: 10.\n"
     ]
    },
    {
     "data": {
      "image/png": "[encoded data removed]",
      "text/plain": [
       "<Figure size 432x216 with 1 Axes>"
      ]
     },
     "metadata": {
      "needs_background": "light"
     },
     "output_type": "display_data"
    },
    {
     "name": "stdout",
     "output_type": "stream",
     "text": [
      "Indivíduo: 4, Trajetória de Sobrevivência: 3.\n"
     ]
    },
    {
     "data": {
      "image/png": "[encoded data removed]",
      "text/plain": [
       "<Figure size 432x216 with 1 Axes>"
      ]
     },
     "metadata": {
      "needs_background": "light"
     },
     "output_type": "display_data"
    },
    {
     "name": "stdout",
     "output_type": "stream",
     "text": [
      "Indivíduo: 5, Trajetória de Sobrevivência: 5.\n"
     ]
    },
    {
     "data": {
      "image/png": "[encoded data removed]",
      "text/plain": [
       "<Figure size 432x216 with 1 Axes>"
      ]
     },
     "metadata": {
      "needs_background": "light"
     },
     "output_type": "display_data"
    }
   ],
   "source": [
    "original_lifetimes = np.array([6,12,10,3,5])#,1,6,8,1,5,2,2,5,8,1])\n",
    "tragetoria(original_lifetimes, \"Meses\")\n"
   ]
  },
  {
   "cell_type": "markdown",
   "metadata": {},
   "source": [
    "<a id='E2.1.c'></a>\n",
    "#### c) Como você construiria um banco de dados para analisar estes dados pelo processo clássico?"
   ]
  },
  {
   "cell_type": "code",
   "execution_count": 289,
   "metadata": {},
   "outputs": [
    {
     "data": {
      "text/html": [
       "<div>\n",
       "<style scoped>\n",
       "    .dataframe tbody tr th:only-of-type {\n",
       "        vertical-align: middle;\n",
       "    }\n",
       "\n",
       "    .dataframe tbody tr th {\n",
       "        vertical-align: top;\n",
       "    }\n",
       "\n",
       "    .dataframe thead th {\n",
       "        text-align: right;\n",
       "    }\n",
       "</style>\n",
       "<table border=\"1\" class=\"dataframe\">\n",
       "  <thead>\n",
       "    <tr style=\"text-align: right;\">\n",
       "      <th></th>\n",
       "      <th>Criança</th>\n",
       "      <th>Tempo</th>\n",
       "      <th>Status</th>\n",
       "    </tr>\n",
       "  </thead>\n",
       "  <tbody>\n",
       "    <tr>\n",
       "      <th>0</th>\n",
       "      <td>0</td>\n",
       "      <td>6</td>\n",
       "      <td>1</td>\n",
       "    </tr>\n",
       "    <tr>\n",
       "      <th>1</th>\n",
       "      <td>1</td>\n",
       "      <td>12</td>\n",
       "      <td>1</td>\n",
       "    </tr>\n",
       "    <tr>\n",
       "      <th>2</th>\n",
       "      <td>2</td>\n",
       "      <td>10</td>\n",
       "      <td>1</td>\n",
       "    </tr>\n",
       "    <tr>\n",
       "      <th>3</th>\n",
       "      <td>3</td>\n",
       "      <td>3</td>\n",
       "      <td>1</td>\n",
       "    </tr>\n",
       "    <tr>\n",
       "      <th>4</th>\n",
       "      <td>4</td>\n",
       "      <td>5</td>\n",
       "      <td>1</td>\n",
       "    </tr>\n",
       "    <tr>\n",
       "      <th>5</th>\n",
       "      <td>5</td>\n",
       "      <td>1</td>\n",
       "      <td>1</td>\n",
       "    </tr>\n",
       "    <tr>\n",
       "      <th>6</th>\n",
       "      <td>6</td>\n",
       "      <td>6</td>\n",
       "      <td>1</td>\n",
       "    </tr>\n",
       "    <tr>\n",
       "      <th>7</th>\n",
       "      <td>7</td>\n",
       "      <td>8</td>\n",
       "      <td>1</td>\n",
       "    </tr>\n",
       "    <tr>\n",
       "      <th>8</th>\n",
       "      <td>8</td>\n",
       "      <td>1</td>\n",
       "      <td>1</td>\n",
       "    </tr>\n",
       "    <tr>\n",
       "      <th>9</th>\n",
       "      <td>9</td>\n",
       "      <td>5</td>\n",
       "      <td>1</td>\n",
       "    </tr>\n",
       "    <tr>\n",
       "      <th>10</th>\n",
       "      <td>10</td>\n",
       "      <td>2</td>\n",
       "      <td>1</td>\n",
       "    </tr>\n",
       "    <tr>\n",
       "      <th>11</th>\n",
       "      <td>11</td>\n",
       "      <td>2</td>\n",
       "      <td>1</td>\n",
       "    </tr>\n",
       "    <tr>\n",
       "      <th>12</th>\n",
       "      <td>12</td>\n",
       "      <td>5</td>\n",
       "      <td>1</td>\n",
       "    </tr>\n",
       "    <tr>\n",
       "      <th>13</th>\n",
       "      <td>13</td>\n",
       "      <td>8</td>\n",
       "      <td>1</td>\n",
       "    </tr>\n",
       "    <tr>\n",
       "      <th>14</th>\n",
       "      <td>14</td>\n",
       "      <td>1</td>\n",
       "      <td>1</td>\n",
       "    </tr>\n",
       "  </tbody>\n",
       "</table>\n",
       "</div>"
      ],
      "text/plain": [
       "    Criança  Tempo  Status\n",
       "0         0      6       1\n",
       "1         1     12       1\n",
       "2         2     10       1\n",
       "3         3      3       1\n",
       "4         4      5       1\n",
       "5         5      1       1\n",
       "6         6      6       1\n",
       "7         7      8       1\n",
       "8         8      1       1\n",
       "9         9      5       1\n",
       "10       10      2       1\n",
       "11       11      2       1\n",
       "12       12      5       1\n",
       "13       13      8       1\n",
       "14       14      1       1"
      ]
     },
     "execution_count": 289,
     "metadata": {},
     "output_type": "execute_result"
    }
   ],
   "source": [
    "df = pd.DataFrame(np.array([6,12,10,3,5,1,6,8,1,5,2,2,5,8,1]))\n",
    "df = df.reset_index()\n",
    "df = df.rename(columns={0: 'Tempo', 'index':'Criança'})\n",
    "df['Status'] = 1\n",
    "df"
   ]
  },
  {
   "cell_type": "markdown",
   "metadata": {},
   "source": [
    "<a id='E2.1.a'></a>\n",
    "#### d)E pelo processo de contagem?"
   ]
  },
  {
   "cell_type": "code",
   "execution_count": 300,
   "metadata": {},
   "outputs": [
    {
     "data": {
      "text/html": [
       "<div>\n",
       "<style scoped>\n",
       "    .dataframe tbody tr th:only-of-type {\n",
       "        vertical-align: middle;\n",
       "    }\n",
       "\n",
       "    .dataframe tbody tr th {\n",
       "        vertical-align: top;\n",
       "    }\n",
       "\n",
       "    .dataframe thead th {\n",
       "        text-align: right;\n",
       "    }\n",
       "</style>\n",
       "<table border=\"1\" class=\"dataframe\">\n",
       "  <thead>\n",
       "    <tr style=\"text-align: right;\">\n",
       "      <th></th>\n",
       "      <th>Criança</th>\n",
       "      <th>Tempo Inicial</th>\n",
       "      <th>Tempo Final</th>\n",
       "      <th>Status</th>\n",
       "    </tr>\n",
       "  </thead>\n",
       "  <tbody>\n",
       "    <tr>\n",
       "      <th>0</th>\n",
       "      <td>0</td>\n",
       "      <td>0</td>\n",
       "      <td>6</td>\n",
       "      <td>1</td>\n",
       "    </tr>\n",
       "    <tr>\n",
       "      <th>1</th>\n",
       "      <td>1</td>\n",
       "      <td>0</td>\n",
       "      <td>12</td>\n",
       "      <td>1</td>\n",
       "    </tr>\n",
       "    <tr>\n",
       "      <th>2</th>\n",
       "      <td>2</td>\n",
       "      <td>0</td>\n",
       "      <td>10</td>\n",
       "      <td>1</td>\n",
       "    </tr>\n",
       "    <tr>\n",
       "      <th>3</th>\n",
       "      <td>3</td>\n",
       "      <td>0</td>\n",
       "      <td>3</td>\n",
       "      <td>1</td>\n",
       "    </tr>\n",
       "    <tr>\n",
       "      <th>4</th>\n",
       "      <td>4</td>\n",
       "      <td>0</td>\n",
       "      <td>5</td>\n",
       "      <td>1</td>\n",
       "    </tr>\n",
       "    <tr>\n",
       "      <th>5</th>\n",
       "      <td>5</td>\n",
       "      <td>0</td>\n",
       "      <td>1</td>\n",
       "      <td>1</td>\n",
       "    </tr>\n",
       "    <tr>\n",
       "      <th>6</th>\n",
       "      <td>6</td>\n",
       "      <td>0</td>\n",
       "      <td>6</td>\n",
       "      <td>1</td>\n",
       "    </tr>\n",
       "    <tr>\n",
       "      <th>7</th>\n",
       "      <td>7</td>\n",
       "      <td>0</td>\n",
       "      <td>8</td>\n",
       "      <td>1</td>\n",
       "    </tr>\n",
       "    <tr>\n",
       "      <th>8</th>\n",
       "      <td>8</td>\n",
       "      <td>0</td>\n",
       "      <td>1</td>\n",
       "      <td>1</td>\n",
       "    </tr>\n",
       "    <tr>\n",
       "      <th>9</th>\n",
       "      <td>9</td>\n",
       "      <td>0</td>\n",
       "      <td>5</td>\n",
       "      <td>1</td>\n",
       "    </tr>\n",
       "    <tr>\n",
       "      <th>10</th>\n",
       "      <td>10</td>\n",
       "      <td>0</td>\n",
       "      <td>2</td>\n",
       "      <td>1</td>\n",
       "    </tr>\n",
       "    <tr>\n",
       "      <th>11</th>\n",
       "      <td>11</td>\n",
       "      <td>0</td>\n",
       "      <td>2</td>\n",
       "      <td>1</td>\n",
       "    </tr>\n",
       "    <tr>\n",
       "      <th>12</th>\n",
       "      <td>12</td>\n",
       "      <td>0</td>\n",
       "      <td>5</td>\n",
       "      <td>1</td>\n",
       "    </tr>\n",
       "    <tr>\n",
       "      <th>13</th>\n",
       "      <td>13</td>\n",
       "      <td>0</td>\n",
       "      <td>8</td>\n",
       "      <td>1</td>\n",
       "    </tr>\n",
       "    <tr>\n",
       "      <th>14</th>\n",
       "      <td>14</td>\n",
       "      <td>0</td>\n",
       "      <td>1</td>\n",
       "      <td>1</td>\n",
       "    </tr>\n",
       "  </tbody>\n",
       "</table>\n",
       "</div>"
      ],
      "text/plain": [
       "    Criança  Tempo Inicial  Tempo Final  Status\n",
       "0         0              0            6       1\n",
       "1         1              0           12       1\n",
       "2         2              0           10       1\n",
       "3         3              0            3       1\n",
       "4         4              0            5       1\n",
       "5         5              0            1       1\n",
       "6         6              0            6       1\n",
       "7         7              0            8       1\n",
       "8         8              0            1       1\n",
       "9         9              0            5       1\n",
       "10       10              0            2       1\n",
       "11       11              0            2       1\n",
       "12       12              0            5       1\n",
       "13       13              0            8       1\n",
       "14       14              0            1       1"
      ]
     },
     "execution_count": 300,
     "metadata": {},
     "output_type": "execute_result"
    }
   ],
   "source": [
    "df = pd.DataFrame(np.array([6,12,10,3,5,1,6,8,1,5,2,2,5,8,1]))\n",
    "df['Tempo Inicial'] = 0\n",
    "df = df[['Tempo Inicial', 0]]\n",
    "df = df.reset_index()\n",
    "df = df.rename(columns={0: 'Tempo Final', 'index':'Criança'})\n",
    "df['Status'] = 1\n",
    "df"
   ]
  },
  {
   "cell_type": "markdown",
   "metadata": {},
   "source": [
    "## Exercício 2.2  <a id='Exercicio2.2'></a>\n",
    "\n",
    "Considere agora o tempo de sobrevivência de 15 pacientes submetidos à hemodiálise. Neste caso, a variável de interesse  é  o  tempo  desde  a  primeira diálise até o óbito (em meses).\n",
    "\n",
    "2, 4, 29+, 6+, 3, 1, 1, 2, 3, 9+, 10, 11, 5+, 5, 1O\n",
    "\n",
    "Os tempos censurados (censura a direita) estão indicados pelo sinal de +.\n",
    "\n",
    "Considere  que todos os pacientes entraram juntos no início do estudo.\n",
    "\n",
    "* [**a) Represente graficamente os tempos de observação dos pacientes, utilizando a notação clássica.**](#E2.1.a)\n",
    "* [**b) Represente as trajetórias dos primeiros cinco indivíduos utilizando as variáveis N(t) e Y (t) do processo de contagem.**](#E2.1.b)\n",
    "* [**c) Construa um banco de dados para analisar esses dados pelo processo clássico.**](#E2.1.c)\n",
    "* [**d) Reconstrua o banco de dados, na formas de processo de contagem, considerando que esta  é  uma  coorte  aberta  e  as  datas  de  início  de  observação  de  cada  paciente  são dadas na tabela abaixo**](#E2.1.d)\n"
   ]
  },
  {
   "cell_type": "markdown",
   "metadata": {},
   "source": [
    "<a id='E2.2.a'></a>\n",
    "#### a) Represente graficamente os tempos de observação dos pacientes, utilizando a notação clássica."
   ]
  },
  {
   "cell_type": "code",
   "execution_count": null,
   "metadata": {},
   "outputs": [],
   "source": []
  },
  {
   "cell_type": "markdown",
   "metadata": {},
   "source": [
    "<a id='E2.2.b'></a>\n",
    "#### b) Represente as trajetórias dos primeiros cinco indivíduos utilizando as variáveis N(t) e Y (t) do processo de contagem.."
   ]
  },
  {
   "cell_type": "code",
   "execution_count": null,
   "metadata": {},
   "outputs": [],
   "source": []
  },
  {
   "cell_type": "markdown",
   "metadata": {},
   "source": [
    "<a id='E2.2.c'></a>\n",
    "#### c) Construa um banco de dados para analisar esses dados pelo processo clássico."
   ]
  },
  {
   "cell_type": "code",
   "execution_count": null,
   "metadata": {},
   "outputs": [],
   "source": []
  },
  {
   "cell_type": "markdown",
   "metadata": {},
   "source": [
    "<a id='E2.2.d'></a>\n",
    "#### d) Reconstrua o banco de dados, na formas de processo de contagem, considerando que esta  é  uma  coorte  aberta  e  as  datas  de  início  de  observação  de  cada  paciente  são dadas na tabela abaixo."
   ]
  },
  {
   "cell_type": "code",
   "execution_count": null,
   "metadata": {},
   "outputs": [],
   "source": []
  }
 ],
 "metadata": {
  "kernelspec": {
   "display_name": "Python 3",
   "language": "python",
   "name": "python3"
  },
  "language_info": {
   "codemirror_mode": {
    "name": "ipython",
    "version": 3
   },
   "file_extension": ".py",
   "mimetype": "text/x-python",
   "name": "python",
   "nbconvert_exporter": "python",
   "pygments_lexer": "ipython3",
   "version": "3.7.3"
  }
 },
 "nbformat": 4,
 "nbformat_minor": 2
}
